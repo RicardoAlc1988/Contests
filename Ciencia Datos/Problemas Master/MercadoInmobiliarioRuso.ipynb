{
  "nbformat": 4,
  "nbformat_minor": 0,
  "metadata": {
    "colab": {
      "name": "MercadoInmobiliarioRuso.ipynb",
      "provenance": [],
      "collapsed_sections": []
    },
    "kernelspec": {
      "display_name": "Python 3",
      "name": "python3"
    },
    "language_info": {
      "name": "python"
    }
  },
  "cells": [
    {
      "cell_type": "markdown",
      "metadata": {
        "id": "PXYy91BrCTEN"
      },
      "source": [
        "# MERCADO INMOBILIARIO RUSO\n",
        "\n"
      ]
    },
    {
      "cell_type": "code",
      "metadata": {
        "id": "lK5EE9BfCkI5"
      },
      "source": [
        "%%capture\n",
        "\n",
        "!jupyter nbconvert --to html MercadoInmobiliarioRuso.ipynb"
      ],
      "execution_count": null,
      "outputs": []
    },
    {
      "cell_type": "code",
      "metadata": {
        "id": "xID-74D8CVTa"
      },
      "source": [
        "%%capture\n",
        "\n",
        "!pip install geopandas"
      ],
      "execution_count": null,
      "outputs": []
    },
    {
      "cell_type": "code",
      "metadata": {
        "id": "n6uXulIJoX7u"
      },
      "source": [
        "%%capture\n",
        "\n",
        "!pip install scikit-learn-extra"
      ],
      "execution_count": null,
      "outputs": []
    },
    {
      "cell_type": "code",
      "metadata": {
        "id": "0jb-a5PaszTK",
        "colab": {
          "base_uri": "https://localhost:8080/",
          "height": 378
        },
        "outputId": "246219c1-ff55-4fae-a2e1-ac0333515382"
      },
      "source": [
        "#from sklearn.ensemble import RandomForestRegressor\n",
        "#import pprint\n",
        "import datetime\n",
        "from datetime import date\n",
        "import folium\n",
        "import geopandas as gp\n",
        "from google.colab import drive\n",
        "from keras import layers\n",
        "from keras import models\n",
        "from keras import optimizers\n",
        "import pickle\n",
        "import matplotlib.pyplot as plt\n",
        "import numpy as np\n",
        "import os\n",
        "import pandas as pd\n",
        "from sklearn.cluster import KMeans\n",
        "from sklearn_extra.cluster import KMedoids \n",
        "from sklearn.linear_model import LinearRegression\n",
        "from sklearn.metrics import mean_absolute_error\n",
        "from sklearn.metrics import mean_squared_error\n",
        "from sklearn.model_selection import RandomizedSearchCV\n",
        "from sklearn.model_selection import GridSearchCV\n",
        "from sklearn.metrics import silhouette_samples, silhouette_score\n",
        "from scipy import stats\n",
        "import pylab\n",
        "import tensorflow as tf\n",
        "from math import sqrt\n",
        "import xgboost as xgb\n",
        "from xgboost import XGBRegressor"
      ],
      "execution_count": null,
      "outputs": [
        {
          "output_type": "error",
          "ename": "ModuleNotFoundError",
          "evalue": "ignored",
          "traceback": [
            "\u001b[0;31m---------------------------------------------------------------------------\u001b[0m",
            "\u001b[0;31mModuleNotFoundError\u001b[0m                       Traceback (most recent call last)",
            "\u001b[0;32m<ipython-input-3-0a07dfd342f4>\u001b[0m in \u001b[0;36m<module>\u001b[0;34m()\u001b[0m\n\u001b[1;32m     15\u001b[0m \u001b[0;32mimport\u001b[0m \u001b[0mpandas\u001b[0m \u001b[0;32mas\u001b[0m \u001b[0mpd\u001b[0m\u001b[0;34m\u001b[0m\u001b[0;34m\u001b[0m\u001b[0m\n\u001b[1;32m     16\u001b[0m \u001b[0;32mfrom\u001b[0m \u001b[0msklearn\u001b[0m\u001b[0;34m.\u001b[0m\u001b[0mcluster\u001b[0m \u001b[0;32mimport\u001b[0m \u001b[0mKMeans\u001b[0m\u001b[0;34m\u001b[0m\u001b[0;34m\u001b[0m\u001b[0m\n\u001b[0;32m---> 17\u001b[0;31m \u001b[0;32mfrom\u001b[0m \u001b[0msklearn_extra\u001b[0m\u001b[0;34m.\u001b[0m\u001b[0mcluster\u001b[0m \u001b[0;32mimport\u001b[0m \u001b[0mKMedoids\u001b[0m\u001b[0;34m\u001b[0m\u001b[0;34m\u001b[0m\u001b[0m\n\u001b[0m\u001b[1;32m     18\u001b[0m \u001b[0;32mfrom\u001b[0m \u001b[0msklearn\u001b[0m\u001b[0;34m.\u001b[0m\u001b[0mlinear_model\u001b[0m \u001b[0;32mimport\u001b[0m \u001b[0mLinearRegression\u001b[0m\u001b[0;34m\u001b[0m\u001b[0;34m\u001b[0m\u001b[0m\n\u001b[1;32m     19\u001b[0m \u001b[0;32mfrom\u001b[0m \u001b[0msklearn\u001b[0m\u001b[0;34m.\u001b[0m\u001b[0mmetrics\u001b[0m \u001b[0;32mimport\u001b[0m \u001b[0mmean_absolute_error\u001b[0m\u001b[0;34m\u001b[0m\u001b[0;34m\u001b[0m\u001b[0m\n",
            "\u001b[0;31mModuleNotFoundError\u001b[0m: No module named 'sklearn_extra'",
            "",
            "\u001b[0;31m---------------------------------------------------------------------------\u001b[0;32m\nNOTE: If your import is failing due to a missing package, you can\nmanually install dependencies using either !pip or !apt.\n\nTo view examples of installing some common dependencies, click the\n\"Open Examples\" button below.\n\u001b[0;31m---------------------------------------------------------------------------\u001b[0m\n"
          ]
        }
      ]
    },
    {
      "cell_type": "code",
      "metadata": {
        "colab": {
          "base_uri": "https://localhost:8080/"
        },
        "id": "pTkZeLfx9Tgj",
        "outputId": "a330c40d-a605-48f1-83ee-7373c90e5347"
      },
      "source": [
        "#Para acceder a los ficheros de drive\n",
        "drive.mount('/content/gdrive')\n",
        "#Listamos los ficheros existentes en el directorio raiz\n",
        "#!ls \"/content/gdrive/MyDrive\""
      ],
      "execution_count": null,
      "outputs": [
        {
          "output_type": "stream",
          "text": [
            "Mounted at /content/gdrive\n"
          ],
          "name": "stdout"
        }
      ]
    },
    {
      "cell_type": "markdown",
      "metadata": {
        "id": "Cf3WiB1XCQyd"
      },
      "source": [
        "Cargamos los datos de entrenamiento, validación y test."
      ]
    },
    {
      "cell_type": "code",
      "metadata": {
        "id": "P6kfpOGl9eh4"
      },
      "source": [
        "df_train = pd.read_csv('/content/gdrive/MyDrive/DatosMercadoRuso/train.csv', parse_dates=['date'])\n",
        "df_val = pd.read_csv('/content/gdrive/MyDrive/DatosMercadoRuso/val.csv', parse_dates=['date'])\n",
        "df_test = pd.read_csv('/content/gdrive/MyDrive/DatosMercadoRuso/test.csv', parse_dates=['date'])"
      ],
      "execution_count": null,
      "outputs": []
    },
    {
      "cell_type": "markdown",
      "metadata": {
        "id": "vGz_76cBC9kx"
      },
      "source": [
        "La hora de publicación de un anuncio no es un factor relevante, desde el punto de vista intuitivo, para la determinación del precio de la vivienda, por lo que la eliminamos del dataset. Por otro lado, borramos la columna 'rooms2' siguiendo las indicaciones del profesorado."
      ]
    },
    {
      "cell_type": "code",
      "metadata": {
        "id": "OBbmfg6A-48c"
      },
      "source": [
        "del df_train['time']\n",
        "del df_val['time']\n",
        "del df_test['time']\n",
        "del df_train['rooms2']"
      ],
      "execution_count": null,
      "outputs": []
    },
    {
      "cell_type": "markdown",
      "metadata": {
        "id": "yK-_mJBODHRG"
      },
      "source": [
        "Mostramos la estructura del dataset."
      ]
    },
    {
      "cell_type": "code",
      "metadata": {
        "colab": {
          "base_uri": "https://localhost:8080/"
        },
        "id": "Hh4GchIIy122",
        "outputId": "706544c1-d0c2-4010-9b87-bdf91787e320"
      },
      "source": [
        "df_train.info()"
      ],
      "execution_count": null,
      "outputs": [
        {
          "output_type": "stream",
          "text": [
            "<class 'pandas.core.frame.DataFrame'>\n",
            "RangeIndex: 54770 entries, 0 to 54769\n",
            "Data columns (total 13 columns):\n",
            " #   Column         Non-Null Count  Dtype         \n",
            "---  ------         --------------  -----         \n",
            " 0   price          54770 non-null  int64         \n",
            " 1   date           54770 non-null  datetime64[ns]\n",
            " 2   geo_lat        54770 non-null  float64       \n",
            " 3   geo_lon        54770 non-null  float64       \n",
            " 4   region         54770 non-null  int64         \n",
            " 5   building_type  54770 non-null  int64         \n",
            " 6   level          54770 non-null  int64         \n",
            " 7   levels         54770 non-null  int64         \n",
            " 8   rooms          54770 non-null  int64         \n",
            " 9   area           54770 non-null  float64       \n",
            " 10  kitchen_area   54770 non-null  float64       \n",
            " 11  object_type    54770 non-null  int64         \n",
            " 12  id             54770 non-null  int64         \n",
            "dtypes: datetime64[ns](1), float64(4), int64(8)\n",
            "memory usage: 5.4 MB\n"
          ],
          "name": "stdout"
        }
      ]
    },
    {
      "cell_type": "code",
      "metadata": {
        "colab": {
          "base_uri": "https://localhost:8080/",
          "height": 206
        },
        "id": "ogyU986E37Od",
        "outputId": "991aa7c2-d818-44ba-a56d-8a8bf368d963"
      },
      "source": [
        "df_train.head()"
      ],
      "execution_count": null,
      "outputs": [
        {
          "output_type": "execute_result",
          "data": {
            "text/html": [
              "<div>\n",
              "<style scoped>\n",
              "    .dataframe tbody tr th:only-of-type {\n",
              "        vertical-align: middle;\n",
              "    }\n",
              "\n",
              "    .dataframe tbody tr th {\n",
              "        vertical-align: top;\n",
              "    }\n",
              "\n",
              "    .dataframe thead th {\n",
              "        text-align: right;\n",
              "    }\n",
              "</style>\n",
              "<table border=\"1\" class=\"dataframe\">\n",
              "  <thead>\n",
              "    <tr style=\"text-align: right;\">\n",
              "      <th></th>\n",
              "      <th>price</th>\n",
              "      <th>date</th>\n",
              "      <th>geo_lat</th>\n",
              "      <th>geo_lon</th>\n",
              "      <th>region</th>\n",
              "      <th>building_type</th>\n",
              "      <th>level</th>\n",
              "      <th>levels</th>\n",
              "      <th>rooms</th>\n",
              "      <th>area</th>\n",
              "      <th>kitchen_area</th>\n",
              "      <th>object_type</th>\n",
              "      <th>id</th>\n",
              "    </tr>\n",
              "  </thead>\n",
              "  <tbody>\n",
              "    <tr>\n",
              "      <th>0</th>\n",
              "      <td>1750000</td>\n",
              "      <td>2019-11-13</td>\n",
              "      <td>46.678285</td>\n",
              "      <td>38.291665</td>\n",
              "      <td>2843</td>\n",
              "      <td>3</td>\n",
              "      <td>3</td>\n",
              "      <td>5</td>\n",
              "      <td>1</td>\n",
              "      <td>33.00</td>\n",
              "      <td>10.00</td>\n",
              "      <td>1</td>\n",
              "      <td>212238</td>\n",
              "    </tr>\n",
              "    <tr>\n",
              "      <th>1</th>\n",
              "      <td>8498000</td>\n",
              "      <td>2020-02-10</td>\n",
              "      <td>55.605607</td>\n",
              "      <td>37.582161</td>\n",
              "      <td>3</td>\n",
              "      <td>1</td>\n",
              "      <td>2</td>\n",
              "      <td>9</td>\n",
              "      <td>3</td>\n",
              "      <td>50.00</td>\n",
              "      <td>9.00</td>\n",
              "      <td>1</td>\n",
              "      <td>193894</td>\n",
              "    </tr>\n",
              "    <tr>\n",
              "      <th>2</th>\n",
              "      <td>5100000</td>\n",
              "      <td>2019-09-14</td>\n",
              "      <td>56.726283</td>\n",
              "      <td>37.150735</td>\n",
              "      <td>81</td>\n",
              "      <td>3</td>\n",
              "      <td>1</td>\n",
              "      <td>9</td>\n",
              "      <td>2</td>\n",
              "      <td>57.00</td>\n",
              "      <td>11.00</td>\n",
              "      <td>1</td>\n",
              "      <td>106354</td>\n",
              "    </tr>\n",
              "    <tr>\n",
              "      <th>3</th>\n",
              "      <td>9151965</td>\n",
              "      <td>2021-04-24</td>\n",
              "      <td>55.866465</td>\n",
              "      <td>37.393784</td>\n",
              "      <td>81</td>\n",
              "      <td>2</td>\n",
              "      <td>4</td>\n",
              "      <td>10</td>\n",
              "      <td>2</td>\n",
              "      <td>57.00</td>\n",
              "      <td>10.20</td>\n",
              "      <td>11</td>\n",
              "      <td>48461</td>\n",
              "    </tr>\n",
              "    <tr>\n",
              "      <th>4</th>\n",
              "      <td>1669676</td>\n",
              "      <td>2018-12-24</td>\n",
              "      <td>55.017672</td>\n",
              "      <td>83.003522</td>\n",
              "      <td>9654</td>\n",
              "      <td>1</td>\n",
              "      <td>2</td>\n",
              "      <td>10</td>\n",
              "      <td>3</td>\n",
              "      <td>59.02</td>\n",
              "      <td>8.51</td>\n",
              "      <td>11</td>\n",
              "      <td>228556</td>\n",
              "    </tr>\n",
              "  </tbody>\n",
              "</table>\n",
              "</div>"
            ],
            "text/plain": [
              "     price       date    geo_lat  ...  kitchen_area  object_type      id\n",
              "0  1750000 2019-11-13  46.678285  ...         10.00            1  212238\n",
              "1  8498000 2020-02-10  55.605607  ...          9.00            1  193894\n",
              "2  5100000 2019-09-14  56.726283  ...         11.00            1  106354\n",
              "3  9151965 2021-04-24  55.866465  ...         10.20           11   48461\n",
              "4  1669676 2018-12-24  55.017672  ...          8.51           11  228556\n",
              "\n",
              "[5 rows x 13 columns]"
            ]
          },
          "metadata": {
            "tags": []
          },
          "execution_count": 9
        }
      ]
    },
    {
      "cell_type": "code",
      "metadata": {
        "colab": {
          "base_uri": "https://localhost:8080/",
          "height": 300
        },
        "id": "9fMDxFG8jg6k",
        "outputId": "08a71acb-3a7a-4455-f31d-84f956d34de3"
      },
      "source": [
        "df_train.describe()"
      ],
      "execution_count": null,
      "outputs": [
        {
          "output_type": "execute_result",
          "data": {
            "text/html": [
              "<div>\n",
              "<style scoped>\n",
              "    .dataframe tbody tr th:only-of-type {\n",
              "        vertical-align: middle;\n",
              "    }\n",
              "\n",
              "    .dataframe tbody tr th {\n",
              "        vertical-align: top;\n",
              "    }\n",
              "\n",
              "    .dataframe thead th {\n",
              "        text-align: right;\n",
              "    }\n",
              "</style>\n",
              "<table border=\"1\" class=\"dataframe\">\n",
              "  <thead>\n",
              "    <tr style=\"text-align: right;\">\n",
              "      <th></th>\n",
              "      <th>price</th>\n",
              "      <th>geo_lat</th>\n",
              "      <th>geo_lon</th>\n",
              "      <th>region</th>\n",
              "      <th>building_type</th>\n",
              "      <th>level</th>\n",
              "      <th>levels</th>\n",
              "      <th>rooms</th>\n",
              "      <th>area</th>\n",
              "      <th>kitchen_area</th>\n",
              "      <th>object_type</th>\n",
              "      <th>id</th>\n",
              "    </tr>\n",
              "  </thead>\n",
              "  <tbody>\n",
              "    <tr>\n",
              "      <th>count</th>\n",
              "      <td>5.477000e+04</td>\n",
              "      <td>54770.000000</td>\n",
              "      <td>54770.000000</td>\n",
              "      <td>54770.000000</td>\n",
              "      <td>54770.000000</td>\n",
              "      <td>54770.000000</td>\n",
              "      <td>54770.000000</td>\n",
              "      <td>54770.000000</td>\n",
              "      <td>54770.000000</td>\n",
              "      <td>54770.000000</td>\n",
              "      <td>54770.000000</td>\n",
              "      <td>54770.000000</td>\n",
              "    </tr>\n",
              "    <tr>\n",
              "      <th>mean</th>\n",
              "      <td>4.317436e+06</td>\n",
              "      <td>54.045159</td>\n",
              "      <td>53.349758</td>\n",
              "      <td>4318.844915</td>\n",
              "      <td>1.945171</td>\n",
              "      <td>6.248238</td>\n",
              "      <td>11.417418</td>\n",
              "      <td>1.727497</td>\n",
              "      <td>54.076744</td>\n",
              "      <td>10.660326</td>\n",
              "      <td>3.969144</td>\n",
              "      <td>136976.023900</td>\n",
              "    </tr>\n",
              "    <tr>\n",
              "      <th>std</th>\n",
              "      <td>1.420620e+07</td>\n",
              "      <td>4.607840</td>\n",
              "      <td>20.735021</td>\n",
              "      <td>3307.219233</td>\n",
              "      <td>1.037347</td>\n",
              "      <td>4.973697</td>\n",
              "      <td>6.520620</td>\n",
              "      <td>1.083690</td>\n",
              "      <td>38.225962</td>\n",
              "      <td>6.260846</td>\n",
              "      <td>4.569027</td>\n",
              "      <td>79080.056756</td>\n",
              "    </tr>\n",
              "    <tr>\n",
              "      <th>min</th>\n",
              "      <td>-2.114150e+09</td>\n",
              "      <td>41.459089</td>\n",
              "      <td>19.946227</td>\n",
              "      <td>3.000000</td>\n",
              "      <td>0.000000</td>\n",
              "      <td>1.000000</td>\n",
              "      <td>1.000000</td>\n",
              "      <td>-2.000000</td>\n",
              "      <td>1.210000</td>\n",
              "      <td>0.050000</td>\n",
              "      <td>1.000000</td>\n",
              "      <td>6.000000</td>\n",
              "    </tr>\n",
              "    <tr>\n",
              "      <th>25%</th>\n",
              "      <td>1.950000e+06</td>\n",
              "      <td>53.390538</td>\n",
              "      <td>37.787363</td>\n",
              "      <td>2661.000000</td>\n",
              "      <td>1.000000</td>\n",
              "      <td>2.000000</td>\n",
              "      <td>5.000000</td>\n",
              "      <td>1.000000</td>\n",
              "      <td>38.200000</td>\n",
              "      <td>7.000000</td>\n",
              "      <td>1.000000</td>\n",
              "      <td>68372.250000</td>\n",
              "    </tr>\n",
              "    <tr>\n",
              "      <th>50%</th>\n",
              "      <td>2.990000e+06</td>\n",
              "      <td>55.169801</td>\n",
              "      <td>43.561893</td>\n",
              "      <td>2922.000000</td>\n",
              "      <td>2.000000</td>\n",
              "      <td>5.000000</td>\n",
              "      <td>10.000000</td>\n",
              "      <td>2.000000</td>\n",
              "      <td>48.400000</td>\n",
              "      <td>9.800000</td>\n",
              "      <td>1.000000</td>\n",
              "      <td>136859.000000</td>\n",
              "    </tr>\n",
              "    <tr>\n",
              "      <th>75%</th>\n",
              "      <td>4.800000e+06</td>\n",
              "      <td>56.231155</td>\n",
              "      <td>65.659295</td>\n",
              "      <td>6171.000000</td>\n",
              "      <td>3.000000</td>\n",
              "      <td>9.000000</td>\n",
              "      <td>16.000000</td>\n",
              "      <td>2.000000</td>\n",
              "      <td>63.130000</td>\n",
              "      <td>12.800000</td>\n",
              "      <td>11.000000</td>\n",
              "      <td>205573.000000</td>\n",
              "    </tr>\n",
              "    <tr>\n",
              "      <th>max</th>\n",
              "      <td>6.800000e+08</td>\n",
              "      <td>69.498709</td>\n",
              "      <td>158.655925</td>\n",
              "      <td>14880.000000</td>\n",
              "      <td>5.000000</td>\n",
              "      <td>36.000000</td>\n",
              "      <td>39.000000</td>\n",
              "      <td>9.000000</td>\n",
              "      <td>4701.000000</td>\n",
              "      <td>444.000000</td>\n",
              "      <td>11.000000</td>\n",
              "      <td>273850.000000</td>\n",
              "    </tr>\n",
              "  </tbody>\n",
              "</table>\n",
              "</div>"
            ],
            "text/plain": [
              "              price       geo_lat  ...   object_type             id\n",
              "count  5.477000e+04  54770.000000  ...  54770.000000   54770.000000\n",
              "mean   4.317436e+06     54.045159  ...      3.969144  136976.023900\n",
              "std    1.420620e+07      4.607840  ...      4.569027   79080.056756\n",
              "min   -2.114150e+09     41.459089  ...      1.000000       6.000000\n",
              "25%    1.950000e+06     53.390538  ...      1.000000   68372.250000\n",
              "50%    2.990000e+06     55.169801  ...      1.000000  136859.000000\n",
              "75%    4.800000e+06     56.231155  ...     11.000000  205573.000000\n",
              "max    6.800000e+08     69.498709  ...     11.000000  273850.000000\n",
              "\n",
              "[8 rows x 12 columns]"
            ]
          },
          "metadata": {
            "tags": []
          },
          "execution_count": 10
        }
      ]
    },
    {
      "cell_type": "markdown",
      "metadata": {
        "id": "-TfqIn9Zzkhq"
      },
      "source": [
        "# Limpieza del dataset"
      ]
    },
    {
      "cell_type": "markdown",
      "metadata": {
        "id": "Rb2dKBFfzqQe"
      },
      "source": [
        "## Valores faltantes"
      ]
    },
    {
      "cell_type": "markdown",
      "metadata": {
        "id": "PJIXrxf3DYRA"
      },
      "source": [
        "Comprobamos que no existen valores nulos, con lo que no se lleva a cabo acción alguna."
      ]
    },
    {
      "cell_type": "code",
      "metadata": {
        "colab": {
          "base_uri": "https://localhost:8080/"
        },
        "id": "H9tqOfvszu8i",
        "outputId": "4fe251cf-492c-4dec-d2d1-f622320da633"
      },
      "source": [
        "df_train.isnull().sum()"
      ],
      "execution_count": null,
      "outputs": [
        {
          "output_type": "execute_result",
          "data": {
            "text/plain": [
              "price            0\n",
              "date             0\n",
              "geo_lat          0\n",
              "geo_lon          0\n",
              "region           0\n",
              "building_type    0\n",
              "level            0\n",
              "levels           0\n",
              "rooms            0\n",
              "area             0\n",
              "kitchen_area     0\n",
              "object_type      0\n",
              "id               0\n",
              "dtype: int64"
            ]
          },
          "metadata": {
            "tags": []
          },
          "execution_count": 11
        }
      ]
    },
    {
      "cell_type": "markdown",
      "metadata": {
        "id": "b5XOlEa54oxZ"
      },
      "source": [
        "## Limpieza de datos"
      ]
    },
    {
      "cell_type": "markdown",
      "metadata": {
        "id": "daPL_ud9DaIy"
      },
      "source": [
        "Fusionamos en un único dataset los datos de entrenamiento y validación, pues vamos a hacer modificaciones sobre ambos conjuntos de datos"
      ]
    },
    {
      "cell_type": "code",
      "metadata": {
        "id": "zJKCPP1BvRE3"
      },
      "source": [
        "df = pd.concat([df_train, df_val])"
      ],
      "execution_count": null,
      "outputs": []
    },
    {
      "cell_type": "markdown",
      "metadata": {
        "id": "GZo_iRLrDnVd"
      },
      "source": [
        "Eliminamos los registros cuya área sea menor de dos metros cuadrados."
      ]
    },
    {
      "cell_type": "code",
      "metadata": {
        "id": "Q4mq2JAk4s5t"
      },
      "source": [
        "# registros con cocina menor de 2m\n",
        "df_outlier_kitchen = df[df['kitchen_area'] < 2]\n",
        "df = df[~df['id'].isin(df_outlier_kitchen['id'])]"
      ],
      "execution_count": null,
      "outputs": []
    },
    {
      "cell_type": "markdown",
      "metadata": {
        "id": "rfVDCyX9DvKY"
      },
      "source": [
        "Se calcula el área mínima en base a las indicaciones dadas en el problema."
      ]
    },
    {
      "cell_type": "code",
      "metadata": {
        "id": "SGd66GOK8Fdv"
      },
      "source": [
        "# Estimación del tamaño de la vivienda en función del tipo de vivienda \n",
        "TAMANYO_MIN_HABITACION = 9\n",
        "TAMANYO_MIN_SALON = 12\n",
        "TAMANYO_MIN_BANYO = 6\n",
        "df['stm_minimum_area'] = [(x*TAMANYO_MIN_HABITACION + TAMANYO_MIN_SALON + TAMANYO_MIN_BANYO)*(1.1) if x != -1 else (TAMANYO_MIN_HABITACION + TAMANYO_MIN_BANYO)*(1.05) for x in df['rooms']]"
      ],
      "execution_count": null,
      "outputs": []
    },
    {
      "cell_type": "markdown",
      "metadata": {
        "id": "66Gv14DMElJP"
      },
      "source": [
        "Igualmente, eliminamos las viviendas con un área menor que el área mínima, con un umbral en función del tipo de vivienda."
      ]
    },
    {
      "cell_type": "code",
      "metadata": {
        "id": "DKFm5R4g9o6g"
      },
      "source": [
        "UMBRAL_PISO = 10\n",
        "UMBRAL_ESTUDIO = 5\n",
        "\n",
        "df_area_outlier = df[((df['rooms'] == -1) \\\n",
        "                    & (df['area'] < df['stm_minimum_area']) \\\n",
        "                    & (df['stm_minimum_area'] - df['area'] > UMBRAL_ESTUDIO)) \\\n",
        "                  | ((df['rooms'] != -1) \\\n",
        "                  & (df['area'] < df['stm_minimum_area']) \\\n",
        "                  & (df['stm_minimum_area'] - df['area'] > UMBRAL_PISO)) \\\n",
        "                  ]\n",
        "df = df[~df['id'].isin(df_area_outlier['id'])]                 "
      ],
      "execution_count": null,
      "outputs": []
    },
    {
      "cell_type": "markdown",
      "metadata": {
        "id": "xRqxyK3YE7dm"
      },
      "source": [
        "Y se quitan las filas con valores de área negativos."
      ]
    },
    {
      "cell_type": "code",
      "metadata": {
        "id": "eqNsZA00JRik"
      },
      "source": [
        "# Eliminamos las filas con un valor de vivienda negativo\n",
        "df_price_negative = df[df['price'] < 0]\n",
        "df = df[~df['id'].isin(df_price_negative['id'])] "
      ],
      "execution_count": null,
      "outputs": []
    },
    {
      "cell_type": "markdown",
      "metadata": {
        "id": "qUtSZ5_4FYsA"
      },
      "source": [
        "## Outliers"
      ]
    },
    {
      "cell_type": "markdown",
      "metadata": {
        "id": "F3i56z57Fce_"
      },
      "source": [
        "Calculamos el precio por metro cuadrado e investigamos si la variable precio tiene una distribución conocida lo que, en tal caso, permitiría una caracterización sencilla de los outliers a partir de un intervalo de confianza."
      ]
    },
    {
      "cell_type": "code",
      "metadata": {
        "colab": {
          "base_uri": "https://localhost:8080/",
          "height": 295
        },
        "id": "c4FaOWjXBHnc",
        "outputId": "c6d35cac-4e9f-4f10-cd70-81428d14eaa0"
      },
      "source": [
        "# Por úlitmo, estudiamos la distribución de los precios\n",
        "X_prices_m2 = df['price'] / df['area']\n",
        "plt.hist(np.log(X_prices_m2), bins=50)\n",
        "stats.probplot(np.log(X_prices_m2), dist=\"norm\", plot=pylab)\n",
        "pylab.show()"
      ],
      "execution_count": null,
      "outputs": [
        {
          "output_type": "display_data",
          "data": {
            "image/png": "[encoded data removed]",
            "text/plain": [
              "<Figure size 432x288 with 1 Axes>"
            ]
          },
          "metadata": {
            "tags": [],
            "needs_background": "light"
          }
        }
      ]
    },
    {
      "cell_type": "markdown",
      "metadata": {
        "id": "I1GEzlvTGE6v"
      },
      "source": [
        "Realizamos el test de Jarque Bera de normalidad."
      ]
    },
    {
      "cell_type": "code",
      "metadata": {
        "colab": {
          "base_uri": "https://localhost:8080/",
          "height": 189
        },
        "id": "mflnXRfJEA98",
        "outputId": "5e50d1bf-a24a-43ce-a472-8677de1f863c"
      },
      "source": [
        "jb_test = stats.jarque_bera(np.log(X_prices_m2))\n",
        "jb_test.pvalue"
      ],
      "execution_count": null,
      "outputs": [
        {
          "output_type": "error",
          "ename": "NameError",
          "evalue": "ignored",
          "traceback": [
            "\u001b[0;31m---------------------------------------------------------------------------\u001b[0m",
            "\u001b[0;31mNameError\u001b[0m                                 Traceback (most recent call last)",
            "\u001b[0;32m<ipython-input-1-43f168ce1d2d>\u001b[0m in \u001b[0;36m<module>\u001b[0;34m()\u001b[0m\n\u001b[0;32m----> 1\u001b[0;31m \u001b[0mjb_test\u001b[0m \u001b[0;34m=\u001b[0m \u001b[0mstats\u001b[0m\u001b[0;34m.\u001b[0m\u001b[0mjarque_bera\u001b[0m\u001b[0;34m(\u001b[0m\u001b[0mnp\u001b[0m\u001b[0;34m.\u001b[0m\u001b[0mlog\u001b[0m\u001b[0;34m(\u001b[0m\u001b[0mX_prices_m2\u001b[0m\u001b[0;34m)\u001b[0m\u001b[0;34m)\u001b[0m\u001b[0;34m\u001b[0m\u001b[0;34m\u001b[0m\u001b[0m\n\u001b[0m\u001b[1;32m      2\u001b[0m \u001b[0mjb_test\u001b[0m\u001b[0;34m.\u001b[0m\u001b[0mpvalue\u001b[0m\u001b[0;34m\u001b[0m\u001b[0;34m\u001b[0m\u001b[0m\n",
            "\u001b[0;31mNameError\u001b[0m: name 'stats' is not defined"
          ]
        }
      ]
    },
    {
      "cell_type": "markdown",
      "metadata": {
        "id": "1Ehw8EV0GTMw"
      },
      "source": [
        "Puesto que el p-valor es menor que el nivel de significación 0.05, rechazamos la hipotesis nula de normalidad."
      ]
    },
    {
      "cell_type": "code",
      "metadata": {
        "id": "vFOv-fnYNOp7"
      },
      "source": [
        "df['price_m2'] = df['price']/df['area']"
      ],
      "execution_count": null,
      "outputs": []
    },
    {
      "cell_type": "markdown",
      "metadata": {
        "id": "YGyBOEfSGc47"
      },
      "source": [
        "Así pues, intentamos una descripción de los outliers con simple estadística descriptiva. El problema es que el recorrido intercuartílico es demasiado amplío y se eliminan demasiados datos con la fórmula estándar. Por tanto, hemos rebajado el peso del recorrido intercuartílico para la cota inferior del intervalo, obteniendo un valor razonable por el que filtrar."
      ]
    },
    {
      "cell_type": "code",
      "metadata": {
        "colab": {
          "base_uri": "https://localhost:8080/",
          "height": 276
        },
        "id": "Rzr3rX7kGOPy",
        "outputId": "e81eb50a-0c27-47cc-a064-1b6d87d05414"
      },
      "source": [
        "plt.boxplot(X_prices_m2)\n",
        "\n",
        "Q1 = df['price_m2'].quantile(0.25)\n",
        "Q3 = df['price_m2'].quantile(0.75)\n",
        "IQR = Q3-Q1\n",
        "df_outliers = df[(df['price_m2']<(Q1-0.5*IQR)) | (df['price_m2']>(Q3+1.5*IQR))]"
      ],
      "execution_count": null,
      "outputs": [
        {
          "output_type": "display_data",
          "data": {
            "image/png": "[encoded data removed]",
            "text/plain": [
              "<Figure size 432x288 with 1 Axes>"
            ]
          },
          "metadata": {
            "tags": [],
            "needs_background": "light"
          }
        }
      ]
    },
    {
      "cell_type": "code",
      "metadata": {
        "colab": {
          "base_uri": "https://localhost:8080/"
        },
        "id": "RFaDN1cIyx8n",
        "outputId": "2d3ee3ea-c408-4405-ddfb-e57f905c092f"
      },
      "source": [
        "# Cota inferior para el filtrado\n",
        "Q1-0.5*IQR"
      ],
      "execution_count": null,
      "outputs": [
        {
          "output_type": "execute_result",
          "data": {
            "text/plain": [
              "18984.664198836603"
            ]
          },
          "metadata": {
            "tags": []
          },
          "execution_count": 130
        }
      ]
    },
    {
      "cell_type": "markdown",
      "metadata": {
        "id": "EKbfR2uDHosM"
      },
      "source": [
        "Eliminamos los outliers."
      ]
    },
    {
      "cell_type": "code",
      "metadata": {
        "id": "A1vkCfQPbaTJ"
      },
      "source": [
        "df = df[~df['id'].isin(df_outliers['id'])]"
      ],
      "execution_count": null,
      "outputs": []
    },
    {
      "cell_type": "markdown",
      "metadata": {
        "id": "pbgm8hdmVJNo"
      },
      "source": [
        "Borramos las variables auxiliares usadas para los cálculos."
      ]
    },
    {
      "cell_type": "code",
      "metadata": {
        "id": "jZDL4UVAKlPR"
      },
      "source": [
        "del df['stm_minimum_area']\n",
        "del df['price_m2']"
      ],
      "execution_count": null,
      "outputs": []
    },
    {
      "cell_type": "markdown",
      "metadata": {
        "id": "JR9-1cnNV9e7"
      },
      "source": [
        "##  Ingeniería de características"
      ]
    },
    {
      "cell_type": "markdown",
      "metadata": {
        "id": "K37qMRElWAWc"
      },
      "source": [
        "Vamos a buscar nuevos predictores con los que mejorar la precisión en las predicciondes del modelo final. Empezamos añadiendo los predictores relacionados con las fechas."
      ]
    },
    {
      "cell_type": "code",
      "metadata": {
        "id": "aYt4Y9dzwZRT"
      },
      "source": [
        "#  Separación en datos de validación y test\n",
        "df_train = df[df['id'].isin(df_train['id'])]\n",
        "df_val = df[df['id'].isin(df_val['id'])]"
      ],
      "execution_count": null,
      "outputs": []
    },
    {
      "cell_type": "markdown",
      "metadata": {
        "id": "Ul385SpOWqhK"
      },
      "source": [
        "La primera variable que se añade es el número de días que el anuncio está publicado. Viviendas con mucho tiempo en el portal pueden indicar una baja demanda, por lo que es interesante considerar su inclusión como predictor."
      ]
    },
    {
      "cell_type": "code",
      "metadata": {
        "id": "Qm4Ev4YTi_5Y"
      },
      "source": [
        "# Cálculo del nuevo predictor\n",
        "d1 = datetime.datetime(2021,5,31)\n",
        "df_train['n_days'] = [(d1 - x).days for x in df_train['date']]\n",
        "df_val['n_days'] = [(d1 - x).days for x in df_val['date']]\n",
        "df_test['n_days'] = [(d1 - x).days for x in df_test['date']]"
      ],
      "execution_count": null,
      "outputs": []
    },
    {
      "cell_type": "markdown",
      "metadata": {
        "id": "U49JRLBlXPTZ"
      },
      "source": [
        "Extraemos el mes y año de publicación como factores independientes."
      ]
    },
    {
      "cell_type": "code",
      "metadata": {
        "id": "JOOBY5ENng7A"
      },
      "source": [
        "df_train['year'] = [x.year for x in df_train['date']]\n",
        "df_val['year'] = [x.year for x in df_val['date']]\n",
        "df_test['year'] = [x.year for x in df_test['date']]"
      ],
      "execution_count": null,
      "outputs": []
    },
    {
      "cell_type": "code",
      "metadata": {
        "id": "2UdHNaB8nyTf"
      },
      "source": [
        "df_train['month'] = [x.month for x in df_train['date']]\n",
        "df_val['month'] = [x.month for x in df_val['date']]\n",
        "df_test['month'] = [x.month for x in df_test['date']]"
      ],
      "execution_count": null,
      "outputs": []
    },
    {
      "cell_type": "markdown",
      "metadata": {
        "id": "K9zZNKeQXqCY"
      },
      "source": [
        "Haremos una primera evaluación de la importancia de las variables entrenando un modelo XGboost."
      ]
    },
    {
      "cell_type": "code",
      "metadata": {
        "id": "E2CExzN1K-wR"
      },
      "source": [
        "\n",
        "def check_metrics(model):\n",
        "  print('Training MAE', mean_absolute_error(y_train, model.predict(X_train)))\n",
        "  print('Validation MAE', mean_absolute_error(y_val, model.predict(X_val)))\n",
        "  print('Training RMSE',   sqrt(mean_squared_error(y_train, model.predict(X_train))))\n",
        "  print('Validation RMSE',   sqrt(mean_squared_error(y_val, model.predict(X_val))))\n",
        "  print('Validation R^2', model.score(X_val, y_val))\n",
        "  print('Training R^2',model.score(X_train, y_train))\n",
        "  print()"
      ],
      "execution_count": null,
      "outputs": []
    },
    {
      "cell_type": "code",
      "metadata": {
        "id": "-0Sux1Z-Xw5G"
      },
      "source": [
        "# Datos de entrenamiento y validación\n",
        "y_train = df_train['price']\n",
        "X_train = df_train.drop(columns=['price', 'date', 'id'])\n",
        "y_val = df_val['price']\n",
        "X_val = df_val.drop(columns=['price', 'date', 'id'])"
      ],
      "execution_count": null,
      "outputs": []
    },
    {
      "cell_type": "code",
      "metadata": {
        "id": "UQD-76izL8Mr"
      },
      "source": [
        "# Entrenamiento del algoritmo\n",
        "model_xgb = XGBRegressor(random_state=42, n_jobs=-1)\n",
        "model_xgb.fit(X_train, y_train)"
      ],
      "execution_count": null,
      "outputs": []
    },
    {
      "cell_type": "code",
      "metadata": {
        "colab": {
          "base_uri": "https://localhost:8080/"
        },
        "id": "YtSGkrbK9reD",
        "outputId": "e7b748f2-99b3-4394-cd23-a5fe830ed3f9"
      },
      "source": [
        "#Métricas básicas del modelo\n",
        "check_metrics(model_xgb)"
      ],
      "execution_count": null,
      "outputs": [
        {
          "output_type": "stream",
          "text": [
            "Training MAE 684042.9223454633\n",
            "Validation MAE 694410.5683919669\n",
            "Training RMSE 1024084.50034527\n",
            "Validation RMSE 1170735.4078814038\n",
            "Validation R^2 0.7854819208565189\n",
            "Training R^2 0.8303051090380568\n",
            "\n"
          ],
          "name": "stdout"
        }
      ]
    },
    {
      "cell_type": "markdown",
      "metadata": {
        "id": "-TriRE7CYiux"
      },
      "source": [
        "Hacemos un ranking de las variables más importtantes."
      ]
    },
    {
      "cell_type": "code",
      "metadata": {
        "colab": {
          "base_uri": "https://localhost:8080/"
        },
        "id": "ocesbTKYoAK2",
        "outputId": "864a6bae-24b3-47b8-8d0f-90c1ba489b43"
      },
      "source": [
        "# Importancia de las variables\n",
        "feature_list = list(X_train.columns)\n",
        "importances = list(model_xgb.feature_importances_)\n",
        "# List of tuples with variable and importance\n",
        "feature_importances = [(feature, round(importance, 2)) for feature, importance in zip(feature_list, importances)]\n",
        "# Sort the feature importances by most important first\n",
        "feature_importances = sorted(feature_importances, key = lambda x: x[1], reverse = True)\n",
        "# Print out the feature and importances \n",
        "[print('Variable: {:20} Importance: {}'.format(*pair)) for pair in feature_importances];"
      ],
      "execution_count": null,
      "outputs": [
        {
          "output_type": "stream",
          "text": [
            "Variable: area                 Importance: 0.2800000011920929\n",
            "Variable: geo_lon              Importance: 0.20999999344348907\n",
            "Variable: region               Importance: 0.11999999731779099\n",
            "Variable: levels               Importance: 0.09000000357627869\n",
            "Variable: kitchen_area         Importance: 0.09000000357627869\n",
            "Variable: geo_lat              Importance: 0.05000000074505806\n",
            "Variable: rooms                Importance: 0.03999999910593033\n",
            "Variable: object_type          Importance: 0.03999999910593033\n",
            "Variable: n_days               Importance: 0.03999999910593033\n",
            "Variable: building_type        Importance: 0.019999999552965164\n",
            "Variable: level                Importance: 0.009999999776482582\n",
            "Variable: year                 Importance: 0.0\n",
            "Variable: month                Importance: 0.0\n"
          ],
          "name": "stdout"
        }
      ]
    },
    {
      "cell_type": "code",
      "metadata": {
        "colab": {
          "base_uri": "https://localhost:8080/",
          "height": 405
        },
        "id": "rkavBb_HNkvq",
        "outputId": "23d4cb68-cd75-47aa-d5ff-f8c5a05a8ae2"
      },
      "source": [
        "import matplotlib.pyplot as plt\n",
        "%matplotlib inline\n",
        "\n",
        "# Gráfico de la importancia de los predictores\n",
        "plt.style.use('fivethirtyeight')\n",
        "x_values = list(range(len(importances)))\n",
        "plt.bar(x_values, importances, orientation = 'vertical')\n",
        "plt.xticks(x_values, feature_list, rotation='vertical')\n",
        "plt.ylabel('Importance'); plt.xlabel('Variable'); plt.title('Variable Importances');"
      ],
      "execution_count": null,
      "outputs": [
        {
          "output_type": "display_data",
          "data": {
            "image/png": "[encoded data removed]",
            "text/plain": [
              "<Figure size 432x288 with 1 Axes>"
            ]
          },
          "metadata": {
            "tags": []
          }
        }
      ]
    },
    {
      "cell_type": "markdown",
      "metadata": {
        "id": "POC2Bt9sY3br"
      },
      "source": [
        "Se pueden extraer dos conclusiones:\n",
        "\n",
        "  - La fecha de publicación no tiene ningún peso en la explicación de la varianza de los precios, por lo que podemos eliminar las variables y simplificar el problema\n",
        "  - Aunque las coordenadas están embebidas en la región, tienen un papel importante en la predicción, por lo que es interesante incorporar esta información al dataset de alguna manera"
      ]
    },
    {
      "cell_type": "code",
      "metadata": {
        "id": "yinKBdmJo0sm"
      },
      "source": [
        "# Eliminamos todas las variables relativas a la fecha de publicación\n",
        "del df_train['year']\n",
        "del df_val['year']\n",
        "del df_test['year']\n",
        "\n",
        "del df_train['month']\n",
        "del df_val['month']\n",
        "del df_test['month']\n",
        "\n",
        "del df_train['date']\n",
        "del df_val['date']\n",
        "del df_test['date']"
      ],
      "execution_count": null,
      "outputs": []
    },
    {
      "cell_type": "code",
      "metadata": {
        "id": "Gdg8JBz9-Z6K"
      },
      "source": [
        "# Unimos lo datos de validación y de test\n",
        "df = pd.concat([df_train, df_val])"
      ],
      "execution_count": null,
      "outputs": []
    },
    {
      "cell_type": "markdown",
      "metadata": {
        "id": "QwVFA-JFaS8J"
      },
      "source": [
        "En vista  de que las coordenadas parecen tener un papel en las predicciones relevante, vamos a incorporarlas al dataset de la siguiente manera:\n",
        "\n",
        "  - Para cada región, vamos a considerar todas sus coordenadas en donde se ubican las ofertas y calcular zonas en donde haya una alta densidad de las mismas\n",
        "  - Este cálculo se hará con un algoritmo de clusterización, concretamente con el kmedoids, ya que permite el cálculo automatizado de los clústers y es más robusto que kmeans frente a valores atípicos\n",
        "  - Intuitivamente, vamos a descomponer cada región en subregiones agrupadas en función de la densidad y distribución de las viviendas"
      ]
    },
    {
      "cell_type": "markdown",
      "metadata": {
        "id": "EXO6---icUpc"
      },
      "source": [
        "El siguiente trozo de código muestra el algoritmo de cálculo usando kmedoids."
      ]
    },
    {
      "cell_type": "code",
      "metadata": {
        "id": "8D-YMTsome1L"
      },
      "source": [
        "# Carga incremental\n",
        "if os.path.isfile(\"/content/gdrive/MyDrive/ModelosMercadoRuso/ShilhouetteCoefficient.pkl\"):\n",
        "# Se almacena en este dataset los resultados hasta una iteración i (a veces colab cierra sesión y el bucle queda a medio)\n",
        "  df_area_shil = pd.read_pickle(\"/content/gdrive/MyDrive/ModelosMercadoRuso/ShilhouetteCoefficient.pkl\")\n",
        "else:\n",
        "# La primera vez que se ejecuta, se crea un nuevo dataframe\n",
        "  df_area_shil = pd.DataFrame(columns=['region', 'shilhouette_coef'])\n",
        "\n",
        "# Cálculo de las regiones no  calculadas anteriormente\n",
        "region = pd.unique(df[~df['region'].isin(df_area_shil['region'])]['region'])\n",
        " \n",
        "for r in region:\n",
        "  #print(r)\n",
        "  Shilhouette_coefficient = []\n",
        "  # Coordenadas de la región\n",
        "  t_df_coor = df[df['region'] == r][['geo_lat', 'geo_lon']]\n",
        "  # Conjunto de clústers candidatos\n",
        "  K = range(2,min(8, t_df_coor.shape[0]))\n",
        "  for k in K:\n",
        "      km = KMedoids(n_clusters=k, method = 'pam')\n",
        "      km.fit_predict(t_df_coor)\n",
        "      #print(silhouette_score(t_df_coor, km.labels_,  metric='euclidean'))\n",
        "      # Se usa la métrica silhouette para calcular la bondad del ajuste. Ésta mide la separabilidad entre los clusters. 1 es el valor  óptimo\n",
        "      # Almacenamos todos los cálculos en el dataframe de salida\n",
        "      Shilhouette_coefficient.append(silhouette_score(t_df_coor, km.labels_,  metric='euclidean'))\n",
        "  # Carga incremental de los cálculos (por problemas de fin de sesión en Google Colab)\n",
        "  df_area_shil = df_area_shil.append({'region':r, 'shilhouette_coef':Shilhouette_coefficient}, ignore_index=True)\n",
        "  df_area_shil.to_pickle(\"/content/gdrive/MyDrive/ModelosMercadoRuso/ShilhouetteCoefficient.pkl\")"
      ],
      "execution_count": null,
      "outputs": []
    },
    {
      "cell_type": "markdown",
      "metadata": {
        "id": "3V3dTbFHdMVY"
      },
      "source": [
        "Otras opciones interesantes para este caso son una red SOM con un posterior cálculo de los clústers o aplicar la clusterización de manera recursiva, descomponiende las subregiones en regiones más finas. "
      ]
    },
    {
      "cell_type": "markdown",
      "metadata": {
        "id": "K21KzVfJjams"
      },
      "source": [
        "Éstos son los resultados de los cálculos. El dataframe se compone de:\n",
        "\n",
        "    - El identificador de la región\n",
        "    - La métrica de Shilhouette para cada k, siendo k el parámetro que regula el número de medoides en el entrenamiento"
      ]
    },
    {
      "cell_type": "code",
      "metadata": {
        "colab": {
          "base_uri": "https://localhost:8080/",
          "height": 424
        },
        "id": "8Q_0cLlJ18mf",
        "outputId": "1e080c95-bfa4-4450-b1c3-e4fb727cb837"
      },
      "source": [
        "df_area_shil"
      ],
      "execution_count": null,
      "outputs": [
        {
          "output_type": "execute_result",
          "data": {
            "text/html": [
              "<div>\n",
              "<style scoped>\n",
              "    .dataframe tbody tr th:only-of-type {\n",
              "        vertical-align: middle;\n",
              "    }\n",
              "\n",
              "    .dataframe tbody tr th {\n",
              "        vertical-align: top;\n",
              "    }\n",
              "\n",
              "    .dataframe thead th {\n",
              "        text-align: right;\n",
              "    }\n",
              "</style>\n",
              "<table border=\"1\" class=\"dataframe\">\n",
              "  <thead>\n",
              "    <tr style=\"text-align: right;\">\n",
              "      <th></th>\n",
              "      <th>region</th>\n",
              "      <th>shilhouette_coef</th>\n",
              "    </tr>\n",
              "  </thead>\n",
              "  <tbody>\n",
              "    <tr>\n",
              "      <th>0</th>\n",
              "      <td>2843</td>\n",
              "      <td>[0.6937100926921465, 0.8137128702764954, 0.803...</td>\n",
              "    </tr>\n",
              "    <tr>\n",
              "      <th>1</th>\n",
              "      <td>81</td>\n",
              "      <td>[0.39103684577567444, 0.4075291093010297, 0.42...</td>\n",
              "    </tr>\n",
              "    <tr>\n",
              "      <th>2</th>\n",
              "      <td>9654</td>\n",
              "      <td>[0.42045298862830754, 0.458200428158802, 0.507...</td>\n",
              "    </tr>\n",
              "    <tr>\n",
              "      <th>3</th>\n",
              "      <td>6171</td>\n",
              "      <td>[0.7897448469680157, 0.8197806310358798, 0.782...</td>\n",
              "    </tr>\n",
              "    <tr>\n",
              "      <th>4</th>\n",
              "      <td>2661</td>\n",
              "      <td>[0.3527478255151675, 0.4006835291842251, 0.317...</td>\n",
              "    </tr>\n",
              "    <tr>\n",
              "      <th>...</th>\n",
              "      <td>...</td>\n",
              "      <td>...</td>\n",
              "    </tr>\n",
              "    <tr>\n",
              "      <th>77</th>\n",
              "      <td>13098</td>\n",
              "      <td>[0.5639481871344132, 0.42896127034959736, 0.32...</td>\n",
              "    </tr>\n",
              "    <tr>\n",
              "      <th>78</th>\n",
              "      <td>13913</td>\n",
              "      <td>[0.5682301752910762, 0.5482430473944796, 0.614...</td>\n",
              "    </tr>\n",
              "    <tr>\n",
              "      <th>79</th>\n",
              "      <td>69</td>\n",
              "      <td>[]</td>\n",
              "    </tr>\n",
              "    <tr>\n",
              "      <th>80</th>\n",
              "      <td>4963</td>\n",
              "      <td>[]</td>\n",
              "    </tr>\n",
              "    <tr>\n",
              "      <th>81</th>\n",
              "      <td>16705</td>\n",
              "      <td>[]</td>\n",
              "    </tr>\n",
              "  </tbody>\n",
              "</table>\n",
              "<p>82 rows × 2 columns</p>\n",
              "</div>"
            ],
            "text/plain": [
              "   region                                   shilhouette_coef\n",
              "0    2843  [0.6937100926921465, 0.8137128702764954, 0.803...\n",
              "1      81  [0.39103684577567444, 0.4075291093010297, 0.42...\n",
              "2    9654  [0.42045298862830754, 0.458200428158802, 0.507...\n",
              "3    6171  [0.7897448469680157, 0.8197806310358798, 0.782...\n",
              "4    2661  [0.3527478255151675, 0.4006835291842251, 0.317...\n",
              "..    ...                                                ...\n",
              "77  13098  [0.5639481871344132, 0.42896127034959736, 0.32...\n",
              "78  13913  [0.5682301752910762, 0.5482430473944796, 0.614...\n",
              "79     69                                                 []\n",
              "80   4963                                                 []\n",
              "81  16705                                                 []\n",
              "\n",
              "[82 rows x 2 columns]"
            ]
          },
          "metadata": {
            "tags": []
          },
          "execution_count": 36
        }
      ]
    },
    {
      "cell_type": "markdown",
      "metadata": {
        "id": "PRA4yp9AeVPA"
      },
      "source": [
        "Se calculan la mejor métrica y número de cluster para cada región"
      ]
    },
    {
      "cell_type": "code",
      "metadata": {
        "id": "wLC2_SABvCht"
      },
      "source": [
        "l = df_area_shil['shilhouette_coef'].tolist()\n",
        "best_score=[None]*len(l)\n",
        "num_cluster=[None]*len(l)\n",
        "ran = range(0, len(l))\n",
        "for r in ran:\n",
        "  if(len(l[r]) > 0):\n",
        "    #print(max(l[r]))\n",
        "    t = max(l[r])\n",
        "    best_score[r] = t\n",
        "    num_cluster[r] = l[r].index(t) + 2\n",
        "  else:\n",
        "      #print(0)\n",
        "      best_score[r] = 0\n",
        "      num_cluster[r] = 1"
      ],
      "execution_count": null,
      "outputs": []
    },
    {
      "cell_type": "code",
      "metadata": {
        "id": "-q4086nPvN4C"
      },
      "source": [
        "# incorporamos  los datos al dataframe\n",
        "df_area_shil['best_score'] = best_score\n",
        "df_area_shil['num_cluster'] = num_cluster"
      ],
      "execution_count": null,
      "outputs": []
    },
    {
      "cell_type": "markdown",
      "metadata": {
        "id": "5tQpz2yg0fc4"
      },
      "source": [
        "La calidad, en general, en la representación es bastante alta."
      ]
    },
    {
      "cell_type": "code",
      "metadata": {
        "colab": {
          "base_uri": "https://localhost:8080/"
        },
        "id": "872ipxlm0K4g",
        "outputId": "b3c775a1-4720-497c-ded9-013f96f7c159"
      },
      "source": [
        "df_area_shil['best_score'].mean()"
      ],
      "execution_count": null,
      "outputs": [
        {
          "output_type": "execute_result",
          "data": {
            "text/plain": [
              "0.794219326450354"
            ]
          },
          "metadata": {
            "tags": []
          },
          "execution_count": 132
        }
      ]
    },
    {
      "cell_type": "markdown",
      "metadata": {
        "id": "yhIcnxa4fbvW"
      },
      "source": [
        "Habiendo calculado el número óptimo de clusters en el que dividir una región, aplicamos el algoritmo kmedoid para cada región con sus correspondientes valores óptimos y calculamos las predicciones para los datos de entrenamiento, validación y test."
      ]
    },
    {
      "cell_type": "code",
      "metadata": {
        "id": "9zpLeAKrvrnW"
      },
      "source": [
        "if os.path.isfile(\"/content/gdrive/MyDrive/ModelosMercadoRuso/DatasetConClusters.pkl\"):\n",
        "# Carga incremental. Se almacenan los datos hasta una iteración i (colab puede cerrar sesión a mitad de los cálculos)\n",
        "  df_tmp = pd.read_pickle(\"/content/gdrive/MyDrive/ModelosMercadoRuso/DatasetConClusters.pkl\")\n",
        "else:\n",
        "# Creación de un dataframe con la misma estructura que los datos de entrenamiento\n",
        "  df_tmp = pd.DataFrame(columns=df.columns)\n",
        "  df_tmp['zone'] = np.nan\n",
        "\n",
        "# Áreas para las que no se han hecho la predicciones\n",
        "df_area = df_area_shil[~df_area_shil['region'].isin(df_tmp['region'])]\n",
        "\n",
        "for idx in df_area.index:\n",
        "  row = df_area_shil.iloc[idx]\n",
        "  #print(row['region'])\n",
        "  # Entrenamiento con el número de clusters óptimo\n",
        "\n",
        "  if(row['num_cluster'] > 1):\n",
        "    #Entrenamos el mejor modelo con los datos de entrenamiento + validación\n",
        "    tmp = df[df['region'] == row['region']]\n",
        "    tmp_coor = tmp[['geo_lat', 'geo_lon']]\n",
        "    # Entrenamiento del algoritmo\n",
        "    km = KMedoids(n_clusters=row['num_cluster'], method = 'pam')\n",
        "    # Predicción para los datos de entrenamiento + validación\n",
        "    tmp['zone'] = km.fit_predict(tmp_coor)\n",
        "    df_tmp = df_tmp.append(tmp)\n",
        "    # Predecimos los clusters para los datos de test\n",
        "    tmp = df_test[df_test['region'] == row['region']]\n",
        "    if(tmp.shape[0] > 0):\n",
        "      tmp_coor = tmp[['geo_lat', 'geo_lon']]\n",
        "      tmp['zone'] = km.predict(tmp_coor)\n",
        "    else:\n",
        "      tmp['zone'] = row['region']\n",
        "    df_tmp = df_tmp.append(tmp)\n",
        "  # Si el número óptimo de clusters es menor que  2, la zona es la región\n",
        "  else:\n",
        "    tmp = df[df['region'] == row['region']]\n",
        "    tmp['zone'] = row['region']\n",
        "    df_tmp = df_tmp.append(tmp) \n",
        "  df_tmp.to_pickle(\"/content/gdrive/MyDrive/ModelosMercadoRuso/DatasetConClusters.pkl\")      "
      ],
      "execution_count": null,
      "outputs": []
    },
    {
      "cell_type": "code",
      "metadata": {
        "id": "xtw23KgqBDQL"
      },
      "source": [
        "del df_tmp['time']"
      ],
      "execution_count": null,
      "outputs": []
    },
    {
      "cell_type": "markdown",
      "metadata": {
        "id": "VDZzrcAIhNZZ"
      },
      "source": [
        "Se muestra el dataset con los clústers incorporados. Por su interpretación, hemos llamado a esta variable zona."
      ]
    },
    {
      "cell_type": "code",
      "metadata": {
        "colab": {
          "base_uri": "https://localhost:8080/"
        },
        "id": "1PM1-k-JZcxN",
        "outputId": "a5921e2c-1c29-4be6-ecaa-8a8f4e276af0"
      },
      "source": [
        "df_tmp.info()"
      ],
      "execution_count": null,
      "outputs": [
        {
          "output_type": "stream",
          "text": [
            "<class 'pandas.core.frame.DataFrame'>\n",
            "Int64Index: 75048 entries, 0 to 11685\n",
            "Data columns (total 14 columns):\n",
            " #   Column         Non-Null Count  Dtype  \n",
            "---  ------         --------------  -----  \n",
            " 0   price          69175 non-null  object \n",
            " 1   geo_lat        75048 non-null  float64\n",
            " 2   geo_lon        75048 non-null  float64\n",
            " 3   region         75048 non-null  object \n",
            " 4   building_type  75048 non-null  object \n",
            " 5   level          75048 non-null  object \n",
            " 6   levels         75048 non-null  object \n",
            " 7   rooms          75048 non-null  object \n",
            " 8   area           75048 non-null  float64\n",
            " 9   kitchen_area   75048 non-null  float64\n",
            " 10  object_type    75048 non-null  object \n",
            " 11  id             75048 non-null  object \n",
            " 12  n_days         75048 non-null  object \n",
            " 13  zone           75048 non-null  float64\n",
            "dtypes: float64(5), object(9)\n",
            "memory usage: 8.6+ MB\n"
          ],
          "name": "stdout"
        }
      ]
    },
    {
      "cell_type": "code",
      "metadata": {
        "id": "eCOYNWZEU2Mr"
      },
      "source": [
        "# Tipamos los datos de las columnas del dataframe temporal a su tipo de datos correcto\n",
        "df_tmp['zone'] = df_tmp['zone'].astype('int64')\n",
        "df_tmp['region'] = df_tmp['region'].astype('int64')\n",
        "df_tmp['building_type'] = df_tmp['building_type'].astype('int64')\n",
        "df_tmp['level'] = df_tmp['level'].astype('int64')\n",
        "df_tmp['levels'] = df_tmp['levels'].astype('int64')\n",
        "df_tmp['rooms'] = df_tmp['rooms'].astype('int64')\n",
        "df_tmp['area'] = df_tmp['area'].astype('float64')\n",
        "df_tmp['kitchen_area'] = df_tmp['kitchen_area'].astype('float64')\n",
        "df_tmp['object_type'] = df_tmp['object_type'].astype('int64')\n",
        "df_tmp['n_days'] = df_tmp['n_days'].astype('int64')\n",
        "df_tmp['id'] = df_tmp['id'].astype('int64')"
      ],
      "execution_count": null,
      "outputs": []
    },
    {
      "cell_type": "code",
      "metadata": {
        "id": "igKMkV-FVnI9"
      },
      "source": [
        "# Cálculo de los datos de entrenamiento, validación y test a partir del dataframe temporal. 'machacamos' los valosres antiguos\n",
        "df_train = df_tmp[df_tmp['id'].isin(df_train['id'])]\n",
        "df_val = df_tmp[df_tmp['id'].isin(df_val['id'])]\n",
        "df_test = df_tmp[df_tmp['id'].isin(df_test['id'])]"
      ],
      "execution_count": null,
      "outputs": []
    },
    {
      "cell_type": "code",
      "metadata": {
        "id": "30-sncOfbR6B"
      },
      "source": [
        "df_train['price'] = df_train['price'].astype('int64')\n",
        "df_val['price'] = df_val['price'].astype('int64')"
      ],
      "execution_count": null,
      "outputs": []
    },
    {
      "cell_type": "markdown",
      "metadata": {
        "id": "LaEIan7ZiBY8"
      },
      "source": [
        "Una característica interesante a considerar es el precio medio por zona. Si realmente hay una diferencia significativa entre el precio medio por zona, esta variable va a recoger esa información."
      ]
    },
    {
      "cell_type": "code",
      "metadata": {
        "id": "QTX4Pq7-WlKO"
      },
      "source": [
        "# Precio por zona\n",
        "df_price_by_zone = df_train.groupby(['region', 'zone'])['price'].mean().reset_index().rename(columns={'price':'avg_price'})"
      ],
      "execution_count": null,
      "outputs": []
    },
    {
      "cell_type": "code",
      "metadata": {
        "id": "4GypJBTXeP8I"
      },
      "source": [
        "# Incorporamos la nueva variable al dataset\n",
        "df_train = pd.merge(df_train, df_price_by_zone,how='inner', on=['region', 'zone'])\n",
        "df_val = pd.merge(df_val, df_price_by_zone,how='inner', on=['region', 'zone'])\n",
        "df_test = pd.merge(df_test, df_price_by_zone,how='inner', on=['region', 'zone'])"
      ],
      "execution_count": null,
      "outputs": []
    },
    {
      "cell_type": "code",
      "metadata": {
        "colab": {
          "base_uri": "https://localhost:8080/"
        },
        "id": "bPbamhpGdSk-",
        "outputId": "890cd6b5-3152-4da8-d2f4-d9d3432ec55d"
      },
      "source": [
        "df_train.info()"
      ],
      "execution_count": null,
      "outputs": [
        {
          "output_type": "stream",
          "text": [
            "<class 'pandas.core.frame.DataFrame'>\n",
            "Int64Index: 49519 entries, 0 to 49518\n",
            "Data columns (total 15 columns):\n",
            " #   Column         Non-Null Count  Dtype  \n",
            "---  ------         --------------  -----  \n",
            " 0   price          49519 non-null  int64  \n",
            " 1   geo_lat        49519 non-null  float64\n",
            " 2   geo_lon        49519 non-null  float64\n",
            " 3   region         49519 non-null  int64  \n",
            " 4   building_type  49519 non-null  int64  \n",
            " 5   level          49519 non-null  int64  \n",
            " 6   levels         49519 non-null  int64  \n",
            " 7   rooms          49519 non-null  int64  \n",
            " 8   area           49519 non-null  float64\n",
            " 9   kitchen_area   49519 non-null  float64\n",
            " 10  object_type    49519 non-null  int64  \n",
            " 11  id             49519 non-null  int64  \n",
            " 12  n_days         49519 non-null  int64  \n",
            " 13  zone           49519 non-null  int64  \n",
            " 14  avg_price      49519 non-null  float64\n",
            "dtypes: float64(5), int64(10)\n",
            "memory usage: 6.0 MB\n"
          ],
          "name": "stdout"
        }
      ]
    },
    {
      "cell_type": "markdown",
      "metadata": {
        "id": "qNX3Yf3wigv_"
      },
      "source": [
        "# Selección de variables"
      ]
    },
    {
      "cell_type": "markdown",
      "metadata": {
        "id": "EiU9b6QCjVTn"
      },
      "source": [
        "Es momento de comprobar que las nuevas variables añadidas son significativas. Para ello, volvemos a entrenar un modelo Xgboost sencillo, sin optimización de hiperparámeros, para ver la significatividad de los predictores añadidos."
      ]
    },
    {
      "cell_type": "code",
      "metadata": {
        "id": "alST_LWWdOOl"
      },
      "source": [
        "# Preparamos los datos para el entrenamiento\n",
        "y_train = df_train['price']\n",
        "X_train = df_train.drop(columns=['geo_lat', 'geo_lon', 'price', 'id'])\n",
        "y_val = df_val['price']\n",
        "X_val = df_val.drop(columns=['geo_lat', 'geo_lon', 'price', 'id'])"
      ],
      "execution_count": null,
      "outputs": []
    },
    {
      "cell_type": "code",
      "metadata": {
        "id": "w3D1FISZdNhK"
      },
      "source": [
        "# Entrenamiento del modelo\n",
        "model_xgb = XGBRegressor(random_state=42, n_jobs=-1)\n",
        "model_xgb.fit(X_train, y_train)"
      ],
      "execution_count": null,
      "outputs": []
    },
    {
      "cell_type": "code",
      "metadata": {
        "colab": {
          "base_uri": "https://localhost:8080/"
        },
        "id": "G0qwtqI6djeE",
        "outputId": "1ad73741-e397-4aaa-d399-258fcf63ef1c"
      },
      "source": [
        "# Bondad del ajuste (si el modelo da resultados malos, quizás deberíamos buscar otro método)\n",
        "check_metrics(model_xgb)"
      ],
      "execution_count": null,
      "outputs": [
        {
          "output_type": "stream",
          "text": [
            "Training MAE 638003.3840281003\n",
            "Validation MAE 648982.7469601477\n",
            "Training RMSE 980060.8685770791\n",
            "Validation RMSE 1124414.1621765075\n",
            "Validation R^2 0.8022163230620293\n",
            "Training R^2 0.8445812973408102\n",
            "\n"
          ],
          "name": "stdout"
        }
      ]
    },
    {
      "cell_type": "code",
      "metadata": {
        "colab": {
          "base_uri": "https://localhost:8080/"
        },
        "id": "kX1subBNBRG8",
        "outputId": "6c8d4094-613e-462d-f4a1-a36d5d4e9d8f"
      },
      "source": [
        "# Importancia de las variables\n",
        "feature_list = list(X_train.columns)\n",
        "importances = list(model_xgb.feature_importances_)\n",
        "# List of tuples with variable and importance\n",
        "feature_importances = [(feature, round(importance, 2)) for feature, importance in zip(feature_list, importances)]\n",
        "# Sort the feature importances by most important first\n",
        "feature_importances = sorted(feature_importances, key = lambda x: x[1], reverse = True)\n",
        "# Print out the feature and importances \n",
        "[print('Variable: {:20} Importance: {}'.format(*pair)) for pair in feature_importances];"
      ],
      "execution_count": null,
      "outputs": [
        {
          "output_type": "stream",
          "text": [
            "Variable: avg_price            Importance: 0.41999998688697815\n",
            "Variable: area                 Importance: 0.30000001192092896\n",
            "Variable: kitchen_area         Importance: 0.07999999821186066\n",
            "Variable: levels               Importance: 0.07000000029802322\n",
            "Variable: n_days               Importance: 0.03999999910593033\n",
            "Variable: object_type          Importance: 0.029999999329447746\n",
            "Variable: region               Importance: 0.019999999552965164\n",
            "Variable: rooms                Importance: 0.019999999552965164\n",
            "Variable: building_type        Importance: 0.009999999776482582\n",
            "Variable: level                Importance: 0.009999999776482582\n",
            "Variable: zone                 Importance: 0.0\n"
          ],
          "name": "stdout"
        }
      ]
    },
    {
      "cell_type": "code",
      "metadata": {
        "colab": {
          "base_uri": "https://localhost:8080/",
          "height": 405
        },
        "id": "SoRxyVnRdo_C",
        "outputId": "3a1c5fb8-f598-41c7-f459-6126ab9a7076"
      },
      "source": [
        "import matplotlib.pyplot as plt\n",
        "%matplotlib inline\n",
        "\n",
        "# Representación del histgrama de las variables\n",
        "\n",
        "feature_list = list(X_train.columns)\n",
        "# Set the style\n",
        "importances = list(model_xgb.feature_importances_)\n",
        "plt.style.use('fivethirtyeight')\n",
        "x_values = list(range(len(importances)))\n",
        "plt.bar(x_values, importances, orientation = 'vertical')\n",
        "plt.xticks(x_values, feature_list, rotation='vertical')\n",
        "plt.ylabel('Importance'); plt.xlabel('Variable'); plt.title('Variable Importances');"
      ],
      "execution_count": null,
      "outputs": [
        {
          "output_type": "display_data",
          "data": {
            "image/png": "[encoded data removed]",
            "text/plain": [
              "<Figure size 432x288 with 1 Axes>"
            ]
          },
          "metadata": {
            "tags": []
          }
        }
      ]
    },
    {
      "cell_type": "markdown",
      "metadata": {
        "id": "rtZfhTI7kes9"
      },
      "source": [
        "La variable zona no es significativa, pero sí lo es el precio medio, por lo que podemos considerar que se han representado las coordenadas en el dataset."
      ]
    },
    {
      "cell_type": "markdown",
      "metadata": {
        "id": "_RLk55tEk3Na"
      },
      "source": [
        "Vamos a seleccionar aquéllas variables que conserven el 95% de la varianza explicada, con ayuda del siguiente código."
      ]
    },
    {
      "cell_type": "code",
      "metadata": {
        "colab": {
          "base_uri": "https://localhost:8080/",
          "height": 607
        },
        "id": "nFHZlAWN6hS6",
        "outputId": "3db21754-00ae-4bb0-bd78-6f11f4232ad6"
      },
      "source": [
        "# List of features sorted from most to least important\n",
        "\n",
        "feature_importances = [(feature, round(importance, 2)) for feature, importance in zip(feature_list, importances)]\n",
        "# Sort the feature importances by most important first\n",
        "feature_importances = sorted(feature_importances, key = lambda x: x[1], reverse = True)\n",
        "# Print out the feature and importances \n",
        "[print('Variable: {:20} Importance: {}'.format(*pair)) for pair in feature_importances]\n",
        "\n",
        "sorted_importances = [importance[1] for importance in feature_importances]\n",
        "sorted_features = [importance[0] for importance in feature_importances]\n",
        "# Cumulative importances\n",
        "cumulative_importances = np.cumsum(sorted_importances)\n",
        "# Make a line graph\n",
        "plt.plot(x_values, cumulative_importances, 'g-')\n",
        "# Draw line at 95% of importance retained\n",
        "plt.hlines(y = 0.95, xmin=0, xmax=len(sorted_importances), color = 'r', linestyles = 'dashed')\n",
        "# Format x ticks and labels\n",
        "plt.xticks(x_values, sorted_features, rotation = 'vertical')\n",
        "# Axis labels and title\n",
        "plt.xlabel('Variable'); plt.ylabel('Cumulative Importance'); plt.title('Cumulative Importances');"
      ],
      "execution_count": null,
      "outputs": [
        {
          "output_type": "stream",
          "text": [
            "Variable: avg_price            Importance: 0.41999998688697815\n",
            "Variable: area                 Importance: 0.30000001192092896\n",
            "Variable: kitchen_area         Importance: 0.07999999821186066\n",
            "Variable: levels               Importance: 0.07000000029802322\n",
            "Variable: n_days               Importance: 0.03999999910593033\n",
            "Variable: object_type          Importance: 0.029999999329447746\n",
            "Variable: region               Importance: 0.019999999552965164\n",
            "Variable: rooms                Importance: 0.019999999552965164\n",
            "Variable: building_type        Importance: 0.009999999776482582\n",
            "Variable: level                Importance: 0.009999999776482582\n",
            "Variable: zone                 Importance: 0.0\n"
          ],
          "name": "stdout"
        },
        {
          "output_type": "display_data",
          "data": {
            "image/png": "[encoded data removed]",
            "text/plain": [
              "<Figure size 432x288 with 1 Axes>"
            ]
          },
          "metadata": {
            "tags": []
          }
        }
      ]
    },
    {
      "cell_type": "markdown",
      "metadata": {
        "id": "2A6oMvGxlGHe"
      },
      "source": [
        "Vemos que las variables rooms, buildin_type y zone no aportan prácticamente nada al problema y pueden desecharse. Sin embargo, si eliminamos la variable level, perdemos información valiosa (cuanto más alto se sitúa una vivienda dentro de un edifio, más caro es). Para sintetizar esta información, vamos a incorporar la siguiente variable, que indica cómo de alto está el inmueble dentro del edifico."
      ]
    },
    {
      "cell_type": "code",
      "metadata": {
        "id": "lQNQOLlZ8uNp"
      },
      "source": [
        "df_train['level_diff'] = df_train['levels'] - df_train['level']\n",
        "df_val['level_diff'] = df_val['levels'] - df_val['level']\n",
        "df_test['level_diff'] = df_test['levels'] - df_test['level']"
      ],
      "execution_count": null,
      "outputs": []
    },
    {
      "cell_type": "code",
      "metadata": {
        "colab": {
          "base_uri": "https://localhost:8080/"
        },
        "id": "U96xxXuZ9FVW",
        "outputId": "40860b24-eb13-4339-8846-1ea7bf53613e"
      },
      "source": [
        "df_train.info()"
      ],
      "execution_count": null,
      "outputs": [
        {
          "output_type": "stream",
          "text": [
            "<class 'pandas.core.frame.DataFrame'>\n",
            "Int64Index: 49519 entries, 0 to 49518\n",
            "Data columns (total 16 columns):\n",
            " #   Column         Non-Null Count  Dtype  \n",
            "---  ------         --------------  -----  \n",
            " 0   price          49519 non-null  int64  \n",
            " 1   geo_lat        49519 non-null  float64\n",
            " 2   geo_lon        49519 non-null  float64\n",
            " 3   region         49519 non-null  int64  \n",
            " 4   building_type  49519 non-null  int64  \n",
            " 5   level          49519 non-null  int64  \n",
            " 6   levels         49519 non-null  int64  \n",
            " 7   rooms          49519 non-null  int64  \n",
            " 8   area           49519 non-null  float64\n",
            " 9   kitchen_area   49519 non-null  float64\n",
            " 10  object_type    49519 non-null  int64  \n",
            " 11  id             49519 non-null  int64  \n",
            " 12  n_days         49519 non-null  int64  \n",
            " 13  zone           49519 non-null  int64  \n",
            " 14  avg_price      49519 non-null  float64\n",
            " 15  level_diff     49519 non-null  int64  \n",
            "dtypes: float64(5), int64(11)\n",
            "memory usage: 6.4 MB\n"
          ],
          "name": "stdout"
        }
      ]
    },
    {
      "cell_type": "markdown",
      "metadata": {
        "id": "5GLJLJzZl21I"
      },
      "source": [
        "Eliminamos el resto de variables, simplificando así el problema."
      ]
    },
    {
      "cell_type": "code",
      "metadata": {
        "id": "eVw9NduoBePb"
      },
      "source": [
        "del df_train['zone']\n",
        "del df_val['zone']\n",
        "del df_test['zone']\n",
        "\n",
        "del df_train['rooms']\n",
        "del df_val['rooms']\n",
        "del df_test['rooms']\n",
        "\n",
        "del df_train['building_type']\n",
        "del df_val['building_type']\n",
        "del df_test['building_type']\n",
        "\n",
        "del df_train['level']\n",
        "del df_val['level']\n",
        "del df_test['level']\n",
        "\n",
        "\n",
        "del df_train['levels']\n",
        "del df_val['levels']\n",
        "del df_test['levels']"
      ],
      "execution_count": null,
      "outputs": []
    },
    {
      "cell_type": "markdown",
      "metadata": {
        "id": "3rm-dVS7fmGg"
      },
      "source": [
        "## Entrenamiento de la red y optimización de los hiperparámetros\n",
        "\n"
      ]
    },
    {
      "cell_type": "markdown",
      "metadata": {
        "id": "pTcZnDJJl-B0"
      },
      "source": [
        "En esta sección se entrenarán los modelos sobre el dataset obtenido en la sección anterior."
      ]
    },
    {
      "cell_type": "code",
      "metadata": {
        "id": "Ow8_0-rwf6aP"
      },
      "source": [
        "df_train_trans = df_train\n",
        "df_val_trans = df_val\n",
        "df_test_trans = df_test"
      ],
      "execution_count": null,
      "outputs": []
    },
    {
      "cell_type": "markdown",
      "metadata": {
        "id": "BDUQahuBQS30"
      },
      "source": [
        "Eliminamos las coordenadas, ya que no van a ser usadas en adelante"
      ]
    },
    {
      "cell_type": "code",
      "metadata": {
        "id": "74rJytiGQbEy"
      },
      "source": [
        "del df_train_trans['geo_lat']\n",
        "del df_val_trans['geo_lat']\n",
        "del df_test_trans['geo_lat']\n",
        "\n",
        "del df_train_trans['geo_lon']\n",
        "del df_val_trans['geo_lon']\n",
        "del df_test_trans['geo_lon']"
      ],
      "execution_count": null,
      "outputs": []
    },
    {
      "cell_type": "markdown",
      "metadata": {
        "id": "iR6ETvvNQEru"
      },
      "source": [
        "Convertimos los factores al tipo adecuado"
      ]
    },
    {
      "cell_type": "code",
      "metadata": {
        "id": "ZuwvHF2GP6yR"
      },
      "source": [
        "for col in ['object_type']:\n",
        "    df_train_trans[col] = df_train_trans[col].astype('category')\n",
        "    df_val_trans[col] = df_val_trans[col].astype('category')\n",
        "    df_test_trans[col] = df_test_trans[col].astype('category')"
      ],
      "execution_count": null,
      "outputs": []
    },
    {
      "cell_type": "markdown",
      "metadata": {
        "id": "Imyg5Jg720Sx"
      },
      "source": [
        "Usamos la codificación one hot encoding para las categorías."
      ]
    },
    {
      "cell_type": "code",
      "metadata": {
        "id": "movhbEXDULpv"
      },
      "source": [
        "df_train_trans = pd.get_dummies(df_train_trans, columns=['object_type'])\n",
        "df_val_trans = pd.get_dummies(df_val_trans, columns=['object_type'])\n",
        "df_test_trans = pd.get_dummies(df_test_trans, columns=['object_type'])"
      ],
      "execution_count": null,
      "outputs": []
    },
    {
      "cell_type": "markdown",
      "metadata": {
        "id": "bYJHRE-8TKs7"
      },
      "source": [
        "Normalizamos las variables de tipo numérico"
      ]
    },
    {
      "cell_type": "code",
      "metadata": {
        "id": "6TIzjdaYUgDM"
      },
      "source": [
        "for col in ['level_diff', 'area', 'kitchen_area', 'n_days', 'avg_price', 'region']:\n",
        "    mean = df_train_trans.append(df_val_trans)[col].mean(axis=0)\n",
        "    std = df_train_trans.append(df_val_trans)[col].std(axis=0)\n",
        "    df_train_trans[col] -= mean\n",
        "    df_train_trans[col] /= std\n",
        "    df_val_trans[col] -= mean\n",
        "    df_val_trans[col] /= std\n",
        "    df_test_trans[col] -= mean\n",
        "    df_test_trans[col] /= std"
      ],
      "execution_count": null,
      "outputs": []
    },
    {
      "cell_type": "markdown",
      "metadata": {
        "id": "4iruvAn1XYKK"
      },
      "source": [
        "Convertimos los datos a tensores para poder operar con la red neuronal."
      ]
    },
    {
      "cell_type": "code",
      "metadata": {
        "id": "VwirTTTlXXpA"
      },
      "source": [
        "y_train = np.array(df_train_trans['price'])\n",
        "X_train = np.array(df_train_trans.drop(columns=['price', 'id']))\n",
        "y_val = np.array(df_val_trans['price'])\n",
        "X_val = np.array(df_val_trans.drop(columns=['price', 'id']))"
      ],
      "execution_count": null,
      "outputs": []
    },
    {
      "cell_type": "markdown",
      "metadata": {
        "id": "ArzGJXKyWAPX"
      },
      "source": [
        "Creación de la arquitectura:"
      ]
    },
    {
      "cell_type": "code",
      "metadata": {
        "id": "g6yNSd0hWDTF"
      },
      "source": [
        "model = tf.keras.models.Sequential()\n",
        "model.add(tf.keras.layers.Dense(units=1024, \n",
        "                                 activation='linear',\n",
        "                                 input_shape=[X_train.shape[1]]))\n",
        "model.add(tf.keras.layers.Dense(1))"
      ],
      "execution_count": null,
      "outputs": []
    },
    {
      "cell_type": "code",
      "metadata": {
        "colab": {
          "base_uri": "https://localhost:8080/"
        },
        "id": "1GwXP3TWaZ4z",
        "outputId": "4a17b32d-dd2d-4969-c575-7e3ea0362639"
      },
      "source": [
        "model.summary()"
      ],
      "execution_count": null,
      "outputs": [
        {
          "output_type": "stream",
          "text": [
            "Model: \"sequential_3\"\n",
            "_________________________________________________________________\n",
            "Layer (type)                 Output Shape              Param #   \n",
            "=================================================================\n",
            "dense_6 (Dense)              (None, 1024)              9216      \n",
            "_________________________________________________________________\n",
            "dense_7 (Dense)              (None, 1)                 1025      \n",
            "=================================================================\n",
            "Total params: 10,241\n",
            "Trainable params: 10,241\n",
            "Non-trainable params: 0\n",
            "_________________________________________________________________\n"
          ],
          "name": "stdout"
        }
      ]
    },
    {
      "cell_type": "code",
      "metadata": {
        "id": "5d6NQp1madrU"
      },
      "source": [
        "model.compile(optimizer='rmsprop', loss='mse', metrics=['mse'])"
      ],
      "execution_count": null,
      "outputs": []
    },
    {
      "cell_type": "code",
      "metadata": {
        "colab": {
          "base_uri": "https://localhost:8080/"
        },
        "id": "h2IcLpkqaj65",
        "outputId": "78860490-c457-4d69-af52-94f82e996a60"
      },
      "source": [
        "num_epochs = 10\n",
        "history = model.fit(X_train,\n",
        "                    y_train,\n",
        "                    epochs=num_epochs, \n",
        "                    validation_split=0.2,\n",
        "                    verbose=1)"
      ],
      "execution_count": null,
      "outputs": [
        {
          "output_type": "stream",
          "text": [
            "Epoch 1/10\n",
            "1238/1238 [==============================] - 3s 2ms/step - loss: 18522033881088.0000 - mse: 18522033881088.0000 - val_loss: 10361214337024.0000 - val_mse: 10361214337024.0000\n",
            "Epoch 2/10\n",
            "1238/1238 [==============================] - 2s 2ms/step - loss: 17998909800448.0000 - mse: 17998909800448.0000 - val_loss: 10074616496128.0000 - val_mse: 10074616496128.0000\n",
            "Epoch 3/10\n",
            "1238/1238 [==============================] - 2s 1ms/step - loss: 17431358603264.0000 - mse: 17431358603264.0000 - val_loss: 9759818252288.0000 - val_mse: 9759818252288.0000\n",
            "Epoch 4/10\n",
            "1238/1238 [==============================] - 2s 2ms/step - loss: 16814935375872.0000 - mse: 16814935375872.0000 - val_loss: 9420629082112.0000 - val_mse: 9420629082112.0000\n",
            "Epoch 5/10\n",
            "1238/1238 [==============================] - 2s 2ms/step - loss: 16153776750592.0000 - mse: 16153776750592.0000 - val_loss: 9057893089280.0000 - val_mse: 9057893089280.0000\n",
            "Epoch 6/10\n",
            "1238/1238 [==============================] - 2s 1ms/step - loss: 15461471223808.0000 - mse: 15461471223808.0000 - val_loss: 8675604299776.0000 - val_mse: 8675604299776.0000\n",
            "Epoch 7/10\n",
            "1238/1238 [==============================] - 2s 1ms/step - loss: 14729759162368.0000 - mse: 14729759162368.0000 - val_loss: 8276717076480.0000 - val_mse: 8276717076480.0000\n",
            "Epoch 8/10\n",
            "1238/1238 [==============================] - 2s 1ms/step - loss: 13976942411776.0000 - mse: 13976942411776.0000 - val_loss: 7861183184896.0000 - val_mse: 7861183184896.0000\n",
            "Epoch 9/10\n",
            "1238/1238 [==============================] - 2s 1ms/step - loss: 13201593860096.0000 - mse: 13201593860096.0000 - val_loss: 7434217193472.0000 - val_mse: 7434217193472.0000\n",
            "Epoch 10/10\n",
            "1238/1238 [==============================] - 2s 2ms/step - loss: 12414461411328.0000 - mse: 12414461411328.0000 - val_loss: 6997634711552.0000 - val_mse: 6997634711552.0000\n"
          ],
          "name": "stdout"
        }
      ]
    },
    {
      "cell_type": "markdown",
      "metadata": {
        "id": "RzSdg2WK1fur"
      },
      "source": [
        "Los datos obtenidos están lejos de ser buenos, por lo que probaremos otro modelo conocido."
      ]
    },
    {
      "cell_type": "markdown",
      "metadata": {
        "id": "-0wPI7Wb2RDQ"
      },
      "source": [
        "### Entrenamiento modelo Xgboost mediante fine tunning"
      ]
    },
    {
      "cell_type": "markdown",
      "metadata": {
        "id": "li2kwZuw_8Rl"
      },
      "source": [
        "Busacamos el mejor modelo a traves de la malla de hiperparámetros del modelo Xgboost. Como valores iniciales, vamos a usar un modelo entrenado sin optimización de hiperparámetros."
      ]
    },
    {
      "cell_type": "code",
      "metadata": {
        "id": "shpZG7MRCyws"
      },
      "source": [
        "model_xgb = XGBRegressor(random_state=42, n_jobs=-1)\n",
        "model_xgb.fit(X_train, y_train)"
      ],
      "execution_count": null,
      "outputs": []
    },
    {
      "cell_type": "code",
      "metadata": {
        "colab": {
          "base_uri": "https://localhost:8080/"
        },
        "id": "sUKjWFjjuQHF",
        "outputId": "7e236631-1188-4517-92c9-12e8ba4456b7"
      },
      "source": [
        "check_metrics(model_xgb)"
      ],
      "execution_count": null,
      "outputs": [
        {
          "output_type": "stream",
          "text": [
            "Training MAE 674060.853530968\n",
            "Validation MAE 683395.0130156608\n",
            "Training RMSE 1021331.8081203008\n",
            "Validation RMSE 1146065.0087358176\n",
            "Validation R^2 0.794526254058612\n",
            "Training R^2 0.8312161471626981\n",
            "\n"
          ],
          "name": "stdout"
        }
      ]
    },
    {
      "cell_type": "code",
      "metadata": {
        "id": "B8RY4kJi5SXR"
      },
      "source": [
        "# malla inicial de hiperparámetros\n",
        "params = {\n",
        "    'max_depth':model_xgb.max_depth,\n",
        "    'min_child_weight': model_xgb.min_child_weight,\n",
        "    'eta':.1,\n",
        "    'subsample': model_xgb.subsample,\n",
        "    'colsample_bytree': model_xgb.colsample_bytree,\n",
        "    'objective':'reg:squarederror',\n",
        "}\n"
      ],
      "execution_count": null,
      "outputs": []
    },
    {
      "cell_type": "code",
      "metadata": {
        "id": "zn4_4KNn0qKH"
      },
      "source": [
        "y_train = df_train_trans['price']\n",
        "X_train = df_train_trans.drop(columns=['price', 'id'])\n",
        "X_train_id = df_train_trans['id']\n",
        "y_val = df_val_trans['price']\n",
        "X_val = df_val_trans.drop(columns=['price', 'id'])\n",
        "X_val_id = df_val_trans['id']\n",
        "y_test = df_test_trans['price']\n",
        "X_test = df_test_trans.drop(columns=['price', 'id'])\n",
        "X_test_id = df_test_trans['id']"
      ],
      "execution_count": null,
      "outputs": []
    },
    {
      "cell_type": "markdown",
      "metadata": {
        "id": "eF0u50T811CT"
      },
      "source": [
        "Preparamos los datos de entrenamiento y validación."
      ]
    },
    {
      "cell_type": "code",
      "metadata": {
        "id": "JV1ykIcD-El8"
      },
      "source": [
        "dtrain = xgb.DMatrix(X_train, label=y_train, feature_names =X_train.columns.to_list())\n",
        "dval = xgb.DMatrix(X_val, label=y_val, feature_names =X_val.columns)"
      ],
      "execution_count": null,
      "outputs": []
    },
    {
      "cell_type": "markdown",
      "metadata": {
        "id": "uaF2t_is2FSz"
      },
      "source": [
        "Búsqueda de los mejores hiperparámetros."
      ]
    },
    {
      "cell_type": "code",
      "metadata": {
        "id": "d65FDkzs2sW0"
      },
      "source": [
        "gridsearch_params = [\n",
        "    (max_depth, min_child_weight)\n",
        "    for max_depth in range(3,10)\n",
        "    for min_child_weight in range(1,10)\n",
        "]"
      ],
      "execution_count": null,
      "outputs": []
    },
    {
      "cell_type": "code",
      "metadata": {
        "colab": {
          "base_uri": "https://localhost:8080/"
        },
        "id": "a2Gl-Gat24Mw",
        "outputId": "6c3e0bdc-61ad-48d1-a765-e6f5e93d707d"
      },
      "source": [
        "import warnings\n",
        "warnings.filterwarnings(\"ignore\")\n",
        "\n",
        "num_boost_round = 999\n",
        "min_rmse = float(\"Inf\")\n",
        "best_params = None\n",
        "for max_depth, min_child_weight in gridsearch_params:\n",
        "    print(\"CV with max_depth={}, min_child_weight={}\".format(\n",
        "                             max_depth,\n",
        "                             min_child_weight))\n",
        "    \n",
        "    params['max_depth'] = max_depth\n",
        "    params['min_child_weight'] = min_child_weight\n",
        "    \n",
        "    cv_results = xgb.cv(\n",
        "        params,\n",
        "        dtrain,\n",
        "        num_boost_round=num_boost_round,\n",
        "        seed=42,\n",
        "        nfold=5,\n",
        "        metrics={'rmse'},\n",
        "        early_stopping_rounds=10\n",
        "    )\n",
        "    \n",
        "    mean_rmse = cv_results['test-rmse-mean'].min()\n",
        "    boost_rounds = cv_results['test-rmse-mean'].argmin()\n",
        "    print(\"\\tRMSE {} for {} rounds\".format(mean_rmse, boost_rounds))\n",
        "    if mean_rmse < min_rmse:\n",
        "        min_rmse = mean_rmse\n",
        "        best_params = (max_depth,min_child_weight)\n",
        "print(\"Best params: {}, {}, RMSE: {}\".format(best_params[0], best_params[1], min_rmse))"
      ],
      "execution_count": null,
      "outputs": [
        {
          "output_type": "stream",
          "text": [
            "CV with max_depth=3, min_child_weight=1\n",
            "\tRMSE 1058660.95 for 331 rounds\n",
            "CV with max_depth=3, min_child_weight=2\n",
            "\tRMSE 1057965.7875 for 298 rounds\n",
            "CV with max_depth=3, min_child_weight=3\n",
            "\tRMSE 1064130.25 for 209 rounds\n",
            "CV with max_depth=3, min_child_weight=4\n",
            "\tRMSE 1074654.5875 for 129 rounds\n",
            "CV with max_depth=3, min_child_weight=5\n",
            "\tRMSE 1068384.925 for 290 rounds\n",
            "CV with max_depth=3, min_child_weight=6\n",
            "\tRMSE 1071703.9625 for 157 rounds\n",
            "CV with max_depth=3, min_child_weight=7\n",
            "\tRMSE 1072977.725 for 147 rounds\n",
            "CV with max_depth=3, min_child_weight=8\n",
            "\tRMSE 1072808.5125 for 201 rounds\n",
            "CV with max_depth=3, min_child_weight=9\n",
            "\tRMSE 1076499.35 for 107 rounds\n",
            "CV with max_depth=4, min_child_weight=1\n",
            "\tRMSE 1053910.95 for 213 rounds\n",
            "CV with max_depth=4, min_child_weight=2\n",
            "\tRMSE 1053983.725 for 218 rounds\n",
            "CV with max_depth=4, min_child_weight=3\n",
            "\tRMSE 1054232.7625 for 204 rounds\n",
            "CV with max_depth=4, min_child_weight=4\n",
            "\tRMSE 1061637.75 for 161 rounds\n",
            "CV with max_depth=4, min_child_weight=5\n",
            "\tRMSE 1068224.55 for 121 rounds\n",
            "CV with max_depth=4, min_child_weight=6\n",
            "\tRMSE 1064283.4 for 148 rounds\n",
            "CV with max_depth=4, min_child_weight=7\n",
            "\tRMSE 1067694.125 for 163 rounds\n",
            "CV with max_depth=4, min_child_weight=8\n",
            "\tRMSE 1065015.5 for 122 rounds\n",
            "CV with max_depth=4, min_child_weight=9\n",
            "\tRMSE 1066654.1 for 141 rounds\n",
            "CV with max_depth=5, min_child_weight=1\n",
            "\tRMSE 1049579.0125 for 235 rounds\n",
            "CV with max_depth=5, min_child_weight=2\n",
            "\tRMSE 1050112.625 for 203 rounds\n",
            "CV with max_depth=5, min_child_weight=3\n",
            "\tRMSE 1051791.0375 for 209 rounds\n",
            "CV with max_depth=5, min_child_weight=4\n",
            "\tRMSE 1053799.3875 for 187 rounds\n",
            "CV with max_depth=5, min_child_weight=5\n",
            "\tRMSE 1061050.625 for 119 rounds\n",
            "CV with max_depth=5, min_child_weight=6\n",
            "\tRMSE 1062092.8375 for 126 rounds\n",
            "CV with max_depth=5, min_child_weight=7\n",
            "\tRMSE 1062655.2875 for 130 rounds\n",
            "CV with max_depth=5, min_child_weight=8\n",
            "\tRMSE 1070381.6 for 82 rounds\n",
            "CV with max_depth=5, min_child_weight=9\n",
            "\tRMSE 1069313.225 for 60 rounds\n",
            "CV with max_depth=6, min_child_weight=1\n",
            "\tRMSE 1060973.8125 for 147 rounds\n",
            "CV with max_depth=6, min_child_weight=2\n",
            "\tRMSE 1045456.9625 for 221 rounds\n",
            "CV with max_depth=6, min_child_weight=3\n",
            "\tRMSE 1053832.575 for 119 rounds\n",
            "CV with max_depth=6, min_child_weight=4\n",
            "\tRMSE 1053830.975 for 191 rounds\n",
            "CV with max_depth=6, min_child_weight=5\n",
            "\tRMSE 1065033.7875 for 84 rounds\n",
            "CV with max_depth=6, min_child_weight=6\n",
            "\tRMSE 1063937.6375 for 127 rounds\n",
            "CV with max_depth=6, min_child_weight=7\n",
            "\tRMSE 1060049.55 for 140 rounds\n",
            "CV with max_depth=6, min_child_weight=8\n",
            "\tRMSE 1066175.7375 for 68 rounds\n",
            "CV with max_depth=6, min_child_weight=9\n",
            "\tRMSE 1065683.4375 for 50 rounds\n",
            "CV with max_depth=7, min_child_weight=1\n",
            "\tRMSE 1062048.025 for 116 rounds\n",
            "CV with max_depth=7, min_child_weight=2\n",
            "\tRMSE 1055064.1125 for 105 rounds\n",
            "CV with max_depth=7, min_child_weight=3\n",
            "\tRMSE 1051478.6 for 147 rounds\n",
            "CV with max_depth=7, min_child_weight=4\n",
            "\tRMSE 1059694.3625 for 82 rounds\n",
            "CV with max_depth=7, min_child_weight=5\n",
            "\tRMSE 1057264.3625 for 149 rounds\n",
            "CV with max_depth=7, min_child_weight=6\n",
            "\tRMSE 1060690.9125 for 124 rounds\n",
            "CV with max_depth=7, min_child_weight=7\n",
            "\tRMSE 1064303.9375 for 64 rounds\n",
            "CV with max_depth=7, min_child_weight=8\n",
            "\tRMSE 1062176.3375 for 63 rounds\n",
            "CV with max_depth=7, min_child_weight=9\n",
            "\tRMSE 1063592.9875 for 48 rounds\n",
            "CV with max_depth=8, min_child_weight=1\n",
            "\tRMSE 1064243.9125 for 122 rounds\n",
            "CV with max_depth=8, min_child_weight=2\n",
            "\tRMSE 1058308.425 for 112 rounds\n",
            "CV with max_depth=8, min_child_weight=3\n",
            "\tRMSE 1058663.4375 for 61 rounds\n",
            "CV with max_depth=8, min_child_weight=4\n",
            "\tRMSE 1063237.7625 for 80 rounds\n",
            "CV with max_depth=8, min_child_weight=5\n",
            "\tRMSE 1063434.475 for 88 rounds\n",
            "CV with max_depth=8, min_child_weight=6\n",
            "\tRMSE 1065329.3625 for 70 rounds\n",
            "CV with max_depth=8, min_child_weight=7\n",
            "\tRMSE 1062070.1375 for 60 rounds\n",
            "CV with max_depth=8, min_child_weight=8\n",
            "\tRMSE 1061060.925 for 63 rounds\n",
            "CV with max_depth=8, min_child_weight=9\n",
            "\tRMSE 1063831.95 for 49 rounds\n",
            "CV with max_depth=9, min_child_weight=1\n",
            "\tRMSE 1074942.1 for 54 rounds\n",
            "CV with max_depth=9, min_child_weight=2\n",
            "\tRMSE 1060434.5375 for 130 rounds\n",
            "CV with max_depth=9, min_child_weight=3\n",
            "\tRMSE 1061225.775 for 129 rounds\n",
            "CV with max_depth=9, min_child_weight=4\n",
            "\tRMSE 1065428.825 for 74 rounds\n",
            "CV with max_depth=9, min_child_weight=5\n",
            "\tRMSE 1065183.7125 for 96 rounds\n",
            "CV with max_depth=9, min_child_weight=6\n",
            "\tRMSE 1066936.8 for 77 rounds\n",
            "CV with max_depth=9, min_child_weight=7\n",
            "\tRMSE 1067278.6125 for 48 rounds\n",
            "CV with max_depth=9, min_child_weight=8\n",
            "\tRMSE 1060844.0125 for 47 rounds\n",
            "CV with max_depth=9, min_child_weight=9\n",
            "\tRMSE 1063989.2125 for 48 rounds\n",
            "Best params: 6, 2, RMSE: 1045456.9625\n"
          ],
          "name": "stdout"
        }
      ]
    },
    {
      "cell_type": "code",
      "metadata": {
        "id": "KkiZRmYAGEN6"
      },
      "source": [
        "params['max_depth'] = 6\n",
        "params['min_child_weight'] = 2"
      ],
      "execution_count": null,
      "outputs": []
    },
    {
      "cell_type": "code",
      "metadata": {
        "id": "6jbsO3bHGQf3"
      },
      "source": [
        "gridsearch_params = [\n",
        "    (subsample, colsample)\n",
        "    for subsample in [i/10. for i in range(7,11)]\n",
        "    for colsample in [i/10. for i in range(7,11)]\n",
        "]"
      ],
      "execution_count": null,
      "outputs": []
    },
    {
      "cell_type": "code",
      "metadata": {
        "colab": {
          "base_uri": "https://localhost:8080/"
        },
        "id": "QmgaktGZGsjv",
        "outputId": "c46234ca-8538-4a29-9458-8c682fa0fd5e"
      },
      "source": [
        "num_boost_round = 999\n",
        "min_rmse = float(\"Inf\")\n",
        "best_params = None\n",
        "for subsample, colsample in reversed(gridsearch_params):\n",
        "    print(\"CV with subsample={}, colsample={}\".format(\n",
        "                             subsample,\n",
        "                             colsample))\n",
        "    \n",
        "    params['subsample'] = subsample\n",
        "    params['colsample_bytree'] = colsample\n",
        "    \n",
        "    cv_results = xgb.cv(\n",
        "        params,\n",
        "        dtrain,\n",
        "        num_boost_round=num_boost_round,\n",
        "        seed=42,\n",
        "        nfold=5,\n",
        "        metrics={'rmse'},\n",
        "        early_stopping_rounds=10\n",
        "    )\n",
        "    mean_rmse = cv_results['test-rmse-mean'].min()\n",
        "    boost_rounds = cv_results['test-rmse-mean'].argmin()\n",
        "    print(\"\\tRMSE {} for {} rounds\".format(mean_rmse, boost_rounds))\n",
        "    if mean_rmse < min_rmse:\n",
        "        min_rmse = mean_rmse\n",
        "        best_params = (subsample,colsample)\n",
        "print(\"Best params: {}, {}, RMSE: {}\".format(best_params[0], best_params[1], min_rmse))"
      ],
      "execution_count": null,
      "outputs": [
        {
          "output_type": "stream",
          "text": [
            "CV with subsample=1.0, colsample=1.0\n",
            "\tRMSE 1045456.9625 for 221 rounds\n",
            "CV with subsample=1.0, colsample=0.9\n",
            "\tRMSE 1053634.6375 for 131 rounds\n",
            "CV with subsample=1.0, colsample=0.8\n",
            "\tRMSE 1045614.6375 for 179 rounds\n",
            "CV with subsample=1.0, colsample=0.7\n",
            "\tRMSE 1048589.7875 for 202 rounds\n",
            "CV with subsample=0.9, colsample=1.0\n",
            "\tRMSE 1050516.375 for 176 rounds\n",
            "CV with subsample=0.9, colsample=0.9\n",
            "\tRMSE 1049791.3125 for 135 rounds\n",
            "CV with subsample=0.9, colsample=0.8\n",
            "\tRMSE 1045124.525 for 176 rounds\n",
            "CV with subsample=0.9, colsample=0.7\n",
            "\tRMSE 1045771.8875 for 181 rounds\n",
            "CV with subsample=0.8, colsample=1.0\n",
            "\tRMSE 1057217.25 for 136 rounds\n",
            "CV with subsample=0.8, colsample=0.9\n",
            "\tRMSE 1054629.2625 for 136 rounds\n",
            "CV with subsample=0.8, colsample=0.8\n",
            "\tRMSE 1052237.775 for 137 rounds\n",
            "CV with subsample=0.8, colsample=0.7\n",
            "\tRMSE 1050214.25 for 178 rounds\n",
            "CV with subsample=0.7, colsample=1.0\n",
            "\tRMSE 1062241.275 for 64 rounds\n",
            "CV with subsample=0.7, colsample=0.9\n",
            "\tRMSE 1061855.25 for 68 rounds\n",
            "CV with subsample=0.7, colsample=0.8\n",
            "\tRMSE 1055936.375 for 139 rounds\n",
            "CV with subsample=0.7, colsample=0.7\n",
            "\tRMSE 1051911.225 for 190 rounds\n",
            "Best params: 0.9, 0.8, RMSE: 1045124.525\n"
          ],
          "name": "stdout"
        }
      ]
    },
    {
      "cell_type": "code",
      "metadata": {
        "id": "JC9D6yzeIO8S"
      },
      "source": [
        "params['subsample'] = 0.9\n",
        "params['colsample_bytree'] = 0.8"
      ],
      "execution_count": null,
      "outputs": []
    },
    {
      "cell_type": "code",
      "metadata": {
        "colab": {
          "base_uri": "https://localhost:8080/"
        },
        "id": "VtFIkMNrIVcL",
        "outputId": "e07a902c-0944-47a0-b137-e6db40f29e75"
      },
      "source": [
        "num_boost_round = 999\n",
        "min_rmse = float(\"Inf\")\n",
        "best_params = None\n",
        "for eta in [.3, .2, .1, .05, .01, .005, 0.001]:\n",
        "    print(\"CV with eta={}\".format(eta))\n",
        "    \n",
        "    params['eta'] = eta\n",
        "    \n",
        "    cv_results = xgb.cv(\n",
        "        params,\n",
        "        dtrain,\n",
        "        num_boost_round=num_boost_round,\n",
        "        seed=42,\n",
        "        nfold=5,\n",
        "        metrics={'rmse'},\n",
        "        early_stopping_rounds=10\n",
        "    )\n",
        "    \n",
        "    mean_rmse = cv_results['test-rmse-mean'].min()\n",
        "    boost_rounds = cv_results['test-rmse-mean'].argmin()\n",
        "    print(\"\\tRMSE {} for {} rounds\".format(mean_rmse, boost_rounds))\n",
        "    if mean_rmse < min_rmse:\n",
        "        min_rmse = mean_rmse\n",
        "        best_params = eta\n",
        "print(\"Best params: {}, RMSE: {}\".format(eta, min_rmse))"
      ],
      "execution_count": null,
      "outputs": [
        {
          "output_type": "stream",
          "text": [
            "CV with eta=0.3\n",
            "\tRMSE 1064705.9875 for 53 rounds\n",
            "CV with eta=0.2\n",
            "\tRMSE 1058209.15 for 76 rounds\n",
            "CV with eta=0.1\n",
            "\tRMSE 1045124.525 for 176 rounds\n",
            "CV with eta=0.05\n",
            "\tRMSE 1045540.2375 for 332 rounds\n",
            "CV with eta=0.01\n",
            "\tRMSE 1045027.0875 for 998 rounds\n",
            "CV with eta=0.005\n",
            "\tRMSE 1056653.4375 for 998 rounds\n",
            "CV with eta=0.001\n",
            "\tRMSE 1962588.85 for 998 rounds\n",
            "Best params: 0.001, RMSE: 1045027.0875\n"
          ],
          "name": "stdout"
        }
      ]
    },
    {
      "cell_type": "code",
      "metadata": {
        "id": "VviTpyPMJ7dl"
      },
      "source": [
        "params['eta'] = 0.01"
      ],
      "execution_count": null,
      "outputs": []
    },
    {
      "cell_type": "markdown",
      "metadata": {
        "id": "RLZCHPAy7Jbp"
      },
      "source": [
        "Entrenamiento del modelo final."
      ]
    },
    {
      "cell_type": "code",
      "metadata": {
        "id": "iZInfgvrPmPH"
      },
      "source": [
        "num_boost_round = 5000\n",
        "\n",
        "xgb_model_ft = xgb.train(\n",
        "    params,\n",
        "    dtrain,\n",
        "    num_boost_round=num_boost_round,\n",
        "    evals=[(dval, \"Test\")],\n",
        "    early_stopping_rounds=30\n",
        ")"
      ],
      "execution_count": null,
      "outputs": []
    },
    {
      "cell_type": "code",
      "metadata": {
        "colab": {
          "base_uri": "https://localhost:8080/",
          "height": 343
        },
        "id": "TMMDHhqjwyhB",
        "outputId": "f891de61-41b7-4234-9ac4-ae7bd409e66d"
      },
      "source": [
        "xgb.plot_importance(xgb_model_ft)"
      ],
      "execution_count": null,
      "outputs": [
        {
          "output_type": "execute_result",
          "data": {
            "text/plain": [
              "<matplotlib.axes._subplots.AxesSubplot at 0x7f77fba75750>"
            ]
          },
          "metadata": {
            "tags": []
          },
          "execution_count": 134
        },
        {
          "output_type": "display_data",
          "data": {
            "image/png": "[encoded data removed]",
            "text/plain": [
              "<Figure size 432x288 with 1 Axes>"
            ]
          },
          "metadata": {
            "tags": []
          }
        }
      ]
    },
    {
      "cell_type": "code",
      "metadata": {
        "id": "iY42dN62R_KO"
      },
      "source": [
        "def print_result(model, data_to_pred, y):\n",
        "  print('MAE', mean_absolute_error(y, model.predict(data_to_pred)))\n",
        "  print('RMSE',   sqrt(mean_squared_error(y, model.predict(data_to_pred))))\n",
        "  results = pd.DataFrame()\n",
        "  results['pred'] = model.predict(data_to_pred)\n",
        "  results['y'] = y\n",
        "  reg_model = LinearRegression()\n",
        "  X_pred = np.array(results['pred']).reshape(-1, 1)\n",
        "  y = np.array(results['y']).reshape(-1, 1)\n",
        "  reg_model.fit(X_pred, y)\n",
        "  r_sq = reg_model.score(X_pred, y)\n",
        "  print('coefficient of determination:', r_sq)\n",
        "  plt.scatter(X_pred, y)\n",
        "  plt.show()"
      ],
      "execution_count": null,
      "outputs": []
    },
    {
      "cell_type": "code",
      "metadata": {
        "colab": {
          "base_uri": "https://localhost:8080/",
          "height": 368
        },
        "id": "uyEdLyKPb9lo",
        "outputId": "12baf724-52db-43be-aebd-b4c05086186d"
      },
      "source": [
        "print_result(xgb_model_ft, dtrain, y_train)"
      ],
      "execution_count": null,
      "outputs": [
        {
          "output_type": "stream",
          "text": [
            "MAE 587101.3880366627\n",
            "RMSE 864715.5486679076\n",
            "coefficient of determination: 0.8793380865820799\n"
          ],
          "name": "stdout"
        },
        {
          "output_type": "display_data",
          "data": {
            "image/png": "[encoded data removed]",
            "text/plain": [
              "<Figure size 432x288 with 1 Axes>"
            ]
          },
          "metadata": {
            "tags": []
          }
        }
      ]
    },
    {
      "cell_type": "code",
      "metadata": {
        "colab": {
          "base_uri": "https://localhost:8080/",
          "height": 368
        },
        "id": "eSQbM5hCcP8Z",
        "outputId": "bee5cf52-ff9a-4fd5-a83b-fab09c6797f1"
      },
      "source": [
        "print_result(xgb_model_ft, dval, y_val)"
      ],
      "execution_count": null,
      "outputs": [
        {
          "output_type": "stream",
          "text": [
            "MAE 639628.2253374077\n",
            "RMSE 1126221.7392867503\n",
            "coefficient of determination: 0.8023235508548707\n"
          ],
          "name": "stdout"
        },
        {
          "output_type": "display_data",
          "data": {
            "image/png": "[encoded data removed]",
            "text/plain": [
              "<Figure size 432x288 with 1 Axes>"
            ]
          },
          "metadata": {
            "tags": []
          }
        }
      ]
    },
    {
      "cell_type": "markdown",
      "metadata": {
        "id": "5gUmuhcs2sQc"
      },
      "source": [
        "Parece que las predicciones cometen un error mayor en valores muy altos o bajos, por lo que sería interesante, en una segunda iteración, poner especial interés en estas casuísticas, ya que podría haber un patrón distinto al resto de casos."
      ]
    },
    {
      "cell_type": "markdown",
      "metadata": {
        "id": "NAhqmAVH3M84"
      },
      "source": [
        "Finalmente, guardamos las predicciones para los datos de test."
      ]
    },
    {
      "cell_type": "code",
      "metadata": {
        "id": "e_ekX3W5V1kz"
      },
      "source": [
        "dtest = xgb.DMatrix(X_test, label=y_test, feature_names = X_test.columns)"
      ],
      "execution_count": null,
      "outputs": []
    },
    {
      "cell_type": "code",
      "metadata": {
        "id": "O72S1dYidfM8"
      },
      "source": [
        "final_pred = pd.DataFrame()"
      ],
      "execution_count": null,
      "outputs": []
    },
    {
      "cell_type": "code",
      "metadata": {
        "id": "B6rDDbaVV_4W"
      },
      "source": [
        "CAMBIO_RUBLOS_EUROS = 90.06\n",
        "final_pred['id'] = X_test_id\n",
        "final_pred['pred_euros'] = pd.DataFrame(xgb_model_ft.predict(dtest)) / CAMBIO_RUBLOS_EUROS"
      ],
      "execution_count": null,
      "outputs": []
    },
    {
      "cell_type": "code",
      "metadata": {
        "id": "YV9shT4n6tP2"
      },
      "source": [
        "final_pred.to_csv(r'/content/gdrive/MyDrive/DatosMercadoRuso/predicciones.csv', index = False)"
      ],
      "execution_count": null,
      "outputs": []
    },
    {
      "cell_type": "markdown",
      "metadata": {
        "id": "eP7mzzlF3jp3"
      },
      "source": [
        "## Interpretación y conclusiones"
      ]
    },
    {
      "cell_type": "markdown",
      "metadata": {
        "id": "2HO7DqiY3nXN"
      },
      "source": [
        "Se ha conseguido explicar alrededor de un 80% de la varianza total de los precios. Los fatores más importantes son:\n",
        "\n",
        "  - Área de la vivienda\n",
        "  - Número de días en oferta (relacionado con la demanda)\n",
        "  - Precio medio de la zona en la que se ubica\n",
        "  - Región en la que se ubica la vivienda\n",
        "  - Altura\n",
        "  - Tipo de piso (nuevo o de segunda mano)\n",
        "\n",
        "Faltan indicadores importantes en relación con la demanda de pisos, como el número de ofertas o el interés mostrado (número de visitas al inmueble)."
      ]
    }
  ]
}