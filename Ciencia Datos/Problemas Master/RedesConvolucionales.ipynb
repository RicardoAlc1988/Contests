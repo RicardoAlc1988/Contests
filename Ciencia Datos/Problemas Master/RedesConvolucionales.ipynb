{
  "nbformat": 4,
  "nbformat_minor": 0,
  "metadata": {
    "colab": {
      "name": "RedesConvolucionales.ipynb",
      "provenance": [],
      "collapsed_sections": []
    },
    "kernelspec": {
      "display_name": "Python 3",
      "name": "python3"
    },
    "language_info": {
      "name": "python"
    }
  },
  "cells": [
    {
      "cell_type": "markdown",
      "metadata": {
        "id": "bz0pjoxTBTH4"
      },
      "source": [
        "# **TÉCNICAS OPTIMIZACIÓN REDES CONVOLUCIONALES**\n"
      ]
    },
    {
      "cell_type": "code",
      "metadata": {
        "id": "lcqUL3jzDykC"
      },
      "source": [
        "#Librerías necesarias\n",
        "from google.colab import drive \n",
        "from keras import layers\n",
        "from keras import models\n",
        "from keras import optimizers\n",
        "from keras.preprocessing.image import ImageDataGenerator\n",
        "import matplotlib.pyplot as plt\n",
        "import numpy as np\n",
        "import os\n",
        "import pandas as pd\n",
        "import seaborn as sns\n",
        "from sklearn.metrics import confusion_matrix\n",
        "import tensorflow as tf"
      ],
      "execution_count": null,
      "outputs": []
    },
    {
      "cell_type": "code",
      "metadata": {
        "colab": {
          "base_uri": "https://localhost:8080/"
        },
        "id": "ARs9590eJO5n",
        "outputId": "a94b1055-495e-4e90-e9cb-3c41ded8c2c5"
      },
      "source": [
        "#Para acceder a los ficheros de drive\n",
        "drive.mount('/content/gdrive')\n",
        "#Listamos los ficheros existentes en el directorio raiz\n",
        "!ls \"/content/gdrive/MyDrive\""
      ],
      "execution_count": null,
      "outputs": [
        {
          "output_type": "stream",
          "text": [
            "Mounted at /content/gdrive\n",
            "'Colab Notebooks'   mask_data_aug_regu_opt.h5   primera_evaluacion\n",
            " DatosMercadoRuso   ModelosMercadoRuso\n",
            " dest_folder\t    ModelosSOM\n"
          ],
          "name": "stdout"
        }
      ]
    },
    {
      "cell_type": "markdown",
      "metadata": {
        "id": "8k_BGqACOF_X"
      },
      "source": [
        "Carga de los datos de entrenamiento, validación y test."
      ]
    },
    {
      "cell_type": "code",
      "metadata": {
        "colab": {
          "base_uri": "https://localhost:8080/"
        },
        "id": "WnEVKonvOfBv",
        "outputId": "18dbd6c7-487d-4320-a0f9-2fae8fa64f7b"
      },
      "source": [
        "base_dir='/content/gdrive/MyDrive/dest_folder'\n",
        "print(base_dir)\n",
        "train_dir = os.path.join(base_dir, 'train')\n",
        "print(train_dir)\n",
        "val_dir = os.path.join(base_dir, 'val')\n",
        "print(val_dir)\n",
        "test_dir = os.path.join(base_dir, 'test')\n",
        "print(test_dir)\n",
        "# Entrenamiento\n",
        "train_withmask_dir = os.path.join(train_dir, 'with_mask')\n",
        "train_withoutmask_dir = os.path.join(train_dir, 'without_mask')\n",
        "# Validacion\n",
        "val_withmask_dir = os.path.join(val_dir, 'with_mask')\n",
        "val_withoutmask_dir = os.path.join(val_dir, 'without_mask')\n",
        "# Test\n",
        "test_withmask_dir = os.path.join(test_dir, 'with_mask')\n",
        "test_withoutmask_dir = os.path.join(test_dir, 'without_mask')"
      ],
      "execution_count": null,
      "outputs": [
        {
          "output_type": "stream",
          "text": [
            "/content/gdrive/MyDrive/dest_folder\n",
            "/content/gdrive/MyDrive/dest_folder/train\n",
            "/content/gdrive/MyDrive/dest_folder/val\n",
            "/content/gdrive/MyDrive/dest_folder/test\n"
          ],
          "name": "stdout"
        }
      ]
    },
    {
      "cell_type": "markdown",
      "metadata": {
        "id": "zNop4xY2XqTC"
      },
      "source": [
        "Se hace una rápida comprobación de que todo está cargado correctamente. Se han eliminado duplicados de los datos de test manualmente."
      ]
    },
    {
      "cell_type": "code",
      "metadata": {
        "colab": {
          "base_uri": "https://localhost:8080/"
        },
        "id": "RhiiGHtoRPZw",
        "outputId": "c044303b-b7aa-4812-9283-e5ddef268895"
      },
      "source": [
        "print('Total de entrenamiento con máscara:', len(os.listdir(train_withmask_dir)))\n",
        "print('Total de entrenamiento sin máscara:', len(os.listdir(train_withoutmask_dir)))\n",
        "print('Total de validación con máscara:', len(os.listdir(val_withmask_dir)))\n",
        "print('Total de validación sin máscara:', len(os.listdir(val_withoutmask_dir)))\n",
        "print('Total de test con máscara:', len(os.listdir(test_withmask_dir)))\n",
        "print('Total de test sin máscara:', len(os.listdir(test_withoutmask_dir)))"
      ],
      "execution_count": null,
      "outputs": [
        {
          "output_type": "stream",
          "text": [
            "Total de entrenamiento con máscara: 658\n",
            "Total de entrenamiento sin máscara: 657\n",
            "Total de validación con máscara: 71\n",
            "Total de validación sin máscara: 71\n",
            "Total de test con máscara: 97\n",
            "Total de test sin máscara: 97\n"
          ],
          "name": "stdout"
        }
      ]
    },
    {
      "cell_type": "markdown",
      "metadata": {
        "id": "dop1I23BD85g"
      },
      "source": [
        "## AUMENTO DE LA MUESTA Y REGULARIZACIÓN DROPOUT"
      ]
    },
    {
      "cell_type": "markdown",
      "metadata": {
        "id": "yNWSYPP3cszc"
      },
      "source": [
        "La primera técnica de optimización consiste en aumentar la muestra mediante la aplicación de transformaciones sobre los datos de enrenamiento. En este caso, se aplican de manera aleatoria las siguientes transformaciones:\n",
        "\n",
        "  - Traslaciones\n",
        "  - Homotecias\n",
        "  - Simetrías horizontales (las verticales no tienen sentido para imágenes de caras)\n",
        "\n",
        "\n",
        "  "
      ]
    },
    {
      "cell_type": "markdown",
      "metadata": {
        "id": "--aRBxl1xdxI"
      },
      "source": [
        "Antes de poder entrenar el modelo, es necesario convertir las imágenes en formato JPEG en tensores. Siguiendo a Chollet, los pasos a seguir son los siguiente:\n",
        "\n",
        "  - Decodificar las imágenes en formato JPEG en un grid RGB\n",
        "  - Convertir el grid anterior en tensores\n",
        "  - Normalizar los datos mediante una homotecia que transforme el intervalo [0,255] al intervalo [0,1]\n",
        "  \n",
        "Todo esto se puede hacer de manera sencilla en tensorflow, con las siguientes instrucciones:\n"
      ]
    },
    {
      "cell_type": "code",
      "metadata": {
        "colab": {
          "base_uri": "https://localhost:8080/"
        },
        "id": "TCtzJD-QXn4b",
        "outputId": "14c3636b-c06a-4849-bd98-1d42eae8ac2c"
      },
      "source": [
        "# semilla para reproducir los resultados\n",
        "seed=339\n",
        "np.random.seed(seed)\n",
        "tf.random.set_seed(seed)\n",
        "\n",
        "train_datagen = ImageDataGenerator(rescale=1./255,\n",
        "                                   rotation_range=45,\n",
        "                                   width_shift_range=0.2,\n",
        "                                   height_shift_range=0.2,\n",
        "                                   shear_range=0.15,\n",
        "                                   zoom_range=0.1,\n",
        "                                   horizontal_flip=True\n",
        "                                   )\n",
        "val_datagen = ImageDataGenerator(rescale=1./255)\n",
        "test_datagen = ImageDataGenerator(rescale=1./255)\n",
        "\n",
        "batch_size = 32\n",
        "alto, ancho = 150, 150\n",
        "canal = 3\n",
        "\n",
        "train_generator = train_datagen.flow_from_directory(\n",
        "train_dir,\n",
        "target_size=(alto, ancho),\n",
        "batch_size=batch_size,\n",
        "class_mode='binary')\n",
        "\n",
        "validation_generator = val_datagen.flow_from_directory(\n",
        "val_dir,\n",
        "target_size=(alto, ancho),\n",
        "batch_size=batch_size,\n",
        "class_mode='binary')\n",
        "\n",
        "\n",
        "\n",
        "test_generator = test_datagen.flow_from_directory(\n",
        "test_dir,\n",
        "target_size=(alto, ancho),\n",
        "batch_size=batch_size,\n",
        "class_mode='binary')"
      ],
      "execution_count": null,
      "outputs": [
        {
          "output_type": "stream",
          "text": [
            "Found 1315 images belonging to 2 classes.\n",
            "Found 142 images belonging to 2 classes.\n",
            "Found 194 images belonging to 2 classes.\n"
          ],
          "name": "stdout"
        }
      ]
    },
    {
      "cell_type": "markdown",
      "metadata": {
        "id": "9tDVI1SQbp7D"
      },
      "source": [
        "Recorremos los tensores para ver su estructura y que la carga ha ido correctamente:"
      ]
    },
    {
      "cell_type": "code",
      "metadata": {
        "colab": {
          "base_uri": "https://localhost:8080/"
        },
        "id": "l1ohhoj9byFe",
        "outputId": "d6bcf163-73e1-4e0e-9a31-c41f9d0030d0"
      },
      "source": [
        "for data_batch, labels_batch in train_generator:\n",
        "    print('data batch shape:', data_batch.shape)\n",
        "    print('labels batch shape:', labels_batch.shape)\n",
        "    break"
      ],
      "execution_count": null,
      "outputs": [
        {
          "output_type": "stream",
          "text": [
            "data batch shape: (32, 150, 150, 3)\n",
            "labels batch shape: (32,)\n"
          ],
          "name": "stdout"
        }
      ]
    },
    {
      "cell_type": "markdown",
      "metadata": {
        "id": "ZQ9KDaVJcPlf"
      },
      "source": [
        " Red neuronal con los datos aumentados."
      ]
    },
    {
      "cell_type": "code",
      "metadata": {
        "id": "IZ-FyDHidXF3"
      },
      "source": [
        "# Estructura lineal\n",
        "cnn_regu_dropout = tf.keras.Sequential()\n",
        "# Primera capa de  convolución\n",
        "cnn_regu_dropout.add(tf.keras.layers.Conv2D(16, \n",
        "                            (3,3), \n",
        "                            activation='relu', input_shape=(alto, ancho, canal)))\n",
        "cnn_regu_dropout.add(tf.keras.layers.MaxPooling2D((2, 2)))\n",
        "\n",
        "# Segunda capa de  convolución\n",
        "cnn_regu_dropout.add(tf.keras.layers.Conv2D(32, \n",
        "                            (3,3), \n",
        "                            activation='relu', input_shape=(alto, ancho, canal)))\n",
        "cnn_regu_dropout.add(tf.keras.layers.MaxPooling2D((2, 2)))\n",
        "cnn_regu_dropout.add(tf.keras.layers.Dropout(0.25))\n",
        "\n",
        "# Tercera capa de  convolución\n",
        "cnn_regu_dropout.add(tf.keras.layers.Conv2D(64, \n",
        "                            (3,3), \n",
        "                            activation='relu', input_shape=(alto, ancho, canal)))\n",
        "cnn_regu_dropout.add(tf.keras.layers.MaxPooling2D((2, 2)))\n",
        "cnn_regu_dropout.add(tf.keras.layers.Dropout(0.25))\n",
        "\n",
        "# Cuarta capa de  convolución\n",
        "cnn_regu_dropout.add(tf.keras.layers.Conv2D(128, \n",
        "                            (3,3), \n",
        "                            activation='relu', input_shape=(alto, ancho, canal)))\n",
        "cnn_regu_dropout.add(tf.keras.layers.MaxPooling2D((2, 2)))\n",
        "\n",
        "\n",
        "cnn_regu_dropout.add(tf.keras.layers.Flatten())\n",
        "cnn_regu_dropout.add(layers.Dense(256, activation='relu'))\n",
        "cnn_regu_dropout.add(tf.keras.layers.Dense(1, activation='sigmoid'))"
      ],
      "execution_count": null,
      "outputs": []
    },
    {
      "cell_type": "markdown",
      "metadata": {
        "id": "r2WWKGd9dmGp"
      },
      "source": [
        "Ésta es la estructura de la red neuronal, con cuatro capas de convolución-pooling y dos capas de dropout."
      ]
    },
    {
      "cell_type": "code",
      "metadata": {
        "id": "15sd9ofPfPPG",
        "colab": {
          "base_uri": "https://localhost:8080/"
        },
        "outputId": "9ecf82db-d3f8-4a53-8ca2-62f43c1e2fa5"
      },
      "source": [
        "cnn_regu_dropout.summary()"
      ],
      "execution_count": null,
      "outputs": [
        {
          "output_type": "stream",
          "text": [
            "Model: \"sequential_1\"\n",
            "_________________________________________________________________\n",
            "Layer (type)                 Output Shape              Param #   \n",
            "=================================================================\n",
            "conv2d_4 (Conv2D)            (None, 148, 148, 16)      448       \n",
            "_________________________________________________________________\n",
            "max_pooling2d_4 (MaxPooling2 (None, 74, 74, 16)        0         \n",
            "_________________________________________________________________\n",
            "conv2d_5 (Conv2D)            (None, 72, 72, 32)        4640      \n",
            "_________________________________________________________________\n",
            "max_pooling2d_5 (MaxPooling2 (None, 36, 36, 32)        0         \n",
            "_________________________________________________________________\n",
            "dropout_2 (Dropout)          (None, 36, 36, 32)        0         \n",
            "_________________________________________________________________\n",
            "conv2d_6 (Conv2D)            (None, 34, 34, 64)        18496     \n",
            "_________________________________________________________________\n",
            "max_pooling2d_6 (MaxPooling2 (None, 17, 17, 64)        0         \n",
            "_________________________________________________________________\n",
            "dropout_3 (Dropout)          (None, 17, 17, 64)        0         \n",
            "_________________________________________________________________\n",
            "conv2d_7 (Conv2D)            (None, 15, 15, 128)       73856     \n",
            "_________________________________________________________________\n",
            "max_pooling2d_7 (MaxPooling2 (None, 7, 7, 128)         0         \n",
            "_________________________________________________________________\n",
            "flatten_1 (Flatten)          (None, 6272)              0         \n",
            "_________________________________________________________________\n",
            "module_wrapper_1 (ModuleWrap (None, 256)               1605888   \n",
            "_________________________________________________________________\n",
            "dense_1 (Dense)              (None, 1)                 257       \n",
            "=================================================================\n",
            "Total params: 1,703,585\n",
            "Trainable params: 1,703,585\n",
            "Non-trainable params: 0\n",
            "_________________________________________________________________\n"
          ],
          "name": "stdout"
        }
      ]
    },
    {
      "cell_type": "markdown",
      "metadata": {
        "id": "i03Xc5Hed7qz"
      },
      "source": [
        "Usamos una métrica para un problema de clasificación de dos clases y el gradiente descendiente con momentum."
      ]
    },
    {
      "cell_type": "code",
      "metadata": {
        "id": "u2YN-CnzrFU2"
      },
      "source": [
        "cnn_regu_dropout.compile(loss='binary_crossentropy',\n",
        "optimizer='rmsprop',\n",
        "metrics=['accuracy'])"
      ],
      "execution_count": null,
      "outputs": []
    },
    {
      "cell_type": "code",
      "metadata": {
        "id": "ZwUywnkLeRh_"
      },
      "source": [
        "Entrenamos el modelo con unas pocas épocas para evitar el sobreajuste."
      ],
      "execution_count": null,
      "outputs": []
    },
    {
      "cell_type": "code",
      "metadata": {
        "colab": {
          "base_uri": "https://localhost:8080/"
        },
        "id": "MonpgUFMrzeN",
        "outputId": "31977390-ddd6-4cd9-cc29-8e8d54fd5c3a"
      },
      "source": [
        "epocas = 10\n",
        "\n",
        "steps_per_epoch = train_generator.n // batch_size \n",
        "validation_steps = validation_generator.n // batch_size\n",
        "\n",
        "history = cnn_regu_dropout.fit(train_generator,\n",
        "                               steps_per_epoch=steps_per_epoch,\n",
        "                               epochs=epocas,\n",
        "                               validation_data=validation_generator,\n",
        "                               validation_steps=validation_steps)"
      ],
      "execution_count": null,
      "outputs": [
        {
          "output_type": "stream",
          "text": [
            "Epoch 1/10\n",
            "41/41 [==============================] - 255s 6s/step - loss: 0.6810 - accuracy: 0.6048 - val_loss: 0.5431 - val_accuracy: 0.8828\n",
            "Epoch 2/10\n",
            "41/41 [==============================] - 13s 319ms/step - loss: 0.5625 - accuracy: 0.7537 - val_loss: 0.4844 - val_accuracy: 0.9375\n",
            "Epoch 3/10\n",
            "41/41 [==============================] - 13s 321ms/step - loss: 0.3942 - accuracy: 0.8605 - val_loss: 0.1319 - val_accuracy: 0.9766\n",
            "Epoch 4/10\n",
            "41/41 [==============================] - 13s 314ms/step - loss: 0.3478 - accuracy: 0.8659 - val_loss: 0.1257 - val_accuracy: 0.9688\n",
            "Epoch 5/10\n",
            "41/41 [==============================] - 13s 320ms/step - loss: 0.2938 - accuracy: 0.8995 - val_loss: 0.1608 - val_accuracy: 0.9531\n",
            "Epoch 6/10\n",
            "41/41 [==============================] - 13s 319ms/step - loss: 0.2507 - accuracy: 0.9127 - val_loss: 0.4108 - val_accuracy: 0.8828\n",
            "Epoch 7/10\n",
            "41/41 [==============================] - 13s 321ms/step - loss: 0.2460 - accuracy: 0.9275 - val_loss: 0.0314 - val_accuracy: 0.9922\n",
            "Epoch 8/10\n",
            "41/41 [==============================] - 13s 321ms/step - loss: 0.1606 - accuracy: 0.9415 - val_loss: 0.0458 - val_accuracy: 0.9922\n",
            "Epoch 9/10\n",
            "41/41 [==============================] - 13s 323ms/step - loss: 0.2286 - accuracy: 0.9057 - val_loss: 0.1123 - val_accuracy: 0.9531\n",
            "Epoch 10/10\n",
            "41/41 [==============================] - 13s 325ms/step - loss: 0.2052 - accuracy: 0.9390 - val_loss: 0.0299 - val_accuracy: 0.9922\n"
          ],
          "name": "stdout"
        }
      ]
    },
    {
      "cell_type": "markdown",
      "metadata": {
        "id": "n8hG7JtJtzIU"
      },
      "source": [
        "Investigamos si existe sobreajuste mediante un análisis gráfico."
      ]
    },
    {
      "cell_type": "code",
      "metadata": {
        "colab": {
          "base_uri": "https://localhost:8080/",
          "height": 545
        },
        "id": "DH1sq2lkt_-b",
        "outputId": "0b926ce3-ab2b-4882-ae1c-73540c1101c0"
      },
      "source": [
        "# construcción de un data.frame\n",
        "accuracy = history.history['accuracy']\n",
        "val_accuracy = history.history['val_accuracy']\n",
        "loss = history.history['loss']\n",
        "val_loss = history.history['val_loss']\n",
        "epochs = range(1, len(accuracy) + 1)\n",
        "plt.plot(epochs, accuracy, 'bo', label='Training accuracy')\n",
        "plt.plot(epochs, val_accuracy, 'b', label='Validation accuracy')\n",
        "plt.title('Training and validation accuracy')\n",
        "plt.legend()\n",
        "plt.figure()\n",
        "plt.plot(epochs, loss, 'bo', label='Training loss')\n",
        "plt.plot(epochs, val_loss, 'b', label='Validation loss')\n",
        "plt.title('Training and validation loss')\n",
        "plt.legend()\n",
        "plt.show()"
      ],
      "execution_count": null,
      "outputs": [
        {
          "output_type": "display_data",
          "data": {
            "image/png": "[encoded data removed]",
            "text/plain": [
              "<Figure size 432x288 with 1 Axes>"
            ]
          },
          "metadata": {
            "tags": [],
            "needs_background": "light"
          }
        },
        {
          "output_type": "display_data",
          "data": {
            "image/png": "[encoded data removed]",
            "text/plain": [
              "<Figure size 432x288 with 1 Axes>"
            ]
          },
          "metadata": {
            "tags": [],
            "needs_background": "light"
          }
        }
      ]
    },
    {
      "cell_type": "markdown",
      "metadata": {
        "id": "17fjiYVxgyd5"
      },
      "source": [
        "No parece haber sobreajuste con tan pocas épocas, al tiempo que se consigue un buen ajuste. Comprobamos esta última afirmación probando sobre los datos de test."
      ]
    },
    {
      "cell_type": "code",
      "metadata": {
        "colab": {
          "base_uri": "https://localhost:8080/"
        },
        "id": "sk8L5B2DWnj6",
        "outputId": "3cb73a53-a233-47e5-86d2-e760a5065fe5"
      },
      "source": [
        "#cnn_regu_dropout.save('/content/gdrive/MyDrive/ModelosConvolucional/cnn_regu_dropout')"
      ],
      "execution_count": null,
      "outputs": [
        {
          "output_type": "stream",
          "text": [
            "WARNING:absl:Found untraced functions such as dense_1_layer_call_fn, dense_1_layer_call_and_return_conditional_losses, dense_1_layer_call_fn, dense_1_layer_call_and_return_conditional_losses, dense_1_layer_call_and_return_conditional_losses while saving (showing 5 of 5). These functions will not be directly callable after loading.\n"
          ],
          "name": "stderr"
        },
        {
          "output_type": "stream",
          "text": [
            "INFO:tensorflow:Assets written to: /content/gdrive/MyDrive/ModelosConvolucional/cnn_regu_dropout/assets\n"
          ],
          "name": "stdout"
        },
        {
          "output_type": "stream",
          "text": [
            "INFO:tensorflow:Assets written to: /content/gdrive/MyDrive/ModelosConvolucional/cnn_regu_dropout/assets\n"
          ],
          "name": "stderr"
        }
      ]
    },
    {
      "cell_type": "code",
      "metadata": {
        "id": "A0m6jUh-W_sZ",
        "colab": {
          "base_uri": "https://localhost:8080/"
        },
        "outputId": "e15b2162-b0e6-4c60-bd7f-dad559d04bfe"
      },
      "source": [
        "#new_model = tf.keras.models.load_model('/content/gdrive/MyDrive/ModelosConvolucional/cnn_regu_dropout')"
      ],
      "execution_count": null,
      "outputs": [
        {
          "output_type": "execute_result",
          "data": {
            "text/plain": [
              "[]"
            ]
          },
          "metadata": {
            "tags": []
          },
          "execution_count": 22
        }
      ]
    },
    {
      "cell_type": "markdown",
      "metadata": {
        "id": "oyxewQrChx9d"
      },
      "source": [
        "Matriz de confusión sobre los datos de validación."
      ]
    },
    {
      "cell_type": "code",
      "metadata": {
        "colab": {
          "base_uri": "https://localhost:8080/",
          "height": 303
        },
        "id": "ePwEgRAnvZW_",
        "outputId": "4fdb78d8-c268-4bc9-c9d5-7da984512fc0"
      },
      "source": [
        "validation_generator.reset()\n",
        "\n",
        "# Evaluación del modelo en la muestra de Validation -> muestra total\n",
        "scores = cnn_regu_dropout.evaluate(validation_generator)\n",
        "print(\"%s%s: %.2f%%\" % (\"Evaluación \", cnn_regu_dropout.metrics_names[1], scores[1]*100))\n",
        "\n",
        "# model_tf_hub.metrics_names  -> [0]: loss [1]: accuracy\n",
        "\n",
        "# predicciones de las instancias\n",
        "predictions_proba = cnn_regu_dropout.predict(validation_generator)\n",
        "predictions_class = np.where(predictions_proba > 0.5, 1, 0)\n",
        "\n",
        "# matriz de confusión\n",
        "sns.heatmap(confusion_matrix(validation_generator.labels, predictions_class), cmap=\"RdYlGn\", linewidths=.5, \n",
        "            annot = True,  fmt='.0f', cbar=True)\n",
        "\n",
        "plt.show()"
      ],
      "execution_count": null,
      "outputs": [
        {
          "output_type": "stream",
          "text": [
            "5/5 [==============================] - 1s 100ms/step - loss: 0.0283 - accuracy: 0.9930\n",
            "Evaluación accuracy: 99.30%\n"
          ],
          "name": "stdout"
        },
        {
          "output_type": "display_data",
          "data": {
            "image/png": "[encoded data removed]",
            "text/plain": [
              "<Figure size 432x288 with 2 Axes>"
            ]
          },
          "metadata": {
            "tags": [],
            "needs_background": "light"
          }
        }
      ]
    },
    {
      "cell_type": "markdown",
      "metadata": {
        "id": "cng5z7VctuEQ"
      },
      "source": [
        "Matriz de confusión sobre los datos de test."
      ]
    },
    {
      "cell_type": "code",
      "metadata": {
        "colab": {
          "base_uri": "https://localhost:8080/",
          "height": 299
        },
        "id": "5bJdIS32x8cg",
        "outputId": "3d229fb7-0ec2-4255-ee10-9c0e853e6a4b"
      },
      "source": [
        "\n",
        "\n",
        "# Evaluación del modelo en la muestra de Validation -> muestra total\n",
        "scores = cnn_regu_dropout.evaluate(test_generator)\n",
        "scores\n",
        "print(\"%s%s: %.2f%%\" % (\"Evaluación \", cnn_regu_dropout.metrics_names[1], scores[1]*100))\n",
        "\n",
        "# model_tf_hub.metrics_names  -> [0]: loss [1]: accuracy\n",
        "\n",
        "# predicciones de las instancias\n",
        "predictions_proba = cnn_regu_dropout.predict(test_generator)\n",
        "predictions_class = np.where(predictions_proba >0.5, 1, 0)\n",
        "\n",
        "#matriz de confusión\n",
        "sns.heatmap(confusion_matrix(test_generator.labels, predictions_class), cmap=\"RdYlGn\", linewidths=.5, \n",
        "             annot = True,  fmt='.0f', cbar=True)\n",
        "\n",
        "plt.show()"
      ],
      "execution_count": null,
      "outputs": [
        {
          "output_type": "stream",
          "text": [
            "7/7 [==============================] - 40s 7s/step - loss: 0.0628 - accuracy: 0.9794\n",
            "Evaluación accuracy: 97.94%\n"
          ],
          "name": "stdout"
        },
        {
          "output_type": "display_data",
          "data": {
            "image/png": "[encoded data removed]",
            "text/plain": [
              "<Figure size 432x288 with 2 Axes>"
            ]
          },
          "metadata": {
            "tags": [],
            "needs_background": "light"
          }
        }
      ]
    },
    {
      "cell_type": "markdown",
      "metadata": {
        "id": "t94VrlJttzuN"
      },
      "source": [
        "Puesto que se consigue una precisión acorde a los datos de validación, descartamos el sobreajuste en el entrenamiento del modelo."
      ]
    },
    {
      "cell_type": "markdown",
      "metadata": {
        "id": "wL2ZkWkClrHg"
      },
      "source": [
        "# Optimización usando algoritmos preentrenados"
      ]
    },
    {
      "cell_type": "markdown",
      "metadata": {
        "id": "thfcY_rth-_R"
      },
      "source": [
        "La idea de este algoritmo es usar los patrones aprendidos por otras redes convolucionales ya entrenadas y usar ese conocimiento para nuestro problema específico. Para ello, a la base convolucional del modelo ya entrenado, se añade una campa densa adaptada a nuestro problema de clasificación concreto.\n",
        "\n",
        "Usaremos la red Xception."
      ]
    },
    {
      "cell_type": "markdown",
      "metadata": {
        "id": "6zdPpXTlio93"
      },
      "source": [
        "Cargamos la red Xception de la librería keras."
      ]
    },
    {
      "cell_type": "code",
      "metadata": {
        "colab": {
          "base_uri": "https://localhost:8080/"
        },
        "id": "rQA9EjbZ_LIP",
        "outputId": "90500419-53ad-49cc-ca9a-6674096018a0"
      },
      "source": [
        "Xception = tf.keras.applications.Xception(include_top=False, input_shape=(alto, ancho, canal), weights='imagenet')"
      ],
      "execution_count": null,
      "outputs": [
        {
          "output_type": "stream",
          "text": [
            "Downloading data from https://storage.googleapis.com/tensorflow/keras-applications/xception/xception_weights_tf_dim_ordering_tf_kernels_notop.h5\n",
            "83689472/83683744 [==============================] - 1s 0us/step\n"
          ],
          "name": "stdout"
        }
      ]
    },
    {
      "cell_type": "markdown",
      "metadata": {
        "id": "b61T7vbsivrI"
      },
      "source": [
        "Configuramos una nueva red para que su base no sea entrenable y añadimos una red densa sobre la base de Xception adaptada a nuestro problema de clasificación."
      ]
    },
    {
      "cell_type": "code",
      "metadata": {
        "id": "oBrN2R16A-XQ"
      },
      "source": [
        "Xception.trainable = False\n",
        "\n",
        "cnn_Xception_ft = tf.keras.Sequential()\n",
        "cnn_Xception_ft.add(Xception)\n",
        "cnn_Xception_ft.add(tf.keras.layers.Flatten())\n",
        "cnn_Xception_ft.add(tf.keras.layers.Dense(64, activation='relu'))\n",
        "cnn_Xception_ft.add(tf.keras.layers.Dropout(0.20))\n",
        "cnn_Xception_ft.add(tf.keras.layers.Dense(1, activation='sigmoid'))\n"
      ],
      "execution_count": null,
      "outputs": []
    },
    {
      "cell_type": "code",
      "metadata": {
        "colab": {
          "base_uri": "https://localhost:8080/"
        },
        "id": "3nCbePzW-F_r",
        "outputId": "06b39e77-c93e-4de0-cda0-ab398394bc8d"
      },
      "source": [
        "cnn_Xception_ft.summary()"
      ],
      "execution_count": null,
      "outputs": [
        {
          "output_type": "stream",
          "text": [
            "Model: \"sequential_3\"\n",
            "_________________________________________________________________\n",
            "Layer (type)                 Output Shape              Param #   \n",
            "=================================================================\n",
            "xception (Functional)        (None, 5, 5, 2048)        20861480  \n",
            "_________________________________________________________________\n",
            "flatten_2 (Flatten)          (None, 51200)             0         \n",
            "_________________________________________________________________\n",
            "dense_2 (Dense)              (None, 64)                3276864   \n",
            "_________________________________________________________________\n",
            "dropout_4 (Dropout)          (None, 64)                0         \n",
            "_________________________________________________________________\n",
            "dense_3 (Dense)              (None, 1)                 65        \n",
            "=================================================================\n",
            "Total params: 24,138,409\n",
            "Trainable params: 3,276,929\n",
            "Non-trainable params: 20,861,480\n",
            "_________________________________________________________________\n"
          ],
          "name": "stdout"
        }
      ]
    },
    {
      "cell_type": "code",
      "metadata": {
        "id": "3dFmk_yZCcvv"
      },
      "source": [
        "cnn_Xception_ft.compile(loss='binary_crossentropy',\n",
        "optimizer=optimizers.RMSprop(learning_rate=2e-5),\n",
        "metrics=['accuracy'])"
      ],
      "execution_count": null,
      "outputs": []
    },
    {
      "cell_type": "markdown",
      "metadata": {
        "id": "1VuSMyi7jL0v"
      },
      "source": [
        "Entrenamos el modelo con unas pocas épocas con la esperanza de no sobreentrenar el modelo."
      ]
    },
    {
      "cell_type": "code",
      "metadata": {
        "colab": {
          "base_uri": "https://localhost:8080/"
        },
        "id": "DBMrMQo0Cpt1",
        "outputId": "c658b618-a182-4b21-9f57-210bbb72b93d"
      },
      "source": [
        "validation_generator.reset()\n",
        "\n",
        "epocas = 8\n",
        "\n",
        "steps_per_epoch = train_generator.n // batch_size \n",
        "validation_steps = validation_generator.n // batch_size\n",
        "\n",
        "history = cnn_Xception_ft.fit(train_generator,\n",
        "                               steps_per_epoch=steps_per_epoch,\n",
        "                               epochs=epocas,\n",
        "                               validation_data=validation_generator,\n",
        "                               validation_steps=validation_steps)"
      ],
      "execution_count": null,
      "outputs": [
        {
          "output_type": "stream",
          "text": [
            "Epoch 1/8\n",
            "41/41 [==============================] - 14s 349ms/step - loss: 0.0179 - accuracy: 0.9938 - val_loss: 4.4968e-04 - val_accuracy: 1.0000\n",
            "Epoch 2/8\n",
            "41/41 [==============================] - 14s 344ms/step - loss: 0.0184 - accuracy: 0.9938 - val_loss: 1.3530e-04 - val_accuracy: 1.0000\n",
            "Epoch 3/8\n",
            "41/41 [==============================] - 14s 340ms/step - loss: 0.0125 - accuracy: 0.9953 - val_loss: 6.0309e-04 - val_accuracy: 1.0000\n",
            "Epoch 4/8\n",
            "41/41 [==============================] - 14s 339ms/step - loss: 0.0185 - accuracy: 0.9922 - val_loss: 0.0017 - val_accuracy: 1.0000\n",
            "Epoch 5/8\n",
            "41/41 [==============================] - 14s 341ms/step - loss: 0.0281 - accuracy: 0.9930 - val_loss: 3.6554e-04 - val_accuracy: 1.0000\n",
            "Epoch 6/8\n",
            "41/41 [==============================] - 14s 347ms/step - loss: 0.0181 - accuracy: 0.9945 - val_loss: 5.0308e-04 - val_accuracy: 1.0000\n",
            "Epoch 7/8\n",
            "41/41 [==============================] - 14s 351ms/step - loss: 0.0190 - accuracy: 0.9924 - val_loss: 4.2564e-04 - val_accuracy: 1.0000\n",
            "Epoch 8/8\n",
            "41/41 [==============================] - 14s 344ms/step - loss: 0.0166 - accuracy: 0.9938 - val_loss: 8.7706e-04 - val_accuracy: 1.0000\n"
          ],
          "name": "stdout"
        }
      ]
    },
    {
      "cell_type": "code",
      "metadata": {
        "colab": {
          "base_uri": "https://localhost:8080/"
        },
        "id": "1LDiXnuRx9Xl",
        "outputId": "2a873b14-2883-4c84-9544-c455da2e37cb"
      },
      "source": [
        "#cnn_Xception_ft.save('/content/gdrive/MyDrive/ModelosConvolucional/cnn_Xception_ft') "
      ],
      "execution_count": null,
      "outputs": [
        {
          "output_type": "stream",
          "text": [
            "/usr/local/lib/python3.7/dist-packages/tensorflow/python/keras/utils/generic_utils.py:497: CustomMaskWarning: Custom mask layers require a config and must override get_config. When loading, the custom mask layer must be passed to the custom_objects argument.\n",
            "  category=CustomMaskWarning)\n"
          ],
          "name": "stderr"
        },
        {
          "output_type": "stream",
          "text": [
            "INFO:tensorflow:Assets written to: /content/gdrive/MyDrive/ModelosConvolucional/cnn_Xception_ft/assets\n"
          ],
          "name": "stdout"
        },
        {
          "output_type": "stream",
          "text": [
            "INFO:tensorflow:Assets written to: /content/gdrive/MyDrive/ModelosConvolucional/cnn_Xception_ft/assets\n"
          ],
          "name": "stderr"
        }
      ]
    },
    {
      "cell_type": "markdown",
      "metadata": {
        "id": "FKKl86NOluiE"
      },
      "source": [
        "Plot para ver la diferencia gráfica entre los datos de validación y entrenamiento,"
      ]
    },
    {
      "cell_type": "code",
      "metadata": {
        "colab": {
          "base_uri": "https://localhost:8080/",
          "height": 545
        },
        "id": "ik2HVQKIydxd",
        "outputId": "045b206b-16d3-4eb1-b7be-6ed388e19eac"
      },
      "source": [
        "accuracy = history.history['accuracy']\n",
        "val_accuracy = history.history['val_accuracy']\n",
        "loss = history.history['loss']\n",
        "val_loss = history.history['val_loss']\n",
        "epochs = range(1, len(accuracy) + 1)\n",
        "plt.plot(epochs, accuracy, 'bo', label='Training accuracy')\n",
        "plt.plot(epochs, val_accuracy, 'b', label='Validation accuracy')\n",
        "plt.title('Training and validation accuracy')\n",
        "plt.legend()\n",
        "plt.figure()\n",
        "plt.plot(epochs, loss, 'bo', label='Training loss')\n",
        "plt.plot(epochs, val_loss, 'b', label='Validation loss')\n",
        "plt.title('Training and validation loss')\n",
        "plt.legend()\n",
        "plt.show()"
      ],
      "execution_count": null,
      "outputs": [
        {
          "output_type": "display_data",
          "data": {
            "image/png": "[encoded data removed]",
            "text/plain": [
              "<Figure size 432x288 with 1 Axes>"
            ]
          },
          "metadata": {
            "tags": [],
            "needs_background": "light"
          }
        },
        {
          "output_type": "display_data",
          "data": {
            "image/png": "[encoded data removed]",
            "text/plain": [
              "<Figure size 432x288 with 1 Axes>"
            ]
          },
          "metadata": {
            "tags": [],
            "needs_background": "light"
          }
        }
      ]
    },
    {
      "cell_type": "markdown",
      "metadata": {
        "id": "Y5UiSG69oDLp"
      },
      "source": [
        "Matriz de confusión para los datos de validación."
      ]
    },
    {
      "cell_type": "code",
      "metadata": {
        "colab": {
          "base_uri": "https://localhost:8080/",
          "height": 303
        },
        "id": "SfNwJmLYyNZo",
        "outputId": "94606914-478e-474d-b6f6-e21e862e53eb"
      },
      "source": [
        "validation_generator.reset()\n",
        "\n",
        "# Evaluación del modelo en la muestra de Validation -> muestra total\n",
        "scores = cnn_Xception_ft.evaluate(validation_generator)\n",
        "print(\"%s%s: %.2f%%\" % (\"Evaluación \", cnn_Xception_ft.metrics_names[1], scores[1]*100))\n",
        "\n",
        "# model_tf_hub.metrics_names  -> [0]: loss [1]: accuracy\n",
        "\n",
        "# predicciones de las instancias\n",
        "predictions_proba = cnn_Xception_ft.predict(validation_generator)\n",
        "predictions_class = np.where(predictions_proba > 0.5, 1, 0)\n",
        "\n",
        "# matriz de confusión\n",
        "sns.heatmap(confusion_matrix(validation_generator.labels, predictions_class), cmap=\"RdYlGn\", linewidths=.5, \n",
        "            annot = True,  fmt='.0f', cbar=True)\n",
        "\n",
        "plt.show()"
      ],
      "execution_count": null,
      "outputs": [
        {
          "output_type": "stream",
          "text": [
            "5/5 [==============================] - 1s 116ms/step - loss: 0.0014 - accuracy: 1.0000\n",
            "Evaluación accuracy: 100.00%\n"
          ],
          "name": "stdout"
        },
        {
          "output_type": "display_data",
          "data": {
            "image/png": "[encoded data removed]",
            "text/plain": [
              "<Figure size 432x288 with 2 Axes>"
            ]
          },
          "metadata": {
            "tags": [],
            "needs_background": "light"
          }
        }
      ]
    },
    {
      "cell_type": "markdown",
      "metadata": {
        "id": "EPPqbz52uPQs"
      },
      "source": [
        "Matriz de confusión para los datos de test."
      ]
    },
    {
      "cell_type": "code",
      "metadata": {
        "colab": {
          "base_uri": "https://localhost:8080/",
          "height": 303
        },
        "id": "W_sA0E-OyWid",
        "outputId": "e39a890e-dc5d-4c28-b1f8-60540560a51d"
      },
      "source": [
        "# Evaluación del modelo en la muestra de Validation -> muestra total\n",
        "scores = cnn_Xception_ft.evaluate(test_generator)\n",
        "print(\"%s%s: %.2f%%\" % (\"Evaluación \", cnn_Xception_ft.metrics_names[1], scores[1]*100))\n",
        "\n",
        "# model_tf_hub.metrics_names  -> [0]: loss [1]: accuracy\n",
        "\n",
        "# predicciones de las instancias\n",
        "predictions_proba = cnn_Xception_ft.predict(test_generator)\n",
        "predictions_class = np.where(predictions_proba >0.5, 1, 0)\n",
        "\n",
        "#matriz de confusión\n",
        "sns.heatmap(confusion_matrix(test_generator.labels, predictions_class), cmap=\"RdYlGn\", linewidths=.5, \n",
        "             annot = True,  fmt='.0f', cbar=True)\n",
        "\n",
        "plt.show()"
      ],
      "execution_count": null,
      "outputs": [
        {
          "output_type": "stream",
          "text": [
            "7/7 [==============================] - 1s 117ms/step - loss: 0.0270 - accuracy: 0.9897\n",
            "Evaluación accuracy: 98.97%\n"
          ],
          "name": "stdout"
        },
        {
          "output_type": "display_data",
          "data": {
            "image/png": "[encoded data removed]",
            "text/plain": [
              "<Figure size 432x288 with 2 Axes>"
            ]
          },
          "metadata": {
            "tags": [],
            "needs_background": "light"
          }
        }
      ]
    },
    {
      "cell_type": "markdown",
      "metadata": {
        "id": "12UDo1PAoXOp"
      },
      "source": [
        "La red muestra una precisión muy próxima a los datos de validación"
      ]
    },
    {
      "cell_type": "markdown",
      "metadata": {
        "id": "jkHQ-Uka1ahn"
      },
      "source": [
        "## FINE TUNING"
      ]
    },
    {
      "cell_type": "markdown",
      "metadata": {
        "id": "uj7kz7C8pmvG"
      },
      "source": [
        "La ultima técnica que se va a probar es la de fine tunning, la cual consiste en congelar toda la base convolucional de una red ya entrenada, exceptuando las últimas capas. La idea es, como en la redes preentrenadas, aprovechar los patrones ya aprendidos por la red y entrenar sólo las capas que captan los patrones más específicos que son, como sabemos, las últimas capas de una red convolucional.\n",
        "\n",
        "De nuevo, usaremos la red XCeption, la cual tiene una estructura un poco diferente a las redes convolucionales estudiadas en el curso. "
      ]
    },
    {
      "cell_type": "code",
      "metadata": {
        "id": "kq6zcfHk2kJS",
        "colab": {
          "base_uri": "https://localhost:8080/"
        },
        "outputId": "3238e858-39e4-4e4a-d38f-9df72f30b2dc"
      },
      "source": [
        "Xception.summary()"
      ],
      "execution_count": null,
      "outputs": [
        {
          "output_type": "stream",
          "text": [
            "Model: \"xception\"\n",
            "__________________________________________________________________________________________________\n",
            "Layer (type)                    Output Shape         Param #     Connected to                     \n",
            "==================================================================================================\n",
            "input_1 (InputLayer)            [(None, 150, 150, 3) 0                                            \n",
            "__________________________________________________________________________________________________\n",
            "block1_conv1 (Conv2D)           (None, 74, 74, 32)   864         input_1[0][0]                    \n",
            "__________________________________________________________________________________________________\n",
            "block1_conv1_bn (BatchNormaliza (None, 74, 74, 32)   128         block1_conv1[0][0]               \n",
            "__________________________________________________________________________________________________\n",
            "block1_conv1_act (Activation)   (None, 74, 74, 32)   0           block1_conv1_bn[0][0]            \n",
            "__________________________________________________________________________________________________\n",
            "block1_conv2 (Conv2D)           (None, 72, 72, 64)   18432       block1_conv1_act[0][0]           \n",
            "__________________________________________________________________________________________________\n",
            "block1_conv2_bn (BatchNormaliza (None, 72, 72, 64)   256         block1_conv2[0][0]               \n",
            "__________________________________________________________________________________________________\n",
            "block1_conv2_act (Activation)   (None, 72, 72, 64)   0           block1_conv2_bn[0][0]            \n",
            "__________________________________________________________________________________________________\n",
            "block2_sepconv1 (SeparableConv2 (None, 72, 72, 128)  8768        block1_conv2_act[0][0]           \n",
            "__________________________________________________________________________________________________\n",
            "block2_sepconv1_bn (BatchNormal (None, 72, 72, 128)  512         block2_sepconv1[0][0]            \n",
            "__________________________________________________________________________________________________\n",
            "block2_sepconv2_act (Activation (None, 72, 72, 128)  0           block2_sepconv1_bn[0][0]         \n",
            "__________________________________________________________________________________________________\n",
            "block2_sepconv2 (SeparableConv2 (None, 72, 72, 128)  17536       block2_sepconv2_act[0][0]        \n",
            "__________________________________________________________________________________________________\n",
            "block2_sepconv2_bn (BatchNormal (None, 72, 72, 128)  512         block2_sepconv2[0][0]            \n",
            "__________________________________________________________________________________________________\n",
            "conv2d_8 (Conv2D)               (None, 36, 36, 128)  8192        block1_conv2_act[0][0]           \n",
            "__________________________________________________________________________________________________\n",
            "block2_pool (MaxPooling2D)      (None, 36, 36, 128)  0           block2_sepconv2_bn[0][0]         \n",
            "__________________________________________________________________________________________________\n",
            "batch_normalization (BatchNorma (None, 36, 36, 128)  512         conv2d_8[0][0]                   \n",
            "__________________________________________________________________________________________________\n",
            "add (Add)                       (None, 36, 36, 128)  0           block2_pool[0][0]                \n",
            "                                                                 batch_normalization[0][0]        \n",
            "__________________________________________________________________________________________________\n",
            "block3_sepconv1_act (Activation (None, 36, 36, 128)  0           add[0][0]                        \n",
            "__________________________________________________________________________________________________\n",
            "block3_sepconv1 (SeparableConv2 (None, 36, 36, 256)  33920       block3_sepconv1_act[0][0]        \n",
            "__________________________________________________________________________________________________\n",
            "block3_sepconv1_bn (BatchNormal (None, 36, 36, 256)  1024        block3_sepconv1[0][0]            \n",
            "__________________________________________________________________________________________________\n",
            "block3_sepconv2_act (Activation (None, 36, 36, 256)  0           block3_sepconv1_bn[0][0]         \n",
            "__________________________________________________________________________________________________\n",
            "block3_sepconv2 (SeparableConv2 (None, 36, 36, 256)  67840       block3_sepconv2_act[0][0]        \n",
            "__________________________________________________________________________________________________\n",
            "block3_sepconv2_bn (BatchNormal (None, 36, 36, 256)  1024        block3_sepconv2[0][0]            \n",
            "__________________________________________________________________________________________________\n",
            "conv2d_9 (Conv2D)               (None, 18, 18, 256)  32768       add[0][0]                        \n",
            "__________________________________________________________________________________________________\n",
            "block3_pool (MaxPooling2D)      (None, 18, 18, 256)  0           block3_sepconv2_bn[0][0]         \n",
            "__________________________________________________________________________________________________\n",
            "batch_normalization_1 (BatchNor (None, 18, 18, 256)  1024        conv2d_9[0][0]                   \n",
            "__________________________________________________________________________________________________\n",
            "add_1 (Add)                     (None, 18, 18, 256)  0           block3_pool[0][0]                \n",
            "                                                                 batch_normalization_1[0][0]      \n",
            "__________________________________________________________________________________________________\n",
            "block4_sepconv1_act (Activation (None, 18, 18, 256)  0           add_1[0][0]                      \n",
            "__________________________________________________________________________________________________\n",
            "block4_sepconv1 (SeparableConv2 (None, 18, 18, 728)  188672      block4_sepconv1_act[0][0]        \n",
            "__________________________________________________________________________________________________\n",
            "block4_sepconv1_bn (BatchNormal (None, 18, 18, 728)  2912        block4_sepconv1[0][0]            \n",
            "__________________________________________________________________________________________________\n",
            "block4_sepconv2_act (Activation (None, 18, 18, 728)  0           block4_sepconv1_bn[0][0]         \n",
            "__________________________________________________________________________________________________\n",
            "block4_sepconv2 (SeparableConv2 (None, 18, 18, 728)  536536      block4_sepconv2_act[0][0]        \n",
            "__________________________________________________________________________________________________\n",
            "block4_sepconv2_bn (BatchNormal (None, 18, 18, 728)  2912        block4_sepconv2[0][0]            \n",
            "__________________________________________________________________________________________________\n",
            "conv2d_10 (Conv2D)              (None, 9, 9, 728)    186368      add_1[0][0]                      \n",
            "__________________________________________________________________________________________________\n",
            "block4_pool (MaxPooling2D)      (None, 9, 9, 728)    0           block4_sepconv2_bn[0][0]         \n",
            "__________________________________________________________________________________________________\n",
            "batch_normalization_2 (BatchNor (None, 9, 9, 728)    2912        conv2d_10[0][0]                  \n",
            "__________________________________________________________________________________________________\n",
            "add_2 (Add)                     (None, 9, 9, 728)    0           block4_pool[0][0]                \n",
            "                                                                 batch_normalization_2[0][0]      \n",
            "__________________________________________________________________________________________________\n",
            "block5_sepconv1_act (Activation (None, 9, 9, 728)    0           add_2[0][0]                      \n",
            "__________________________________________________________________________________________________\n",
            "block5_sepconv1 (SeparableConv2 (None, 9, 9, 728)    536536      block5_sepconv1_act[0][0]        \n",
            "__________________________________________________________________________________________________\n",
            "block5_sepconv1_bn (BatchNormal (None, 9, 9, 728)    2912        block5_sepconv1[0][0]            \n",
            "__________________________________________________________________________________________________\n",
            "block5_sepconv2_act (Activation (None, 9, 9, 728)    0           block5_sepconv1_bn[0][0]         \n",
            "__________________________________________________________________________________________________\n",
            "block5_sepconv2 (SeparableConv2 (None, 9, 9, 728)    536536      block5_sepconv2_act[0][0]        \n",
            "__________________________________________________________________________________________________\n",
            "block5_sepconv2_bn (BatchNormal (None, 9, 9, 728)    2912        block5_sepconv2[0][0]            \n",
            "__________________________________________________________________________________________________\n",
            "block5_sepconv3_act (Activation (None, 9, 9, 728)    0           block5_sepconv2_bn[0][0]         \n",
            "__________________________________________________________________________________________________\n",
            "block5_sepconv3 (SeparableConv2 (None, 9, 9, 728)    536536      block5_sepconv3_act[0][0]        \n",
            "__________________________________________________________________________________________________\n",
            "block5_sepconv3_bn (BatchNormal (None, 9, 9, 728)    2912        block5_sepconv3[0][0]            \n",
            "__________________________________________________________________________________________________\n",
            "add_3 (Add)                     (None, 9, 9, 728)    0           block5_sepconv3_bn[0][0]         \n",
            "                                                                 add_2[0][0]                      \n",
            "__________________________________________________________________________________________________\n",
            "block6_sepconv1_act (Activation (None, 9, 9, 728)    0           add_3[0][0]                      \n",
            "__________________________________________________________________________________________________\n",
            "block6_sepconv1 (SeparableConv2 (None, 9, 9, 728)    536536      block6_sepconv1_act[0][0]        \n",
            "__________________________________________________________________________________________________\n",
            "block6_sepconv1_bn (BatchNormal (None, 9, 9, 728)    2912        block6_sepconv1[0][0]            \n",
            "__________________________________________________________________________________________________\n",
            "block6_sepconv2_act (Activation (None, 9, 9, 728)    0           block6_sepconv1_bn[0][0]         \n",
            "__________________________________________________________________________________________________\n",
            "block6_sepconv2 (SeparableConv2 (None, 9, 9, 728)    536536      block6_sepconv2_act[0][0]        \n",
            "__________________________________________________________________________________________________\n",
            "block6_sepconv2_bn (BatchNormal (None, 9, 9, 728)    2912        block6_sepconv2[0][0]            \n",
            "__________________________________________________________________________________________________\n",
            "block6_sepconv3_act (Activation (None, 9, 9, 728)    0           block6_sepconv2_bn[0][0]         \n",
            "__________________________________________________________________________________________________\n",
            "block6_sepconv3 (SeparableConv2 (None, 9, 9, 728)    536536      block6_sepconv3_act[0][0]        \n",
            "__________________________________________________________________________________________________\n",
            "block6_sepconv3_bn (BatchNormal (None, 9, 9, 728)    2912        block6_sepconv3[0][0]            \n",
            "__________________________________________________________________________________________________\n",
            "add_4 (Add)                     (None, 9, 9, 728)    0           block6_sepconv3_bn[0][0]         \n",
            "                                                                 add_3[0][0]                      \n",
            "__________________________________________________________________________________________________\n",
            "block7_sepconv1_act (Activation (None, 9, 9, 728)    0           add_4[0][0]                      \n",
            "__________________________________________________________________________________________________\n",
            "block7_sepconv1 (SeparableConv2 (None, 9, 9, 728)    536536      block7_sepconv1_act[0][0]        \n",
            "__________________________________________________________________________________________________\n",
            "block7_sepconv1_bn (BatchNormal (None, 9, 9, 728)    2912        block7_sepconv1[0][0]            \n",
            "__________________________________________________________________________________________________\n",
            "block7_sepconv2_act (Activation (None, 9, 9, 728)    0           block7_sepconv1_bn[0][0]         \n",
            "__________________________________________________________________________________________________\n",
            "block7_sepconv2 (SeparableConv2 (None, 9, 9, 728)    536536      block7_sepconv2_act[0][0]        \n",
            "__________________________________________________________________________________________________\n",
            "block7_sepconv2_bn (BatchNormal (None, 9, 9, 728)    2912        block7_sepconv2[0][0]            \n",
            "__________________________________________________________________________________________________\n",
            "block7_sepconv3_act (Activation (None, 9, 9, 728)    0           block7_sepconv2_bn[0][0]         \n",
            "__________________________________________________________________________________________________\n",
            "block7_sepconv3 (SeparableConv2 (None, 9, 9, 728)    536536      block7_sepconv3_act[0][0]        \n",
            "__________________________________________________________________________________________________\n",
            "block7_sepconv3_bn (BatchNormal (None, 9, 9, 728)    2912        block7_sepconv3[0][0]            \n",
            "__________________________________________________________________________________________________\n",
            "add_5 (Add)                     (None, 9, 9, 728)    0           block7_sepconv3_bn[0][0]         \n",
            "                                                                 add_4[0][0]                      \n",
            "__________________________________________________________________________________________________\n",
            "block8_sepconv1_act (Activation (None, 9, 9, 728)    0           add_5[0][0]                      \n",
            "__________________________________________________________________________________________________\n",
            "block8_sepconv1 (SeparableConv2 (None, 9, 9, 728)    536536      block8_sepconv1_act[0][0]        \n",
            "__________________________________________________________________________________________________\n",
            "block8_sepconv1_bn (BatchNormal (None, 9, 9, 728)    2912        block8_sepconv1[0][0]            \n",
            "__________________________________________________________________________________________________\n",
            "block8_sepconv2_act (Activation (None, 9, 9, 728)    0           block8_sepconv1_bn[0][0]         \n",
            "__________________________________________________________________________________________________\n",
            "block8_sepconv2 (SeparableConv2 (None, 9, 9, 728)    536536      block8_sepconv2_act[0][0]        \n",
            "__________________________________________________________________________________________________\n",
            "block8_sepconv2_bn (BatchNormal (None, 9, 9, 728)    2912        block8_sepconv2[0][0]            \n",
            "__________________________________________________________________________________________________\n",
            "block8_sepconv3_act (Activation (None, 9, 9, 728)    0           block8_sepconv2_bn[0][0]         \n",
            "__________________________________________________________________________________________________\n",
            "block8_sepconv3 (SeparableConv2 (None, 9, 9, 728)    536536      block8_sepconv3_act[0][0]        \n",
            "__________________________________________________________________________________________________\n",
            "block8_sepconv3_bn (BatchNormal (None, 9, 9, 728)    2912        block8_sepconv3[0][0]            \n",
            "__________________________________________________________________________________________________\n",
            "add_6 (Add)                     (None, 9, 9, 728)    0           block8_sepconv3_bn[0][0]         \n",
            "                                                                 add_5[0][0]                      \n",
            "__________________________________________________________________________________________________\n",
            "block9_sepconv1_act (Activation (None, 9, 9, 728)    0           add_6[0][0]                      \n",
            "__________________________________________________________________________________________________\n",
            "block9_sepconv1 (SeparableConv2 (None, 9, 9, 728)    536536      block9_sepconv1_act[0][0]        \n",
            "__________________________________________________________________________________________________\n",
            "block9_sepconv1_bn (BatchNormal (None, 9, 9, 728)    2912        block9_sepconv1[0][0]            \n",
            "__________________________________________________________________________________________________\n",
            "block9_sepconv2_act (Activation (None, 9, 9, 728)    0           block9_sepconv1_bn[0][0]         \n",
            "__________________________________________________________________________________________________\n",
            "block9_sepconv2 (SeparableConv2 (None, 9, 9, 728)    536536      block9_sepconv2_act[0][0]        \n",
            "__________________________________________________________________________________________________\n",
            "block9_sepconv2_bn (BatchNormal (None, 9, 9, 728)    2912        block9_sepconv2[0][0]            \n",
            "__________________________________________________________________________________________________\n",
            "block9_sepconv3_act (Activation (None, 9, 9, 728)    0           block9_sepconv2_bn[0][0]         \n",
            "__________________________________________________________________________________________________\n",
            "block9_sepconv3 (SeparableConv2 (None, 9, 9, 728)    536536      block9_sepconv3_act[0][0]        \n",
            "__________________________________________________________________________________________________\n",
            "block9_sepconv3_bn (BatchNormal (None, 9, 9, 728)    2912        block9_sepconv3[0][0]            \n",
            "__________________________________________________________________________________________________\n",
            "add_7 (Add)                     (None, 9, 9, 728)    0           block9_sepconv3_bn[0][0]         \n",
            "                                                                 add_6[0][0]                      \n",
            "__________________________________________________________________________________________________\n",
            "block10_sepconv1_act (Activatio (None, 9, 9, 728)    0           add_7[0][0]                      \n",
            "__________________________________________________________________________________________________\n",
            "block10_sepconv1 (SeparableConv (None, 9, 9, 728)    536536      block10_sepconv1_act[0][0]       \n",
            "__________________________________________________________________________________________________\n",
            "block10_sepconv1_bn (BatchNorma (None, 9, 9, 728)    2912        block10_sepconv1[0][0]           \n",
            "__________________________________________________________________________________________________\n",
            "block10_sepconv2_act (Activatio (None, 9, 9, 728)    0           block10_sepconv1_bn[0][0]        \n",
            "__________________________________________________________________________________________________\n",
            "block10_sepconv2 (SeparableConv (None, 9, 9, 728)    536536      block10_sepconv2_act[0][0]       \n",
            "__________________________________________________________________________________________________\n",
            "block10_sepconv2_bn (BatchNorma (None, 9, 9, 728)    2912        block10_sepconv2[0][0]           \n",
            "__________________________________________________________________________________________________\n",
            "block10_sepconv3_act (Activatio (None, 9, 9, 728)    0           block10_sepconv2_bn[0][0]        \n",
            "__________________________________________________________________________________________________\n",
            "block10_sepconv3 (SeparableConv (None, 9, 9, 728)    536536      block10_sepconv3_act[0][0]       \n",
            "__________________________________________________________________________________________________\n",
            "block10_sepconv3_bn (BatchNorma (None, 9, 9, 728)    2912        block10_sepconv3[0][0]           \n",
            "__________________________________________________________________________________________________\n",
            "add_8 (Add)                     (None, 9, 9, 728)    0           block10_sepconv3_bn[0][0]        \n",
            "                                                                 add_7[0][0]                      \n",
            "__________________________________________________________________________________________________\n",
            "block11_sepconv1_act (Activatio (None, 9, 9, 728)    0           add_8[0][0]                      \n",
            "__________________________________________________________________________________________________\n",
            "block11_sepconv1 (SeparableConv (None, 9, 9, 728)    536536      block11_sepconv1_act[0][0]       \n",
            "__________________________________________________________________________________________________\n",
            "block11_sepconv1_bn (BatchNorma (None, 9, 9, 728)    2912        block11_sepconv1[0][0]           \n",
            "__________________________________________________________________________________________________\n",
            "block11_sepconv2_act (Activatio (None, 9, 9, 728)    0           block11_sepconv1_bn[0][0]        \n",
            "__________________________________________________________________________________________________\n",
            "block11_sepconv2 (SeparableConv (None, 9, 9, 728)    536536      block11_sepconv2_act[0][0]       \n",
            "__________________________________________________________________________________________________\n",
            "block11_sepconv2_bn (BatchNorma (None, 9, 9, 728)    2912        block11_sepconv2[0][0]           \n",
            "__________________________________________________________________________________________________\n",
            "block11_sepconv3_act (Activatio (None, 9, 9, 728)    0           block11_sepconv2_bn[0][0]        \n",
            "__________________________________________________________________________________________________\n",
            "block11_sepconv3 (SeparableConv (None, 9, 9, 728)    536536      block11_sepconv3_act[0][0]       \n",
            "__________________________________________________________________________________________________\n",
            "block11_sepconv3_bn (BatchNorma (None, 9, 9, 728)    2912        block11_sepconv3[0][0]           \n",
            "__________________________________________________________________________________________________\n",
            "add_9 (Add)                     (None, 9, 9, 728)    0           block11_sepconv3_bn[0][0]        \n",
            "                                                                 add_8[0][0]                      \n",
            "__________________________________________________________________________________________________\n",
            "block12_sepconv1_act (Activatio (None, 9, 9, 728)    0           add_9[0][0]                      \n",
            "__________________________________________________________________________________________________\n",
            "block12_sepconv1 (SeparableConv (None, 9, 9, 728)    536536      block12_sepconv1_act[0][0]       \n",
            "__________________________________________________________________________________________________\n",
            "block12_sepconv1_bn (BatchNorma (None, 9, 9, 728)    2912        block12_sepconv1[0][0]           \n",
            "__________________________________________________________________________________________________\n",
            "block12_sepconv2_act (Activatio (None, 9, 9, 728)    0           block12_sepconv1_bn[0][0]        \n",
            "__________________________________________________________________________________________________\n",
            "block12_sepconv2 (SeparableConv (None, 9, 9, 728)    536536      block12_sepconv2_act[0][0]       \n",
            "__________________________________________________________________________________________________\n",
            "block12_sepconv2_bn (BatchNorma (None, 9, 9, 728)    2912        block12_sepconv2[0][0]           \n",
            "__________________________________________________________________________________________________\n",
            "block12_sepconv3_act (Activatio (None, 9, 9, 728)    0           block12_sepconv2_bn[0][0]        \n",
            "__________________________________________________________________________________________________\n",
            "block12_sepconv3 (SeparableConv (None, 9, 9, 728)    536536      block12_sepconv3_act[0][0]       \n",
            "__________________________________________________________________________________________________\n",
            "block12_sepconv3_bn (BatchNorma (None, 9, 9, 728)    2912        block12_sepconv3[0][0]           \n",
            "__________________________________________________________________________________________________\n",
            "add_10 (Add)                    (None, 9, 9, 728)    0           block12_sepconv3_bn[0][0]        \n",
            "                                                                 add_9[0][0]                      \n",
            "__________________________________________________________________________________________________\n",
            "block13_sepconv1_act (Activatio (None, 9, 9, 728)    0           add_10[0][0]                     \n",
            "__________________________________________________________________________________________________\n",
            "block13_sepconv1 (SeparableConv (None, 9, 9, 728)    536536      block13_sepconv1_act[0][0]       \n",
            "__________________________________________________________________________________________________\n",
            "block13_sepconv1_bn (BatchNorma (None, 9, 9, 728)    2912        block13_sepconv1[0][0]           \n",
            "__________________________________________________________________________________________________\n",
            "block13_sepconv2_act (Activatio (None, 9, 9, 728)    0           block13_sepconv1_bn[0][0]        \n",
            "__________________________________________________________________________________________________\n",
            "block13_sepconv2 (SeparableConv (None, 9, 9, 1024)   752024      block13_sepconv2_act[0][0]       \n",
            "__________________________________________________________________________________________________\n",
            "block13_sepconv2_bn (BatchNorma (None, 9, 9, 1024)   4096        block13_sepconv2[0][0]           \n",
            "__________________________________________________________________________________________________\n",
            "conv2d_11 (Conv2D)              (None, 5, 5, 1024)   745472      add_10[0][0]                     \n",
            "__________________________________________________________________________________________________\n",
            "block13_pool (MaxPooling2D)     (None, 5, 5, 1024)   0           block13_sepconv2_bn[0][0]        \n",
            "__________________________________________________________________________________________________\n",
            "batch_normalization_3 (BatchNor (None, 5, 5, 1024)   4096        conv2d_11[0][0]                  \n",
            "__________________________________________________________________________________________________\n",
            "add_11 (Add)                    (None, 5, 5, 1024)   0           block13_pool[0][0]               \n",
            "                                                                 batch_normalization_3[0][0]      \n",
            "__________________________________________________________________________________________________\n",
            "block14_sepconv1 (SeparableConv (None, 5, 5, 1536)   1582080     add_11[0][0]                     \n",
            "__________________________________________________________________________________________________\n",
            "block14_sepconv1_bn (BatchNorma (None, 5, 5, 1536)   6144        block14_sepconv1[0][0]           \n",
            "__________________________________________________________________________________________________\n",
            "block14_sepconv1_act (Activatio (None, 5, 5, 1536)   0           block14_sepconv1_bn[0][0]        \n",
            "__________________________________________________________________________________________________\n",
            "block14_sepconv2 (SeparableConv (None, 5, 5, 2048)   3159552     block14_sepconv1_act[0][0]       \n",
            "__________________________________________________________________________________________________\n",
            "block14_sepconv2_bn (BatchNorma (None, 5, 5, 2048)   8192        block14_sepconv2[0][0]           \n",
            "__________________________________________________________________________________________________\n",
            "block14_sepconv2_act (Activatio (None, 5, 5, 2048)   0           block14_sepconv2_bn[0][0]        \n",
            "==================================================================================================\n",
            "Total params: 20,861,480\n",
            "Trainable params: 0\n",
            "Non-trainable params: 20,861,480\n",
            "__________________________________________________________________________________________________\n"
          ],
          "name": "stdout"
        }
      ]
    },
    {
      "cell_type": "markdown",
      "metadata": {
        "id": "52RogbwgqnQa"
      },
      "source": [
        "Configuramos la base convolucional para que sólo la última capa sea entrenable."
      ]
    },
    {
      "cell_type": "code",
      "metadata": {
        "id": "57-M1DsEIKLk"
      },
      "source": [
        "Xception.trainable = True\n",
        "\n",
        "set_trainable=False\n",
        "for layer in Xception.layers:\n",
        "    if layer.name =='block14_sepconv2':\n",
        "      set_trainable=True\n",
        "    if set_trainable:\n",
        "      layer.trainable=True\n",
        "    else:\n",
        "      layer.trainable=False"
      ],
      "execution_count": null,
      "outputs": []
    },
    {
      "cell_type": "code",
      "metadata": {
        "id": "vAL0U-yKJQLZ"
      },
      "source": [
        "\n",
        "cnn_Xception_1 = tf.keras.Sequential()\n",
        "cnn_Xception_1.add(Xception)\n",
        "cnn_Xception_1.add(tf.keras.layers.Dropout(0.20))\n",
        "cnn_Xception_1.add(tf.keras.layers.Flatten())\n",
        "cnn_Xception_1.add(tf.keras.layers.Dense(16, activation='relu'))\n",
        "cnn_Xception_1.add(tf.keras.layers.Dropout(0.20))\n",
        "cnn_Xception_1.add(tf.keras.layers.Dense(1, activation='sigmoid'))"
      ],
      "execution_count": null,
      "outputs": []
    },
    {
      "cell_type": "code",
      "metadata": {
        "colab": {
          "base_uri": "https://localhost:8080/"
        },
        "id": "BY6--a48J5P6",
        "outputId": "ec7bd8d5-3dcc-444e-9a9e-f721f812606f"
      },
      "source": [
        "cnn_Xception_1.summary()"
      ],
      "execution_count": null,
      "outputs": [
        {
          "output_type": "stream",
          "text": [
            "Model: \"sequential_4\"\n",
            "_________________________________________________________________\n",
            "Layer (type)                 Output Shape              Param #   \n",
            "=================================================================\n",
            "xception (Functional)        (None, 5, 5, 2048)        20861480  \n",
            "_________________________________________________________________\n",
            "dropout_5 (Dropout)          (None, 5, 5, 2048)        0         \n",
            "_________________________________________________________________\n",
            "flatten_3 (Flatten)          (None, 51200)             0         \n",
            "_________________________________________________________________\n",
            "dense_4 (Dense)              (None, 16)                819216    \n",
            "_________________________________________________________________\n",
            "dropout_6 (Dropout)          (None, 16)                0         \n",
            "_________________________________________________________________\n",
            "dense_5 (Dense)              (None, 1)                 17        \n",
            "=================================================================\n",
            "Total params: 21,680,713\n",
            "Trainable params: 819,233\n",
            "Non-trainable params: 20,861,480\n",
            "_________________________________________________________________\n"
          ],
          "name": "stdout"
        }
      ]
    },
    {
      "cell_type": "code",
      "metadata": {
        "id": "v01deNbUJnVi"
      },
      "source": [
        "cnn_Xception_1.compile(loss='binary_crossentropy',\n",
        "optimizer=optimizers.RMSprop(learning_rate=2e-5),\n",
        "metrics=['accuracy'])"
      ],
      "execution_count": null,
      "outputs": []
    },
    {
      "cell_type": "markdown",
      "metadata": {
        "id": "8Hc9MZWWrVQg"
      },
      "source": [
        "Entrenamiento del modelo."
      ]
    },
    {
      "cell_type": "code",
      "metadata": {
        "colab": {
          "base_uri": "https://localhost:8080/"
        },
        "id": "6i1QH15NIrSP",
        "outputId": "5a65609a-41bc-477f-c169-cb9376221994"
      },
      "source": [
        "epocas = 10\n",
        "\n",
        "steps_per_epoch = train_generator.n // batch_size \n",
        "validation_steps = validation_generator.n // batch_size\n",
        "\n",
        "history = cnn_Xception_1.fit(train_generator,\n",
        "                               steps_per_epoch=steps_per_epoch,\n",
        "                               epochs=epocas,\n",
        "                               validation_data=validation_generator,\n",
        "                               validation_steps=validation_steps)"
      ],
      "execution_count": null,
      "outputs": [
        {
          "output_type": "stream",
          "text": [
            "Epoch 1/10\n",
            "41/41 [==============================] - 18s 374ms/step - loss: 0.3061 - accuracy: 0.8854 - val_loss: 0.0649 - val_accuracy: 0.9922\n",
            "Epoch 2/10\n",
            "41/41 [==============================] - 15s 355ms/step - loss: 0.1425 - accuracy: 0.9571 - val_loss: 0.0269 - val_accuracy: 1.0000\n",
            "Epoch 3/10\n",
            "41/41 [==============================] - 15s 351ms/step - loss: 0.1096 - accuracy: 0.9587 - val_loss: 0.0201 - val_accuracy: 1.0000\n",
            "Epoch 4/10\n",
            "41/41 [==============================] - 14s 351ms/step - loss: 0.0916 - accuracy: 0.9688 - val_loss: 0.0114 - val_accuracy: 1.0000\n",
            "Epoch 5/10\n",
            "41/41 [==============================] - 14s 346ms/step - loss: 0.0802 - accuracy: 0.9743 - val_loss: 0.0150 - val_accuracy: 1.0000\n",
            "Epoch 6/10\n",
            "41/41 [==============================] - 14s 353ms/step - loss: 0.0736 - accuracy: 0.9758 - val_loss: 0.0077 - val_accuracy: 1.0000\n",
            "Epoch 7/10\n",
            "41/41 [==============================] - 15s 355ms/step - loss: 0.0762 - accuracy: 0.9727 - val_loss: 0.0072 - val_accuracy: 1.0000\n",
            "Epoch 8/10\n",
            "41/41 [==============================] - 14s 350ms/step - loss: 0.0766 - accuracy: 0.9735 - val_loss: 0.0071 - val_accuracy: 1.0000\n",
            "Epoch 9/10\n",
            "41/41 [==============================] - 14s 348ms/step - loss: 0.0612 - accuracy: 0.9782 - val_loss: 0.0054 - val_accuracy: 1.0000\n",
            "Epoch 10/10\n",
            "41/41 [==============================] - 14s 350ms/step - loss: 0.0615 - accuracy: 0.9805 - val_loss: 0.0065 - val_accuracy: 1.0000\n"
          ],
          "name": "stdout"
        }
      ]
    },
    {
      "cell_type": "code",
      "metadata": {
        "colab": {
          "base_uri": "https://localhost:8080/"
        },
        "id": "hu-x_w9mTiT4",
        "outputId": "76edf090-f6bb-42e9-aef4-e5683ffa724b"
      },
      "source": [
        "#cnn_Xception_1.save('/content/gdrive/MyDrive/ModelosConvolucional/cnn_Xception_1')"
      ],
      "execution_count": null,
      "outputs": [
        {
          "output_type": "stream",
          "text": [
            "/usr/local/lib/python3.7/dist-packages/tensorflow/python/keras/utils/generic_utils.py:497: CustomMaskWarning: Custom mask layers require a config and must override get_config. When loading, the custom mask layer must be passed to the custom_objects argument.\n",
            "  category=CustomMaskWarning)\n"
          ],
          "name": "stderr"
        },
        {
          "output_type": "stream",
          "text": [
            "INFO:tensorflow:Assets written to: /content/gdrive/MyDrive/ModelosConvolucional/cnn_Xception_1/assets\n"
          ],
          "name": "stdout"
        },
        {
          "output_type": "stream",
          "text": [
            "INFO:tensorflow:Assets written to: /content/gdrive/MyDrive/ModelosConvolucional/cnn_Xception_1/assets\n"
          ],
          "name": "stderr"
        }
      ]
    },
    {
      "cell_type": "markdown",
      "metadata": {
        "id": "SY4uzDtlrhXW"
      },
      "source": [
        "Precisión en los datos de entrenamiento frente a los de validación."
      ]
    },
    {
      "cell_type": "code",
      "metadata": {
        "colab": {
          "base_uri": "https://localhost:8080/",
          "height": 545
        },
        "id": "SUNZuzRoTaxW",
        "outputId": "004ea7ca-1838-4ac8-970c-fced55839ffb"
      },
      "source": [
        "accuracy = history.history['accuracy']\n",
        "val_accuracy = history.history['val_accuracy']\n",
        "loss = history.history['loss']\n",
        "val_loss = history.history['val_loss']\n",
        "epochs = range(1, len(accuracy) + 1)\n",
        "plt.plot(epochs, accuracy, 'bo', label='Training accuracy')\n",
        "plt.plot(epochs, val_accuracy, 'b', label='Validation accuracy')\n",
        "plt.title('Training and validation accuracy')\n",
        "plt.legend()\n",
        "plt.figure()\n",
        "plt.plot(epochs, loss, 'bo', label='Training loss')\n",
        "plt.plot(epochs, val_loss, 'b', label='Validation loss')\n",
        "plt.title('Training and validation loss')\n",
        "plt.legend()\n",
        "plt.show()"
      ],
      "execution_count": null,
      "outputs": [
        {
          "output_type": "display_data",
          "data": {
            "image/png": "[encoded data removed]",
            "text/plain": [
              "<Figure size 432x288 with 1 Axes>"
            ]
          },
          "metadata": {
            "tags": [],
            "needs_background": "light"
          }
        },
        {
          "output_type": "display_data",
          "data": {
            "image/png": "[encoded data removed]",
            "text/plain": [
              "<Figure size 432x288 with 1 Axes>"
            ]
          },
          "metadata": {
            "tags": [],
            "needs_background": "light"
          }
        }
      ]
    },
    {
      "cell_type": "code",
      "metadata": {
        "colab": {
          "base_uri": "https://localhost:8080/",
          "height": 303
        },
        "id": "9AQIYUb6TvIX",
        "outputId": "9071dbe4-530b-4707-cb44-dcbce8fe6abb"
      },
      "source": [
        "validation_generator.reset()\n",
        "\n",
        "# Evaluación del modelo en la muestra de Validation -> muestra total\n",
        "scores = cnn_Xception_1.evaluate(validation_generator)\n",
        "print(\"%s%s: %.2f%%\" % (\"Evaluación \", cnn_Xception_1.metrics_names[1], scores[1]*100))\n",
        "\n",
        "# model_tf_hub.metrics_names  -> [0]: loss [1]: accuracy\n",
        "\n",
        "# predicciones de las instancias\n",
        "predictions_proba = cnn_Xception_1.predict(validation_generator)\n",
        "predictions_class = np.where(predictions_proba > 0.5, 1, 0)\n",
        "\n",
        "# matriz de confusión\n",
        "sns.heatmap(confusion_matrix(validation_generator.labels, predictions_class), cmap=\"RdYlGn\", linewidths=.5, \n",
        "            annot = True,  fmt='.0f', cbar=True)\n",
        "\n",
        "plt.show()"
      ],
      "execution_count": null,
      "outputs": [
        {
          "output_type": "stream",
          "text": [
            "5/5 [==============================] - 1s 125ms/step - loss: 0.0062 - accuracy: 1.0000\n",
            "Evaluación accuracy: 100.00%\n"
          ],
          "name": "stdout"
        },
        {
          "output_type": "display_data",
          "data": {
            "image/png": "[encoded data removed]",
            "text/plain": [
              "<Figure size 432x288 with 2 Axes>"
            ]
          },
          "metadata": {
            "tags": [],
            "needs_background": "light"
          }
        }
      ]
    },
    {
      "cell_type": "code",
      "metadata": {
        "colab": {
          "base_uri": "https://localhost:8080/",
          "height": 303
        },
        "id": "luN9O5JkT4FY",
        "outputId": "28adbf92-dac5-441b-b9d5-797258a8abf1"
      },
      "source": [
        "# Evaluación del modelo en la muestra de Validation -> muestra total\n",
        "\n",
        "test_generator.reset()\n",
        "\n",
        "scores = cnn_Xception_1.evaluate(test_generator)\n",
        "scores\n",
        "print(\"%s%s: %.2f%%\" % (\"Evaluación \", cnn_Xception_1.metrics_names[1], scores[1]*100))\n",
        "\n",
        "# model_tf_hub.metrics_names  -> [0]: loss [1]: accuracy\n",
        "\n",
        "# predicciones de las instancias\n",
        "predictions_proba = cnn_Xception_1.predict(test_generator)\n",
        "predictions_class = np.where(predictions_proba >0.5, 1, 0)\n",
        "\n",
        "#matriz de confusión\n",
        "sns.heatmap(confusion_matrix(test_generator.labels, predictions_class), cmap=\"RdYlGn\", linewidths=.5, \n",
        "             annot = True,  fmt='.0f', cbar=True)\n",
        "\n",
        "plt.show()"
      ],
      "execution_count": null,
      "outputs": [
        {
          "output_type": "stream",
          "text": [
            "7/7 [==============================] - 1s 120ms/step - loss: 0.0408 - accuracy: 0.9897\n",
            "Evaluación accuracy: 98.97%\n"
          ],
          "name": "stdout"
        },
        {
          "output_type": "display_data",
          "data": {
            "image/png": "[encoded data removed]",
            "text/plain": [
              "<Figure size 432x288 with 2 Axes>"
            ]
          },
          "metadata": {
            "tags": [],
            "needs_background": "light"
          }
        }
      ]
    },
    {
      "cell_type": "code",
      "metadata": {
        "colab": {
          "base_uri": "https://localhost:8080/"
        },
        "id": "_wgAzEH0u6fc",
        "outputId": "3ca5866d-2f1e-48b0-f8e9-e3e6f9b08fab"
      },
      "source": [
        "!jupyter nbconvert --to html RedesConvolucionales.ipynb"
      ],
      "execution_count": null,
      "outputs": [
        {
          "output_type": "stream",
          "text": [
            "[NbConvertApp] Converting notebook RedesConvolucionales.ipynb to html\n",
            "[NbConvertApp] Writing 536943 bytes to RedesConvolucionales.html\n"
          ],
          "name": "stdout"
        }
      ]
    },
    {
      "cell_type": "markdown",
      "metadata": {
        "id": "2hsfuT6_skU7"
      },
      "source": [
        "Obteniéndose un resultado similar a la técnica de redes entrenadas."
      ]
    },
    {
      "cell_type": "code",
      "metadata": {
        "colab": {
          "base_uri": "https://localhost:8080/"
        },
        "id": "i985cDbluy5n",
        "outputId": "fcb30780-f7e3-43e9-bc18-4b024f2d6c65"
      },
      "source": [
        "!pip install nbconvert"
      ],
      "execution_count": null,
      "outputs": [
        {
          "output_type": "stream",
          "text": [
            "Requirement already satisfied: nbconvert in /usr/local/lib/python3.7/dist-packages (5.6.1)\n",
            "Requirement already satisfied: bleach in /usr/local/lib/python3.7/dist-packages (from nbconvert) (3.3.0)\n",
            "Requirement already satisfied: jinja2>=2.4 in /usr/local/lib/python3.7/dist-packages (from nbconvert) (2.11.3)\n",
            "Requirement already satisfied: testpath in /usr/local/lib/python3.7/dist-packages (from nbconvert) (0.5.0)\n",
            "Requirement already satisfied: jupyter-core in /usr/local/lib/python3.7/dist-packages (from nbconvert) (4.7.1)\n",
            "Requirement already satisfied: traitlets>=4.2 in /usr/local/lib/python3.7/dist-packages (from nbconvert) (5.0.5)\n",
            "Requirement already satisfied: pandocfilters>=1.4.1 in /usr/local/lib/python3.7/dist-packages (from nbconvert) (1.4.3)\n",
            "Requirement already satisfied: mistune<2,>=0.8.1 in /usr/local/lib/python3.7/dist-packages (from nbconvert) (0.8.4)\n",
            "Requirement already satisfied: defusedxml in /usr/local/lib/python3.7/dist-packages (from nbconvert) (0.7.1)\n",
            "Requirement already satisfied: pygments in /usr/local/lib/python3.7/dist-packages (from nbconvert) (2.6.1)\n",
            "Requirement already satisfied: entrypoints>=0.2.2 in /usr/local/lib/python3.7/dist-packages (from nbconvert) (0.3)\n",
            "Requirement already satisfied: nbformat>=4.4 in /usr/local/lib/python3.7/dist-packages (from nbconvert) (5.1.3)\n",
            "Requirement already satisfied: packaging in /usr/local/lib/python3.7/dist-packages (from bleach->nbconvert) (20.9)\n",
            "Requirement already satisfied: six>=1.9.0 in /usr/local/lib/python3.7/dist-packages (from bleach->nbconvert) (1.15.0)\n",
            "Requirement already satisfied: webencodings in /usr/local/lib/python3.7/dist-packages (from bleach->nbconvert) (0.5.1)\n",
            "Requirement already satisfied: MarkupSafe>=0.23 in /usr/local/lib/python3.7/dist-packages (from jinja2>=2.4->nbconvert) (2.0.1)\n",
            "Requirement already satisfied: ipython-genutils in /usr/local/lib/python3.7/dist-packages (from traitlets>=4.2->nbconvert) (0.2.0)\n",
            "Requirement already satisfied: jsonschema!=2.5.0,>=2.4 in /usr/local/lib/python3.7/dist-packages (from nbformat>=4.4->nbconvert) (2.6.0)\n",
            "Requirement already satisfied: pyparsing>=2.0.2 in /usr/local/lib/python3.7/dist-packages (from packaging->bleach->nbconvert) (2.4.7)\n"
          ],
          "name": "stdout"
        }
      ]
    }
  ]
}