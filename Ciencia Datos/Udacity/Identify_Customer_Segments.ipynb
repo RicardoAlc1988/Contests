{
 "cells": [
  {
   "cell_type": "markdown",
   "metadata": {},
   "source": [
    "# Project: Identify Customer Segments\n",
    "\n",
    "In this project, you will apply unsupervised learning techniques to identify segments of the population that form the core customer base for a mail-order sales company in Germany. These segments can then be used to direct marketing campaigns towards audiences that will have the highest expected rate of returns. The data that you will use has been provided by our partners at Bertelsmann Arvato Analytics, and represents a real-life data science task.\n",
    "\n",
    "This notebook will help you complete this task by providing a framework within which you will perform your analysis steps. In each step of the project, you will see some text describing the subtask that you will perform, followed by one or more code cells for you to complete your work. **Feel free to add additional code and markdown cells as you go along so that you can explore everything in precise chunks.** The code cells provided in the base template will outline only the major tasks, and will usually not be enough to cover all of the minor tasks that comprise it.\n",
    "\n",
    "It should be noted that while there will be precise guidelines on how you should handle certain tasks in the project, there will also be places where an exact specification is not provided. **There will be times in the project where you will need to make and justify your own decisions on how to treat the data.** These are places where there may not be only one way to handle the data. In real-life tasks, there may be many valid ways to approach an analysis task. One of the most important things you can do is clearly document your approach so that other scientists can understand the decisions you've made.\n",
    "\n",
    "At the end of most sections, there will be a Markdown cell labeled **Discussion**. In these cells, you will report your findings for the completed section, as well as document the decisions that you made in your approach to each subtask. **Your project will be evaluated not just on the code used to complete the tasks outlined, but also your communication about your observations and conclusions at each stage.**"
   ]
  },
  {
   "cell_type": "code",
   "execution_count": 1,
   "metadata": {},
   "outputs": [
    {
     "data": {
      "text/plain": [
       "'\\nImport note: The classroom currently uses sklearn version 0.19.\\nIf you need to use an imputer, it is available in sklearn.preprocessing.Imputer,\\ninstead of sklearn.impute as in newer versions of sklearn.\\n'"
      ]
     },
     "execution_count": 1,
     "metadata": {},
     "output_type": "execute_result"
    }
   ],
   "source": [
    "# import libraries here; add more as necessary\n",
    "import numpy as np\n",
    "import pandas as pd\n",
    "import matplotlib.pyplot as plt\n",
    "import re\n",
    "import seaborn as sns\n",
    "from sklearn.cluster import KMeans\n",
    "\n",
    "# magic word for producing visualizations in notebook\n",
    "%matplotlib inline\n",
    "\n",
    "'''\n",
    "Import note: The classroom currently uses sklearn version 0.19.\n",
    "If you need to use an imputer, it is available in sklearn.preprocessing.Imputer,\n",
    "instead of sklearn.impute as in newer versions of sklearn.\n",
    "'''"
   ]
  },
  {
   "cell_type": "markdown",
   "metadata": {},
   "source": [
    "### Step 0: Load the Data\n",
    "\n",
    "There are four files associated with this project (not including this one):\n",
    "\n",
    "- `Udacity_AZDIAS_Subset.csv`: Demographics data for the general population of Germany; 891211 persons (rows) x 85 features (columns).\n",
    "- `Udacity_CUSTOMERS_Subset.csv`: Demographics data for customers of a mail-order company; 191652 persons (rows) x 85 features (columns).\n",
    "- `Data_Dictionary.md`: Detailed information file about the features in the provided datasets.\n",
    "- `AZDIAS_Feature_Summary.csv`: Summary of feature attributes for demographics data; 85 features (rows) x 4 columns\n",
    "\n",
    "Each row of the demographics files represents a single person, but also includes information outside of individuals, including information about their household, building, and neighborhood. You will use this information to cluster the general population into groups with similar demographic properties. Then, you will see how the people in the customers dataset fit into those created clusters. The hope here is that certain clusters are over-represented in the customers data, as compared to the general population; those over-represented clusters will be assumed to be part of the core userbase. This information can then be used for further applications, such as targeting for a marketing campaign.\n",
    "\n",
    "To start off with, load in the demographics data for the general population into a pandas DataFrame, and do the same for the feature attributes summary. Note for all of the `.csv` data files in this project: they're semicolon (`;`) delimited, so you'll need an additional argument in your [`read_csv()`](https://pandas.pydata.org/pandas-docs/stable/generated/pandas.read_csv.html) call to read in the data properly. Also, considering the size of the main dataset, it may take some time for it to load completely.\n",
    "\n",
    "Once the dataset is loaded, it's recommended that you take a little bit of time just browsing the general structure of the dataset and feature summary file. You'll be getting deep into the innards of the cleaning in the first major step of the project, so gaining some general familiarity can help you get your bearings."
   ]
  },
  {
   "cell_type": "code",
   "execution_count": 2,
   "metadata": {},
   "outputs": [],
   "source": [
    "# Load in the general demographics data.\n",
    "azdias = pd.read_csv('Udacity_AZDIAS_Subset.csv', sep=';')\n",
    "\n",
    "# Load in the feature summary file.\n",
    "feat_info = pd.read_csv('AZDIAS_Feature_Summary.csv', sep=';')"
   ]
  },
  {
   "cell_type": "code",
   "execution_count": 3,
   "metadata": {},
   "outputs": [
    {
     "name": "stdout",
     "output_type": "stream",
     "text": [
      "number of rows: 891221\n",
      "number of columns 85\n"
     ]
    }
   ],
   "source": [
    "print(\"number of rows: {}\\nnumber of columns {}\".format(azdias.shape[0], azdias.shape[1]))"
   ]
  },
  {
   "cell_type": "code",
   "execution_count": 4,
   "metadata": {},
   "outputs": [
    {
     "name": "stdout",
     "output_type": "stream",
     "text": [
      "<class 'pandas.core.frame.DataFrame'>\n",
      "RangeIndex: 891221 entries, 0 to 891220\n",
      "Data columns (total 85 columns):\n",
      "AGER_TYP                 891221 non-null int64\n",
      "ALTERSKATEGORIE_GROB     891221 non-null int64\n",
      "ANREDE_KZ                891221 non-null int64\n",
      "CJT_GESAMTTYP            886367 non-null float64\n",
      "FINANZ_MINIMALIST        891221 non-null int64\n",
      "FINANZ_SPARER            891221 non-null int64\n",
      "FINANZ_VORSORGER         891221 non-null int64\n",
      "FINANZ_ANLEGER           891221 non-null int64\n",
      "FINANZ_UNAUFFAELLIGER    891221 non-null int64\n",
      "FINANZ_HAUSBAUER         891221 non-null int64\n",
      "FINANZTYP                891221 non-null int64\n",
      "GEBURTSJAHR              891221 non-null int64\n",
      "GFK_URLAUBERTYP          886367 non-null float64\n",
      "GREEN_AVANTGARDE         891221 non-null int64\n",
      "HEALTH_TYP               891221 non-null int64\n",
      "LP_LEBENSPHASE_FEIN      886367 non-null float64\n",
      "LP_LEBENSPHASE_GROB      886367 non-null float64\n",
      "LP_FAMILIE_FEIN          886367 non-null float64\n",
      "LP_FAMILIE_GROB          886367 non-null float64\n",
      "LP_STATUS_FEIN           886367 non-null float64\n",
      "LP_STATUS_GROB           886367 non-null float64\n",
      "NATIONALITAET_KZ         891221 non-null int64\n",
      "PRAEGENDE_JUGENDJAHRE    891221 non-null int64\n",
      "RETOURTYP_BK_S           886367 non-null float64\n",
      "SEMIO_SOZ                891221 non-null int64\n",
      "SEMIO_FAM                891221 non-null int64\n",
      "SEMIO_REL                891221 non-null int64\n",
      "SEMIO_MAT                891221 non-null int64\n",
      "SEMIO_VERT               891221 non-null int64\n",
      "SEMIO_LUST               891221 non-null int64\n",
      "SEMIO_ERL                891221 non-null int64\n",
      "SEMIO_KULT               891221 non-null int64\n",
      "SEMIO_RAT                891221 non-null int64\n",
      "SEMIO_KRIT               891221 non-null int64\n",
      "SEMIO_DOM                891221 non-null int64\n",
      "SEMIO_KAEM               891221 non-null int64\n",
      "SEMIO_PFLICHT            891221 non-null int64\n",
      "SEMIO_TRADV              891221 non-null int64\n",
      "SHOPPER_TYP              891221 non-null int64\n",
      "SOHO_KZ                  817722 non-null float64\n",
      "TITEL_KZ                 817722 non-null float64\n",
      "VERS_TYP                 891221 non-null int64\n",
      "ZABEOTYP                 891221 non-null int64\n",
      "ALTER_HH                 817722 non-null float64\n",
      "ANZ_PERSONEN             817722 non-null float64\n",
      "ANZ_TITEL                817722 non-null float64\n",
      "HH_EINKOMMEN_SCORE       872873 non-null float64\n",
      "KK_KUNDENTYP             306609 non-null float64\n",
      "W_KEIT_KIND_HH           783619 non-null float64\n",
      "WOHNDAUER_2008           817722 non-null float64\n",
      "ANZ_HAUSHALTE_AKTIV      798073 non-null float64\n",
      "ANZ_HH_TITEL             794213 non-null float64\n",
      "GEBAEUDETYP              798073 non-null float64\n",
      "KONSUMNAEHE              817252 non-null float64\n",
      "MIN_GEBAEUDEJAHR         798073 non-null float64\n",
      "OST_WEST_KZ              798073 non-null object\n",
      "WOHNLAGE                 798073 non-null float64\n",
      "CAMEO_DEUG_2015          792242 non-null object\n",
      "CAMEO_DEU_2015           792242 non-null object\n",
      "CAMEO_INTL_2015          792242 non-null object\n",
      "KBA05_ANTG1              757897 non-null float64\n",
      "KBA05_ANTG2              757897 non-null float64\n",
      "KBA05_ANTG3              757897 non-null float64\n",
      "KBA05_ANTG4              757897 non-null float64\n",
      "KBA05_BAUMAX             757897 non-null float64\n",
      "KBA05_GBZ                757897 non-null float64\n",
      "BALLRAUM                 797481 non-null float64\n",
      "EWDICHTE                 797481 non-null float64\n",
      "INNENSTADT               797481 non-null float64\n",
      "GEBAEUDETYP_RASTER       798066 non-null float64\n",
      "KKK                      770025 non-null float64\n",
      "MOBI_REGIO               757897 non-null float64\n",
      "ONLINE_AFFINITAET        886367 non-null float64\n",
      "REGIOTYP                 770025 non-null float64\n",
      "KBA13_ANZAHL_PKW         785421 non-null float64\n",
      "PLZ8_ANTG1               774706 non-null float64\n",
      "PLZ8_ANTG2               774706 non-null float64\n",
      "PLZ8_ANTG3               774706 non-null float64\n",
      "PLZ8_ANTG4               774706 non-null float64\n",
      "PLZ8_BAUMAX              774706 non-null float64\n",
      "PLZ8_HHZ                 774706 non-null float64\n",
      "PLZ8_GBZ                 774706 non-null float64\n",
      "ARBEIT                   794005 non-null float64\n",
      "ORTSGR_KLS9              794005 non-null float64\n",
      "RELAT_AB                 794005 non-null float64\n",
      "dtypes: float64(49), int64(32), object(4)\n",
      "memory usage: 578.0+ MB\n"
     ]
    }
   ],
   "source": [
    "azdias.info()"
   ]
  },
  {
   "cell_type": "code",
   "execution_count": 5,
   "metadata": {},
   "outputs": [
    {
     "data": {
      "text/html": [
       "<div>\n",
       "<style scoped>\n",
       "    .dataframe tbody tr th:only-of-type {\n",
       "        vertical-align: middle;\n",
       "    }\n",
       "\n",
       "    .dataframe tbody tr th {\n",
       "        vertical-align: top;\n",
       "    }\n",
       "\n",
       "    .dataframe thead th {\n",
       "        text-align: right;\n",
       "    }\n",
       "</style>\n",
       "<table border=\"1\" class=\"dataframe\">\n",
       "  <thead>\n",
       "    <tr style=\"text-align: right;\">\n",
       "      <th></th>\n",
       "      <th>AGER_TYP</th>\n",
       "      <th>ALTERSKATEGORIE_GROB</th>\n",
       "      <th>ANREDE_KZ</th>\n",
       "      <th>CJT_GESAMTTYP</th>\n",
       "      <th>FINANZ_MINIMALIST</th>\n",
       "      <th>FINANZ_SPARER</th>\n",
       "      <th>FINANZ_VORSORGER</th>\n",
       "      <th>FINANZ_ANLEGER</th>\n",
       "      <th>FINANZ_UNAUFFAELLIGER</th>\n",
       "      <th>FINANZ_HAUSBAUER</th>\n",
       "      <th>...</th>\n",
       "      <th>PLZ8_ANTG1</th>\n",
       "      <th>PLZ8_ANTG2</th>\n",
       "      <th>PLZ8_ANTG3</th>\n",
       "      <th>PLZ8_ANTG4</th>\n",
       "      <th>PLZ8_BAUMAX</th>\n",
       "      <th>PLZ8_HHZ</th>\n",
       "      <th>PLZ8_GBZ</th>\n",
       "      <th>ARBEIT</th>\n",
       "      <th>ORTSGR_KLS9</th>\n",
       "      <th>RELAT_AB</th>\n",
       "    </tr>\n",
       "  </thead>\n",
       "  <tbody>\n",
       "    <tr>\n",
       "      <th>0</th>\n",
       "      <td>-1</td>\n",
       "      <td>2</td>\n",
       "      <td>1</td>\n",
       "      <td>2.0</td>\n",
       "      <td>3</td>\n",
       "      <td>4</td>\n",
       "      <td>3</td>\n",
       "      <td>5</td>\n",
       "      <td>5</td>\n",
       "      <td>3</td>\n",
       "      <td>...</td>\n",
       "      <td>NaN</td>\n",
       "      <td>NaN</td>\n",
       "      <td>NaN</td>\n",
       "      <td>NaN</td>\n",
       "      <td>NaN</td>\n",
       "      <td>NaN</td>\n",
       "      <td>NaN</td>\n",
       "      <td>NaN</td>\n",
       "      <td>NaN</td>\n",
       "      <td>NaN</td>\n",
       "    </tr>\n",
       "    <tr>\n",
       "      <th>1</th>\n",
       "      <td>-1</td>\n",
       "      <td>1</td>\n",
       "      <td>2</td>\n",
       "      <td>5.0</td>\n",
       "      <td>1</td>\n",
       "      <td>5</td>\n",
       "      <td>2</td>\n",
       "      <td>5</td>\n",
       "      <td>4</td>\n",
       "      <td>5</td>\n",
       "      <td>...</td>\n",
       "      <td>2.0</td>\n",
       "      <td>3.0</td>\n",
       "      <td>2.0</td>\n",
       "      <td>1.0</td>\n",
       "      <td>1.0</td>\n",
       "      <td>5.0</td>\n",
       "      <td>4.0</td>\n",
       "      <td>3.0</td>\n",
       "      <td>5.0</td>\n",
       "      <td>4.0</td>\n",
       "    </tr>\n",
       "    <tr>\n",
       "      <th>2</th>\n",
       "      <td>-1</td>\n",
       "      <td>3</td>\n",
       "      <td>2</td>\n",
       "      <td>3.0</td>\n",
       "      <td>1</td>\n",
       "      <td>4</td>\n",
       "      <td>1</td>\n",
       "      <td>2</td>\n",
       "      <td>3</td>\n",
       "      <td>5</td>\n",
       "      <td>...</td>\n",
       "      <td>3.0</td>\n",
       "      <td>3.0</td>\n",
       "      <td>1.0</td>\n",
       "      <td>0.0</td>\n",
       "      <td>1.0</td>\n",
       "      <td>4.0</td>\n",
       "      <td>4.0</td>\n",
       "      <td>3.0</td>\n",
       "      <td>5.0</td>\n",
       "      <td>2.0</td>\n",
       "    </tr>\n",
       "    <tr>\n",
       "      <th>3</th>\n",
       "      <td>2</td>\n",
       "      <td>4</td>\n",
       "      <td>2</td>\n",
       "      <td>2.0</td>\n",
       "      <td>4</td>\n",
       "      <td>2</td>\n",
       "      <td>5</td>\n",
       "      <td>2</td>\n",
       "      <td>1</td>\n",
       "      <td>2</td>\n",
       "      <td>...</td>\n",
       "      <td>2.0</td>\n",
       "      <td>2.0</td>\n",
       "      <td>2.0</td>\n",
       "      <td>0.0</td>\n",
       "      <td>1.0</td>\n",
       "      <td>3.0</td>\n",
       "      <td>4.0</td>\n",
       "      <td>2.0</td>\n",
       "      <td>3.0</td>\n",
       "      <td>3.0</td>\n",
       "    </tr>\n",
       "    <tr>\n",
       "      <th>4</th>\n",
       "      <td>-1</td>\n",
       "      <td>3</td>\n",
       "      <td>1</td>\n",
       "      <td>5.0</td>\n",
       "      <td>4</td>\n",
       "      <td>3</td>\n",
       "      <td>4</td>\n",
       "      <td>1</td>\n",
       "      <td>3</td>\n",
       "      <td>2</td>\n",
       "      <td>...</td>\n",
       "      <td>2.0</td>\n",
       "      <td>4.0</td>\n",
       "      <td>2.0</td>\n",
       "      <td>1.0</td>\n",
       "      <td>2.0</td>\n",
       "      <td>3.0</td>\n",
       "      <td>3.0</td>\n",
       "      <td>4.0</td>\n",
       "      <td>6.0</td>\n",
       "      <td>5.0</td>\n",
       "    </tr>\n",
       "  </tbody>\n",
       "</table>\n",
       "<p>5 rows × 85 columns</p>\n",
       "</div>"
      ],
      "text/plain": [
       "   AGER_TYP  ALTERSKATEGORIE_GROB  ANREDE_KZ  CJT_GESAMTTYP  \\\n",
       "0        -1                     2          1            2.0   \n",
       "1        -1                     1          2            5.0   \n",
       "2        -1                     3          2            3.0   \n",
       "3         2                     4          2            2.0   \n",
       "4        -1                     3          1            5.0   \n",
       "\n",
       "   FINANZ_MINIMALIST  FINANZ_SPARER  FINANZ_VORSORGER  FINANZ_ANLEGER  \\\n",
       "0                  3              4                 3               5   \n",
       "1                  1              5                 2               5   \n",
       "2                  1              4                 1               2   \n",
       "3                  4              2                 5               2   \n",
       "4                  4              3                 4               1   \n",
       "\n",
       "   FINANZ_UNAUFFAELLIGER  FINANZ_HAUSBAUER    ...     PLZ8_ANTG1  PLZ8_ANTG2  \\\n",
       "0                      5                 3    ...            NaN         NaN   \n",
       "1                      4                 5    ...            2.0         3.0   \n",
       "2                      3                 5    ...            3.0         3.0   \n",
       "3                      1                 2    ...            2.0         2.0   \n",
       "4                      3                 2    ...            2.0         4.0   \n",
       "\n",
       "   PLZ8_ANTG3  PLZ8_ANTG4  PLZ8_BAUMAX  PLZ8_HHZ  PLZ8_GBZ  ARBEIT  \\\n",
       "0         NaN         NaN          NaN       NaN       NaN     NaN   \n",
       "1         2.0         1.0          1.0       5.0       4.0     3.0   \n",
       "2         1.0         0.0          1.0       4.0       4.0     3.0   \n",
       "3         2.0         0.0          1.0       3.0       4.0     2.0   \n",
       "4         2.0         1.0          2.0       3.0       3.0     4.0   \n",
       "\n",
       "   ORTSGR_KLS9  RELAT_AB  \n",
       "0          NaN       NaN  \n",
       "1          5.0       4.0  \n",
       "2          5.0       2.0  \n",
       "3          3.0       3.0  \n",
       "4          6.0       5.0  \n",
       "\n",
       "[5 rows x 85 columns]"
      ]
     },
     "execution_count": 5,
     "metadata": {},
     "output_type": "execute_result"
    }
   ],
   "source": [
    "# Check the structure of the data after it's loaded (e.g. print the number of\n",
    "# rows and columns, print the first few rows).\n",
    "\n",
    "azdias.head()"
   ]
  },
  {
   "cell_type": "code",
   "execution_count": 6,
   "metadata": {},
   "outputs": [
    {
     "data": {
      "text/html": [
       "<div>\n",
       "<style scoped>\n",
       "    .dataframe tbody tr th:only-of-type {\n",
       "        vertical-align: middle;\n",
       "    }\n",
       "\n",
       "    .dataframe tbody tr th {\n",
       "        vertical-align: top;\n",
       "    }\n",
       "\n",
       "    .dataframe thead th {\n",
       "        text-align: right;\n",
       "    }\n",
       "</style>\n",
       "<table border=\"1\" class=\"dataframe\">\n",
       "  <thead>\n",
       "    <tr style=\"text-align: right;\">\n",
       "      <th></th>\n",
       "      <th>attribute</th>\n",
       "      <th>information_level</th>\n",
       "      <th>type</th>\n",
       "      <th>missing_or_unknown</th>\n",
       "    </tr>\n",
       "  </thead>\n",
       "  <tbody>\n",
       "    <tr>\n",
       "      <th>0</th>\n",
       "      <td>AGER_TYP</td>\n",
       "      <td>person</td>\n",
       "      <td>categorical</td>\n",
       "      <td>[-1,0]</td>\n",
       "    </tr>\n",
       "    <tr>\n",
       "      <th>1</th>\n",
       "      <td>ALTERSKATEGORIE_GROB</td>\n",
       "      <td>person</td>\n",
       "      <td>ordinal</td>\n",
       "      <td>[-1,0,9]</td>\n",
       "    </tr>\n",
       "    <tr>\n",
       "      <th>2</th>\n",
       "      <td>ANREDE_KZ</td>\n",
       "      <td>person</td>\n",
       "      <td>categorical</td>\n",
       "      <td>[-1,0]</td>\n",
       "    </tr>\n",
       "    <tr>\n",
       "      <th>3</th>\n",
       "      <td>CJT_GESAMTTYP</td>\n",
       "      <td>person</td>\n",
       "      <td>categorical</td>\n",
       "      <td>[0]</td>\n",
       "    </tr>\n",
       "    <tr>\n",
       "      <th>4</th>\n",
       "      <td>FINANZ_MINIMALIST</td>\n",
       "      <td>person</td>\n",
       "      <td>ordinal</td>\n",
       "      <td>[-1]</td>\n",
       "    </tr>\n",
       "  </tbody>\n",
       "</table>\n",
       "</div>"
      ],
      "text/plain": [
       "              attribute information_level         type missing_or_unknown\n",
       "0              AGER_TYP            person  categorical             [-1,0]\n",
       "1  ALTERSKATEGORIE_GROB            person      ordinal           [-1,0,9]\n",
       "2             ANREDE_KZ            person  categorical             [-1,0]\n",
       "3         CJT_GESAMTTYP            person  categorical                [0]\n",
       "4     FINANZ_MINIMALIST            person      ordinal               [-1]"
      ]
     },
     "execution_count": 6,
     "metadata": {},
     "output_type": "execute_result"
    }
   ],
   "source": [
    "feat_info.head()"
   ]
  },
  {
   "cell_type": "code",
   "execution_count": 7,
   "metadata": {},
   "outputs": [
    {
     "name": "stdout",
     "output_type": "stream",
     "text": [
      "<class 'pandas.core.frame.DataFrame'>\n",
      "RangeIndex: 85 entries, 0 to 84\n",
      "Data columns (total 4 columns):\n",
      "attribute             85 non-null object\n",
      "information_level     85 non-null object\n",
      "type                  85 non-null object\n",
      "missing_or_unknown    85 non-null object\n",
      "dtypes: object(4)\n",
      "memory usage: 2.7+ KB\n"
     ]
    }
   ],
   "source": [
    "feat_info.info()"
   ]
  },
  {
   "cell_type": "markdown",
   "metadata": {},
   "source": [
    "> **Tip**: Add additional cells to keep everything in reasonably-sized chunks! Keyboard shortcut `esc --> a` (press escape to enter command mode, then press the 'A' key) adds a new cell before the active cell, and `esc --> b` adds a new cell after the active cell. If you need to convert an active cell to a markdown cell, use `esc --> m` and to convert to a code cell, use `esc --> y`. \n",
    "\n",
    "## Step 1: Preprocessing\n",
    "\n",
    "### Step 1.1: Assess Missing Data\n",
    "\n",
    "The feature summary file contains a summary of properties for each demographics data column. You will use this file to help you make cleaning decisions during this stage of the project. First of all, you should assess the demographics data in terms of missing data. Pay attention to the following points as you perform your analysis, and take notes on what you observe. Make sure that you fill in the **Discussion** cell with your findings and decisions at the end of each step that has one!\n",
    "\n",
    "#### Step 1.1.1: Convert Missing Value Codes to NaNs\n",
    "The fourth column of the feature attributes summary (loaded in above as `feat_info`) documents the codes from the data dictionary that indicate missing or unknown data. While the file encodes this as a list (e.g. `[-1,0]`), this will get read in as a string object. You'll need to do a little bit of parsing to make use of it to identify and clean the data. Convert data that matches a 'missing' or 'unknown' value code into a numpy NaN value. You might want to see how much data takes on a 'missing' or 'unknown' code, and how much data is naturally missing, as a point of interest.\n",
    "\n",
    "**As one more reminder, you are encouraged to add additional cells to break up your analysis into manageable chunks.**"
   ]
  },
  {
   "cell_type": "code",
   "execution_count": 8,
   "metadata": {},
   "outputs": [],
   "source": [
    "# Identify missing or unknown data values and convert them to NaNs.\n",
    "#for column in azdias.columns:\n",
    "\n",
    "for column in azdias.columns:\n",
    "    idx = feat_info[feat_info['attribute'] == column].index[0]\n",
    "    str_nan_list = feat_info['missing_or_unknown'][idx]\n",
    "    pattern = re.search(\"^\\[(.+)\\]$\", str_nan_list)\n",
    "    if pattern:\n",
    "        nan_list = pattern.group(1).split(',')\n",
    "        if azdias.dtypes[column] in ['int64', 'float64']:\n",
    "            nan_list = [float(x) for x in nan_list]\n",
    "        azdias[column] = azdias[column].replace(nan_list, np.nan)"
   ]
  },
  {
   "cell_type": "markdown",
   "metadata": {},
   "source": [
    "#### Step 1.1.2: Assess Missing Data in Each Column\n",
    "\n",
    "How much missing data is present in each column? There are a few columns that are outliers in terms of the proportion of values that are missing. You will want to use matplotlib's [`hist()`](https://matplotlib.org/api/_as_gen/matplotlib.pyplot.hist.html) function to visualize the distribution of missing value counts to find these columns. Identify and document these columns. While some of these columns might have justifications for keeping or re-encoding the data, for this project you should just remove them from the dataframe. (Feel free to make remarks about these outlier columns in the discussion, however!)\n",
    "\n",
    "For the remaining features, are there any patterns in which columns have, or share, missing data?"
   ]
  },
  {
   "cell_type": "code",
   "execution_count": 9,
   "metadata": {},
   "outputs": [],
   "source": [
    "# Perform an assessment of how much missing data there is in each column of the\n",
    "# dataset.\n",
    "\n",
    "NaN_series = azdias.isna().sum()\n",
    "tmp = pd.DataFrame({'attribute':NaN_series.index, 'missing_values':NaN_series.values})\n",
    "feat_info['missing_values'] = tmp['missing_values']\n",
    "feat_info['perc_missing_values'] = feat_info['missing_values'] / azdias.shape[0]\n",
    "del tmp"
   ]
  },
  {
   "cell_type": "code",
   "execution_count": 10,
   "metadata": {},
   "outputs": [
    {
     "data": {
      "image/png": "[encoded data removed]",
      "text/plain": [
       "<matplotlib.figure.Figure at 0x7fdffbecbb00>"
      ]
     },
     "metadata": {
      "needs_background": "light"
     },
     "output_type": "display_data"
    }
   ],
   "source": [
    "# Investigate patterns in the amount of missing data in each column.\n",
    "plt.title('histogram based on missing values')\n",
    "plt.xlabel('number of missing values')\n",
    "plt.ylabel('number of columns')\n",
    "plt.hist(feat_info['missing_values'])\n",
    "plt.show()"
   ]
  },
  {
   "cell_type": "code",
   "execution_count": 11,
   "metadata": {},
   "outputs": [
    {
     "data": {
      "image/png": "[encoded data removed]",
      "text/plain": [
       "<matplotlib.figure.Figure at 0x7fdfef31c358>"
      ]
     },
     "metadata": {
      "needs_background": "light"
     },
     "output_type": "display_data"
    }
   ],
   "source": [
    "# Investigate patterns in the percentage of missing data in each column.\n",
    "plt.title('histogram based on percentage of missing values')\n",
    "plt.xlabel('% missing values')\n",
    "plt.ylabel('number of columns')\n",
    "plt.hist(feat_info['perc_missing_values'])\n",
    "plt.show()"
   ]
  },
  {
   "cell_type": "code",
   "execution_count": 12,
   "metadata": {},
   "outputs": [
    {
     "name": "stdout",
     "output_type": "stream",
     "text": [
      "Columns to be removed: ['AGER_TYP' 'GEBURTSJAHR' 'TITEL_KZ' 'ALTER_HH' 'KK_KUNDENTYP'\n",
      " 'KBA05_BAUMAX']\n"
     ]
    }
   ],
   "source": [
    "# Remove the outlier columns from the dataset. (You'll perform other data\n",
    "# engineering tasks such as re-encoding and imputation later.)\n",
    "\n",
    "# Columns with percentage of missing values equal or greater than 30%\n",
    "columns_to_remove = feat_info[feat_info['perc_missing_values'] >= 0.3]['attribute']\n",
    "print(\"Columns to be removed: {}\".format(columns_to_remove.values))\n",
    "for column in columns_to_remove:\n",
    "    azdias.drop(column, axis=1, inplace=True)"
   ]
  },
  {
   "cell_type": "markdown",
   "metadata": {},
   "source": [
    "#### Discussion 1.1.2: Assess Missing Data in Each Column\n",
    "\n",
    "Attending to the histogram above, the columns with above a thirty percent of the data missing are outliers with respect the other columns, so we have proceeded to delete them.\n",
    "\n",
    "The columns meeting the above criteria to be deleted are AGER_TYP, GEBURTSJAHR, TITEL_KZ, ALTER_HH AND KK_KUNDENTYP."
   ]
  },
  {
   "cell_type": "markdown",
   "metadata": {},
   "source": [
    "#### Step 1.1.3: Assess Missing Data in Each Row\n",
    "\n",
    "Now, you'll perform a similar assessment for the rows of the dataset. How much data is missing in each row? As with the columns, you should see some groups of points that have a very different numbers of missing values. Divide the data into two subsets: one for data points that are above some threshold for missing values, and a second subset for points below that threshold.\n",
    "\n",
    "In order to know what to do with the outlier rows, we should see if the distribution of data values on columns that are not missing data (or are missing very little data) are similar or different between the two groups. Select at least five of these columns and compare the distribution of values.\n",
    "- You can use seaborn's [`countplot()`](https://seaborn.pydata.org/generated/seaborn.countplot.html) function to create a bar chart of code frequencies and matplotlib's [`subplot()`](https://matplotlib.org/api/_as_gen/matplotlib.pyplot.subplot.html) function to put bar charts for the two subplots side by side.\n",
    "- To reduce repeated code, you might want to write a function that can perform this comparison, taking as one of its arguments a column to be compared.\n",
    "\n",
    "Depending on what you observe in your comparison, this will have implications on how you approach your conclusions later in the analysis. If the distributions of non-missing features look similar between the data with many missing values and the data with few or no missing values, then we could argue that simply dropping those points from the analysis won't present a major issue. On the other hand, if the data with many missing values looks very different from the data with few or no missing values, then we should make a note on those data as special. We'll revisit these data later on. **Either way, you should continue your analysis for now using just the subset of the data with few or no missing values.**"
   ]
  },
  {
   "cell_type": "code",
   "execution_count": 13,
   "metadata": {},
   "outputs": [],
   "source": [
    "# How much data is missing in each row of the dataset?\n",
    "NaN_series_by_row = azdias.isnull().sum(axis=1)\n",
    "NaN_values_by_row = pd.DataFrame({'missing_values_by_row': NaN_series_by_row.values})\n",
    "del NaN_series_by_row\n"
   ]
  },
  {
   "cell_type": "code",
   "execution_count": 14,
   "metadata": {},
   "outputs": [
    {
     "data": {
      "image/png": "[encoded data removed]",
      "text/plain": [
       "<matplotlib.figure.Figure at 0x7fdfef3025c0>"
      ]
     },
     "metadata": {
      "needs_background": "light"
     },
     "output_type": "display_data"
    }
   ],
   "source": [
    "# Write code to divide the data into two subsets based on the number of missing\n",
    "# values in each row.\n",
    "plt.title('histogram based on missing values by row')\n",
    "plt.xlabel('number of missing values')\n",
    "plt.ylabel('number of rows')\n",
    "plt.hist(NaN_values_by_row['missing_values_by_row'], 50)\n",
    "plt.show()\n"
   ]
  },
  {
   "cell_type": "code",
   "execution_count": 89,
   "metadata": {},
   "outputs": [
    {
     "name": "stdout",
     "output_type": "stream",
     "text": [
      "Number of rows with percentage greater than 1: 57168, a percentage of 29.8%\n",
      "Number of rows with percentage below 1: 134484, a percentage of 70.2%\n"
     ]
    }
   ],
   "source": [
    "# Subset with missing data by row above the 0.05 percentage threshold\n",
    "threshold = 1\n",
    "nan_index = NaN_values_by_row[NaN_values_by_row['missing_values_by_row'] >= threshold].index\n",
    "row_with_lot_missing_data = azdias[azdias.index.isin(nan_index)]\n",
    "print(\"Number of rows with percentage greater than {}: {}, a percentage of {:.1%}\".format(threshold, len(row_with_lot_missing_data), len(row_with_lot_missing_data) / azdias.shape[0]))\n",
    "\n",
    "#The rest of the data\n",
    "no_missing__index = NaN_values_by_row[NaN_values_by_row['missing_values_by_row'] < threshold].index\n",
    "azdias_no_missing_data = azdias[azdias.index.isin(no_missing__index)]\n",
    "print(\"Number of rows with percentage below {}: {}, a percentage of {:.1%}\".format(threshold, len(azdias_no_missing_data), len(azdias_no_missing_data) / azdias.shape[0]))"
   ]
  },
  {
   "cell_type": "code",
   "execution_count": 94,
   "metadata": {},
   "outputs": [],
   "source": [
    "# Compare the distribution of values for at least five columns where there are\n",
    "# no or few missing values, between the two subsets.\n",
    "\n",
    "def compare_distributions(df1, df2, column_name):\n",
    "    \n",
    "    # row_with_lot_missing_data\n",
    "    tmp_df1 = df1[column_name][~pd.isna(df1[column_name])]\n",
    "    plt.subplot(1, 2, 1)\n",
    "    plt.title(\"{} with missing values\".format(column_name))\n",
    "    plt.hist(tmp_df1)\n",
    "\n",
    "    #plot 2:\n",
    "    # azdias_no_missing_data\n",
    "    tmp_df2 = df2[column_name][~pd.isna(df2[column_name])]\n",
    "    plt.subplot(1, 2, 2)\n",
    "    plt.title(\"{} with no missing values\".format(column_name))\n",
    "    plt.hist(tmp_df2)\n",
    "    plt.tight_layout()\n",
    "    plt.show()\n"
   ]
  },
  {
   "cell_type": "code",
   "execution_count": 95,
   "metadata": {},
   "outputs": [
    {
     "data": {
      "image/png": "[encoded data removed]",
      "text/plain": [
       "<matplotlib.figure.Figure at 0x7fdff62945c0>"
      ]
     },
     "metadata": {
      "needs_background": "light"
     },
     "output_type": "display_data"
    },
    {
     "data": {
      "image/png": "[encoded data removed]",
      "text/plain": [
       "<matplotlib.figure.Figure at 0x7fdff616b3c8>"
      ]
     },
     "metadata": {
      "needs_background": "light"
     },
     "output_type": "display_data"
    },
    {
     "data": {
      "image/png": "[encoded data removed]",
      "text/plain": [
       "<matplotlib.figure.Figure at 0x7fdfe12455f8>"
      ]
     },
     "metadata": {
      "needs_background": "light"
     },
     "output_type": "display_data"
    },
    {
     "data": {
      "image/png": "[encoded data removed]",
      "text/plain": [
       "<matplotlib.figure.Figure at 0x7fdfe12457f0>"
      ]
     },
     "metadata": {
      "needs_background": "light"
     },
     "output_type": "display_data"
    },
    {
     "data": {
      "image/png": "[encoded data removed]",
      "text/plain": [
       "<matplotlib.figure.Figure at 0x7fdfef2c19e8>"
      ]
     },
     "metadata": {
      "needs_background": "light"
     },
     "output_type": "display_data"
    },
    {
     "data": {
      "image/png": "[encoded data removed]",
      "text/plain": [
       "<matplotlib.figure.Figure at 0x7fdfd90a1470>"
      ]
     },
     "metadata": {
      "needs_background": "light"
     },
     "output_type": "display_data"
    },
    {
     "data": {
      "image/png": "[encoded data removed]",
      "text/plain": [
       "<matplotlib.figure.Figure at 0x7fdff71ccf60>"
      ]
     },
     "metadata": {
      "needs_background": "light"
     },
     "output_type": "display_data"
    },
    {
     "data": {
      "image/png": "[encoded data removed]",
      "text/plain": [
       "<matplotlib.figure.Figure at 0x7fdfd9207c88>"
      ]
     },
     "metadata": {
      "needs_background": "light"
     },
     "output_type": "display_data"
    },
    {
     "data": {
      "image/png": "[encoded data removed]",
      "text/plain": [
       "<matplotlib.figure.Figure at 0x7fdfd90adc88>"
      ]
     },
     "metadata": {
      "needs_background": "light"
     },
     "output_type": "display_data"
    },
    {
     "data": {
      "image/png": "[encoded data removed]",
      "text/plain": [
       "<matplotlib.figure.Figure at 0x7fdfd8931908>"
      ]
     },
     "metadata": {
      "needs_background": "light"
     },
     "output_type": "display_data"
    },
    {
     "data": {
      "image/png": "[encoded data removed]",
      "text/plain": [
       "<matplotlib.figure.Figure at 0x7fdff72f7a90>"
      ]
     },
     "metadata": {
      "needs_background": "light"
     },
     "output_type": "display_data"
    },
    {
     "data": {
      "image/png": "[encoded data removed]",
      "text/plain": [
       "<matplotlib.figure.Figure at 0x7fdfe1208940>"
      ]
     },
     "metadata": {
      "needs_background": "light"
     },
     "output_type": "display_data"
    },
    {
     "data": {
      "image/png": "[encoded data removed]",
      "text/plain": [
       "<matplotlib.figure.Figure at 0x7fdff67b9710>"
      ]
     },
     "metadata": {
      "needs_background": "light"
     },
     "output_type": "display_data"
    },
    {
     "data": {
      "image/png": "[encoded data removed]",
      "text/plain": [
       "<matplotlib.figure.Figure at 0x7fdff7040400>"
      ]
     },
     "metadata": {
      "needs_background": "light"
     },
     "output_type": "display_data"
    },
    {
     "data": {
      "image/png": "[encoded data removed]",
      "text/plain": [
       "<matplotlib.figure.Figure at 0x7fdfd8822e80>"
      ]
     },
     "metadata": {
      "needs_background": "light"
     },
     "output_type": "display_data"
    }
   ],
   "source": [
    "n_sample = 15\n",
    "feat_info_sample = feat_info[~feat_info['attribute'].isin(columns_to_remove)].sample(n=n_sample)\n",
    "for index, row in feat_info_sample.iterrows():\n",
    "    compare_distributions(row_with_lot_missing_data, azdias_no_missing_data, row['attribute'])"
   ]
  },
  {
   "cell_type": "markdown",
   "metadata": {},
   "source": [
    "#### Discussion 1.1.3: Assess Missing Data in Each Row\n",
    "\n",
    "As we can see in the histograms, the distributions are similar and therefore we can eliminate the rows with missing data."
   ]
  },
  {
   "cell_type": "markdown",
   "metadata": {},
   "source": [
    "### Step 1.2: Select and Re-Encode Features\n",
    "\n",
    "Checking for missing data isn't the only way in which you can prepare a dataset for analysis. Since the unsupervised learning techniques to be used will only work on data that is encoded numerically, you need to make a few encoding changes or additional assumptions to be able to make progress. In addition, while almost all of the values in the dataset are encoded using numbers, not all of them represent numeric values. Check the third column of the feature summary (`feat_info`) for a summary of types of measurement.\n",
    "- For numeric and interval data, these features can be kept without changes.\n",
    "- Most of the variables in the dataset are ordinal in nature. While ordinal values may technically be non-linear in spacing, make the simplifying assumption that the ordinal variables can be treated as being interval in nature (that is, kept without any changes).\n",
    "- Special handling may be necessary for the remaining two variable types: categorical, and 'mixed'.\n",
    "\n",
    "In the first two parts of this sub-step, you will perform an investigation of the categorical and mixed-type features and make a decision on each of them, whether you will keep, drop, or re-encode each. Then, in the last part, you will create a new data frame with only the selected and engineered columns.\n",
    "\n",
    "Data wrangling is often the trickiest part of the data analysis process, and there's a lot of it to be done here. But stick with it: once you're done with this step, you'll be ready to get to the machine learning parts of the project!"
   ]
  },
  {
   "cell_type": "code",
   "execution_count": 18,
   "metadata": {},
   "outputs": [
    {
     "data": {
      "text/plain": [
       "type\n",
       "categorical    18\n",
       "mixed           6\n",
       "numeric         6\n",
       "ordinal        49\n",
       "Name: type, dtype: int64"
      ]
     },
     "execution_count": 18,
     "metadata": {},
     "output_type": "execute_result"
    }
   ],
   "source": [
    "# How many features are there of each data type?\n",
    "feat_info_removed_columns = feat_info[~feat_info['attribute'].isin(columns_to_remove)]\n",
    "feat_info_removed_columns.groupby('type')['type'].count()"
   ]
  },
  {
   "cell_type": "markdown",
   "metadata": {},
   "source": [
    "#### Step 1.2.1: Re-Encode Categorical Features\n",
    "\n",
    "For categorical data, you would ordinarily need to encode the levels as dummy variables. Depending on the number of categories, perform one of the following:\n",
    "- For binary (two-level) categoricals that take numeric values, you can keep them without needing to do anything.\n",
    "- There is one binary variable that takes on non-numeric values. For this one, you need to re-encode the values as numbers or create a dummy variable.\n",
    "- For multi-level categoricals (three or more values), you can choose to encode the values using multiple dummy variables (e.g. via [OneHotEncoder](http://scikit-learn.org/stable/modules/generated/sklearn.preprocessing.OneHotEncoder.html)), or (to keep things straightforward) just drop them from the analysis. As always, document your choices in the Discussion section."
   ]
  },
  {
   "cell_type": "code",
   "execution_count": 19,
   "metadata": {},
   "outputs": [
    {
     "name": "stdout",
     "output_type": "stream",
     "text": [
      "Column name ANREDE_KZ, number of distinct values 2 and column type int64\n",
      "Column name CJT_GESAMTTYP, number of distinct values 6 and column type float64\n",
      "Column name FINANZTYP, number of distinct values 6 and column type int64\n",
      "Column name GFK_URLAUBERTYP, number of distinct values 12 and column type float64\n",
      "Column name GREEN_AVANTGARDE, number of distinct values 2 and column type int64\n",
      "Column name LP_FAMILIE_FEIN, number of distinct values 11 and column type float64\n",
      "Column name LP_FAMILIE_GROB, number of distinct values 5 and column type float64\n",
      "Column name LP_STATUS_FEIN, number of distinct values 10 and column type float64\n",
      "Column name LP_STATUS_GROB, number of distinct values 5 and column type float64\n",
      "Column name NATIONALITAET_KZ, number of distinct values 3 and column type float64\n",
      "Column name SHOPPER_TYP, number of distinct values 4 and column type float64\n",
      "Column name SOHO_KZ, number of distinct values 2 and column type float64\n",
      "Column name VERS_TYP, number of distinct values 2 and column type float64\n",
      "Column name ZABEOTYP, number of distinct values 6 and column type int64\n",
      "Column name GEBAEUDETYP, number of distinct values 4 and column type float64\n",
      "Column name OST_WEST_KZ, number of distinct values 2 and column type object\n",
      "Column name CAMEO_DEUG_2015, number of distinct values 9 and column type object\n",
      "Column name CAMEO_DEU_2015, number of distinct values 44 and column type object\n",
      "Multilevel variables: ['CJT_GESAMTTYP', 'FINANZTYP', 'GFK_URLAUBERTYP', 'LP_FAMILIE_FEIN', 'LP_FAMILIE_GROB', 'LP_STATUS_FEIN', 'LP_STATUS_GROB', 'NATIONALITAET_KZ', 'SHOPPER_TYP', 'ZABEOTYP', 'GEBAEUDETYP', 'CAMEO_DEUG_2015', 'CAMEO_DEU_2015']\n"
     ]
    }
   ],
   "source": [
    "# Assess categorical variables: which are binary, which are multi-level, and\n",
    "# which one needs to be re-encoded?\n",
    "azdias_types = azdias_no_missing_data.dtypes\n",
    "multilevel_variables = []\n",
    "for index, row in feat_info_removed_columns[feat_info_removed_columns['type'] == 'categorical'].iterrows():\n",
    "    column = row['attribute']\n",
    "    type_= azdias_types[column]\n",
    "    n_distinct_values = azdias_no_missing_data[column].unique().size\n",
    "    if n_distinct_values > 2:\n",
    "        multilevel_variables.append(column)\n",
    "    print(\"Column name {}, number of distinct values {} and column type {}\".format(column, n_distinct_values, type_))\n",
    "print('Multilevel variables: {}'.format(multilevel_variables))"
   ]
  },
  {
   "cell_type": "code",
   "execution_count": 20,
   "metadata": {},
   "outputs": [],
   "source": [
    "# Reencode the feature with two values and type object\n",
    "azdias_no_missing_data = azdias_no_missing_data.join(pd.get_dummies(azdias_no_missing_data[['OST_WEST_KZ']]))\n",
    "azdias_no_missing_data.drop('OST_WEST_KZ', axis=1, inplace=True)"
   ]
  },
  {
   "cell_type": "code",
   "execution_count": 21,
   "metadata": {},
   "outputs": [],
   "source": [
    "# Re-encode categorical variable(s) to be kept in the analysis.\n",
    "for column in multilevel_variables:\n",
    "    azdias_no_missing_data.drop(column, axis=1, inplace=True)\n"
   ]
  },
  {
   "cell_type": "markdown",
   "metadata": {},
   "source": [
    "#### Discussion 1.2.1: Re-Encode Categorical Features\n",
    "\n",
    "We have keeped only the the coluns with two values, namely, ANREDE_KZ, GREEN_AVANTGARDE, SOHO_KZ, VERS_TYP and OST_WEST_KZ.\n",
    "This last one has been re-encoded by changing the object type to one hot enconding."
   ]
  },
  {
   "cell_type": "markdown",
   "metadata": {},
   "source": [
    "#### Step 1.2.2: Engineer Mixed-Type Features\n",
    "\n",
    "There are a handful of features that are marked as \"mixed\" in the feature summary that require special treatment in order to be included in the analysis. There are two in particular that deserve attention; the handling of the rest are up to your own choices:\n",
    "- \"PRAEGENDE_JUGENDJAHRE\" combines information on three dimensions: generation by decade, movement (mainstream vs. avantgarde), and nation (east vs. west). While there aren't enough levels to disentangle east from west, you should create two new variables to capture the other two dimensions: an interval-type variable for decade, and a binary variable for movement.\n",
    "- \"CAMEO_INTL_2015\" combines information on two axes: wealth and life stage. Break up the two-digit codes by their 'tens'-place and 'ones'-place digits into two new ordinal variables (which, for the purposes of this project, is equivalent to just treating them as their raw numeric values).\n",
    "- If you decide to keep or engineer new features around the other mixed-type features, make sure you note your steps in the Discussion section.\n",
    "\n",
    "Be sure to check `Data_Dictionary.md` for the details needed to finish these tasks."
   ]
  },
  {
   "cell_type": "code",
   "execution_count": 22,
   "metadata": {},
   "outputs": [],
   "source": [
    "# Investigate \"PRAEGENDE_JUGENDJAHRE\" and engineer two new variables.\n",
    "\n",
    "# 1 war years \n",
    "# 2 reconstruction\n",
    "# 3 economic miracle\n",
    "# 4 milk bar\n",
    "# 5 generation 68\n",
    "# 6 opponents to the building of the Wall\n",
    "# 7 family orientation\n",
    "# 8 peace movement\n",
    "# 9 Generation Golf\n",
    "# 10 ecological awareness\n",
    "# 11 FDJ / communist party youth organisation\n",
    "# 12 Swords into ploughshares\n",
    "# 13 digital media kids \n",
    "decade_mapping = {1:1, 2:2, 3:3, 4:4, 5:3, 6:5, 7:6, 8:7, 9:8, 10:9, 11:10, 12:11, 13:12, 14:13, 15:10}\n",
    "\n",
    "# 1 Mainstream\n",
    "# 2 AvantgradeC\n",
    "movement_mapping = {1:1, 2:2, 3:1, 4:2, 5:1, 6:2, 7:2, 8:1, 9:2, 10:1, 11:2, 12:1, 13:2, 14:1, 15:2}"
   ]
  },
  {
   "cell_type": "code",
   "execution_count": 23,
   "metadata": {},
   "outputs": [],
   "source": [
    "azdias_no_missing_data['MOVEMENT'] = azdias_no_missing_data['PRAEGENDE_JUGENDJAHRE'].map(movement_mapping).astype('Int64')\n",
    "azdias_no_missing_data['DECADE'] = azdias_no_missing_data['PRAEGENDE_JUGENDJAHRE'].map(decade_mapping).astype('Int64')\n",
    "azdias_no_missing_data.drop('PRAEGENDE_JUGENDJAHRE', axis=1, inplace=True)"
   ]
  },
  {
   "cell_type": "code",
   "execution_count": 24,
   "metadata": {},
   "outputs": [],
   "source": [
    "# Investigate \"CAMEO_INTL_2015\" and engineer two new variables.\n",
    "\n",
    "# 1 Wealthy Households \n",
    "# 2 Prosperous Households\n",
    "# 3 Comfortable Households\n",
    "# 4 Less Affluent Households\n",
    "# 5 Poorer Household\n",
    "wealth_mapping = {'11':1, '12':1, '13':1, '14':1, '15':1, '21':2, '22':2, '23':2, '24':2, '25':2, '31':3, '32':3, '33':3, '34':3, '35':3, '41':4, '42':4, '43':4, '44':4, '45':4, '51':5, '52':5, '53':5, '54':5, '55':5}\n",
    "\n",
    "# 1 Pre-Family Couples & Single\n",
    "# 2 Young Couples With Children\n",
    "# 3 Families With School Age Children\n",
    "# 4 Older Families &  Mature Couples\n",
    "# 5 Elders In Retirement\n",
    "life_stage_mapping = {'11':1, '12':2, '13':3, '14':4, '15':5, '21':1, '22':2, '23':3, '24':4, '25':5, '31':1, '32':2, '33':3, '34':4, '35':5, '41':1, '42':2, '43':3, '44':4, '45':5, '51':1, '52':2, '53':3, '54':4, '55':5}"
   ]
  },
  {
   "cell_type": "code",
   "execution_count": 25,
   "metadata": {},
   "outputs": [],
   "source": [
    "azdias_no_missing_data['LIFE_STAGE'] = azdias_no_missing_data['CAMEO_INTL_2015'].map(wealth_mapping).astype('Int64')\n",
    "azdias_no_missing_data['DECADE'] = azdias_no_missing_data['CAMEO_INTL_2015'].map(life_stage_mapping).astype('Int64')\n",
    "azdias_no_missing_data.drop('CAMEO_INTL_2015', axis=1, inplace=True)"
   ]
  },
  {
   "cell_type": "markdown",
   "metadata": {},
   "source": [
    "#### Discussion 1.2.2: Engineer Mixed-Type Features\n",
    "\n",
    "As it can be een, we have dropped the original variables and included the new calculated ones, having into account the documentation provided in the Data_Dictionary.md"
   ]
  },
  {
   "cell_type": "markdown",
   "metadata": {},
   "source": [
    "#### Step 1.2.3: Complete Feature Selection\n",
    "\n",
    "In order to finish this step up, you need to make sure that your data frame now only has the columns that you want to keep. To summarize, the dataframe should consist of the following:\n",
    "- All numeric, interval, and ordinal type columns from the original dataset.\n",
    "- Binary categorical features (all numerically-encoded).\n",
    "- Engineered features from other multi-level categorical features and mixed features.\n",
    "\n",
    "Make sure that for any new columns that you have engineered, that you've excluded the original columns from the final dataset. Otherwise, their values will interfere with the analysis later on the project. For example, you should not keep \"PRAEGENDE_JUGENDJAHRE\", since its values won't be useful for the algorithm: only the values derived from it in the engineered features you created should be retained. As a reminder, your data should only be from **the subset with few or no missing values**."
   ]
  },
  {
   "cell_type": "code",
   "execution_count": 26,
   "metadata": {},
   "outputs": [],
   "source": [
    "# If there are other re-engineering tasks you need to perform, make sure you\n",
    "# take care of them here. (Dealing with missing data will come in step 2.1.)\n",
    "\n",
    "# No more steps are needed at the moment\n"
   ]
  },
  {
   "cell_type": "code",
   "execution_count": 27,
   "metadata": {},
   "outputs": [
    {
     "name": "stdout",
     "output_type": "stream",
     "text": [
      "<class 'pandas.core.frame.DataFrame'>\n",
      "Int64Index: 623209 entries, 1 to 891220\n",
      "Data columns (total 68 columns):\n",
      "ALTERSKATEGORIE_GROB     623209 non-null float64\n",
      "ANREDE_KZ                623209 non-null int64\n",
      "FINANZ_MINIMALIST        623209 non-null int64\n",
      "FINANZ_SPARER            623209 non-null int64\n",
      "FINANZ_VORSORGER         623209 non-null int64\n",
      "FINANZ_ANLEGER           623209 non-null int64\n",
      "FINANZ_UNAUFFAELLIGER    623209 non-null int64\n",
      "FINANZ_HAUSBAUER         623209 non-null int64\n",
      "GREEN_AVANTGARDE         623209 non-null int64\n",
      "HEALTH_TYP               623209 non-null float64\n",
      "LP_LEBENSPHASE_FEIN      623209 non-null float64\n",
      "LP_LEBENSPHASE_GROB      623209 non-null float64\n",
      "RETOURTYP_BK_S           623209 non-null float64\n",
      "SEMIO_SOZ                623209 non-null int64\n",
      "SEMIO_FAM                623209 non-null int64\n",
      "SEMIO_REL                623209 non-null int64\n",
      "SEMIO_MAT                623209 non-null int64\n",
      "SEMIO_VERT               623209 non-null int64\n",
      "SEMIO_LUST               623209 non-null int64\n",
      "SEMIO_ERL                623209 non-null int64\n",
      "SEMIO_KULT               623209 non-null int64\n",
      "SEMIO_RAT                623209 non-null int64\n",
      "SEMIO_KRIT               623209 non-null int64\n",
      "SEMIO_DOM                623209 non-null int64\n",
      "SEMIO_KAEM               623209 non-null int64\n",
      "SEMIO_PFLICHT            623209 non-null int64\n",
      "SEMIO_TRADV              623209 non-null int64\n",
      "SOHO_KZ                  623209 non-null float64\n",
      "VERS_TYP                 623209 non-null float64\n",
      "ANZ_PERSONEN             623209 non-null float64\n",
      "ANZ_TITEL                623209 non-null float64\n",
      "HH_EINKOMMEN_SCORE       623209 non-null float64\n",
      "W_KEIT_KIND_HH           623209 non-null float64\n",
      "WOHNDAUER_2008           623209 non-null float64\n",
      "ANZ_HAUSHALTE_AKTIV      623209 non-null float64\n",
      "ANZ_HH_TITEL             623209 non-null float64\n",
      "KONSUMNAEHE              623209 non-null float64\n",
      "MIN_GEBAEUDEJAHR         623209 non-null float64\n",
      "WOHNLAGE                 623209 non-null float64\n",
      "KBA05_ANTG1              623209 non-null float64\n",
      "KBA05_ANTG2              623209 non-null float64\n",
      "KBA05_ANTG3              623209 non-null float64\n",
      "KBA05_ANTG4              623209 non-null float64\n",
      "KBA05_GBZ                623209 non-null float64\n",
      "BALLRAUM                 623209 non-null float64\n",
      "EWDICHTE                 623209 non-null float64\n",
      "INNENSTADT               623209 non-null float64\n",
      "GEBAEUDETYP_RASTER       623209 non-null float64\n",
      "KKK                      623209 non-null float64\n",
      "MOBI_REGIO               623209 non-null float64\n",
      "ONLINE_AFFINITAET        623209 non-null float64\n",
      "REGIOTYP                 623209 non-null float64\n",
      "KBA13_ANZAHL_PKW         623209 non-null float64\n",
      "PLZ8_ANTG1               623209 non-null float64\n",
      "PLZ8_ANTG2               623209 non-null float64\n",
      "PLZ8_ANTG3               623209 non-null float64\n",
      "PLZ8_ANTG4               623209 non-null float64\n",
      "PLZ8_BAUMAX              623209 non-null float64\n",
      "PLZ8_HHZ                 623209 non-null float64\n",
      "PLZ8_GBZ                 623209 non-null float64\n",
      "ARBEIT                   623209 non-null float64\n",
      "ORTSGR_KLS9              623209 non-null float64\n",
      "RELAT_AB                 623209 non-null float64\n",
      "OST_WEST_KZ_O            623209 non-null uint8\n",
      "OST_WEST_KZ_W            623209 non-null uint8\n",
      "MOVEMENT                 623209 non-null int64\n",
      "DECADE                   623209 non-null int64\n",
      "LIFE_STAGE               623209 non-null int64\n",
      "dtypes: float64(41), int64(25), uint8(2)\n",
      "memory usage: 339.8 MB\n"
     ]
    }
   ],
   "source": [
    "# Do whatever you need to in order to ensure that the dataframe only contains\n",
    "# the columns that should be passed to the algorithm functions.\n",
    "\n",
    "#We do not need to do any additional selection of variables because haven been already done\n",
    "azdias_no_missing_data.info()\n"
   ]
  },
  {
   "cell_type": "markdown",
   "metadata": {},
   "source": [
    "### Step 1.3: Create a Cleaning Function\n",
    "\n",
    "Even though you've finished cleaning up the general population demographics data, it's important to look ahead to the future and realize that you'll need to perform the same cleaning steps on the customer demographics data. In this substep, complete the function below to execute the main feature selection, encoding, and re-engineering steps you performed above. Then, when it comes to looking at the customer data in Step 3, you can just run this function on that DataFrame to get the trimmed dataset in a single step."
   ]
  },
  {
   "cell_type": "code",
   "execution_count": 28,
   "metadata": {},
   "outputs": [],
   "source": [
    "def clean_data(df):\n",
    "    \"\"\"\n",
    "    Perform feature trimming, re-encoding, and engineering for demographics\n",
    "    data\n",
    "    \n",
    "    INPUT: Demographics DataFrame\n",
    "    OUTPUT: Trimmed and cleaned demographics DataFrame\n",
    "    \"\"\"\n",
    "    \n",
    "    # Put in code here to execute all main cleaning steps:\n",
    "    # convert missing value codes into NaNs, ...\n",
    "    for column in df.columns:\n",
    "        idx = feat_info[feat_info['attribute'] == column].index[0]\n",
    "        str_nan_list = feat_info['missing_or_unknown'][idx]\n",
    "        pattern = re.search(\"^\\[(.+)\\]$\", str_nan_list)\n",
    "        if pattern:\n",
    "            nan_list = pattern.group(1).split(',')\n",
    "            if df.dtypes[column] in ['int64', 'float64']:\n",
    "                nan_list = [float(x) for x in nan_list]\n",
    "            df[column] = df[column].replace(nan_list, np.nan)\n",
    "    \n",
    "    # remove selected columns and rows, ...\n",
    "    columns_to_remove = ['AGER_TYP', 'GEBURTSJAHR', 'TITEL_KZ', 'ALTER_HH', 'KK_KUNDENTYP', 'KBA05_BAUMAX']\n",
    "    for column in columns_to_remove:\n",
    "        df.drop(column, axis=1, inplace=True)\n",
    "    \n",
    "    null_by_row = df.isnull().sum(axis=1)\n",
    "    NaN_values_by_row = pd.DataFrame({'missing_values_by_row':null_by_row.values})\n",
    "    del null_by_row\n",
    "    \n",
    "    threshold = 1\n",
    "    no_missing_index = NaN_values_by_row[NaN_values_by_row['missing_values_by_row'] < threshold].index\n",
    "    df_no_missing_values = df[df.index.isin(no_missing_index)]\n",
    "    \n",
    "    # select, re-encode, and engineer column values.\n",
    "    df_no_missing_values = df_no_missing_values.join(pd.get_dummies(df_no_missing_values[['OST_WEST_KZ']]))\n",
    "    df_no_missing_values.drop('OST_WEST_KZ', axis=1, inplace=True)\n",
    "    \n",
    "    multi_level_variables = ['CJT_GESAMTTYP', 'FINANZTYP', 'GFK_URLAUBERTYP', 'LP_FAMILIE_FEIN', 'LP_FAMILIE_GROB', 'LP_STATUS_FEIN', 'LP_STATUS_GROB', 'NATIONALITAET_KZ', 'SHOPPER_TYP', 'ZABEOTYP', 'GEBAEUDETYP', 'CAMEO_DEUG_2015', 'CAMEO_DEU_2015']\n",
    "    for column in multi_level_variables:\n",
    "        df_no_missing_values.drop(column, axis=1, inplace=True)\n",
    "        \n",
    "        \n",
    "    # 1 war years \n",
    "    # 2 reconstruction\n",
    "    # 3 economic miracle\n",
    "    # 4 milk bar\n",
    "    # 5 generation 68\n",
    "    # 6 opponents to the building of the Wall\n",
    "    # 7 family orientation\n",
    "    # 8 peace movement\n",
    "    # 9 Generation Golf\n",
    "    # 10 ecological awareness\n",
    "    # 11 FDJ / communist party youth organisation\n",
    "    # 12 Swords into ploughshares\n",
    "    # 13 digital media kids \n",
    "    decade_mapping = {1:1, 2:2, 3:3, 4:4, 5:3, 6:5, 7:6, 8:7, 9:8, 10:9, 11:10, 12:11, 13:12, 14:13, 15:10}\n",
    "\n",
    "    # 1 Mainstream\n",
    "    # 2 AvantgradeC\n",
    "    movement_mapping = {1:1, 2:2, 3:1, 4:2, 5:1, 6:2, 7:2, 8:1, 9:2, 10:1, 11:2, 12:1, 13:2, 14:1, 15:2}        \n",
    "        \n",
    "    df_no_missing_values['MOVEMENT'] = df_no_missing_values['PRAEGENDE_JUGENDJAHRE'].map(movement_mapping).astype('Int64')\n",
    "    df_no_missing_values['DECADE'] = df_no_missing_values['PRAEGENDE_JUGENDJAHRE'].map(decade_mapping).astype('Int64')\n",
    "    df_no_missing_values.drop('PRAEGENDE_JUGENDJAHRE', axis=1, inplace=True)\n",
    "    \n",
    "\n",
    "    # 1 Wealthy Households \n",
    "    # 2 Prosperous Households\n",
    "    # 3 Comfortable Households\n",
    "    # 4 Less Affluent Households\n",
    "    # 5 Poorer Household\n",
    "    wealth_mapping = {'11':1, '12':1, '13':1, '14':1, '15':1, '21':2, '22':2, '23':2, '24':2, '25':2, '31':3, '32':3, '33':3, '34':3, '35':3, '41':4, '42':4, '43':4, '44':4, '45':4, '51':5, '52':5, '53':5, '54':5, '55':5}\n",
    "\n",
    "    # 1 Pre-Family Couples & Single\n",
    "    # 2 Young Couples With Children\n",
    "    # 3 Families With School Age Children\n",
    "    # 4 Older Families &  Mature Couples\n",
    "    # 5 Elders In Retirement\n",
    "    life_stage_mapping = {'11':1, '12':2, '13':3, '14':4, '15':5, '21':1, '22':2, '23':3, '24':4, '25':5, '31':1, '32':2, '33':3, '34':4, '35':5, '41':1, '42':2, '43':3, '44':4, '45':5, '51':1, '52':2, '53':3, '54':4, '55':5}    \n",
    "    \n",
    "    df_no_missing_values['LIFE_STAGE'] = df_no_missing_values['CAMEO_INTL_2015'].map(wealth_mapping).astype('Int64')\n",
    "    df_no_missing_values['DECADE'] = df_no_missing_values['CAMEO_INTL_2015'].map(life_stage_mapping).astype('Int64')\n",
    "    df_no_missing_values.drop('CAMEO_INTL_2015', axis=1, inplace=True)\n",
    "    \n",
    "    # Return the cleaned dataframe.\n",
    "    return df_no_missing_values\n",
    "    \n",
    "    \n",
    "    "
   ]
  },
  {
   "cell_type": "markdown",
   "metadata": {},
   "source": [
    "## Step 2: Feature Transformation\n",
    "\n",
    "### Step 2.1: Apply Feature Scaling\n",
    "\n",
    "Before we apply dimensionality reduction techniques to the data, we need to perform feature scaling so that the principal component vectors are not influenced by the natural differences in scale for features. Starting from this part of the project, you'll want to keep an eye on the [API reference page for sklearn](http://scikit-learn.org/stable/modules/classes.html) to help you navigate to all of the classes and functions that you'll need. In this substep, you'll need to check the following:\n",
    "\n",
    "- sklearn requires that data not have missing values in order for its estimators to work properly. So, before applying the scaler to your data, make sure that you've cleaned the DataFrame of the remaining missing values. This can be as simple as just removing all data points with missing data, or applying an [Imputer](https://scikit-learn.org/0.16/modules/generated/sklearn.preprocessing.Imputer.html) to replace all missing values. You might also try a more complicated procedure where you temporarily remove missing values in order to compute the scaling parameters before re-introducing those missing values and applying imputation. Think about how much missing data you have and what possible effects each approach might have on your analysis, and justify your decision in the discussion section below.\n",
    "- For the actual scaling function, a [StandardScaler](http://scikit-learn.org/stable/modules/generated/sklearn.preprocessing.StandardScaler.html) instance is suggested, scaling each feature to mean 0 and standard deviation 1.\n",
    "- For these classes, you can make use of the `.fit_transform()` method to both fit a procedure to the data as well as apply the transformation to the data at the same time. Don't forget to keep the fit sklearn objects handy, since you'll be applying them to the customer demographics data towards the end of the project."
   ]
  },
  {
   "cell_type": "code",
   "execution_count": 29,
   "metadata": {},
   "outputs": [],
   "source": [
    "# If you've not yet cleaned the dataset of all NaN values, then investigate and\n",
    "# do that now."
   ]
  },
  {
   "cell_type": "code",
   "execution_count": 30,
   "metadata": {},
   "outputs": [],
   "source": [
    "# Apply feature scaling to the general population demographics data.\n",
    "\n",
    "from sklearn.preprocessing import StandardScaler\n",
    "scaler = StandardScaler()\n",
    "azdias_normalized = scaler.fit_transform(azdias_no_missing_data)\n",
    "azdias_normalized = pd.DataFrame(azdias_normalized, columns=azdias_no_missing_data.columns)"
   ]
  },
  {
   "cell_type": "code",
   "execution_count": 31,
   "metadata": {},
   "outputs": [
    {
     "data": {
      "text/html": [
       "<div>\n",
       "<style scoped>\n",
       "    .dataframe tbody tr th:only-of-type {\n",
       "        vertical-align: middle;\n",
       "    }\n",
       "\n",
       "    .dataframe tbody tr th {\n",
       "        vertical-align: top;\n",
       "    }\n",
       "\n",
       "    .dataframe thead th {\n",
       "        text-align: right;\n",
       "    }\n",
       "</style>\n",
       "<table border=\"1\" class=\"dataframe\">\n",
       "  <thead>\n",
       "    <tr style=\"text-align: right;\">\n",
       "      <th></th>\n",
       "      <th>ALTERSKATEGORIE_GROB</th>\n",
       "      <th>ANREDE_KZ</th>\n",
       "      <th>FINANZ_MINIMALIST</th>\n",
       "      <th>FINANZ_SPARER</th>\n",
       "      <th>FINANZ_VORSORGER</th>\n",
       "      <th>FINANZ_ANLEGER</th>\n",
       "      <th>FINANZ_UNAUFFAELLIGER</th>\n",
       "      <th>FINANZ_HAUSBAUER</th>\n",
       "      <th>GREEN_AVANTGARDE</th>\n",
       "      <th>HEALTH_TYP</th>\n",
       "      <th>...</th>\n",
       "      <th>PLZ8_HHZ</th>\n",
       "      <th>PLZ8_GBZ</th>\n",
       "      <th>ARBEIT</th>\n",
       "      <th>ORTSGR_KLS9</th>\n",
       "      <th>RELAT_AB</th>\n",
       "      <th>OST_WEST_KZ_O</th>\n",
       "      <th>OST_WEST_KZ_W</th>\n",
       "      <th>MOVEMENT</th>\n",
       "      <th>DECADE</th>\n",
       "      <th>LIFE_STAGE</th>\n",
       "    </tr>\n",
       "  </thead>\n",
       "  <tbody>\n",
       "    <tr>\n",
       "      <th>0</th>\n",
       "      <td>-1.746291</td>\n",
       "      <td>0.977825</td>\n",
       "      <td>-1.512224</td>\n",
       "      <td>1.581058</td>\n",
       "      <td>-1.045042</td>\n",
       "      <td>1.539058</td>\n",
       "      <td>1.047073</td>\n",
       "      <td>1.340482</td>\n",
       "      <td>-0.553670</td>\n",
       "      <td>1.044647</td>\n",
       "      <td>...</td>\n",
       "      <td>1.441599</td>\n",
       "      <td>0.583438</td>\n",
       "      <td>-0.201181</td>\n",
       "      <td>-0.171845</td>\n",
       "      <td>0.656462</td>\n",
       "      <td>-0.519209</td>\n",
       "      <td>0.519209</td>\n",
       "      <td>-0.553670</td>\n",
       "      <td>-1.251108</td>\n",
       "      <td>1.147882</td>\n",
       "    </tr>\n",
       "    <tr>\n",
       "      <th>1</th>\n",
       "      <td>0.202107</td>\n",
       "      <td>0.977825</td>\n",
       "      <td>-1.512224</td>\n",
       "      <td>0.900443</td>\n",
       "      <td>-1.765051</td>\n",
       "      <td>-0.531628</td>\n",
       "      <td>0.318373</td>\n",
       "      <td>1.340482</td>\n",
       "      <td>1.806129</td>\n",
       "      <td>1.044647</td>\n",
       "      <td>...</td>\n",
       "      <td>0.400949</td>\n",
       "      <td>0.583438</td>\n",
       "      <td>-0.201181</td>\n",
       "      <td>-0.171845</td>\n",
       "      <td>-0.823844</td>\n",
       "      <td>-0.519209</td>\n",
       "      <td>0.519209</td>\n",
       "      <td>1.806129</td>\n",
       "      <td>0.749822</td>\n",
       "      <td>-0.909997</td>\n",
       "    </tr>\n",
       "    <tr>\n",
       "      <th>2</th>\n",
       "      <td>0.202107</td>\n",
       "      <td>-1.022678</td>\n",
       "      <td>0.692406</td>\n",
       "      <td>0.219828</td>\n",
       "      <td>0.394976</td>\n",
       "      <td>-1.221857</td>\n",
       "      <td>0.318373</td>\n",
       "      <td>-0.856545</td>\n",
       "      <td>-0.553670</td>\n",
       "      <td>1.044647</td>\n",
       "      <td>...</td>\n",
       "      <td>-0.639702</td>\n",
       "      <td>-0.314764</td>\n",
       "      <td>0.809743</td>\n",
       "      <td>0.263748</td>\n",
       "      <td>1.396614</td>\n",
       "      <td>-0.519209</td>\n",
       "      <td>0.519209</td>\n",
       "      <td>-0.553670</td>\n",
       "      <td>0.082845</td>\n",
       "      <td>0.461922</td>\n",
       "    </tr>\n",
       "    <tr>\n",
       "      <th>3</th>\n",
       "      <td>-1.746291</td>\n",
       "      <td>0.977825</td>\n",
       "      <td>-0.042471</td>\n",
       "      <td>-1.141401</td>\n",
       "      <td>1.114984</td>\n",
       "      <td>-0.531628</td>\n",
       "      <td>-0.410328</td>\n",
       "      <td>1.340482</td>\n",
       "      <td>-0.553670</td>\n",
       "      <td>1.044647</td>\n",
       "      <td>...</td>\n",
       "      <td>1.441599</td>\n",
       "      <td>1.481640</td>\n",
       "      <td>-1.212105</td>\n",
       "      <td>-1.043032</td>\n",
       "      <td>-0.083691</td>\n",
       "      <td>-0.519209</td>\n",
       "      <td>0.519209</td>\n",
       "      <td>-0.553670</td>\n",
       "      <td>0.749822</td>\n",
       "      <td>1.147882</td>\n",
       "    </tr>\n",
       "    <tr>\n",
       "      <th>4</th>\n",
       "      <td>-0.772092</td>\n",
       "      <td>0.977825</td>\n",
       "      <td>-1.512224</td>\n",
       "      <td>1.581058</td>\n",
       "      <td>-1.765051</td>\n",
       "      <td>1.539058</td>\n",
       "      <td>1.047073</td>\n",
       "      <td>-0.124203</td>\n",
       "      <td>-0.553670</td>\n",
       "      <td>-0.273496</td>\n",
       "      <td>...</td>\n",
       "      <td>1.441599</td>\n",
       "      <td>1.481640</td>\n",
       "      <td>0.809743</td>\n",
       "      <td>0.263748</td>\n",
       "      <td>-0.083691</td>\n",
       "      <td>-0.519209</td>\n",
       "      <td>0.519209</td>\n",
       "      <td>-0.553670</td>\n",
       "      <td>-0.584131</td>\n",
       "      <td>-0.909997</td>\n",
       "    </tr>\n",
       "  </tbody>\n",
       "</table>\n",
       "<p>5 rows × 68 columns</p>\n",
       "</div>"
      ],
      "text/plain": [
       "   ALTERSKATEGORIE_GROB  ANREDE_KZ  FINANZ_MINIMALIST  FINANZ_SPARER  \\\n",
       "0             -1.746291   0.977825          -1.512224       1.581058   \n",
       "1              0.202107   0.977825          -1.512224       0.900443   \n",
       "2              0.202107  -1.022678           0.692406       0.219828   \n",
       "3             -1.746291   0.977825          -0.042471      -1.141401   \n",
       "4             -0.772092   0.977825          -1.512224       1.581058   \n",
       "\n",
       "   FINANZ_VORSORGER  FINANZ_ANLEGER  FINANZ_UNAUFFAELLIGER  FINANZ_HAUSBAUER  \\\n",
       "0         -1.045042        1.539058               1.047073          1.340482   \n",
       "1         -1.765051       -0.531628               0.318373          1.340482   \n",
       "2          0.394976       -1.221857               0.318373         -0.856545   \n",
       "3          1.114984       -0.531628              -0.410328          1.340482   \n",
       "4         -1.765051        1.539058               1.047073         -0.124203   \n",
       "\n",
       "   GREEN_AVANTGARDE  HEALTH_TYP     ...      PLZ8_HHZ  PLZ8_GBZ    ARBEIT  \\\n",
       "0         -0.553670    1.044647     ...      1.441599  0.583438 -0.201181   \n",
       "1          1.806129    1.044647     ...      0.400949  0.583438 -0.201181   \n",
       "2         -0.553670    1.044647     ...     -0.639702 -0.314764  0.809743   \n",
       "3         -0.553670    1.044647     ...      1.441599  1.481640 -1.212105   \n",
       "4         -0.553670   -0.273496     ...      1.441599  1.481640  0.809743   \n",
       "\n",
       "   ORTSGR_KLS9  RELAT_AB  OST_WEST_KZ_O  OST_WEST_KZ_W  MOVEMENT    DECADE  \\\n",
       "0    -0.171845  0.656462      -0.519209       0.519209 -0.553670 -1.251108   \n",
       "1    -0.171845 -0.823844      -0.519209       0.519209  1.806129  0.749822   \n",
       "2     0.263748  1.396614      -0.519209       0.519209 -0.553670  0.082845   \n",
       "3    -1.043032 -0.083691      -0.519209       0.519209 -0.553670  0.749822   \n",
       "4     0.263748 -0.083691      -0.519209       0.519209 -0.553670 -0.584131   \n",
       "\n",
       "   LIFE_STAGE  \n",
       "0    1.147882  \n",
       "1   -0.909997  \n",
       "2    0.461922  \n",
       "3    1.147882  \n",
       "4   -0.909997  \n",
       "\n",
       "[5 rows x 68 columns]"
      ]
     },
     "execution_count": 31,
     "metadata": {},
     "output_type": "execute_result"
    }
   ],
   "source": [
    "azdias_normalized.head()"
   ]
  },
  {
   "cell_type": "markdown",
   "metadata": {},
   "source": [
    "### Discussion 2.1: Apply Feature Scaling\n",
    "\n",
    "We have decided to apply standard normalization,i.e., apply a transformation to have 0 mean and a variation of 1."
   ]
  },
  {
   "cell_type": "markdown",
   "metadata": {},
   "source": [
    "### Step 2.2: Perform Dimensionality Reduction\n",
    "\n",
    "On your scaled data, you are now ready to apply dimensionality reduction techniques.\n",
    "\n",
    "- Use sklearn's [PCA](http://scikit-learn.org/stable/modules/generated/sklearn.decomposition.PCA.html) class to apply principal component analysis on the data, thus finding the vectors of maximal variance in the data. To start, you should not set any parameters (so all components are computed) or set a number of components that is at least half the number of features (so there's enough features to see the general trend in variability).\n",
    "- Check out the ratio of variance explained by each principal component as well as the cumulative variance explained. Try plotting the cumulative or sequential values using matplotlib's [`plot()`](https://matplotlib.org/api/_as_gen/matplotlib.pyplot.plot.html) function. Based on what you find, select a value for the number of transformed features you'll retain for the clustering part of the project.\n",
    "- Once you've made a choice for the number of components to keep, make sure you re-fit a PCA instance to perform the decided-on transformation."
   ]
  },
  {
   "cell_type": "code",
   "execution_count": 32,
   "metadata": {},
   "outputs": [],
   "source": [
    "# Apply PCA to the data.\n",
    "from sklearn.decomposition import PCA\n",
    "\n",
    "pca = PCA()\n",
    "X_pca = pca.fit_transform(azdias_normalized)"
   ]
  },
  {
   "cell_type": "code",
   "execution_count": 33,
   "metadata": {},
   "outputs": [],
   "source": [
    "# We are going to make use of the functions used in class\n",
    "\n",
    "def scree_plot(pca):\n",
    "    '''\n",
    "    Creates a scree plot associated with the principal components \n",
    "    \n",
    "    INPUT: pca - the result of instantian of PCA in scikit learn\n",
    "            \n",
    "    OUTPUT:\n",
    "            None\n",
    "    '''\n",
    "    num_components=len(pca.explained_variance_ratio_)\n",
    "    ind = np.arange(num_components)\n",
    "    vals = pca.explained_variance_ratio_\n",
    " \n",
    "    plt.figure(figsize=(10, 6))\n",
    "    ax = plt.subplot(111)\n",
    "    cumvals = np.cumsum(vals)\n",
    "    ax.bar(ind, vals)\n",
    "    ax.plot(ind, cumvals)\n",
    "    for i in range(num_components):\n",
    "        ax.annotate(r\"%s%%\" % ((str(vals[i]*100)[:4])), (ind[i]+0.2, vals[i]), va=\"bottom\", ha=\"center\", fontsize=12)\n",
    " \n",
    "    #ax.xaxis.set_tick_params(width=0)\n",
    "    #ax.yaxis.set_tick_params(width=2, length=12)\n",
    " \n",
    "    ax.set_xlabel(\"Principal Component\")\n",
    "    ax.set_ylabel(\"Variance Explained (%)\")\n",
    "    plt.title('Explained Variance Per Principal Component')"
   ]
  },
  {
   "cell_type": "code",
   "execution_count": 34,
   "metadata": {},
   "outputs": [
    {
     "data": {
      "image/png": "[encoded data removed]",
      "text/plain": [
       "<matplotlib.figure.Figure at 0x7fdfef26c7f0>"
      ]
     },
     "metadata": {
      "needs_background": "light"
     },
     "output_type": "display_data"
    }
   ],
   "source": [
    "scree_plot(pca)"
   ]
  },
  {
   "cell_type": "code",
   "execution_count": 35,
   "metadata": {},
   "outputs": [
    {
     "name": "stdout",
     "output_type": "stream",
     "text": [
      "Variance explained by component 1: 17.7%. Accumulated variance of 17.7%\n",
      "Variance explained by component 2: 12.3%. Accumulated variance of 30.0%\n",
      "Variance explained by component 3: 9.0%. Accumulated variance of 39.0%\n",
      "Variance explained by component 4: 5.7%. Accumulated variance of 44.7%\n",
      "Variance explained by component 5: 4.4%. Accumulated variance of 49.1%\n",
      "Variance explained by component 6: 3.4%. Accumulated variance of 52.5%\n",
      "Variance explained by component 7: 3.2%. Accumulated variance of 55.7%\n",
      "Variance explained by component 8: 2.8%. Accumulated variance of 58.5%\n",
      "Variance explained by component 9: 2.4%. Accumulated variance of 60.9%\n",
      "Variance explained by component 10: 2.2%. Accumulated variance of 63.1%\n",
      "Variance explained by component 11: 2.0%. Accumulated variance of 65.1%\n",
      "Variance explained by component 12: 1.9%. Accumulated variance of 67.0%\n",
      "Variance explained by component 13: 1.8%. Accumulated variance of 68.8%\n",
      "Variance explained by component 14: 1.6%. Accumulated variance of 70.4%\n",
      "Variance explained by component 15: 1.5%. Accumulated variance of 71.9%\n",
      "Variance explained by component 16: 1.5%. Accumulated variance of 73.4%\n",
      "Variance explained by component 17: 1.4%. Accumulated variance of 74.8%\n",
      "Variance explained by component 18: 1.3%. Accumulated variance of 76.2%\n",
      "Variance explained by component 19: 1.3%. Accumulated variance of 77.4%\n",
      "Variance explained by component 20: 1.2%. Accumulated variance of 78.7%\n",
      "Variance explained by component 21: 1.2%. Accumulated variance of 79.9%\n",
      "Variance explained by component 22: 1.1%. Accumulated variance of 81.0%\n",
      "Variance explained by component 23: 1.1%. Accumulated variance of 82.1%\n",
      "Variance explained by component 24: 1.0%. Accumulated variance of 83.2%\n",
      "Variance explained by component 25: 1.0%. Accumulated variance of 84.2%\n",
      "Variance explained by component 26: 0.9%. Accumulated variance of 85.1%\n",
      "Variance explained by component 27: 0.8%. Accumulated variance of 85.9%\n",
      "Variance explained by component 28: 0.8%. Accumulated variance of 86.7%\n",
      "Variance explained by component 29: 0.7%. Accumulated variance of 87.4%\n",
      "Variance explained by component 30: 0.7%. Accumulated variance of 88.1%\n",
      "Variance explained by component 31: 0.7%. Accumulated variance of 88.8%\n",
      "Variance explained by component 32: 0.7%. Accumulated variance of 89.5%\n",
      "Variance explained by component 33: 0.6%. Accumulated variance of 90.1%\n",
      "Variance explained by component 34: 0.6%. Accumulated variance of 90.7%\n",
      "Variance explained by component 35: 0.6%. Accumulated variance of 91.3%\n",
      "Variance explained by component 36: 0.6%. Accumulated variance of 91.9%\n",
      "Variance explained by component 37: 0.6%. Accumulated variance of 92.4%\n",
      "Variance explained by component 38: 0.5%. Accumulated variance of 92.9%\n",
      "Variance explained by component 39: 0.4%. Accumulated variance of 93.3%\n",
      "Variance explained by component 40: 0.4%. Accumulated variance of 93.8%\n",
      "Variance explained by component 41: 0.4%. Accumulated variance of 94.2%\n",
      "Variance explained by component 42: 0.4%. Accumulated variance of 94.6%\n",
      "Variance explained by component 43: 0.4%. Accumulated variance of 94.9%\n",
      "Variance explained by component 44: 0.4%. Accumulated variance of 95.3%\n",
      "Variance explained by component 45: 0.3%. Accumulated variance of 95.6%\n",
      "Variance explained by component 46: 0.3%. Accumulated variance of 96.0%\n",
      "Variance explained by component 47: 0.3%. Accumulated variance of 96.3%\n",
      "Variance explained by component 48: 0.3%. Accumulated variance of 96.6%\n",
      "Variance explained by component 49: 0.3%. Accumulated variance of 96.9%\n",
      "Variance explained by component 50: 0.3%. Accumulated variance of 97.2%\n",
      "Variance explained by component 51: 0.3%. Accumulated variance of 97.5%\n",
      "Variance explained by component 52: 0.3%. Accumulated variance of 97.7%\n",
      "Variance explained by component 53: 0.2%. Accumulated variance of 98.0%\n",
      "Variance explained by component 54: 0.2%. Accumulated variance of 98.2%\n",
      "Variance explained by component 55: 0.2%. Accumulated variance of 98.5%\n",
      "Variance explained by component 56: 0.2%. Accumulated variance of 98.7%\n",
      "Variance explained by component 57: 0.2%. Accumulated variance of 98.9%\n",
      "Variance explained by component 58: 0.2%. Accumulated variance of 99.1%\n",
      "Variance explained by component 59: 0.2%. Accumulated variance of 99.2%\n",
      "Variance explained by component 60: 0.2%. Accumulated variance of 99.4%\n",
      "Variance explained by component 61: 0.2%. Accumulated variance of 99.6%\n",
      "Variance explained by component 62: 0.1%. Accumulated variance of 99.7%\n",
      "Variance explained by component 63: 0.1%. Accumulated variance of 99.8%\n",
      "Variance explained by component 64: 0.1%. Accumulated variance of 99.9%\n",
      "Variance explained by component 65: 0.1%. Accumulated variance of 100.0%\n",
      "Variance explained by component 66: 0.0%. Accumulated variance of 100.0%\n",
      "Variance explained by component 67: 0.0%. Accumulated variance of 100.0%\n",
      "Variance explained by component 68: 0.0%. Accumulated variance of 100.0%\n"
     ]
    }
   ],
   "source": [
    "# Investigate the variance accounted for by each principal component.\n",
    "exp_variance = pca.explained_variance_ratio_\n",
    "acc_variance = np.cumsum(exp_variance)\n",
    "num_components=len(exp_variance)\n",
    "ind = np.arange(num_components)\n",
    "for i, acc_variance_i in zip(ind, acc_variance,):\n",
    "    print(\"Variance explained by component {0}: {1:.1%}. Accumulated variance of {2:.1%}\".format(i+1, exp_variance[i], acc_variance_i))"
   ]
  },
  {
   "cell_type": "code",
   "execution_count": 36,
   "metadata": {},
   "outputs": [],
   "source": [
    "# Re-apply PCA to the data while selecting for number of components to retain.\n",
    "pca = PCA(n_components=30)\n",
    "X_pca = pca.fit_transform(azdias_normalized)"
   ]
  },
  {
   "cell_type": "code",
   "execution_count": 37,
   "metadata": {},
   "outputs": [
    {
     "data": {
      "image/png": "[encoded data removed]",
      "text/plain": [
       "<matplotlib.figure.Figure at 0x7fdfd91e8ef0>"
      ]
     },
     "metadata": {
      "needs_background": "light"
     },
     "output_type": "display_data"
    }
   ],
   "source": [
    "scree_plot(pca)"
   ]
  },
  {
   "cell_type": "markdown",
   "metadata": {},
   "source": [
    "### Discussion 2.2: Perform Dimensionality Reduction\n",
    "\n",
    "We have fixed as criteria to retain at least the 88%, so we have selected the first 30 components."
   ]
  },
  {
   "cell_type": "markdown",
   "metadata": {},
   "source": [
    "### Step 2.3: Interpret Principal Components\n",
    "\n",
    "Now that we have our transformed principal components, it's a nice idea to check out the weight of each variable on the first few components to see if they can be interpreted in some fashion.\n",
    "\n",
    "As a reminder, each principal component is a unit vector that points in the direction of highest variance (after accounting for the variance captured by earlier principal components). The further a weight is from zero, the more the principal component is in the direction of the corresponding feature. If two features have large weights of the same sign (both positive or both negative), then increases in one tend expect to be associated with increases in the other. To contrast, features with different signs can be expected to show a negative correlation: increases in one variable should result in a decrease in the other.\n",
    "\n",
    "- To investigate the features, you should map each weight to their corresponding feature name, then sort the features according to weight. The most interesting features for each principal component, then, will be those at the beginning and end of the sorted list. Use the data dictionary document to help you understand these most prominent features, their relationships, and what a positive or negative value on the principal component might indicate.\n",
    "- You should investigate and interpret feature associations from the first three principal components in this substep. To help facilitate this, you should write a function that you can call at any time to print the sorted list of feature weights, for the *i*-th principal component. This might come in handy in the next step of the project, when you interpret the tendencies of the discovered clusters."
   ]
  },
  {
   "cell_type": "code",
   "execution_count": 38,
   "metadata": {},
   "outputs": [
    {
     "data": {
      "image/png": "[encoded data removed]",
      "text/plain": [
       "<matplotlib.figure.Figure at 0x7fdfd952f400>"
      ]
     },
     "metadata": {
      "needs_background": "light"
     },
     "output_type": "display_data"
    }
   ],
   "source": [
    "# Map weights for the first principal component to corresponding feature names\n",
    "# and then print the linked values, sorted by weight.\n",
    "# HINT: Try defining a function here or in a new cell that you can reuse in the\n",
    "# other cells.\n",
    "\n",
    "def get_loadings_ordered(df, pca, component):\n",
    "    dimensions = dimensions = ['Dimension {}'.format(i) for i in range(1,len(pca.components_)+1)]\n",
    "    components = pd.DataFrame(np.round(pca.components_, 4), columns=df.columns)\n",
    "    components.index = dimensions\n",
    "    return components.loc[\"Dimension {}\".format(component)].sort_values(ascending=False)\n",
    "\n",
    "def plot_dimension_weights(df, pca, component, n_top_features):\n",
    "    fig, ax = plt.subplots(figsize = (14,8))\n",
    "    component_weights = get_loadings_ordered(df, pca, component)\n",
    "    components = pd.concat([component_weights.head(n_top_features), component_weights.tail(n_top_features)])\n",
    "    components.plot(ax = ax, kind = 'bar');\n",
    "    ax.set_ylabel(\"Feature Weights\")\n",
    "\n",
    "plot_dimension_weights(azdias_normalized, pca, 1, 8)"
   ]
  },
  {
   "cell_type": "code",
   "execution_count": 39,
   "metadata": {},
   "outputs": [
    {
     "data": {
      "image/png": "[encoded data removed]",
      "text/plain": [
       "<matplotlib.figure.Figure at 0x7fdfef2c2048>"
      ]
     },
     "metadata": {
      "needs_background": "light"
     },
     "output_type": "display_data"
    }
   ],
   "source": [
    "# Map weights for the second principal component to corresponding feature names\n",
    "# and then print the linked values, sorted by weight.\n",
    "plot_dimension_weights(azdias_normalized, pca, 2, 5)\n"
   ]
  },
  {
   "cell_type": "code",
   "execution_count": 40,
   "metadata": {},
   "outputs": [
    {
     "data": {
      "image/png": "[encoded data removed]",
      "text/plain": [
       "<matplotlib.figure.Figure at 0x7fdfef309400>"
      ]
     },
     "metadata": {
      "needs_background": "light"
     },
     "output_type": "display_data"
    }
   ],
   "source": [
    "# Map weights for the third principal component to corresponding feature names\n",
    "# and then print the linked values, sorted by weight.\n",
    "plot_dimension_weights(azdias_normalized, pca, 3, 5)\n"
   ]
  },
  {
   "cell_type": "markdown",
   "metadata": {},
   "source": [
    "### Discussion 2.3: Interpret Principal Components\n",
    "\n",
    "In the first principal component these are the variables with the positive or negative correlaton:\n",
    "\n",
    "   - Positive correlation:\n",
    "        - PLZ8_ANTG3, PLZ8_ANTG34 PLZ8_BAUMAX - Number of families\n",
    "        - LIFE_STAGE - life stage\n",
    "        - HH_EINKOMMEN_SCORE - Estimated household net income\n",
    "        - ORTSGR_KLS9 - Size of community\n",
    "        - EWDICHTE - Density of households per square kilometer\n",
    "        - FINANZ_HAUSBAUER - Housing debt\n",
    "        \n",
    "        \n",
    "   - Negative correlation:\n",
    "        - INNENSTADT -  Distance to city center\n",
    "        - KONSUMNAEHE - Distance to sale of point\n",
    "        - PLZ8_GBZ, PLZ8_ANTG1 - Number of buildings \n",
    "        - FINANZ_MINIMALIST - Low level of debt\n",
    "        - KBA05_GBZ - Number of buildings in the microcell\n",
    "        - KBA05_ANTG1 - Number of 1-2 family houses in the microcell\n",
    "        - MOBI_REGIO - Movement patterns    \n",
    "     \n",
    "The positive weights are associated to variables indicating a high level of income, families and desinty. So It colud be interpreted as people leaving in center uraban areas.\n",
    "\n",
    "In contrast, the negative weights are related to variables indicating belonging to rural areas.\n",
    "\n",
    "\n",
    "In the second principal component these are the variables with the positive or negative correlaton:\n",
    "\n",
    "   - Positive correlation:\n",
    "        - ALTERSKATEGORIE_GROB - Estimated age based on given name analysis\n",
    "        - SEMIO_ERL - Personality typology\n",
    "        - FINANZ_VORSORGER - Finance provider\n",
    "        - SEMIO_LUST - Personality typology\n",
    "        - RETOURTYP_BK_S - Typology of shopper\n",
    "        \n",
    "        \n",
    "   - Negative correlation:\n",
    "        - SEMIO_TRADV -  Personality typology\n",
    "        - FINANZ_SPARER - Saver\n",
    "        - SEMIO_KULT - Personality typology\n",
    "        - SEMIO_PFLICHT - Personality typology\n",
    "        - SEMIO_REL - Personality typology\n",
    "        \n",
    "        \n",
    "This variable indicates age and personality relationships with forms and levels of consumption. It seems that young people and people with a lower cultural level tend to have more impulsive consumption habits, as well as lower levels of savings.\n",
    "\n",
    "\n",
    "\n",
    "In the third principal component these are the variables with the positive or negative correlaton:\n",
    "\n",
    "   - Positive correlation:\n",
    "        - SEMIO_VERT - Personality typology\n",
    "        - SEMIO_SOZ - Personality typology\n",
    "        - SEMIO_FAM - Personality typology\n",
    "        - SEMIO_KULT - Personality typology\n",
    "        - FINANZ_MINIMALIST - Low level of debt\n",
    "        \n",
    "        \n",
    "   - Negative correlation:\n",
    "        - SEMIO_RAT - Personality typology\n",
    "        - SEMIO_KRIT - Personality typology\n",
    "        - SEMIO_DOM - Personality typology\n",
    "        - SEMIO_KAEM - Personality typology\n",
    "        - ANREDE_KZ - Gender\n",
    "        \n",
    "This component represents two patterns in the personality, i.e., social and rational people.\n",
    "\n"
   ]
  },
  {
   "cell_type": "markdown",
   "metadata": {},
   "source": [
    "## Step 3: Clustering\n",
    "\n",
    "### Step 3.1: Apply Clustering to General Population\n",
    "\n",
    "You've assessed and cleaned the demographics data, then scaled and transformed them. Now, it's time to see how the data clusters in the principal components space. In this substep, you will apply k-means clustering to the dataset and use the average within-cluster distances from each point to their assigned cluster's centroid to decide on a number of clusters to keep.\n",
    "\n",
    "- Use sklearn's [KMeans](http://scikit-learn.org/stable/modules/generated/sklearn.cluster.KMeans.html#sklearn.cluster.KMeans) class to perform k-means clustering on the PCA-transformed data.\n",
    "- Then, compute the average difference from each point to its assigned cluster's center. **Hint**: The KMeans object's `.score()` method might be useful here, but note that in sklearn, scores tend to be defined so that larger is better. Try applying it to a small, toy dataset, or use an internet search to help your understanding.\n",
    "- Perform the above two steps for a number of different cluster counts. You can then see how the average distance decreases with an increasing number of clusters. However, each additional cluster provides a smaller net benefit. Use this fact to select a final number of clusters in which to group the data. **Warning**: because of the large size of the dataset, it can take a long time for the algorithm to resolve. The more clusters to fit, the longer the algorithm will take. You should test for cluster counts through at least 10 clusters to get the full picture, but you shouldn't need to test for a number of clusters above about 30.\n",
    "- Once you've selected a final number of clusters to use, re-fit a KMeans instance to perform the clustering operation. Make sure that you also obtain the cluster assignments for the general demographics data, since you'll be using them in the final Step 3.3."
   ]
  },
  {
   "cell_type": "code",
   "execution_count": 41,
   "metadata": {},
   "outputs": [
    {
     "name": "stdout",
     "output_type": "stream",
     "text": [
      "Processing k means with n_clusters: 5\n",
      "Processing k means with n_clusters: 6\n",
      "Processing k means with n_clusters: 7\n",
      "Processing k means with n_clusters: 8\n",
      "Processing k means with n_clusters: 9\n",
      "Processing k means with n_clusters: 10\n",
      "Processing k means with n_clusters: 11\n",
      "Processing k means with n_clusters: 12\n",
      "Processing k means with n_clusters: 13\n",
      "Processing k means with n_clusters: 14\n",
      "Processing k means with n_clusters: 15\n",
      "Processing k means with n_clusters: 16\n",
      "Processing k means with n_clusters: 17\n",
      "Processing k means with n_clusters: 18\n",
      "Processing k means with n_clusters: 19\n"
     ]
    }
   ],
   "source": [
    "# Over a number of different cluster counts...\n",
    "\n",
    "scores = []\n",
    "centers = list(range(5,20))\n",
    "    # run k-means clustering on the data and...\n",
    "for center in centers:\n",
    "    print(\"Processing k means with n_clusters: {}\".format(center))\n",
    "    kmeans = KMeans(n_clusters=center)\n",
    "    model = kmeans.fit(X_pca)    \n",
    "    # compute the average within-cluster distances.\n",
    "    score = np.abs(model.score(X_pca))\n",
    "    scores.append(score)\n",
    "    \n",
    "    "
   ]
  },
  {
   "cell_type": "code",
   "execution_count": 42,
   "metadata": {},
   "outputs": [
    {
     "data": {
      "image/png": "[encoded data removed]",
      "text/plain": [
       "<matplotlib.figure.Figure at 0x7fdfd96094a8>"
      ]
     },
     "metadata": {
      "needs_background": "light"
     },
     "output_type": "display_data"
    }
   ],
   "source": [
    "# Investigate the change in within-cluster distance across number of clusters.\n",
    "# HINT: Use matplotlib's plot function to visualize this relationship.\n",
    "plt.plot(centers, scores, linestyle='--', marker='o', color='b');\n",
    "plt.xlabel('K');\n",
    "plt.ylabel('SSE');\n",
    "plt.title('SSE vs. K');\n"
   ]
  },
  {
   "cell_type": "code",
   "execution_count": 43,
   "metadata": {},
   "outputs": [],
   "source": [
    "# Re-fit the k-means model with the selected number of clusters and obtain\n",
    "# cluster predictions for the general population demographics data.\n",
    "selected_n_clusters = 12\n",
    "kmeans = KMeans(n_clusters=selected_n_clusters)\n",
    "model = kmeans.fit(X_pca)\n",
    "kmeans_pred = model.predict(X_pca)"
   ]
  },
  {
   "cell_type": "markdown",
   "metadata": {},
   "source": [
    "### Discussion 3.1: Apply Clustering to General Population\n",
    "\n",
    "\n",
    "Acording to the elbow method, it seems that a number of cluster of 12 is a good choice."
   ]
  },
  {
   "cell_type": "markdown",
   "metadata": {},
   "source": [
    "### Step 3.2: Apply All Steps to the Customer Data\n",
    "\n",
    "Now that you have clusters and cluster centers for the general population, it's time to see how the customer data maps on to those clusters. Take care to not confuse this for re-fitting all of the models to the customer data. Instead, you're going to use the fits from the general population to clean, transform, and cluster the customer data. In the last step of the project, you will interpret how the general population fits apply to the customer data.\n",
    "\n",
    "- Don't forget when loading in the customers data, that it is semicolon (`;`) delimited.\n",
    "- Apply the same feature wrangling, selection, and engineering steps to the customer demographics using the `clean_data()` function you created earlier. (You can assume that the customer demographics data has similar meaning behind missing data patterns as the general demographics data.)\n",
    "- Use the sklearn objects from the general demographics data, and apply their transformations to the customers data. That is, you should not be using a `.fit()` or `.fit_transform()` method to re-fit the old objects, nor should you be creating new sklearn objects! Carry the data through the feature scaling, PCA, and clustering steps, obtaining cluster assignments for all of the data in the customer demographics data."
   ]
  },
  {
   "cell_type": "code",
   "execution_count": 44,
   "metadata": {},
   "outputs": [],
   "source": [
    "# Load in the customer demographics data.\n",
    "customers = azdias = pd.read_csv('Udacity_CUSTOMERS_Subset.csv', sep=';')"
   ]
  },
  {
   "cell_type": "code",
   "execution_count": 45,
   "metadata": {},
   "outputs": [
    {
     "name": "stdout",
     "output_type": "stream",
     "text": [
      "<class 'pandas.core.frame.DataFrame'>\n",
      "RangeIndex: 191652 entries, 0 to 191651\n",
      "Data columns (total 85 columns):\n",
      "AGER_TYP                 191652 non-null int64\n",
      "ALTERSKATEGORIE_GROB     191652 non-null int64\n",
      "ANREDE_KZ                191652 non-null int64\n",
      "CJT_GESAMTTYP            188439 non-null float64\n",
      "FINANZ_MINIMALIST        191652 non-null int64\n",
      "FINANZ_SPARER            191652 non-null int64\n",
      "FINANZ_VORSORGER         191652 non-null int64\n",
      "FINANZ_ANLEGER           191652 non-null int64\n",
      "FINANZ_UNAUFFAELLIGER    191652 non-null int64\n",
      "FINANZ_HAUSBAUER         191652 non-null int64\n",
      "FINANZTYP                191652 non-null int64\n",
      "GEBURTSJAHR              191652 non-null int64\n",
      "GFK_URLAUBERTYP          188439 non-null float64\n",
      "GREEN_AVANTGARDE         191652 non-null int64\n",
      "HEALTH_TYP               191652 non-null int64\n",
      "LP_LEBENSPHASE_FEIN      188439 non-null float64\n",
      "LP_LEBENSPHASE_GROB      188439 non-null float64\n",
      "LP_FAMILIE_FEIN          188439 non-null float64\n",
      "LP_FAMILIE_GROB          188439 non-null float64\n",
      "LP_STATUS_FEIN           188439 non-null float64\n",
      "LP_STATUS_GROB           188439 non-null float64\n",
      "NATIONALITAET_KZ         191652 non-null int64\n",
      "PRAEGENDE_JUGENDJAHRE    191652 non-null int64\n",
      "RETOURTYP_BK_S           188439 non-null float64\n",
      "SEMIO_SOZ                191652 non-null int64\n",
      "SEMIO_FAM                191652 non-null int64\n",
      "SEMIO_REL                191652 non-null int64\n",
      "SEMIO_MAT                191652 non-null int64\n",
      "SEMIO_VERT               191652 non-null int64\n",
      "SEMIO_LUST               191652 non-null int64\n",
      "SEMIO_ERL                191652 non-null int64\n",
      "SEMIO_KULT               191652 non-null int64\n",
      "SEMIO_RAT                191652 non-null int64\n",
      "SEMIO_KRIT               191652 non-null int64\n",
      "SEMIO_DOM                191652 non-null int64\n",
      "SEMIO_KAEM               191652 non-null int64\n",
      "SEMIO_PFLICHT            191652 non-null int64\n",
      "SEMIO_TRADV              191652 non-null int64\n",
      "SHOPPER_TYP              191652 non-null int64\n",
      "SOHO_KZ                  145056 non-null float64\n",
      "TITEL_KZ                 145056 non-null float64\n",
      "VERS_TYP                 191652 non-null int64\n",
      "ZABEOTYP                 191652 non-null int64\n",
      "ALTER_HH                 145056 non-null float64\n",
      "ANZ_PERSONEN             145056 non-null float64\n",
      "ANZ_TITEL                145056 non-null float64\n",
      "HH_EINKOMMEN_SCORE       188684 non-null float64\n",
      "KK_KUNDENTYP             79715 non-null float64\n",
      "W_KEIT_KIND_HH           137910 non-null float64\n",
      "WOHNDAUER_2008           145056 non-null float64\n",
      "ANZ_HAUSHALTE_AKTIV      141725 non-null float64\n",
      "ANZ_HH_TITEL             139542 non-null float64\n",
      "GEBAEUDETYP              141725 non-null float64\n",
      "KONSUMNAEHE              145001 non-null float64\n",
      "MIN_GEBAEUDEJAHR         141725 non-null float64\n",
      "OST_WEST_KZ              141725 non-null object\n",
      "WOHNLAGE                 141725 non-null float64\n",
      "CAMEO_DEUG_2015          141224 non-null object\n",
      "CAMEO_DEU_2015           141224 non-null object\n",
      "CAMEO_INTL_2015          141224 non-null object\n",
      "KBA05_ANTG1              135672 non-null float64\n",
      "KBA05_ANTG2              135672 non-null float64\n",
      "KBA05_ANTG3              135672 non-null float64\n",
      "KBA05_ANTG4              135672 non-null float64\n",
      "KBA05_BAUMAX             135672 non-null float64\n",
      "KBA05_GBZ                135672 non-null float64\n",
      "BALLRAUM                 141693 non-null float64\n",
      "EWDICHTE                 141693 non-null float64\n",
      "INNENSTADT               141693 non-null float64\n",
      "GEBAEUDETYP_RASTER       141725 non-null float64\n",
      "KKK                      137392 non-null float64\n",
      "MOBI_REGIO               135672 non-null float64\n",
      "ONLINE_AFFINITAET        188439 non-null float64\n",
      "REGIOTYP                 137392 non-null float64\n",
      "KBA13_ANZAHL_PKW         140371 non-null float64\n",
      "PLZ8_ANTG1               138888 non-null float64\n",
      "PLZ8_ANTG2               138888 non-null float64\n",
      "PLZ8_ANTG3               138888 non-null float64\n",
      "PLZ8_ANTG4               138888 non-null float64\n",
      "PLZ8_BAUMAX              138888 non-null float64\n",
      "PLZ8_HHZ                 138888 non-null float64\n",
      "PLZ8_GBZ                 138888 non-null float64\n",
      "ARBEIT                   141176 non-null float64\n",
      "ORTSGR_KLS9              141176 non-null float64\n",
      "RELAT_AB                 141176 non-null float64\n",
      "dtypes: float64(49), int64(32), object(4)\n",
      "memory usage: 124.3+ MB\n"
     ]
    }
   ],
   "source": [
    "customers.info()"
   ]
  },
  {
   "cell_type": "code",
   "execution_count": 46,
   "metadata": {},
   "outputs": [],
   "source": [
    "# Apply preprocessing, feature transformation, and clustering from the general\n",
    "# demographics onto the customer data, obtaining cluster predictions for the\n",
    "# customer demographics data.\n",
    "customers_cleaned = clean_data(customers)\n"
   ]
  },
  {
   "cell_type": "code",
   "execution_count": 47,
   "metadata": {},
   "outputs": [
    {
     "name": "stdout",
     "output_type": "stream",
     "text": [
      "<class 'pandas.core.frame.DataFrame'>\n",
      "Int64Index: 115643 entries, 0 to 191651\n",
      "Data columns (total 68 columns):\n",
      "ALTERSKATEGORIE_GROB     115643 non-null float64\n",
      "ANREDE_KZ                115643 non-null int64\n",
      "FINANZ_MINIMALIST        115643 non-null int64\n",
      "FINANZ_SPARER            115643 non-null int64\n",
      "FINANZ_VORSORGER         115643 non-null int64\n",
      "FINANZ_ANLEGER           115643 non-null int64\n",
      "FINANZ_UNAUFFAELLIGER    115643 non-null int64\n",
      "FINANZ_HAUSBAUER         115643 non-null int64\n",
      "GREEN_AVANTGARDE         115643 non-null int64\n",
      "HEALTH_TYP               115643 non-null float64\n",
      "LP_LEBENSPHASE_FEIN      115643 non-null float64\n",
      "LP_LEBENSPHASE_GROB      115643 non-null float64\n",
      "RETOURTYP_BK_S           115643 non-null float64\n",
      "SEMIO_SOZ                115643 non-null int64\n",
      "SEMIO_FAM                115643 non-null int64\n",
      "SEMIO_REL                115643 non-null int64\n",
      "SEMIO_MAT                115643 non-null int64\n",
      "SEMIO_VERT               115643 non-null int64\n",
      "SEMIO_LUST               115643 non-null int64\n",
      "SEMIO_ERL                115643 non-null int64\n",
      "SEMIO_KULT               115643 non-null int64\n",
      "SEMIO_RAT                115643 non-null int64\n",
      "SEMIO_KRIT               115643 non-null int64\n",
      "SEMIO_DOM                115643 non-null int64\n",
      "SEMIO_KAEM               115643 non-null int64\n",
      "SEMIO_PFLICHT            115643 non-null int64\n",
      "SEMIO_TRADV              115643 non-null int64\n",
      "SOHO_KZ                  115643 non-null float64\n",
      "VERS_TYP                 115643 non-null float64\n",
      "ANZ_PERSONEN             115643 non-null float64\n",
      "ANZ_TITEL                115643 non-null float64\n",
      "HH_EINKOMMEN_SCORE       115643 non-null float64\n",
      "W_KEIT_KIND_HH           115643 non-null float64\n",
      "WOHNDAUER_2008           115643 non-null float64\n",
      "ANZ_HAUSHALTE_AKTIV      115643 non-null float64\n",
      "ANZ_HH_TITEL             115643 non-null float64\n",
      "KONSUMNAEHE              115643 non-null float64\n",
      "MIN_GEBAEUDEJAHR         115643 non-null float64\n",
      "WOHNLAGE                 115643 non-null float64\n",
      "KBA05_ANTG1              115643 non-null float64\n",
      "KBA05_ANTG2              115643 non-null float64\n",
      "KBA05_ANTG3              115643 non-null float64\n",
      "KBA05_ANTG4              115643 non-null float64\n",
      "KBA05_GBZ                115643 non-null float64\n",
      "BALLRAUM                 115643 non-null float64\n",
      "EWDICHTE                 115643 non-null float64\n",
      "INNENSTADT               115643 non-null float64\n",
      "GEBAEUDETYP_RASTER       115643 non-null float64\n",
      "KKK                      115643 non-null float64\n",
      "MOBI_REGIO               115643 non-null float64\n",
      "ONLINE_AFFINITAET        115643 non-null float64\n",
      "REGIOTYP                 115643 non-null float64\n",
      "KBA13_ANZAHL_PKW         115643 non-null float64\n",
      "PLZ8_ANTG1               115643 non-null float64\n",
      "PLZ8_ANTG2               115643 non-null float64\n",
      "PLZ8_ANTG3               115643 non-null float64\n",
      "PLZ8_ANTG4               115643 non-null float64\n",
      "PLZ8_BAUMAX              115643 non-null float64\n",
      "PLZ8_HHZ                 115643 non-null float64\n",
      "PLZ8_GBZ                 115643 non-null float64\n",
      "ARBEIT                   115643 non-null float64\n",
      "ORTSGR_KLS9              115643 non-null float64\n",
      "RELAT_AB                 115643 non-null float64\n",
      "OST_WEST_KZ_O            115643 non-null uint8\n",
      "OST_WEST_KZ_W            115643 non-null uint8\n",
      "MOVEMENT                 115643 non-null int64\n",
      "DECADE                   115643 non-null int64\n",
      "LIFE_STAGE               115643 non-null int64\n",
      "dtypes: float64(41), int64(25), uint8(2)\n",
      "memory usage: 64.3 MB\n"
     ]
    }
   ],
   "source": [
    "customers_cleaned.info()"
   ]
  },
  {
   "cell_type": "code",
   "execution_count": 48,
   "metadata": {},
   "outputs": [],
   "source": [
    "# Apply normalization to customer data set\n",
    "customer_normalized = scaler.transform(customers_cleaned)\n",
    "customer_normalized = pd.DataFrame(customer_normalized, columns=customers_cleaned.columns)"
   ]
  },
  {
   "cell_type": "code",
   "execution_count": 49,
   "metadata": {},
   "outputs": [],
   "source": [
    "# Apply PCA to customer data set\n",
    "customer_pca = pca.transform(customer_normalized)"
   ]
  },
  {
   "cell_type": "code",
   "execution_count": 50,
   "metadata": {},
   "outputs": [],
   "source": [
    "# Predict the cluster for each customer\n",
    "customer_cluster = kmeans.predict(customer_pca)"
   ]
  },
  {
   "cell_type": "markdown",
   "metadata": {},
   "source": [
    "### Step 3.3: Compare Customer Data to Demographics Data\n",
    "\n",
    "At this point, you have clustered data based on demographics of the general population of Germany, and seen how the customer data for a mail-order sales company maps onto those demographic clusters. In this final substep, you will compare the two cluster distributions to see where the strongest customer base for the company is.\n",
    "\n",
    "Consider the proportion of persons in each cluster for the general population, and the proportions for the customers. If we think the company's customer base to be universal, then the cluster assignment proportions should be fairly similar between the two. If there are only particular segments of the population that are interested in the company's products, then we should see a mismatch from one to the other. If there is a higher proportion of persons in a cluster for the customer data compared to the general population (e.g. 5% of persons are assigned to a cluster for the general population, but 15% of the customer data is closest to that cluster's centroid) then that suggests the people in that cluster to be a target audience for the company. On the other hand, the proportion of the data in a cluster being larger in the general population than the customer data (e.g. only 2% of customers closest to a population centroid that captures 6% of the data) suggests that group of persons to be outside of the target demographics.\n",
    "\n",
    "Take a look at the following points in this step:\n",
    "\n",
    "- Compute the proportion of data points in each cluster for the general population and the customer data. Visualizations will be useful here: both for the individual dataset proportions, but also to visualize the ratios in cluster representation between groups. Seaborn's [`countplot()`](https://seaborn.pydata.org/generated/seaborn.countplot.html) or [`barplot()`](https://seaborn.pydata.org/generated/seaborn.barplot.html) function could be handy.\n",
    "  - Recall the analysis you performed in step 1.1.3 of the project, where you separated out certain data points from the dataset if they had more than a specified threshold of missing values. If you found that this group was qualitatively different from the main bulk of the data, you should treat this as an additional data cluster in this analysis. Make sure that you account for the number of data points in this subset, for both the general population and customer datasets, when making your computations!\n",
    "- Which cluster or clusters are overrepresented in the customer dataset compared to the general population? Select at least one such cluster and infer what kind of people might be represented by that cluster. Use the principal component interpretations from step 2.3 or look at additional components to help you make this inference. Alternatively, you can use the `.inverse_transform()` method of the PCA and StandardScaler objects to transform centroids back to the original data space and interpret the retrieved values directly.\n",
    "- Perform a similar investigation for the underrepresented clusters. Which cluster or clusters are underrepresented in the customer dataset compared to the general population, and what kinds of people are typified by these clusters?"
   ]
  },
  {
   "cell_type": "code",
   "execution_count": 76,
   "metadata": {},
   "outputs": [],
   "source": [
    "# Statistic for customers\n",
    "n_population = len(kmeans_pred)\n",
    "df_population_clusters = pd.DataFrame({'cluster' : kmeans_pred})\n",
    "cluster_pop_statistics = pd.DataFrame({'population_by_cluster' : df_population_clusters.groupby('cluster')['cluster'].count()})\n",
    "cluster_pop_statistics['percentage_by_cluster'] = cluster_pop_statistics['population_by_cluster']  / n_population\n",
    "cluster_pop_statistics['percentage_by_cluster']\n",
    "\n",
    "# Statistic for customers\n",
    "n_customers = len(customer_cluster)\n",
    "df_customers_clusters = pd.DataFrame({'cluster' : customer_cluster})\n",
    "cluster_cust_statistics = pd.DataFrame({'population_by_cluster' : df_customers_clusters.groupby('cluster')['cluster'].count()})\n",
    "cluster_cust_statistics['percentage_by_cluster'] = cluster_cust_statistics['population_by_cluster']  / n_customers\n",
    "\n",
    "comparative_resume = pd.DataFrame({'cluster' : cluster_pop_statistics.index, 'customer_prop': cluster_cust_statistics['percentage_by_cluster'], 'population_prop': cluster_pop_statistics['percentage_by_cluster']})"
   ]
  },
  {
   "cell_type": "code",
   "execution_count": 72,
   "metadata": {},
   "outputs": [
    {
     "data": {
      "text/html": [
       "<div>\n",
       "<style scoped>\n",
       "    .dataframe tbody tr th:only-of-type {\n",
       "        vertical-align: middle;\n",
       "    }\n",
       "\n",
       "    .dataframe tbody tr th {\n",
       "        vertical-align: top;\n",
       "    }\n",
       "\n",
       "    .dataframe thead th {\n",
       "        text-align: right;\n",
       "    }\n",
       "</style>\n",
       "<table border=\"1\" class=\"dataframe\">\n",
       "  <thead>\n",
       "    <tr style=\"text-align: right;\">\n",
       "      <th></th>\n",
       "      <th>population_by_cluster</th>\n",
       "      <th>percentage_by_cluster</th>\n",
       "    </tr>\n",
       "    <tr>\n",
       "      <th>cluster</th>\n",
       "      <th></th>\n",
       "      <th></th>\n",
       "    </tr>\n",
       "  </thead>\n",
       "  <tbody>\n",
       "    <tr>\n",
       "      <th>0</th>\n",
       "      <td>57473</td>\n",
       "      <td>0.092221</td>\n",
       "    </tr>\n",
       "    <tr>\n",
       "      <th>1</th>\n",
       "      <td>46700</td>\n",
       "      <td>0.074935</td>\n",
       "    </tr>\n",
       "    <tr>\n",
       "      <th>2</th>\n",
       "      <td>47391</td>\n",
       "      <td>0.076044</td>\n",
       "    </tr>\n",
       "    <tr>\n",
       "      <th>3</th>\n",
       "      <td>69387</td>\n",
       "      <td>0.111338</td>\n",
       "    </tr>\n",
       "    <tr>\n",
       "      <th>4</th>\n",
       "      <td>58729</td>\n",
       "      <td>0.094236</td>\n",
       "    </tr>\n",
       "    <tr>\n",
       "      <th>5</th>\n",
       "      <td>46597</td>\n",
       "      <td>0.074769</td>\n",
       "    </tr>\n",
       "    <tr>\n",
       "      <th>6</th>\n",
       "      <td>57161</td>\n",
       "      <td>0.091720</td>\n",
       "    </tr>\n",
       "    <tr>\n",
       "      <th>7</th>\n",
       "      <td>51813</td>\n",
       "      <td>0.083139</td>\n",
       "    </tr>\n",
       "    <tr>\n",
       "      <th>8</th>\n",
       "      <td>50978</td>\n",
       "      <td>0.081799</td>\n",
       "    </tr>\n",
       "    <tr>\n",
       "      <th>9</th>\n",
       "      <td>51100</td>\n",
       "      <td>0.081995</td>\n",
       "    </tr>\n",
       "    <tr>\n",
       "      <th>10</th>\n",
       "      <td>83269</td>\n",
       "      <td>0.133613</td>\n",
       "    </tr>\n",
       "    <tr>\n",
       "      <th>11</th>\n",
       "      <td>2611</td>\n",
       "      <td>0.004190</td>\n",
       "    </tr>\n",
       "  </tbody>\n",
       "</table>\n",
       "</div>"
      ],
      "text/plain": [
       "         population_by_cluster  percentage_by_cluster\n",
       "cluster                                              \n",
       "0                        57473               0.092221\n",
       "1                        46700               0.074935\n",
       "2                        47391               0.076044\n",
       "3                        69387               0.111338\n",
       "4                        58729               0.094236\n",
       "5                        46597               0.074769\n",
       "6                        57161               0.091720\n",
       "7                        51813               0.083139\n",
       "8                        50978               0.081799\n",
       "9                        51100               0.081995\n",
       "10                       83269               0.133613\n",
       "11                        2611               0.004190"
      ]
     },
     "execution_count": 72,
     "metadata": {},
     "output_type": "execute_result"
    }
   ],
   "source": [
    "cluster_pop_statistics"
   ]
  },
  {
   "cell_type": "code",
   "execution_count": 56,
   "metadata": {},
   "outputs": [
    {
     "data": {
      "image/png": "[encoded data removed]",
      "text/plain": [
       "<matplotlib.figure.Figure at 0x7fdfd86edac8>"
      ]
     },
     "metadata": {
      "needs_background": "light"
     },
     "output_type": "display_data"
    }
   ],
   "source": [
    "# Compare the proportion of data in each cluster for the customer data to the\n",
    "# proportion of data in each cluster for the general population.\n",
    "\n",
    "comparative_resume.plot(x='cluster', y = ['population_prop', 'customer_prop'], kind='bar', figsize=(10, 5))\n",
    "plt.ylabel('proportion of persons by cluster')\n",
    "plt.show()"
   ]
  },
  {
   "cell_type": "code",
   "execution_count": 149,
   "metadata": {},
   "outputs": [],
   "source": [
    "# What kinds of people are part of a cluster that is overrepresented in the\n",
    "# customer data compared to the general population?\n",
    "\n",
    "class_7_centroid = pd.DataFrame(scaler.inverse_transform(pca.inverse_transform(kmeans.cluster_centers_[7])), customers_cleaned.columns)"
   ]
  },
  {
   "cell_type": "code",
   "execution_count": 161,
   "metadata": {},
   "outputs": [
    {
     "name": "stdout",
     "output_type": "stream",
     "text": [
      "Column ALTERSKATEGORIE_GROB, value 3.289073204437919\n",
      "Column ANREDE_KZ, value 1.0514816672803782\n",
      "Column FINANZ_MINIMALIST, value 4.803603599155565\n",
      "Column FINANZ_SPARER, value 1.6805803646780517\n",
      "Column FINANZ_VORSORGER, value 4.154398841429752\n",
      "Column FINANZ_ANLEGER, value 1.5222946624706624\n",
      "Column FINANZ_UNAUFFAELLIGER, value 2.1816781384186354\n",
      "Column FINANZ_HAUSBAUER, value 1.8951085465880095\n",
      "Column GREEN_AVANTGARDE, value 0.9625145165628863\n",
      "Column HEALTH_TYP, value 2.071306762370295\n",
      "Column LP_LEBENSPHASE_FEIN, value 25.085734936967462\n",
      "Column LP_LEBENSPHASE_GROB, value 7.304509489726124\n",
      "Column RETOURTYP_BK_S, value 3.9515444902267434\n",
      "Column SEMIO_SOZ, value 4.893334574525336\n",
      "Column SEMIO_FAM, value 4.809705235802675\n",
      "Column SEMIO_REL, value 3.766361630545251\n",
      "Column SEMIO_MAT, value 3.839831284695474\n",
      "Column SEMIO_VERT, value 6.199713230161273\n",
      "Column SEMIO_LUST, value 5.319334025455092\n",
      "Column SEMIO_ERL, value 4.09222612292437\n",
      "Column SEMIO_KULT, value 4.948792699090416\n",
      "Column SEMIO_RAT, value 2.6922092386251344\n",
      "Column SEMIO_KRIT, value 3.103374368583663\n",
      "Column SEMIO_DOM, value 3.398646490648898\n",
      "Column SEMIO_KAEM, value 2.5758380916006347\n",
      "Column SEMIO_PFLICHT, value 3.199315765047351\n",
      "Column SEMIO_TRADV, value 3.1363325176622725\n",
      "Column SOHO_KZ, value 0.008924434312846456\n",
      "Column VERS_TYP, value 1.5398985330630184\n",
      "Column ANZ_PERSONEN, value 2.3462474385119876\n",
      "Column ANZ_TITEL, value 1.4510228612086423e-05\n",
      "Column HH_EINKOMMEN_SCORE, value 2.4744367608616034\n",
      "Column W_KEIT_KIND_HH, value 4.131004167674305\n",
      "Column WOHNDAUER_2008, value 8.497807868050478\n",
      "Column ANZ_HAUSHALTE_AKTIV, value 2.0241523416732434\n",
      "Column ANZ_HH_TITEL, value 0.006408729423917799\n",
      "Column KONSUMNAEHE, value 3.3620852096461515\n",
      "Column MIN_GEBAEUDEJAHR, value 1992.5622359997278\n",
      "Column WOHNLAGE, value 3.1029366792008037\n",
      "Column KBA05_ANTG1, value 2.735378470258331\n",
      "Column KBA05_ANTG2, value 1.1516216067250038\n",
      "Column KBA05_ANTG3, value 0.08940133257733729\n",
      "Column KBA05_ANTG4, value 0.007287422491221163\n",
      "Column KBA05_GBZ, value 4.050327046940418\n",
      "Column BALLRAUM, value 4.021933426746127\n",
      "Column EWDICHTE, value 4.0092807530094055\n",
      "Column INNENSTADT, value 4.640073132464834\n",
      "Column GEBAEUDETYP_RASTER, value 3.9624444580041547\n",
      "Column KKK, value 2.1457007422835597\n",
      "Column MOBI_REGIO, value 4.1273834526694175\n",
      "Column ONLINE_AFFINITAET, value 3.201164582979023\n",
      "Column REGIOTYP, value 3.440364261569564\n",
      "Column KBA13_ANZAHL_PKW, value 689.2705679190753\n",
      "Column PLZ8_ANTG1, value 2.7917164433283745\n",
      "Column PLZ8_ANTG2, value 2.5925707246974095\n",
      "Column PLZ8_ANTG3, value 1.1893392923866855\n",
      "Column PLZ8_ANTG4, value 0.3774905811898794\n",
      "Column PLZ8_BAUMAX, value 1.229413392870836\n",
      "Column PLZ8_HHZ, value 3.695454698843932\n",
      "Column PLZ8_GBZ, value 3.902944937730117\n",
      "Column ARBEIT, value 3.018298771740921\n",
      "Column ORTSGR_KLS9, value 5.415479119979285\n",
      "Column RELAT_AB, value 2.918221584105188\n",
      "Column OST_WEST_KZ_O, value 0.09485483178228095\n",
      "Column OST_WEST_KZ_W, value 0.9051451682177191\n",
      "Column MOVEMENT, value 1.9625145165628861\n",
      "Column DECADE, value 3.6172829387053227\n",
      "Column LIFE_STAGE, value 2.108635685225523\n"
     ]
    }
   ],
   "source": [
    "for column in customers_cleaned.columns:\n",
    "    print(\"Column {}, value {}\".format(column, class_7_centroid.loc[column][0]))"
   ]
  },
  {
   "cell_type": "code",
   "execution_count": 162,
   "metadata": {},
   "outputs": [],
   "source": [
    "# What kinds of people are part of a cluster that is underrepresented in the\n",
    "# customer data compared to the general population?\n",
    "class_0_centroid = pd.DataFrame(scaler.inverse_transform(pca.inverse_transform(kmeans.cluster_centers_[0])), customers_cleaned.columns)"
   ]
  },
  {
   "cell_type": "code",
   "execution_count": 163,
   "metadata": {},
   "outputs": [
    {
     "name": "stdout",
     "output_type": "stream",
     "text": [
      "Column ALTERSKATEGORIE_GROB, value 1.573934361209454\n",
      "Column ANREDE_KZ, value 1.9945801267069663\n",
      "Column FINANZ_MINIMALIST, value 2.2790424288519815\n",
      "Column FINANZ_SPARER, value 3.964263261628421\n",
      "Column FINANZ_VORSORGER, value 2.2509343457919915\n",
      "Column FINANZ_ANLEGER, value 4.367830018260381\n",
      "Column FINANZ_UNAUFFAELLIGER, value 3.806286336537136\n",
      "Column FINANZ_HAUSBAUER, value 2.949684576771203\n",
      "Column GREEN_AVANTGARDE, value 0.19202116762287214\n",
      "Column HEALTH_TYP, value 2.1787768216667613\n",
      "Column LP_LEBENSPHASE_FEIN, value 18.26464661722022\n",
      "Column LP_LEBENSPHASE_GROB, value 5.6243320388137406\n",
      "Column RETOURTYP_BK_S, value 2.416758454000451\n",
      "Column SEMIO_SOZ, value 2.7005016939342874\n",
      "Column SEMIO_FAM, value 3.70433740059537\n",
      "Column SEMIO_REL, value 5.343063993114246\n",
      "Column SEMIO_MAT, value 5.231800770922025\n",
      "Column SEMIO_VERT, value 2.4162607000679115\n",
      "Column SEMIO_LUST, value 2.9141832132856362\n",
      "Column SEMIO_ERL, value 4.080723451560237\n",
      "Column SEMIO_KULT, value 4.211429145744884\n",
      "Column SEMIO_RAT, value 6.498513753831608\n",
      "Column SEMIO_KRIT, value 5.322575847521854\n",
      "Column SEMIO_DOM, value 6.148078819522941\n",
      "Column SEMIO_KAEM, value 5.682075023461422\n",
      "Column SEMIO_PFLICHT, value 6.336284545197653\n",
      "Column SEMIO_TRADV, value 6.136072909004637\n",
      "Column SOHO_KZ, value 0.0089370773323033\n",
      "Column VERS_TYP, value 1.430792039074282\n",
      "Column ANZ_PERSONEN, value 2.0641932671445784\n",
      "Column ANZ_TITEL, value -0.0002311818594073001\n",
      "Column HH_EINKOMMEN_SCORE, value 4.215622957555824\n",
      "Column W_KEIT_KIND_HH, value 3.346171371553769\n",
      "Column WOHNDAUER_2008, value 7.611966212142381\n",
      "Column ANZ_HAUSHALTE_AKTIV, value 3.4131294924965063\n",
      "Column ANZ_HH_TITEL, value 0.007872863480738963\n",
      "Column KONSUMNAEHE, value 3.6149528496851726\n",
      "Column MIN_GEBAEUDEJAHR, value 1992.708604027776\n",
      "Column WOHNLAGE, value 4.524258047820392\n",
      "Column KBA05_ANTG1, value 2.242655877007484\n",
      "Column KBA05_ANTG2, value 1.3694649610456437\n",
      "Column KBA05_ANTG3, value 0.27324684073483013\n",
      "Column KBA05_ANTG4, value 0.051542980877140515\n",
      "Column KBA05_GBZ, value 3.860356010721176\n",
      "Column BALLRAUM, value 4.960795126771065\n",
      "Column EWDICHTE, value 3.0914819716512953\n",
      "Column INNENSTADT, value 5.396958953042589\n",
      "Column GEBAEUDETYP_RASTER, value 3.9979867483144313\n",
      "Column KKK, value 2.63797385971184\n",
      "Column MOBI_REGIO, value 3.7734890451881924\n",
      "Column ONLINE_AFFINITAET, value 3.574195599174108\n",
      "Column REGIOTYP, value 4.21459296990106\n",
      "Column KBA13_ANZAHL_PKW, value 696.3672315157954\n",
      "Column PLZ8_ANTG1, value 2.8517282225657756\n",
      "Column PLZ8_ANTG2, value 2.433736992771652\n",
      "Column PLZ8_ANTG3, value 0.996463837384738\n",
      "Column PLZ8_ANTG4, value 0.26434851213524607\n",
      "Column PLZ8_BAUMAX, value 1.0866972041799434\n",
      "Column PLZ8_HHZ, value 3.5522708602764337\n",
      "Column PLZ8_GBZ, value 3.9269374061801745\n",
      "Column ARBEIT, value 2.788301450244982\n",
      "Column ORTSGR_KLS9, value 4.042166386770289\n",
      "Column RELAT_AB, value 2.5594580748177673\n",
      "Column OST_WEST_KZ_O, value 0.13523512115346378\n",
      "Column OST_WEST_KZ_W, value 0.8647648788465362\n",
      "Column MOVEMENT, value 1.192021167622872\n",
      "Column DECADE, value 3.234210698416692\n",
      "Column LIFE_STAGE, value 2.5891010212833865\n"
     ]
    }
   ],
   "source": [
    "for column in customers_cleaned.columns:\n",
    "    print(\"Column {}, value {}\".format(column, class_0_centroid.loc[column][0]))"
   ]
  },
  {
   "cell_type": "markdown",
   "metadata": {},
   "source": [
    "### Discussion 3.3: Compare Customer Data to Demographics Data\n",
    "\n",
    "The most representative class corresponds to class 7, which is characterized by the following properties: men between 46-60 years old, live near cities, have a thrifty profile and have a medium-high income.\n",
    "\n",
    "On the other hand, one of the worst represented classes corresponds to class 0, characterized by being female mainly, with low savings capacity, living far from urban centers and with low purchasing power."
   ]
  },
  {
   "cell_type": "markdown",
   "metadata": {},
   "source": [
    "> Congratulations on making it this far in the project! Before you finish, make sure to check through the entire notebook from top to bottom to make sure that your analysis follows a logical flow and all of your findings are documented in **Discussion** cells. Once you've checked over all of your work, you should export the notebook as an HTML document to submit for evaluation. You can do this from the menu, navigating to **File -> Download as -> HTML (.html)**. You will submit both that document and this notebook for your project submission."
   ]
  },
  {
   "cell_type": "code",
   "execution_count": null,
   "metadata": {},
   "outputs": [],
   "source": []
  }
 ],
 "metadata": {
  "kernelspec": {
   "display_name": "Python 3",
   "language": "python",
   "name": "python3"
  },
  "language_info": {
   "codemirror_mode": {
    "name": "ipython",
    "version": 3
   },
   "file_extension": ".py",
   "mimetype": "text/x-python",
   "name": "python",
   "nbconvert_exporter": "python",
   "pygments_lexer": "ipython3",
   "version": "3.6.3"
  }
 },
 "nbformat": 4,
 "nbformat_minor": 2
}
