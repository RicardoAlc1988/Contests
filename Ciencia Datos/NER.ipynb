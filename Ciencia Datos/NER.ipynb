{
  "nbformat": 4,
  "nbformat_minor": 0,
  "metadata": {
    "colab": {
      "provenance": [],
      "collapsed_sections": []
    },
    "kernelspec": {
      "name": "python3",
      "display_name": "Python 3"
    },
    "language_info": {
      "name": "python"
    },
    "accelerator": "GPU",
    "gpuClass": "standard"
  },
  "cells": [
    {
      "cell_type": "code",
      "execution_count": null,
      "metadata": {
        "id": "zrldejhJ5-mX"
      },
      "outputs": [],
      "source": [
        "!pip install tensorflow-addons"
      ]
    },
    {
      "cell_type": "code",
      "source": [
        "!pip install git+https://www.github.com/keras-team/keras-contrib.git"
      ],
      "metadata": {
        "id": "GvSuy6nb34o1"
      },
      "execution_count": null,
      "outputs": []
    },
    {
      "cell_type": "code",
      "source": [
        "!pip install tensorflow==1.13.1"
      ],
      "metadata": {
        "id": "Y4EiJiseRL1Z"
      },
      "execution_count": null,
      "outputs": []
    },
    {
      "cell_type": "code",
      "source": [
        "!pip install q keras==2.2.4"
      ],
      "metadata": {
        "id": "b_hX_JpeRcNj"
      },
      "execution_count": null,
      "outputs": []
    },
    {
      "cell_type": "code",
      "source": [
        "#%tensorflow_version 1.13.1\n",
        "#%keras_version 2.2.4"
      ],
      "metadata": {
        "id": "TwGmJ4qBQqoL"
      },
      "execution_count": null,
      "outputs": []
    },
    {
      "cell_type": "code",
      "source": [
        "%%shell\n",
        "jupyter nbconvert --to html /content/NER.ipynb"
      ],
      "metadata": {
        "colab": {
          "base_uri": "https://localhost:8080/"
        },
        "id": "eRJoFGDQQPbL",
        "outputId": "be53df45-c82f-4974-9638-24930c2afaa1"
      },
      "execution_count": null,
      "outputs": [
        {
          "output_type": "stream",
          "name": "stdout",
          "text": [
            "[NbConvertApp] Converting notebook /content/NER.ipynb to html\n",
            "[NbConvertApp] Writing 356478 bytes to /content/NER.html\n"
          ]
        },
        {
          "output_type": "execute_result",
          "data": {
            "text/plain": []
          },
          "metadata": {},
          "execution_count": 143
        }
      ]
    },
    {
      "cell_type": "code",
      "source": [
        "from google.colab import drive\n",
        "import pandas as pd\n",
        "import numpy as np\n",
        "from keras.preprocessing.text import Tokenizer\n",
        "from keras.utils import to_categorical\n",
        "from keras.optimizers import Adam\n",
        "from tensorflow.keras.preprocessing.sequence import pad_sequences\n",
        "import tensorflow as tf\n",
        "from keras.layers import Conv1D, Activation, MaxPooling1D, Dense, concatenate, LSTM, Bidirectional, TimeDistributed, Input, Embedding, Flatten\n",
        "#import tensorflow_addons as tfa\n",
        "#from tensorflow_addons.layers import CRF\n",
        "from keras_contrib.losses import crf_loss\n",
        "from keras_contrib.metrics import crf_accuracy\n",
        "from keras_contrib.layers import CRF\n",
        "from keras.models import Model\n",
        "from sklearn.model_selection import train_test_split\n",
        "import re\n",
        "from keras.utils.vis_utils import plot_model"
      ],
      "metadata": {
        "id": "lofLs-MNjGx2",
        "colab": {
          "base_uri": "https://localhost:8080/"
        },
        "outputId": "3e22e34e-2d19-4ca0-91a5-3b06344c1a91"
      },
      "execution_count": null,
      "outputs": [
        {
          "output_type": "stream",
          "name": "stderr",
          "text": [
            "Using TensorFlow backend.\n",
            "/usr/local/lib/python3.7/dist-packages/tensorflow/python/framework/dtypes.py:526: FutureWarning: Passing (type, 1) or '1type' as a synonym of type is deprecated; in a future version of numpy, it will be understood as (type, (1,)) / '(1,)type'.\n",
            "  _np_qint8 = np.dtype([(\"qint8\", np.int8, 1)])\n",
            "/usr/local/lib/python3.7/dist-packages/tensorflow/python/framework/dtypes.py:527: FutureWarning: Passing (type, 1) or '1type' as a synonym of type is deprecated; in a future version of numpy, it will be understood as (type, (1,)) / '(1,)type'.\n",
            "  _np_quint8 = np.dtype([(\"quint8\", np.uint8, 1)])\n",
            "/usr/local/lib/python3.7/dist-packages/tensorflow/python/framework/dtypes.py:528: FutureWarning: Passing (type, 1) or '1type' as a synonym of type is deprecated; in a future version of numpy, it will be understood as (type, (1,)) / '(1,)type'.\n",
            "  _np_qint16 = np.dtype([(\"qint16\", np.int16, 1)])\n",
            "/usr/local/lib/python3.7/dist-packages/tensorflow/python/framework/dtypes.py:529: FutureWarning: Passing (type, 1) or '1type' as a synonym of type is deprecated; in a future version of numpy, it will be understood as (type, (1,)) / '(1,)type'.\n",
            "  _np_quint16 = np.dtype([(\"quint16\", np.uint16, 1)])\n",
            "/usr/local/lib/python3.7/dist-packages/tensorflow/python/framework/dtypes.py:530: FutureWarning: Passing (type, 1) or '1type' as a synonym of type is deprecated; in a future version of numpy, it will be understood as (type, (1,)) / '(1,)type'.\n",
            "  _np_qint32 = np.dtype([(\"qint32\", np.int32, 1)])\n",
            "/usr/local/lib/python3.7/dist-packages/tensorflow/python/framework/dtypes.py:535: FutureWarning: Passing (type, 1) or '1type' as a synonym of type is deprecated; in a future version of numpy, it will be understood as (type, (1,)) / '(1,)type'.\n",
            "  np_resource = np.dtype([(\"resource\", np.ubyte, 1)])\n"
          ]
        }
      ]
    },
    {
      "cell_type": "code",
      "source": [
        "print(tf.__version__)"
      ],
      "metadata": {
        "colab": {
          "base_uri": "https://localhost:8080/"
        },
        "id": "PjLZyXU0Xd4T",
        "outputId": "dad1da5f-e341-4fb1-a815-342947386a50"
      },
      "execution_count": null,
      "outputs": [
        {
          "output_type": "stream",
          "name": "stdout",
          "text": [
            "1.13.1\n"
          ]
        }
      ]
    },
    {
      "cell_type": "markdown",
      "source": [
        "## Carga de los datos"
      ],
      "metadata": {
        "id": "KPKErH4Ak25o"
      }
    },
    {
      "cell_type": "code",
      "source": [
        "# Conexión a Google Drive\n",
        "drive.mount('/content/gdrive')"
      ],
      "metadata": {
        "colab": {
          "base_uri": "https://localhost:8080/"
        },
        "id": "FjAqpKxU6TvB",
        "outputId": "21a30e63-6029-4e5a-b7cf-a7da39a4e72d"
      },
      "execution_count": null,
      "outputs": [
        {
          "output_type": "stream",
          "name": "stdout",
          "text": [
            "Mounted at /content/gdrive\n"
          ]
        }
      ]
    },
    {
      "cell_type": "code",
      "source": [
        "data_dir = '/content/gdrive/MyDrive/ColabNotebooks/NER/ner_datasetreference.csv'\n",
        "ner_df = pd.read_csv(data_dir,  encoding= 'unicode_escape')"
      ],
      "metadata": {
        "id": "nqTlYfBG7X_6"
      },
      "execution_count": null,
      "outputs": []
    },
    {
      "cell_type": "code",
      "source": [
        "# Rellenamos la fila sentencia, propagando desde la primera informada hasta la siguiente informada\n",
        "ner_df = ner_df.fillna(method='ffill', axis=0)\n",
        "\n",
        "# Eliminamos la columna POS\n",
        "ner_df = ner_df.drop(['POS'], axis=1)"
      ],
      "metadata": {
        "id": "BKe5c93u87ib"
      },
      "execution_count": null,
      "outputs": []
    },
    {
      "cell_type": "code",
      "source": [
        "web_pattern = '((http|https)://)?[a-zA-Z0-9./?:@-_=#]+\\.([a-zA-Z]){2,6}([a-zA-Z0-9.&/?:@\\-_=#])*'\n",
        "filter = ner_df['Word'].str.contains(web_pattern)\n",
        "ner_df = ner_df[~filter]"
      ],
      "metadata": {
        "colab": {
          "base_uri": "https://localhost:8080/"
        },
        "id": "KtX0dlDwVe44",
        "outputId": "97e3dc6a-8a7c-4d53-97f9-f11a1e8d9bc3"
      },
      "execution_count": null,
      "outputs": [
        {
          "output_type": "stream",
          "name": "stderr",
          "text": [
            "/usr/local/lib/python3.7/dist-packages/ipykernel_launcher.py:2: UserWarning: This pattern has match groups. To actually get the groups, use str.extract.\n",
            "  \n"
          ]
        }
      ]
    },
    {
      "cell_type": "code",
      "source": [
        "ner_df['Word'] = ner_df['Word'].str.lower()"
      ],
      "metadata": {
        "id": "InSwbCVrV_XK"
      },
      "execution_count": null,
      "outputs": []
    },
    {
      "cell_type": "code",
      "source": [
        "ner_df.head()"
      ],
      "metadata": {
        "colab": {
          "base_uri": "https://localhost:8080/",
          "height": 206
        },
        "id": "20SpwFmynunt",
        "outputId": "b006741e-aa15-4d2d-828a-d866a4d18d6b"
      },
      "execution_count": null,
      "outputs": [
        {
          "output_type": "execute_result",
          "data": {
            "text/plain": [
              "    Sentence #           Word Tag\n",
              "0  Sentence: 1      thousands   O\n",
              "1  Sentence: 1             of   O\n",
              "2  Sentence: 1  demonstrators   O\n",
              "3  Sentence: 1           have   O\n",
              "4  Sentence: 1        marched   O"
            ],
            "text/html": [
              "\n",
              "  <div id=\"df-1608ce54-ab22-418b-bb27-15e98abc72c1\">\n",
              "    <div class=\"colab-df-container\">\n",
              "      <div>\n",
              "<style scoped>\n",
              "    .dataframe tbody tr th:only-of-type {\n",
              "        vertical-align: middle;\n",
              "    }\n",
              "\n",
              "    .dataframe tbody tr th {\n",
              "        vertical-align: top;\n",
              "    }\n",
              "\n",
              "    .dataframe thead th {\n",
              "        text-align: right;\n",
              "    }\n",
              "</style>\n",
              "<table border=\"1\" class=\"dataframe\">\n",
              "  <thead>\n",
              "    <tr style=\"text-align: right;\">\n",
              "      <th></th>\n",
              "      <th>Sentence #</th>\n",
              "      <th>Word</th>\n",
              "      <th>Tag</th>\n",
              "    </tr>\n",
              "  </thead>\n",
              "  <tbody>\n",
              "    <tr>\n",
              "      <th>0</th>\n",
              "      <td>Sentence: 1</td>\n",
              "      <td>thousands</td>\n",
              "      <td>O</td>\n",
              "    </tr>\n",
              "    <tr>\n",
              "      <th>1</th>\n",
              "      <td>Sentence: 1</td>\n",
              "      <td>of</td>\n",
              "      <td>O</td>\n",
              "    </tr>\n",
              "    <tr>\n",
              "      <th>2</th>\n",
              "      <td>Sentence: 1</td>\n",
              "      <td>demonstrators</td>\n",
              "      <td>O</td>\n",
              "    </tr>\n",
              "    <tr>\n",
              "      <th>3</th>\n",
              "      <td>Sentence: 1</td>\n",
              "      <td>have</td>\n",
              "      <td>O</td>\n",
              "    </tr>\n",
              "    <tr>\n",
              "      <th>4</th>\n",
              "      <td>Sentence: 1</td>\n",
              "      <td>marched</td>\n",
              "      <td>O</td>\n",
              "    </tr>\n",
              "  </tbody>\n",
              "</table>\n",
              "</div>\n",
              "      <button class=\"colab-df-convert\" onclick=\"convertToInteractive('df-1608ce54-ab22-418b-bb27-15e98abc72c1')\"\n",
              "              title=\"Convert this dataframe to an interactive table.\"\n",
              "              style=\"display:none;\">\n",
              "        \n",
              "  <svg xmlns=\"http://www.w3.org/2000/svg\" height=\"24px\"viewBox=\"0 0 24 24\"\n",
              "       width=\"24px\">\n",
              "    <path d=\"M0 0h24v24H0V0z\" fill=\"none\"/>\n",
              "    <path d=\"M18.56 5.44l.94 2.06.94-2.06 2.06-.94-2.06-.94-.94-2.06-.94 2.06-2.06.94zm-11 1L8.5 8.5l.94-2.06 2.06-.94-2.06-.94L8.5 2.5l-.94 2.06-2.06.94zm10 10l.94 2.06.94-2.06 2.06-.94-2.06-.94-.94-2.06-.94 2.06-2.06.94z\"/><path d=\"M17.41 7.96l-1.37-1.37c-.4-.4-.92-.59-1.43-.59-.52 0-1.04.2-1.43.59L10.3 9.45l-7.72 7.72c-.78.78-.78 2.05 0 2.83L4 21.41c.39.39.9.59 1.41.59.51 0 1.02-.2 1.41-.59l7.78-7.78 2.81-2.81c.8-.78.8-2.07 0-2.86zM5.41 20L4 18.59l7.72-7.72 1.47 1.35L5.41 20z\"/>\n",
              "  </svg>\n",
              "      </button>\n",
              "      \n",
              "  <style>\n",
              "    .colab-df-container {\n",
              "      display:flex;\n",
              "      flex-wrap:wrap;\n",
              "      gap: 12px;\n",
              "    }\n",
              "\n",
              "    .colab-df-convert {\n",
              "      background-color: #E8F0FE;\n",
              "      border: none;\n",
              "      border-radius: 50%;\n",
              "      cursor: pointer;\n",
              "      display: none;\n",
              "      fill: #1967D2;\n",
              "      height: 32px;\n",
              "      padding: 0 0 0 0;\n",
              "      width: 32px;\n",
              "    }\n",
              "\n",
              "    .colab-df-convert:hover {\n",
              "      background-color: #E2EBFA;\n",
              "      box-shadow: 0px 1px 2px rgba(60, 64, 67, 0.3), 0px 1px 3px 1px rgba(60, 64, 67, 0.15);\n",
              "      fill: #174EA6;\n",
              "    }\n",
              "\n",
              "    [theme=dark] .colab-df-convert {\n",
              "      background-color: #3B4455;\n",
              "      fill: #D2E3FC;\n",
              "    }\n",
              "\n",
              "    [theme=dark] .colab-df-convert:hover {\n",
              "      background-color: #434B5C;\n",
              "      box-shadow: 0px 1px 3px 1px rgba(0, 0, 0, 0.15);\n",
              "      filter: drop-shadow(0px 1px 2px rgba(0, 0, 0, 0.3));\n",
              "      fill: #FFFFFF;\n",
              "    }\n",
              "  </style>\n",
              "\n",
              "      <script>\n",
              "        const buttonEl =\n",
              "          document.querySelector('#df-1608ce54-ab22-418b-bb27-15e98abc72c1 button.colab-df-convert');\n",
              "        buttonEl.style.display =\n",
              "          google.colab.kernel.accessAllowed ? 'block' : 'none';\n",
              "\n",
              "        async function convertToInteractive(key) {\n",
              "          const element = document.querySelector('#df-1608ce54-ab22-418b-bb27-15e98abc72c1');\n",
              "          const dataTable =\n",
              "            await google.colab.kernel.invokeFunction('convertToInteractive',\n",
              "                                                     [key], {});\n",
              "          if (!dataTable) return;\n",
              "\n",
              "          const docLinkHtml = 'Like what you see? Visit the ' +\n",
              "            '<a target=\"_blank\" href=https://colab.research.google.com/notebooks/data_table.ipynb>data table notebook</a>'\n",
              "            + ' to learn more about interactive tables.';\n",
              "          element.innerHTML = '';\n",
              "          dataTable['output_type'] = 'display_data';\n",
              "          await google.colab.output.renderOutput(dataTable, element);\n",
              "          const docLink = document.createElement('div');\n",
              "          docLink.innerHTML = docLinkHtml;\n",
              "          element.appendChild(docLink);\n",
              "        }\n",
              "      </script>\n",
              "    </div>\n",
              "  </div>\n",
              "  "
            ]
          },
          "metadata": {},
          "execution_count": 9
        }
      ]
    },
    {
      "cell_type": "markdown",
      "source": [
        "## Data cleaning"
      ],
      "metadata": {
        "id": "dlsPTVCTnfSU"
      }
    },
    {
      "cell_type": "code",
      "source": [
        "ner_grouped_df = ner_df.groupby(\n",
        "['Sentence #'],as_index=False\n",
        ")['Word', 'Tag'].agg(lambda x: ' '.join(x)).rename(columns={\"Word\": \"Word_sequence\", \"Tag\": \"Tag_sequence\"})"
      ],
      "metadata": {
        "colab": {
          "base_uri": "https://localhost:8080/"
        },
        "id": "VdMTrFKGPymW",
        "outputId": "f978c825-9803-42e4-f702-db5182bc889d"
      },
      "execution_count": null,
      "outputs": [
        {
          "output_type": "stream",
          "name": "stderr",
          "text": [
            "/usr/local/lib/python3.7/dist-packages/ipykernel_launcher.py:3: FutureWarning: Indexing with multiple keys (implicitly converted to a tuple of keys) will be deprecated, use a list instead.\n",
            "  This is separate from the ipykernel package so we can avoid doing imports until\n"
          ]
        }
      ]
    },
    {
      "cell_type": "code",
      "source": [
        "ner_grouped_df.head()"
      ],
      "metadata": {
        "colab": {
          "base_uri": "https://localhost:8080/",
          "height": 206
        },
        "id": "jJ8yXEU6WQVZ",
        "outputId": "49ed829a-30bf-48c1-a07e-0697067ae84a"
      },
      "execution_count": null,
      "outputs": [
        {
          "output_type": "execute_result",
          "data": {
            "text/plain": [
              "        Sentence #                                      Word_sequence  \\\n",
              "0      Sentence: 1  thousands of demonstrators have marched throug...   \n",
              "1     Sentence: 10  iranian officials say they expect to get acces...   \n",
              "2    Sentence: 100  helicopter gunships saturday pounded militant ...   \n",
              "3   Sentence: 1000  they left after a tense hour-long standoff wit...   \n",
              "4  Sentence: 10000  u.n. relief coordinator jan egeland said sunda...   \n",
              "\n",
              "                                        Tag_sequence  \n",
              "0  O O O O O O B-geo O O O O O B-geo O O O O O B-...  \n",
              "1  B-gpe O O O O O O O O O O O O O O B-tim O O O ...  \n",
              "2  O O B-tim O O O O O B-geo O O O O O B-org O O ...  \n",
              "3                              O O O O O O O O O O O  \n",
              "4  B-geo O O B-per I-per O B-tim O B-geo O B-gpe ...  "
            ],
            "text/html": [
              "\n",
              "  <div id=\"df-b52b12e2-55c1-4b0d-bd84-7ad3b68db303\">\n",
              "    <div class=\"colab-df-container\">\n",
              "      <div>\n",
              "<style scoped>\n",
              "    .dataframe tbody tr th:only-of-type {\n",
              "        vertical-align: middle;\n",
              "    }\n",
              "\n",
              "    .dataframe tbody tr th {\n",
              "        vertical-align: top;\n",
              "    }\n",
              "\n",
              "    .dataframe thead th {\n",
              "        text-align: right;\n",
              "    }\n",
              "</style>\n",
              "<table border=\"1\" class=\"dataframe\">\n",
              "  <thead>\n",
              "    <tr style=\"text-align: right;\">\n",
              "      <th></th>\n",
              "      <th>Sentence #</th>\n",
              "      <th>Word_sequence</th>\n",
              "      <th>Tag_sequence</th>\n",
              "    </tr>\n",
              "  </thead>\n",
              "  <tbody>\n",
              "    <tr>\n",
              "      <th>0</th>\n",
              "      <td>Sentence: 1</td>\n",
              "      <td>thousands of demonstrators have marched throug...</td>\n",
              "      <td>O O O O O O B-geo O O O O O B-geo O O O O O B-...</td>\n",
              "    </tr>\n",
              "    <tr>\n",
              "      <th>1</th>\n",
              "      <td>Sentence: 10</td>\n",
              "      <td>iranian officials say they expect to get acces...</td>\n",
              "      <td>B-gpe O O O O O O O O O O O O O O B-tim O O O ...</td>\n",
              "    </tr>\n",
              "    <tr>\n",
              "      <th>2</th>\n",
              "      <td>Sentence: 100</td>\n",
              "      <td>helicopter gunships saturday pounded militant ...</td>\n",
              "      <td>O O B-tim O O O O O B-geo O O O O O B-org O O ...</td>\n",
              "    </tr>\n",
              "    <tr>\n",
              "      <th>3</th>\n",
              "      <td>Sentence: 1000</td>\n",
              "      <td>they left after a tense hour-long standoff wit...</td>\n",
              "      <td>O O O O O O O O O O O</td>\n",
              "    </tr>\n",
              "    <tr>\n",
              "      <th>4</th>\n",
              "      <td>Sentence: 10000</td>\n",
              "      <td>u.n. relief coordinator jan egeland said sunda...</td>\n",
              "      <td>B-geo O O B-per I-per O B-tim O B-geo O B-gpe ...</td>\n",
              "    </tr>\n",
              "  </tbody>\n",
              "</table>\n",
              "</div>\n",
              "      <button class=\"colab-df-convert\" onclick=\"convertToInteractive('df-b52b12e2-55c1-4b0d-bd84-7ad3b68db303')\"\n",
              "              title=\"Convert this dataframe to an interactive table.\"\n",
              "              style=\"display:none;\">\n",
              "        \n",
              "  <svg xmlns=\"http://www.w3.org/2000/svg\" height=\"24px\"viewBox=\"0 0 24 24\"\n",
              "       width=\"24px\">\n",
              "    <path d=\"M0 0h24v24H0V0z\" fill=\"none\"/>\n",
              "    <path d=\"M18.56 5.44l.94 2.06.94-2.06 2.06-.94-2.06-.94-.94-2.06-.94 2.06-2.06.94zm-11 1L8.5 8.5l.94-2.06 2.06-.94-2.06-.94L8.5 2.5l-.94 2.06-2.06.94zm10 10l.94 2.06.94-2.06 2.06-.94-2.06-.94-.94-2.06-.94 2.06-2.06.94z\"/><path d=\"M17.41 7.96l-1.37-1.37c-.4-.4-.92-.59-1.43-.59-.52 0-1.04.2-1.43.59L10.3 9.45l-7.72 7.72c-.78.78-.78 2.05 0 2.83L4 21.41c.39.39.9.59 1.41.59.51 0 1.02-.2 1.41-.59l7.78-7.78 2.81-2.81c.8-.78.8-2.07 0-2.86zM5.41 20L4 18.59l7.72-7.72 1.47 1.35L5.41 20z\"/>\n",
              "  </svg>\n",
              "      </button>\n",
              "      \n",
              "  <style>\n",
              "    .colab-df-container {\n",
              "      display:flex;\n",
              "      flex-wrap:wrap;\n",
              "      gap: 12px;\n",
              "    }\n",
              "\n",
              "    .colab-df-convert {\n",
              "      background-color: #E8F0FE;\n",
              "      border: none;\n",
              "      border-radius: 50%;\n",
              "      cursor: pointer;\n",
              "      display: none;\n",
              "      fill: #1967D2;\n",
              "      height: 32px;\n",
              "      padding: 0 0 0 0;\n",
              "      width: 32px;\n",
              "    }\n",
              "\n",
              "    .colab-df-convert:hover {\n",
              "      background-color: #E2EBFA;\n",
              "      box-shadow: 0px 1px 2px rgba(60, 64, 67, 0.3), 0px 1px 3px 1px rgba(60, 64, 67, 0.15);\n",
              "      fill: #174EA6;\n",
              "    }\n",
              "\n",
              "    [theme=dark] .colab-df-convert {\n",
              "      background-color: #3B4455;\n",
              "      fill: #D2E3FC;\n",
              "    }\n",
              "\n",
              "    [theme=dark] .colab-df-convert:hover {\n",
              "      background-color: #434B5C;\n",
              "      box-shadow: 0px 1px 3px 1px rgba(0, 0, 0, 0.15);\n",
              "      filter: drop-shadow(0px 1px 2px rgba(0, 0, 0, 0.3));\n",
              "      fill: #FFFFFF;\n",
              "    }\n",
              "  </style>\n",
              "\n",
              "      <script>\n",
              "        const buttonEl =\n",
              "          document.querySelector('#df-b52b12e2-55c1-4b0d-bd84-7ad3b68db303 button.colab-df-convert');\n",
              "        buttonEl.style.display =\n",
              "          google.colab.kernel.accessAllowed ? 'block' : 'none';\n",
              "\n",
              "        async function convertToInteractive(key) {\n",
              "          const element = document.querySelector('#df-b52b12e2-55c1-4b0d-bd84-7ad3b68db303');\n",
              "          const dataTable =\n",
              "            await google.colab.kernel.invokeFunction('convertToInteractive',\n",
              "                                                     [key], {});\n",
              "          if (!dataTable) return;\n",
              "\n",
              "          const docLinkHtml = 'Like what you see? Visit the ' +\n",
              "            '<a target=\"_blank\" href=https://colab.research.google.com/notebooks/data_table.ipynb>data table notebook</a>'\n",
              "            + ' to learn more about interactive tables.';\n",
              "          element.innerHTML = '';\n",
              "          dataTable['output_type'] = 'display_data';\n",
              "          await google.colab.output.renderOutput(dataTable, element);\n",
              "          const docLink = document.createElement('div');\n",
              "          docLink.innerHTML = docLinkHtml;\n",
              "          element.appendChild(docLink);\n",
              "        }\n",
              "      </script>\n",
              "    </div>\n",
              "  </div>\n",
              "  "
            ]
          },
          "metadata": {},
          "execution_count": 11
        }
      ]
    },
    {
      "cell_type": "markdown",
      "source": [
        "## Transformación de los datos"
      ],
      "metadata": {
        "id": "nMpNw4L3oFvu"
      }
    },
    {
      "cell_type": "code",
      "source": [
        "# Word level tokenizer\n",
        "word_tokenizer = Tokenizer(lower = False, oov_token=\"<OOV>\")\n",
        "word_tokenizer.fit_on_texts(ner_grouped_df['Word_sequence'])"
      ],
      "metadata": {
        "id": "K533bgUhVtfZ"
      },
      "execution_count": null,
      "outputs": []
    },
    {
      "cell_type": "code",
      "source": [
        "# Char level tokenizer\n",
        "char_tokenizer = Tokenizer(char_level=True, oov_token='UNK')\n",
        "char_tokenizer.fit_on_texts(ner_grouped_df['Word_sequence'])"
      ],
      "metadata": {
        "id": "BXEJ-l78FSVU"
      },
      "execution_count": null,
      "outputs": []
    },
    {
      "cell_type": "code",
      "source": [
        "tag_tokenizer = Tokenizer(lower=False, filters='!\"#$%&()*+,./:;<=>?@[\\\\]^_`{|}~\\t\\n')\n",
        "tag_tokenizer.fit_on_texts(ner_grouped_df['Tag_sequence'])"
      ],
      "metadata": {
        "id": "E9dBjGWgNJPY"
      },
      "execution_count": null,
      "outputs": []
    },
    {
      "cell_type": "code",
      "source": [
        "ntags = len(tag_tokenizer.word_index)\n",
        "char_vocab_size = len(char_tokenizer.word_index)"
      ],
      "metadata": {
        "id": "E7paIrl7PIfM"
      },
      "execution_count": null,
      "outputs": []
    },
    {
      "cell_type": "code",
      "source": [
        "max_word = 0\n",
        "_word = None\n",
        "sentence_ = None\n",
        "for sentence in ner_grouped_df['Word_sequence']:\n",
        "  for word in sentence.split():\n",
        "    if len(word) > max_word:\n",
        "      sentence_ = sentence\n",
        "      _word = word\n",
        "      max_word = len(word)"
      ],
      "metadata": {
        "id": "4FR07iUT3Tk3"
      },
      "execution_count": null,
      "outputs": []
    },
    {
      "cell_type": "code",
      "source": [
        "max_word"
      ],
      "metadata": {
        "colab": {
          "base_uri": "https://localhost:8080/"
        },
        "id": "POc8dPKlQQX7",
        "outputId": "9ffa71d2-d452-494c-9ba4-3e05797f9f94"
      },
      "execution_count": null,
      "outputs": [
        {
          "output_type": "execute_result",
          "data": {
            "text/plain": [
              "27"
            ]
          },
          "metadata": {},
          "execution_count": 17
        }
      ]
    },
    {
      "cell_type": "code",
      "source": [
        "max_sequence = max([len(seq) for seq in word_tokenizer.texts_to_sequences(ner_grouped_df['Word_sequence'])])"
      ],
      "metadata": {
        "id": "22W1Crn7UABw"
      },
      "execution_count": null,
      "outputs": []
    },
    {
      "cell_type": "code",
      "source": [
        "print(\"number of tags:\", ntags)\n",
        "print(\"max length of the word sequence:\", max_sequence)\n",
        "print('Max length of word:', max_word)"
      ],
      "metadata": {
        "colab": {
          "base_uri": "https://localhost:8080/"
        },
        "id": "FVQigOeoUPbW",
        "outputId": "6850bf29-8071-4d82-ca08-389c8d8c7873"
      },
      "execution_count": null,
      "outputs": [
        {
          "output_type": "stream",
          "name": "stdout",
          "text": [
            "number of tags: 17\n",
            "max length of the word sequence: 89\n",
            "Max length of word: 27\n"
          ]
        }
      ]
    },
    {
      "cell_type": "code",
      "source": [
        "#one hot encoding representation  \n",
        "z = pad_sequences(tag_tokenizer.texts_to_sequences(ner_grouped_df['Tag_sequence']), maxlen=max_sequence, padding='post')\n",
        "y = [to_categorical(i, num_classes=ntags + 1) for i in z]"
      ],
      "metadata": {
        "id": "au3tlNu4N-RP"
      },
      "execution_count": null,
      "outputs": []
    },
    {
      "cell_type": "markdown",
      "source": [
        "Muestra de entrenamiento, validación y test"
      ],
      "metadata": {
        "id": "LAToUs7JwTpf"
      }
    },
    {
      "cell_type": "code",
      "source": [
        "X = ner_grouped_df['Word_sequence']\n",
        "X_train, X_, y_train, y_ = train_test_split(X, y,test_size=0.20, random_state=1, shuffle=True)\n",
        "X_cv, X_test, y_cv, y_test = train_test_split(X_,y_,test_size=0.50, random_state=1)"
      ],
      "metadata": {
        "id": "A9rKnd82wUE2"
      },
      "execution_count": null,
      "outputs": []
    },
    {
      "cell_type": "code",
      "source": [
        "print(\"Shape of training data:\", X_train.shape)\n",
        "print(\"Shape of validation data:\", X_cv.shape)\n",
        "print(\"Shape of test data:\", X_test.shape)"
      ],
      "metadata": {
        "colab": {
          "base_uri": "https://localhost:8080/"
        },
        "id": "dqmhL7JawYy6",
        "outputId": "0d471fc5-f38c-4f8d-d983-9f2acef62432"
      },
      "execution_count": null,
      "outputs": [
        {
          "output_type": "stream",
          "name": "stdout",
          "text": [
            "Shape of training data: (38367,)\n",
            "Shape of validation data: (4796,)\n",
            "Shape of test data: (4796,)\n"
          ]
        }
      ]
    },
    {
      "cell_type": "code",
      "source": [
        "def build_char_sequences(X_sentences, char_tokenizer, max_word, max_sequence):\n",
        "  n = X_sentences.shape[0]\n",
        "  pad_char_rep = np.zeros(shape=(n, max_sequence, max_word), dtype=int)\n",
        "  for idx, sentence in enumerate(X_sentences):\n",
        "    temp_pad_char = np.zeros(shape =(max_sequence, max_word), dtype=int)\n",
        "    char_tokenized = []\n",
        "    for word in sentence.split():\n",
        "      char_tokenized.append(pad_sequences(char_tokenizer.texts_to_sequences([word[ : max_word]]), maxlen=max_word, padding='post')[-1])\n",
        "    max_size = min(len(char_tokenized), max_sequence)\n",
        "    for i in range(max_size):\n",
        "      temp_pad_char[i] = char_tokenized[i]\n",
        "    pad_char_rep[idx] = temp_pad_char\n",
        "  return pad_char_rep"
      ],
      "metadata": {
        "id": "tCNs12yZJnlH"
      },
      "execution_count": null,
      "outputs": []
    },
    {
      "cell_type": "markdown",
      "source": [
        "## Muestras de entrenamiento, validación y test"
      ],
      "metadata": {
        "id": "1cNPqNOLTjVm"
      }
    },
    {
      "cell_type": "code",
      "source": [
        "def get_train_dev_test_data(X_train, X_cv, X_test, word_tokenizer, char_tokenizer):\n",
        "  X_word_train = pad_sequences(word_tokenizer.texts_to_sequences(X_train), maxlen=max_sequence, padding='post')\n",
        "  X_word_cv = pad_sequences(word_tokenizer.texts_to_sequences(X_cv), maxlen=max_sequence, padding='post')\n",
        "  X_word_test = pad_sequences(word_tokenizer.texts_to_sequences(X_test), maxlen=max_sequence, padding='post')\n",
        "  \n",
        "  X_char_train = build_char_sequences(X_train, char_tokenizer, max_word=max_word, max_sequence=max_sequence)\n",
        "  X_char_cv = build_char_sequences(X_cv, char_tokenizer, max_word=max_word, max_sequence=max_sequence)\n",
        "  X_char_test = build_char_sequences(X_test, char_tokenizer, max_word=max_word, max_sequence=max_sequence)\n",
        "  return X_word_train, X_word_cv, X_word_test, X_char_train, X_char_cv, X_char_test"
      ],
      "metadata": {
        "id": "chVoa09uw7eg"
      },
      "execution_count": null,
      "outputs": []
    },
    {
      "cell_type": "code",
      "source": [
        "X_word_train, X_word_cv, X_word_test, X_char_train, X_char_cv, X_char_test = get_train_dev_test_data(X_train, X_cv, X_test, word_tokenizer, char_tokenizer)"
      ],
      "metadata": {
        "id": "iQAjaRck19XX"
      },
      "execution_count": null,
      "outputs": []
    },
    {
      "cell_type": "code",
      "source": [
        "print('Shape of the word test representation: ', X_word_train.shape)\n",
        "print('Shape of the word validation representation: ', X_word_cv.shape)\n",
        "print('Shape of the word test representation: ', X_word_test.shape)\n",
        "print('Shape of the char test representation: ', X_char_train.shape)\n",
        "print('Shape of the char validation representation: ', X_char_cv.shape)\n",
        "print('Shape of the char test representation: ', X_char_test.shape)"
      ],
      "metadata": {
        "colab": {
          "base_uri": "https://localhost:8080/"
        },
        "id": "fz_FwTi9fK5K",
        "outputId": "30c8c5eb-ab02-45cc-d4f3-bfefa0cb9ef4"
      },
      "execution_count": null,
      "outputs": [
        {
          "output_type": "stream",
          "name": "stdout",
          "text": [
            "Shape of the word test representation:  (38367, 89)\n",
            "Shape of the word validation representation:  (4796, 89)\n",
            "Shape of the word test representation:  (4796, 89)\n",
            "Shape of the char test representation:  (38367, 89, 27)\n",
            "Shape of the char validation representation:  (4796, 89, 27)\n",
            "Shape of the char test representation:  (4796, 89, 27)\n"
          ]
        }
      ]
    },
    {
      "cell_type": "markdown",
      "source": [
        "## Construcción del modelo"
      ],
      "metadata": {
        "id": "pRbblhdWylgx"
      }
    },
    {
      "cell_type": "code",
      "source": [
        "def create_word_embedding_layer(tokenized_corpus, glove_dir, embedding_dim, trainable):\n",
        "  # Calculate the matrix weights for the input corpus\n",
        "  #params:\n",
        "  # tokenizedd_corpus: the text after the cleaning and tokenization process\n",
        "  # glove_dir: the method uses the glove pretrained embedding vector space. The value of this param is the directory where it is allocated\n",
        "  # The dimension of the embedding\n",
        "  \n",
        "  embeddings_index = {}\n",
        "\n",
        "  f = open(glove_dir)\n",
        "  for line in f:\n",
        "      values = line.split()\n",
        "      word = values[0]\n",
        "      coefs = np.asarray(values[1:],dtype='float32')\n",
        "      embeddings_index[word] = coefs\n",
        "  f.close()\n",
        "\n",
        "  print('Found %s word vectors.' % len(embeddings_index))\n",
        "\n",
        "  vocab_size = len(tokenized_corpus.word_index) + 1\n",
        "  word_embedding_matrix = np.zeros((vocab_size,embedding_dim))\n",
        "  for word , i in tokenized_corpus.word_index.items():\n",
        "    embedding_vector = embeddings_index.get(word)\n",
        "    if embedding_vector is not None:\n",
        "        word_embedding_matrix[i] = embedding_vector\n",
        "  \n",
        "  #embedding_layer = Embedding(input_dim=len(tokenized_corpus.word_index)+ 1,\n",
        "  #                           output_dim=embedding_dim,\n",
        "  #                           weights=[word_embedding_matrix],\n",
        "  #                           input_length=input_size,\n",
        "  #                           trainable=trainable)        \n",
        "  return word_embedding_matrix"
      ],
      "metadata": {
        "id": "Z4OytkInWXzT"
      },
      "execution_count": null,
      "outputs": []
    },
    {
      "cell_type": "code",
      "source": [
        "#!unzip gdrive/MyDrive/ColabNotebooks/NER/glove*.zip"
      ],
      "metadata": {
        "colab": {
          "base_uri": "https://localhost:8080/"
        },
        "id": "nJQzCNYsIOnf",
        "outputId": "cbaa8b9b-b387-40ef-ea2b-a90a06b7207c"
      },
      "execution_count": null,
      "outputs": [
        {
          "output_type": "stream",
          "name": "stdout",
          "text": [
            "Archive:  gdrive/MyDrive/ColabNotebooks/NER/glove.6B.zip\n",
            "  inflating: glove.6B.50d.txt        \n",
            "  inflating: glove.6B.100d.txt       \n",
            "  inflating: glove.6B.200d.txt       \n",
            "  inflating: glove.6B.300d.txt       \n"
          ]
        }
      ]
    },
    {
      "cell_type": "code",
      "source": [
        "embedding_dim = 100\n",
        "word_embedding_matrix = create_word_embedding_layer(word_tokenizer, glove_dir = \"glove.6B.100d.txt\", embedding_dim = embedding_dim, trainable = False)"
      ],
      "metadata": {
        "colab": {
          "base_uri": "https://localhost:8080/"
        },
        "id": "fBO8kuDYJB78",
        "outputId": "6dcf3b9f-045b-4d70-f3d9-58390088505c"
      },
      "execution_count": null,
      "outputs": [
        {
          "output_type": "stream",
          "name": "stdout",
          "text": [
            "Found 400000 word vectors.\n"
          ]
        }
      ]
    },
    {
      "cell_type": "code",
      "source": [
        "def get_CNN_BiLSTM_CRF_model(max_sequence, max_word, word_embedding_matrix, word_embedding_dim, char_embedding_dim, word_vocab_size, char_vocab_size, num_tags):\n",
        "  # Sequence representation at character level\n",
        "\n",
        "  word_input = Input(shape=(max_sequence,))\n",
        "  embedding_word = Embedding(input_dim= word_vocab_size + 1,\n",
        "                             output_dim=word_embedding_dim,\n",
        "                             weights=[word_embedding_matrix],\n",
        "                             #input_length=max_sequence,\n",
        "                             mask_zero=True,\n",
        "                             trainable=False)(word_input)\n",
        "  \n",
        "  char_input = Input(shape=(max_sequence, max_word, ))\n",
        "  char_embedding = TimeDistributed(Embedding(input_dim= char_vocab_size + 1,\n",
        "                       output_dim=char_embedding_dim,\n",
        "                       # input_length=max_sequence,\n",
        "                       mask_zero=True,\n",
        "                       trainable=True))(char_input)\n",
        "  # Conv layer 1\n",
        "  Conv1D_1 = TimeDistributed(Conv1D(filters=30, kernel_size=5, activation='relu'))(char_embedding)\n",
        "  MaxPool1D_1 = TimeDistributed(MaxPooling1D(pool_size = 2))(Conv1D_1)\n",
        "  # Conv layer 2\n",
        "  Conv1D_2 = TimeDistributed(Conv1D(filters=15, kernel_size=3, activation='relu'))(MaxPool1D_1)\n",
        "  MaxPool1D_2 = TimeDistributed(MaxPooling1D(pool_size = 2))(Conv1D_2)\n",
        "\n",
        "  dense = TimeDistributed(Flatten())(MaxPool1D_2)\n",
        "  concat = concatenate([embedding_word, dense])\n",
        "  bilstm = Bidirectional(LSTM(10, return_sequences=True), merge_mode='concat')(concat)\n",
        "  #output = TimeDistributed(Dense(num_classes, activation = 'softmax'))(model)\n",
        "  crf = CRF(num_tags+1, name=\"output\")\n",
        "  output = crf(bilstm)\n",
        "  model = Model(inputs=[word_input, char_input], outputs=output)\n",
        "  return model"
      ],
      "metadata": {
        "id": "5P_2IjabDx4V"
      },
      "execution_count": null,
      "outputs": []
    },
    {
      "cell_type": "code",
      "source": [
        "model = get_CNN_BiLSTM_CRF_model(max_sequence=max_sequence, max_word=max_word, word_embedding_matrix=word_embedding_matrix, word_embedding_dim=embedding_dim, char_embedding_dim=30, word_vocab_size=len(word_tokenizer.word_index), char_vocab_size=len(char_tokenizer.word_index), num_tags=ntags)"
      ],
      "metadata": {
        "id": "NRJBIpd9Jfvb",
        "colab": {
          "base_uri": "https://localhost:8080/"
        },
        "outputId": "19979ca1-44ad-482f-f5d7-3ae7bedf7efe"
      },
      "execution_count": null,
      "outputs": [
        {
          "output_type": "stream",
          "name": "stderr",
          "text": [
            "WARNING:tensorflow:From /usr/local/lib/python3.7/dist-packages/tensorflow/python/framework/op_def_library.py:263: colocate_with (from tensorflow.python.framework.ops) is deprecated and will be removed in a future version.\n",
            "Instructions for updating:\n",
            "Colocations handled automatically by placer.\n"
          ]
        }
      ]
    },
    {
      "cell_type": "code",
      "source": [
        "model.summary()"
      ],
      "metadata": {
        "colab": {
          "base_uri": "https://localhost:8080/"
        },
        "id": "vbxOptQXzcWW",
        "outputId": "c427e051-55ac-45d1-c286-8505a75805c5"
      },
      "execution_count": null,
      "outputs": [
        {
          "output_type": "stream",
          "name": "stdout",
          "text": [
            "__________________________________________________________________________________________________\n",
            "Layer (type)                    Output Shape         Param #     Connected to                     \n",
            "==================================================================================================\n",
            "input_2 (InputLayer)            (None, 89, 27)       0                                            \n",
            "__________________________________________________________________________________________________\n",
            "time_distributed_1 (TimeDistrib (None, 89, 27, 30)   2220        input_2[0][0]                    \n",
            "__________________________________________________________________________________________________\n",
            "time_distributed_2 (TimeDistrib (None, 89, 23, 30)   4530        time_distributed_1[0][0]         \n",
            "__________________________________________________________________________________________________\n",
            "time_distributed_3 (TimeDistrib (None, 89, 11, 30)   0           time_distributed_2[0][0]         \n",
            "__________________________________________________________________________________________________\n",
            "time_distributed_4 (TimeDistrib (None, 89, 9, 15)    1365        time_distributed_3[0][0]         \n",
            "__________________________________________________________________________________________________\n",
            "input_1 (InputLayer)            (None, 89)           0                                            \n",
            "__________________________________________________________________________________________________\n",
            "time_distributed_5 (TimeDistrib (None, 89, 4, 15)    0           time_distributed_4[0][0]         \n",
            "__________________________________________________________________________________________________\n",
            "embedding_1 (Embedding)         (None, 89, 100)      2793800     input_1[0][0]                    \n",
            "__________________________________________________________________________________________________\n",
            "time_distributed_6 (TimeDistrib (None, 89, 60)       0           time_distributed_5[0][0]         \n",
            "__________________________________________________________________________________________________\n",
            "concatenate_1 (Concatenate)     (None, 89, 160)      0           embedding_1[0][0]                \n",
            "                                                                 time_distributed_6[0][0]         \n",
            "__________________________________________________________________________________________________\n",
            "bidirectional_1 (Bidirectional) (None, 89, 20)       13680       concatenate_1[0][0]              \n",
            "__________________________________________________________________________________________________\n",
            "output (CRF)                    (None, 89, 18)       738         bidirectional_1[0][0]            \n",
            "==================================================================================================\n",
            "Total params: 2,816,333\n",
            "Trainable params: 22,533\n",
            "Non-trainable params: 2,793,800\n",
            "__________________________________________________________________________________________________\n"
          ]
        }
      ]
    },
    {
      "cell_type": "code",
      "source": [
        "plot_model(model, to_file='model_plot.png', show_shapes=True, show_layer_names=True)"
      ],
      "metadata": {
        "id": "GthJgte5IhA3"
      },
      "execution_count": null,
      "outputs": []
    },
    {
      "cell_type": "code",
      "source": [
        "#from keras_contrib.losses import crf_loss3\n",
        "#from keras_contrib.metrics import crf_accuracy"
      ],
      "metadata": {
        "id": "UWaWm6Lf4Adl"
      },
      "execution_count": null,
      "outputs": []
    },
    {
      "cell_type": "code",
      "source": [
        "model.compile(optimizer=Adam(lr=0.001), loss=crf_loss, metrics=[crf_accuracy])"
      ],
      "metadata": {
        "id": "04r1Zniz3sJm"
      },
      "execution_count": null,
      "outputs": []
    },
    {
      "cell_type": "code",
      "source": [
        "model.fit([X_word_train, X_char_train], \n",
        "          np.array(y_train),\n",
        "          batch_size=32,\n",
        "          epochs=20,\n",
        "          #verbose=1,\n",
        "          validation_data=([X_word_cv, X_char_cv], np.array(y_cv))\n",
        "          )"
      ],
      "metadata": {
        "colab": {
          "base_uri": "https://localhost:8080/"
        },
        "id": "pIlaAXVv2jL7",
        "outputId": "2356d26e-423b-40b0-f610-cf6ae8fc443f"
      },
      "execution_count": null,
      "outputs": [
        {
          "output_type": "stream",
          "name": "stdout",
          "text": [
            "Train on 38367 samples, validate on 4796 samples\n",
            "Epoch 1/20\n",
            "38367/38367 [==============================] - 339s 9ms/step - loss: 0.0424 - crf_accuracy: 0.9841 - val_loss: 0.0362 - val_crf_accuracy: 0.9855\n",
            "Epoch 2/20\n",
            "38367/38367 [==============================] - 337s 9ms/step - loss: 0.0312 - crf_accuracy: 0.9855 - val_loss: 0.0258 - val_crf_accuracy: 0.9863\n",
            "Epoch 3/20\n",
            "38367/38367 [==============================] - 338s 9ms/step - loss: 0.0197 - crf_accuracy: 0.9862 - val_loss: 0.0138 - val_crf_accuracy: 0.9867\n",
            "Epoch 4/20\n",
            "38367/38367 [==============================] - 336s 9ms/step - loss: 0.0063 - crf_accuracy: 0.9868 - val_loss: -1.8688e-04 - val_crf_accuracy: 0.9875\n",
            "Epoch 5/20\n",
            "38367/38367 [==============================] - 333s 9ms/step - loss: -0.0079 - crf_accuracy: 0.9872 - val_loss: -0.0148 - val_crf_accuracy: 0.9877\n",
            "Epoch 6/20\n",
            "38367/38367 [==============================] - 334s 9ms/step - loss: -0.0226 - crf_accuracy: 0.9876 - val_loss: -0.0293 - val_crf_accuracy: 0.9881\n",
            "Epoch 7/20\n",
            "38367/38367 [==============================] - 343s 9ms/step - loss: -0.0371 - crf_accuracy: 0.9878 - val_loss: -0.0430 - val_crf_accuracy: 0.9880\n",
            "Epoch 8/20\n",
            "38367/38367 [==============================] - 337s 9ms/step - loss: -0.0516 - crf_accuracy: 0.9881 - val_loss: -0.0571 - val_crf_accuracy: 0.9876\n",
            "Epoch 9/20\n",
            "38367/38367 [==============================] - 345s 9ms/step - loss: -0.0658 - crf_accuracy: 0.9883 - val_loss: -0.0717 - val_crf_accuracy: 0.9884\n",
            "Epoch 10/20\n",
            "38367/38367 [==============================] - 345s 9ms/step - loss: -0.0800 - crf_accuracy: 0.9884 - val_loss: -0.0853 - val_crf_accuracy: 0.9881\n",
            "Epoch 11/20\n",
            "38367/38367 [==============================] - 353s 9ms/step - loss: -0.0939 - crf_accuracy: 0.9885 - val_loss: -0.0994 - val_crf_accuracy: 0.9886\n",
            "Epoch 12/20\n",
            "38367/38367 [==============================] - 349s 9ms/step - loss: -0.1079 - crf_accuracy: 0.9887 - val_loss: -0.1131 - val_crf_accuracy: 0.9886\n",
            "Epoch 13/20\n",
            "38367/38367 [==============================] - 348s 9ms/step - loss: -0.1218 - crf_accuracy: 0.9888 - val_loss: -0.1267 - val_crf_accuracy: 0.9887\n",
            "Epoch 14/20\n",
            "38367/38367 [==============================] - 379s 10ms/step - loss: -0.1357 - crf_accuracy: 0.9890 - val_loss: -0.1404 - val_crf_accuracy: 0.9889\n",
            "Epoch 15/20\n",
            "38367/38367 [==============================] - 406s 11ms/step - loss: -0.1494 - crf_accuracy: 0.9891 - val_loss: -0.1533 - val_crf_accuracy: 0.9880\n",
            "Epoch 16/20\n",
            "38367/38367 [==============================] - 376s 10ms/step - loss: -0.1631 - crf_accuracy: 0.9892 - val_loss: -0.1680 - val_crf_accuracy: 0.9892\n",
            "Epoch 17/20\n",
            "38367/38367 [==============================] - 360s 9ms/step - loss: -0.1769 - crf_accuracy: 0.9893 - val_loss: -0.1815 - val_crf_accuracy: 0.9891\n",
            "Epoch 18/20\n",
            "38367/38367 [==============================] - 357s 9ms/step - loss: -0.1906 - crf_accuracy: 0.9894 - val_loss: -0.1949 - val_crf_accuracy: 0.9891\n",
            "Epoch 19/20\n",
            "38367/38367 [==============================] - 350s 9ms/step - loss: -0.2043 - crf_accuracy: 0.9895 - val_loss: -0.2077 - val_crf_accuracy: 0.9891\n",
            "Epoch 20/20\n",
            "38367/38367 [==============================] - 344s 9ms/step - loss: -0.2180 - crf_accuracy: 0.9896 - val_loss: -0.2217 - val_crf_accuracy: 0.9889\n"
          ]
        },
        {
          "output_type": "execute_result",
          "data": {
            "text/plain": [
              "<keras.callbacks.History at 0x7f2ac6e04210>"
            ]
          },
          "metadata": {},
          "execution_count": 37
        }
      ]
    },
    {
      "cell_type": "code",
      "source": [
        "model.save('gdrive/MyDrive/ColabNotebooks/NER/ner_model.h5')"
      ],
      "metadata": {
        "id": "RA9l4o9HkXmZ"
      },
      "execution_count": null,
      "outputs": []
    },
    {
      "cell_type": "code",
      "source": [
        "# Predictions\n",
        "p = model.predict([X_word_test, X_char_test])"
      ],
      "metadata": {
        "id": "ROofrAOS3qe3"
      },
      "execution_count": null,
      "outputs": []
    },
    {
      "cell_type": "code",
      "source": [
        "n = len(y_test)\n",
        "y_test_ar = np.reshape(np.array(y_test, dtype=int), newshape=(n, max_sequence, ntags+1))"
      ],
      "metadata": {
        "id": "HuFSdajFHrYN"
      },
      "execution_count": null,
      "outputs": []
    },
    {
      "cell_type": "code",
      "source": [
        "from sklearn.metrics import classification_report"
      ],
      "metadata": {
        "id": "Onk_PvqXKH5h"
      },
      "execution_count": null,
      "outputs": []
    },
    {
      "cell_type": "code",
      "source": [
        "print(classification_report(np.argmax(y_test, 2).ravel(), np.argmax(p, axis=2).ravel(), labels=list(tag_tokenizer.index_word.keys()), target_names=list(tag_tokenizer.index_word.values())))"
      ],
      "metadata": {
        "colab": {
          "base_uri": "https://localhost:8080/"
        },
        "id": "4ZAFWV1UJ4Wo",
        "outputId": "1c13d64d-b00c-494c-ba26-8cec70959be7"
      },
      "execution_count": null,
      "outputs": [
        {
          "output_type": "stream",
          "name": "stderr",
          "text": [
            "/usr/local/lib/python3.7/dist-packages/sklearn/metrics/_classification.py:1318: UndefinedMetricWarning: Precision and F-score are ill-defined and being set to 0.0 in labels with no predicted samples. Use `zero_division` parameter to control this behavior.\n",
            "  _warn_prf(average, modifier, msg_start, len(result))\n",
            "/usr/local/lib/python3.7/dist-packages/sklearn/metrics/_classification.py:1318: UndefinedMetricWarning: Precision and F-score are ill-defined and being set to 0.0 in labels with no predicted samples. Use `zero_division` parameter to control this behavior.\n",
            "  _warn_prf(average, modifier, msg_start, len(result))\n"
          ]
        },
        {
          "output_type": "stream",
          "name": "stdout",
          "text": [
            "              precision    recall  f1-score   support\n",
            "\n",
            "           O       0.98      0.99      0.98     88868\n",
            "       B-geo       0.83      0.85      0.84      3703\n",
            "       B-tim       0.90      0.84      0.87      2056\n",
            "       B-org       0.70      0.55      0.61      1975\n",
            "       I-per       0.80      0.85      0.82      1696\n",
            "       B-per       0.79      0.76      0.78      1655\n",
            "       I-org       0.57      0.60      0.58      1671\n",
            "       B-gpe       0.95      0.88      0.91      1555\n",
            "       I-geo       0.75      0.68      0.71       757\n",
            "       I-tim       0.76      0.71      0.74       702\n",
            "       B-art       0.00      0.00      0.00        53\n",
            "       B-eve       0.56      0.21      0.31        43\n",
            "       I-art       0.00      0.00      0.00        58\n",
            "       I-eve       0.33      0.23      0.27        40\n",
            "       B-nat       0.57      0.18      0.28        22\n",
            "       I-gpe       0.71      0.45      0.56        11\n",
            "       I-nat       0.00      0.00      0.00         7\n",
            "\n",
            "   micro avg       0.95      0.95      0.95    104872\n",
            "   macro avg       0.60      0.52      0.54    104872\n",
            "weighted avg       0.95      0.95      0.95    104872\n",
            "\n"
          ]
        },
        {
          "output_type": "stream",
          "name": "stderr",
          "text": [
            "/usr/local/lib/python3.7/dist-packages/sklearn/metrics/_classification.py:1318: UndefinedMetricWarning: Precision and F-score are ill-defined and being set to 0.0 in labels with no predicted samples. Use `zero_division` parameter to control this behavior.\n",
            "  _warn_prf(average, modifier, msg_start, len(result))\n"
          ]
        }
      ]
    },
    {
      "cell_type": "code",
      "source": [
        "#y_test_seq = np.argmax(y_test, axis=-1)\n",
        "#y_test_tag = tag_tokenizer.sequences_to_texts(y_test_seq)\n",
        "#y_pred_tag = tag_tokenizer.sequences_to_texts(p)"
      ],
      "metadata": {
        "id": "GlsHDPhnAt-r"
      },
      "execution_count": null,
      "outputs": []
    }
  ]
}