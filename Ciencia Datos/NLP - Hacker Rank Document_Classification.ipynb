{
  "nbformat": 4,
  "nbformat_minor": 0,
  "metadata": {
    "colab": {
      "provenance": [],
      "collapsed_sections": []
    },
    "kernelspec": {
      "name": "python3",
      "display_name": "Python 3"
    },
    "language_info": {
      "name": "python"
    }
  },
  "cells": [
    {
      "cell_type": "code",
      "execution_count": 3,
      "metadata": {
        "id": "FOaBQp2TrS1q"
      },
      "outputs": [],
      "source": [
        "%%capture\n",
        "\n",
        "!jupyter nbconvert --to html Document_Classification.ipynb"
      ]
    },
    {
      "cell_type": "code",
      "source": [
        "# Carga de las librerías\n",
        "from google.colab import drive\n",
        "import contractions\n",
        "import pandas as pd\n",
        "import numpy as np\n",
        "import json\n",
        "from pandas import json_normalize\n",
        "from os.path import exists\n",
        "import os\n",
        "import re\n",
        "import tensorflow as tf\n",
        "from keras.preprocessing.text import Tokenizer\n",
        "from keras.models import Sequential\n",
        "from keras.optimizers import Adam\n",
        "from sklearn.model_selection import train_test_split\n",
        "from tensorflow.keras.preprocessing.sequence import pad_sequences\n",
        "from tensorflow.keras.layers import Embedding\n",
        "from tensorflow.keras.models import Model\n",
        "from tensorflow.keras.layers import Dense, Input, Dropout, LSTM, Activation, Softmax\n",
        "from tensorflow.keras.layers import Embedding\n",
        "from tensorflow.keras.preprocessing import sequence\n",
        "from tensorflow.keras.initializers import glorot_uniform"
      ],
      "metadata": {
        "id": "3xUFtnpNwZDx"
      },
      "execution_count": null,
      "outputs": []
    },
    {
      "cell_type": "code",
      "source": [
        "# Conexión a Google Drive\n",
        "drive.mount('/content/gdrive')"
      ],
      "metadata": {
        "colab": {
          "base_uri": "https://localhost:8080/"
        },
        "id": "WzmnaZlzt7pT",
        "outputId": "6038963c-9eb8-48b0-99a3-cc02e820fe36"
      },
      "execution_count": null,
      "outputs": [
        {
          "output_type": "stream",
          "name": "stdout",
          "text": [
            "Drive already mounted at /content/gdrive; to attempt to forcibly remount, call drive.mount(\"/content/gdrive\", force_remount=True).\n"
          ]
        }
      ]
    },
    {
      "cell_type": "code",
      "source": [
        "#Carga de los datos de entrenamiento\n",
        "def create_df_from_json(file_dir):\n",
        "  # returns a dataframe from a json with the following structure:\n",
        "  # first line is the number of example\n",
        "  # the reaming of the document contains one json per line\n",
        "  # parameters\n",
        "  # file_dir: the absolute route to the file\n",
        "\n",
        "  df = pd.DataFrame()\n",
        "  with open(file_dir) as f:\n",
        "      n = f.readline()\n",
        "      for i in range(int(n)):\n",
        "        json_str = f.readline()\n",
        "        json_in = json.loads(json_str)\n",
        "        df_tmp = json_normalize(json_in) \n",
        "        df = pd.concat([df, df_tmp]) \n",
        "  return df"
      ],
      "metadata": {
        "id": "xpaXsgIyuQxs"
      },
      "execution_count": null,
      "outputs": []
    },
    {
      "cell_type": "code",
      "source": [
        "def load_data(reload, file_out_dir, training_abs_dir, test_in_abs_dir, test_out_abs_dir):\n",
        "  # params\n",
        "  # reload: if true, the data is reload from the file sources\n",
        "  # file_out_dir: directory where to save the merged data from the training and test files\n",
        "  # training_abs_dir: absolute route to the training file dataset\n",
        "  # test_in_abs_dir: absolute route to the test file in dataset. It does not include the output\n",
        "  # test_itest_out_abs_dirn_abs_dir: absolute route to the test output file dataset.\n",
        "  if not reload and os.path.exists(file_out_dir):\n",
        "    df = pd.read_csv(file_out_dir)\n",
        "  else:\n",
        "    if not os.path.exists(file_out_dir):\n",
        "      os.mkdir(file_out_dir)\n",
        "    df_training = create_df_from_json(training_abs_dir)\n",
        "    df_test = create_df_from_json(test_in_abs_dir)\n",
        "    df_test = df_test.reset_index(drop=True)\n",
        "    df_test_out = pd.read_csv(test_out_abs_dir, header=None)\n",
        "    df_test['category'] = df_test_out\n",
        "    df = pd.concat([df_test, df_training])\n",
        "    df =  df.reset_index(drop=True)\n",
        "    df.to_csv(file_out_dir, index=False)\n",
        "  return df\n"
      ],
      "metadata": {
        "id": "Pjsfhgza2qUr"
      },
      "execution_count": null,
      "outputs": []
    },
    {
      "cell_type": "code",
      "source": [
        "reload = False\n",
        "file_out_dir = '/content/gdrive/MyDrive/ColabNotebooks/PostClassifier/merged_data.csv'\n",
        "training_abs_dir = '/content/gdrive/MyDrive/ColabNotebooks/PostClassifier/training.json'\n",
        "test_in_abs_dir = '/content/gdrive/MyDrive/ColabNotebooks/PostClassifier/sample-test.in.json'\n",
        "test_out_abs_dir = '/content/gdrive/MyDrive/ColabNotebooks/PostClassifier/sample-test.out.json'\n",
        "df = load_data(reload, file_out_dir, training_abs_dir, test_in_abs_dir, test_out_abs_dir)\n",
        "\n"
      ],
      "metadata": {
        "id": "JgN9ecMb9FyF"
      },
      "execution_count": null,
      "outputs": []
    },
    {
      "cell_type": "code",
      "source": [
        "df.head(15)"
      ],
      "metadata": {
        "colab": {
          "base_uri": "https://localhost:8080/",
          "height": 429
        },
        "id": "H08mPyj71YG3",
        "outputId": "b23f5067-5827-4a89-cdeb-27fa57d1a47e"
      },
      "execution_count": null,
      "outputs": [
        {
          "output_type": "execute_result",
          "data": {
            "text/plain": [
              "         city    section                                            heading  \\\n",
              "0     chicago   for-sale                 Madden NFL 25 XBOX 360. Brand New!   \n",
              "1    paris.en    housing                          looking for room to rent.   \n",
              "2     newyork   for-sale                                        two DS game   \n",
              "3     seattle    housing                                                map   \n",
              "4   singapore   services  Good Looking Asian Sensation N aughty Girl ---...   \n",
              "5     newyork   for-sale                                                map   \n",
              "6   singapore   for-sale  Panasonic ,2doors fridge(238L)($220 with deliv...   \n",
              "7    dubai.en   services              SWEET  FRIENDLY  COMPANION:- monaliza   \n",
              "8      london   services  &#10031; Indulge yourself to the body to body ...   \n",
              "9     chicago  community                                             Enough   \n",
              "10     london   for-sale                                Brand New Xperia T    \n",
              "11     london  community                              Shaadi Single Muslims   \n",
              "12    seattle    housing  ER Nurse wants a responsible, quiet, clean roo...   \n",
              "13    seattle    housing           490 $ ROOM for rent available (Bellevue)   \n",
              "14     london    housing               Lovely two bedroom Los Angeles house   \n",
              "\n",
              "          category  \n",
              "0      video-games  \n",
              "1   wanted-housing  \n",
              "2      video-games  \n",
              "3           shared  \n",
              "4      therapeutic  \n",
              "5      video-games  \n",
              "6       appliances  \n",
              "7      therapeutic  \n",
              "8      therapeutic  \n",
              "9          artists  \n",
              "10     cell-phones  \n",
              "11         general  \n",
              "12  wanted-housing  \n",
              "13          shared  \n",
              "14  wanted-housing  "
            ],
            "text/html": [
              "\n",
              "  <div id=\"df-75d5e04c-70b5-4366-9cda-0c421a7b1185\">\n",
              "    <div class=\"colab-df-container\">\n",
              "      <div>\n",
              "<style scoped>\n",
              "    .dataframe tbody tr th:only-of-type {\n",
              "        vertical-align: middle;\n",
              "    }\n",
              "\n",
              "    .dataframe tbody tr th {\n",
              "        vertical-align: top;\n",
              "    }\n",
              "\n",
              "    .dataframe thead th {\n",
              "        text-align: right;\n",
              "    }\n",
              "</style>\n",
              "<table border=\"1\" class=\"dataframe\">\n",
              "  <thead>\n",
              "    <tr style=\"text-align: right;\">\n",
              "      <th></th>\n",
              "      <th>city</th>\n",
              "      <th>section</th>\n",
              "      <th>heading</th>\n",
              "      <th>category</th>\n",
              "    </tr>\n",
              "  </thead>\n",
              "  <tbody>\n",
              "    <tr>\n",
              "      <th>0</th>\n",
              "      <td>chicago</td>\n",
              "      <td>for-sale</td>\n",
              "      <td>Madden NFL 25 XBOX 360. Brand New!</td>\n",
              "      <td>video-games</td>\n",
              "    </tr>\n",
              "    <tr>\n",
              "      <th>1</th>\n",
              "      <td>paris.en</td>\n",
              "      <td>housing</td>\n",
              "      <td>looking for room to rent.</td>\n",
              "      <td>wanted-housing</td>\n",
              "    </tr>\n",
              "    <tr>\n",
              "      <th>2</th>\n",
              "      <td>newyork</td>\n",
              "      <td>for-sale</td>\n",
              "      <td>two DS game</td>\n",
              "      <td>video-games</td>\n",
              "    </tr>\n",
              "    <tr>\n",
              "      <th>3</th>\n",
              "      <td>seattle</td>\n",
              "      <td>housing</td>\n",
              "      <td>map</td>\n",
              "      <td>shared</td>\n",
              "    </tr>\n",
              "    <tr>\n",
              "      <th>4</th>\n",
              "      <td>singapore</td>\n",
              "      <td>services</td>\n",
              "      <td>Good Looking Asian Sensation N aughty Girl ---...</td>\n",
              "      <td>therapeutic</td>\n",
              "    </tr>\n",
              "    <tr>\n",
              "      <th>5</th>\n",
              "      <td>newyork</td>\n",
              "      <td>for-sale</td>\n",
              "      <td>map</td>\n",
              "      <td>video-games</td>\n",
              "    </tr>\n",
              "    <tr>\n",
              "      <th>6</th>\n",
              "      <td>singapore</td>\n",
              "      <td>for-sale</td>\n",
              "      <td>Panasonic ,2doors fridge(238L)($220 with deliv...</td>\n",
              "      <td>appliances</td>\n",
              "    </tr>\n",
              "    <tr>\n",
              "      <th>7</th>\n",
              "      <td>dubai.en</td>\n",
              "      <td>services</td>\n",
              "      <td>SWEET  FRIENDLY  COMPANION:- monaliza</td>\n",
              "      <td>therapeutic</td>\n",
              "    </tr>\n",
              "    <tr>\n",
              "      <th>8</th>\n",
              "      <td>london</td>\n",
              "      <td>services</td>\n",
              "      <td>&amp;#10031; Indulge yourself to the body to body ...</td>\n",
              "      <td>therapeutic</td>\n",
              "    </tr>\n",
              "    <tr>\n",
              "      <th>9</th>\n",
              "      <td>chicago</td>\n",
              "      <td>community</td>\n",
              "      <td>Enough</td>\n",
              "      <td>artists</td>\n",
              "    </tr>\n",
              "    <tr>\n",
              "      <th>10</th>\n",
              "      <td>london</td>\n",
              "      <td>for-sale</td>\n",
              "      <td>Brand New Xperia T</td>\n",
              "      <td>cell-phones</td>\n",
              "    </tr>\n",
              "    <tr>\n",
              "      <th>11</th>\n",
              "      <td>london</td>\n",
              "      <td>community</td>\n",
              "      <td>Shaadi Single Muslims</td>\n",
              "      <td>general</td>\n",
              "    </tr>\n",
              "    <tr>\n",
              "      <th>12</th>\n",
              "      <td>seattle</td>\n",
              "      <td>housing</td>\n",
              "      <td>ER Nurse wants a responsible, quiet, clean roo...</td>\n",
              "      <td>wanted-housing</td>\n",
              "    </tr>\n",
              "    <tr>\n",
              "      <th>13</th>\n",
              "      <td>seattle</td>\n",
              "      <td>housing</td>\n",
              "      <td>490 $ ROOM for rent available (Bellevue)</td>\n",
              "      <td>shared</td>\n",
              "    </tr>\n",
              "    <tr>\n",
              "      <th>14</th>\n",
              "      <td>london</td>\n",
              "      <td>housing</td>\n",
              "      <td>Lovely two bedroom Los Angeles house</td>\n",
              "      <td>wanted-housing</td>\n",
              "    </tr>\n",
              "  </tbody>\n",
              "</table>\n",
              "</div>\n",
              "      <button class=\"colab-df-convert\" onclick=\"convertToInteractive('df-75d5e04c-70b5-4366-9cda-0c421a7b1185')\"\n",
              "              title=\"Convert this dataframe to an interactive table.\"\n",
              "              style=\"display:none;\">\n",
              "        \n",
              "  <svg xmlns=\"http://www.w3.org/2000/svg\" height=\"24px\"viewBox=\"0 0 24 24\"\n",
              "       width=\"24px\">\n",
              "    <path d=\"M0 0h24v24H0V0z\" fill=\"none\"/>\n",
              "    <path d=\"M18.56 5.44l.94 2.06.94-2.06 2.06-.94-2.06-.94-.94-2.06-.94 2.06-2.06.94zm-11 1L8.5 8.5l.94-2.06 2.06-.94-2.06-.94L8.5 2.5l-.94 2.06-2.06.94zm10 10l.94 2.06.94-2.06 2.06-.94-2.06-.94-.94-2.06-.94 2.06-2.06.94z\"/><path d=\"M17.41 7.96l-1.37-1.37c-.4-.4-.92-.59-1.43-.59-.52 0-1.04.2-1.43.59L10.3 9.45l-7.72 7.72c-.78.78-.78 2.05 0 2.83L4 21.41c.39.39.9.59 1.41.59.51 0 1.02-.2 1.41-.59l7.78-7.78 2.81-2.81c.8-.78.8-2.07 0-2.86zM5.41 20L4 18.59l7.72-7.72 1.47 1.35L5.41 20z\"/>\n",
              "  </svg>\n",
              "      </button>\n",
              "      \n",
              "  <style>\n",
              "    .colab-df-container {\n",
              "      display:flex;\n",
              "      flex-wrap:wrap;\n",
              "      gap: 12px;\n",
              "    }\n",
              "\n",
              "    .colab-df-convert {\n",
              "      background-color: #E8F0FE;\n",
              "      border: none;\n",
              "      border-radius: 50%;\n",
              "      cursor: pointer;\n",
              "      display: none;\n",
              "      fill: #1967D2;\n",
              "      height: 32px;\n",
              "      padding: 0 0 0 0;\n",
              "      width: 32px;\n",
              "    }\n",
              "\n",
              "    .colab-df-convert:hover {\n",
              "      background-color: #E2EBFA;\n",
              "      box-shadow: 0px 1px 2px rgba(60, 64, 67, 0.3), 0px 1px 3px 1px rgba(60, 64, 67, 0.15);\n",
              "      fill: #174EA6;\n",
              "    }\n",
              "\n",
              "    [theme=dark] .colab-df-convert {\n",
              "      background-color: #3B4455;\n",
              "      fill: #D2E3FC;\n",
              "    }\n",
              "\n",
              "    [theme=dark] .colab-df-convert:hover {\n",
              "      background-color: #434B5C;\n",
              "      box-shadow: 0px 1px 3px 1px rgba(0, 0, 0, 0.15);\n",
              "      filter: drop-shadow(0px 1px 2px rgba(0, 0, 0, 0.3));\n",
              "      fill: #FFFFFF;\n",
              "    }\n",
              "  </style>\n",
              "\n",
              "      <script>\n",
              "        const buttonEl =\n",
              "          document.querySelector('#df-75d5e04c-70b5-4366-9cda-0c421a7b1185 button.colab-df-convert');\n",
              "        buttonEl.style.display =\n",
              "          google.colab.kernel.accessAllowed ? 'block' : 'none';\n",
              "\n",
              "        async function convertToInteractive(key) {\n",
              "          const element = document.querySelector('#df-75d5e04c-70b5-4366-9cda-0c421a7b1185');\n",
              "          const dataTable =\n",
              "            await google.colab.kernel.invokeFunction('convertToInteractive',\n",
              "                                                     [key], {});\n",
              "          if (!dataTable) return;\n",
              "\n",
              "          const docLinkHtml = 'Like what you see? Visit the ' +\n",
              "            '<a target=\"_blank\" href=https://colab.research.google.com/notebooks/data_table.ipynb>data table notebook</a>'\n",
              "            + ' to learn more about interactive tables.';\n",
              "          element.innerHTML = '';\n",
              "          dataTable['output_type'] = 'display_data';\n",
              "          await google.colab.output.renderOutput(dataTable, element);\n",
              "          const docLink = document.createElement('div');\n",
              "          docLink.innerHTML = docLinkHtml;\n",
              "          element.appendChild(docLink);\n",
              "        }\n",
              "      </script>\n",
              "    </div>\n",
              "  </div>\n",
              "  "
            ]
          },
          "metadata": {},
          "execution_count": 124
        }
      ]
    },
    {
      "cell_type": "markdown",
      "source": [
        "## Data Cleaning"
      ],
      "metadata": {
        "id": "NP-TuvLhvE8f"
      }
    },
    {
      "cell_type": "code",
      "source": [
        "def remove_contraction(heading):\n",
        "  expanded_words = []   \n",
        "  for word in heading.split():\n",
        "    expanded_words.append(contractions.fix(word))  \n",
        "    \n",
        "  expanded_text = ' '.join(expanded_words)\n",
        "  return expanded_text"
      ],
      "metadata": {
        "id": "gZi4AspiwU4M"
      },
      "execution_count": null,
      "outputs": []
    },
    {
      "cell_type": "code",
      "source": [
        "def clean_text(text):\n",
        "    cleaned_text = text.lower()\n",
        "    # remove emojis\n",
        "    cleaned_text = re.sub(r'[&#?[\\d|\\w]+;', '', cleaned_text)\n",
        "    # remove hyperlinks    \n",
        "    cleaned_text = re.sub(r'((http|https)://)?[a-zA-Z0-9./?:@-_=#]+\\.([a-zA-Z]){2,6}([a-zA-Z0-9.&/?:@\\-_=#])*', '', cleaned_text)\n",
        "    # substitute punctuactions by blank spaces\n",
        "    cleaned_text = re.sub(r'[^\\w\\s_]+|_', ' ', cleaned_text)\n",
        "    cleaned_text = cleaned_text.replace(\"_\", \"\")\n",
        "    # remove numbers\n",
        "    cleaned_text = re.sub(r'\\d+\\w+|\\d+', '', cleaned_text)\n",
        "    #cleaned_text = re.sub(r'_', ' ', cleaned_text)\n",
        "    # delete extra spaces\n",
        "    cleaned_text = re.sub(r'\\s+', ' ', cleaned_text)   \n",
        "    return cleaned_text"
      ],
      "metadata": {
        "id": "bFwAFH3JvHjS"
      },
      "execution_count": null,
      "outputs": []
    },
    {
      "cell_type": "code",
      "source": [
        "heading_cleaned = []\n",
        "for t in df['heading']:\n",
        "  heading_cleaned.append(clean_text(t))\n",
        "df['heading_cleaned'] = heading_cleaned  "
      ],
      "metadata": {
        "id": "gi7ykz4NGoei"
      },
      "execution_count": null,
      "outputs": []
    },
    {
      "cell_type": "code",
      "source": [
        "df[['heading', 'heading_cleaned']].head(20)"
      ],
      "metadata": {
        "colab": {
          "base_uri": "https://localhost:8080/",
          "height": 537
        },
        "id": "b8ac9r8lLp6H",
        "outputId": "652e9480-3dba-4926-afa4-568afff098b9"
      },
      "execution_count": null,
      "outputs": [
        {
          "output_type": "execute_result",
          "data": {
            "text/plain": [
              "                                              heading  \\\n",
              "0                  Madden NFL 25 XBOX 360. Brand New!   \n",
              "1                           looking for room to rent.   \n",
              "2                                         two DS game   \n",
              "3                                                 map   \n",
              "4   Good Looking Asian Sensation N aughty Girl ---...   \n",
              "5                                                 map   \n",
              "6   Panasonic ,2doors fridge(238L)($220 with deliv...   \n",
              "7               SWEET  FRIENDLY  COMPANION:- monaliza   \n",
              "8   &#10031; Indulge yourself to the body to body ...   \n",
              "9                                              Enough   \n",
              "10                                Brand New Xperia T    \n",
              "11                              Shaadi Single Muslims   \n",
              "12  ER Nurse wants a responsible, quiet, clean roo...   \n",
              "13           490 $ ROOM for rent available (Bellevue)   \n",
              "14               Lovely two bedroom Los Angeles house   \n",
              "15                 PERFECT CONDITION MOTOROLA TRIUMPH   \n",
              "16  CONPRAMOS CARROS VIEJOS!!!! SERVICIO DE GRUA B...   \n",
              "17  For Sale - Samsung Galaxy Tab Chargers (Wall +...   \n",
              "18                    Full Time Nanny Needed for baby   \n",
              "19      206-375-3387 opening for cleaning move out/in   \n",
              "\n",
              "                                      heading_cleaned  \n",
              "0                          madden nfl xbox brand new   \n",
              "1                           looking for room to rent   \n",
              "2                                         two ds game  \n",
              "3                                                 map  \n",
              "4   good looking asian sensation n aughty girl ind...  \n",
              "5                                                 map  \n",
              "6            panasonic fridge with delivery warranty   \n",
              "7                   sweet friendly companion monaliza  \n",
              "8    indulge yourself to the body to body sensual ...  \n",
              "9                                              enough  \n",
              "10                                brand new xperia t   \n",
              "11                              shaadi single muslims  \n",
              "12  er nurse wants a responsible quiet clean roommate  \n",
              "13                  room for rent available bellevue   \n",
              "14               lovely two bedroom los angeles house  \n",
              "15                 perfect condition motorola triumph  \n",
              "16   conpramos carros viejos servicio de grua barato   \n",
              "17  for sale samsung galaxy tab chargers wall car ...  \n",
              "18                    full time nanny needed for baby  \n",
              "19                   opening for cleaning move out in  "
            ],
            "text/html": [
              "\n",
              "  <div id=\"df-c3b0f7c5-d914-4258-8419-a4897bb3b7bf\">\n",
              "    <div class=\"colab-df-container\">\n",
              "      <div>\n",
              "<style scoped>\n",
              "    .dataframe tbody tr th:only-of-type {\n",
              "        vertical-align: middle;\n",
              "    }\n",
              "\n",
              "    .dataframe tbody tr th {\n",
              "        vertical-align: top;\n",
              "    }\n",
              "\n",
              "    .dataframe thead th {\n",
              "        text-align: right;\n",
              "    }\n",
              "</style>\n",
              "<table border=\"1\" class=\"dataframe\">\n",
              "  <thead>\n",
              "    <tr style=\"text-align: right;\">\n",
              "      <th></th>\n",
              "      <th>heading</th>\n",
              "      <th>heading_cleaned</th>\n",
              "    </tr>\n",
              "  </thead>\n",
              "  <tbody>\n",
              "    <tr>\n",
              "      <th>0</th>\n",
              "      <td>Madden NFL 25 XBOX 360. Brand New!</td>\n",
              "      <td>madden nfl xbox brand new</td>\n",
              "    </tr>\n",
              "    <tr>\n",
              "      <th>1</th>\n",
              "      <td>looking for room to rent.</td>\n",
              "      <td>looking for room to rent</td>\n",
              "    </tr>\n",
              "    <tr>\n",
              "      <th>2</th>\n",
              "      <td>two DS game</td>\n",
              "      <td>two ds game</td>\n",
              "    </tr>\n",
              "    <tr>\n",
              "      <th>3</th>\n",
              "      <td>map</td>\n",
              "      <td>map</td>\n",
              "    </tr>\n",
              "    <tr>\n",
              "      <th>4</th>\n",
              "      <td>Good Looking Asian Sensation N aughty Girl ---...</td>\n",
              "      <td>good looking asian sensation n aughty girl ind...</td>\n",
              "    </tr>\n",
              "    <tr>\n",
              "      <th>5</th>\n",
              "      <td>map</td>\n",
              "      <td>map</td>\n",
              "    </tr>\n",
              "    <tr>\n",
              "      <th>6</th>\n",
              "      <td>Panasonic ,2doors fridge(238L)($220 with deliv...</td>\n",
              "      <td>panasonic fridge with delivery warranty</td>\n",
              "    </tr>\n",
              "    <tr>\n",
              "      <th>7</th>\n",
              "      <td>SWEET  FRIENDLY  COMPANION:- monaliza</td>\n",
              "      <td>sweet friendly companion monaliza</td>\n",
              "    </tr>\n",
              "    <tr>\n",
              "      <th>8</th>\n",
              "      <td>&amp;#10031; Indulge yourself to the body to body ...</td>\n",
              "      <td>indulge yourself to the body to body sensual ...</td>\n",
              "    </tr>\n",
              "    <tr>\n",
              "      <th>9</th>\n",
              "      <td>Enough</td>\n",
              "      <td>enough</td>\n",
              "    </tr>\n",
              "    <tr>\n",
              "      <th>10</th>\n",
              "      <td>Brand New Xperia T</td>\n",
              "      <td>brand new xperia t</td>\n",
              "    </tr>\n",
              "    <tr>\n",
              "      <th>11</th>\n",
              "      <td>Shaadi Single Muslims</td>\n",
              "      <td>shaadi single muslims</td>\n",
              "    </tr>\n",
              "    <tr>\n",
              "      <th>12</th>\n",
              "      <td>ER Nurse wants a responsible, quiet, clean roo...</td>\n",
              "      <td>er nurse wants a responsible quiet clean roommate</td>\n",
              "    </tr>\n",
              "    <tr>\n",
              "      <th>13</th>\n",
              "      <td>490 $ ROOM for rent available (Bellevue)</td>\n",
              "      <td>room for rent available bellevue</td>\n",
              "    </tr>\n",
              "    <tr>\n",
              "      <th>14</th>\n",
              "      <td>Lovely two bedroom Los Angeles house</td>\n",
              "      <td>lovely two bedroom los angeles house</td>\n",
              "    </tr>\n",
              "    <tr>\n",
              "      <th>15</th>\n",
              "      <td>PERFECT CONDITION MOTOROLA TRIUMPH</td>\n",
              "      <td>perfect condition motorola triumph</td>\n",
              "    </tr>\n",
              "    <tr>\n",
              "      <th>16</th>\n",
              "      <td>CONPRAMOS CARROS VIEJOS!!!! SERVICIO DE GRUA B...</td>\n",
              "      <td>conpramos carros viejos servicio de grua barato</td>\n",
              "    </tr>\n",
              "    <tr>\n",
              "      <th>17</th>\n",
              "      <td>For Sale - Samsung Galaxy Tab Chargers (Wall +...</td>\n",
              "      <td>for sale samsung galaxy tab chargers wall car ...</td>\n",
              "    </tr>\n",
              "    <tr>\n",
              "      <th>18</th>\n",
              "      <td>Full Time Nanny Needed for baby</td>\n",
              "      <td>full time nanny needed for baby</td>\n",
              "    </tr>\n",
              "    <tr>\n",
              "      <th>19</th>\n",
              "      <td>206-375-3387 opening for cleaning move out/in</td>\n",
              "      <td>opening for cleaning move out in</td>\n",
              "    </tr>\n",
              "  </tbody>\n",
              "</table>\n",
              "</div>\n",
              "      <button class=\"colab-df-convert\" onclick=\"convertToInteractive('df-c3b0f7c5-d914-4258-8419-a4897bb3b7bf')\"\n",
              "              title=\"Convert this dataframe to an interactive table.\"\n",
              "              style=\"display:none;\">\n",
              "        \n",
              "  <svg xmlns=\"http://www.w3.org/2000/svg\" height=\"24px\"viewBox=\"0 0 24 24\"\n",
              "       width=\"24px\">\n",
              "    <path d=\"M0 0h24v24H0V0z\" fill=\"none\"/>\n",
              "    <path d=\"M18.56 5.44l.94 2.06.94-2.06 2.06-.94-2.06-.94-.94-2.06-.94 2.06-2.06.94zm-11 1L8.5 8.5l.94-2.06 2.06-.94-2.06-.94L8.5 2.5l-.94 2.06-2.06.94zm10 10l.94 2.06.94-2.06 2.06-.94-2.06-.94-.94-2.06-.94 2.06-2.06.94z\"/><path d=\"M17.41 7.96l-1.37-1.37c-.4-.4-.92-.59-1.43-.59-.52 0-1.04.2-1.43.59L10.3 9.45l-7.72 7.72c-.78.78-.78 2.05 0 2.83L4 21.41c.39.39.9.59 1.41.59.51 0 1.02-.2 1.41-.59l7.78-7.78 2.81-2.81c.8-.78.8-2.07 0-2.86zM5.41 20L4 18.59l7.72-7.72 1.47 1.35L5.41 20z\"/>\n",
              "  </svg>\n",
              "      </button>\n",
              "      \n",
              "  <style>\n",
              "    .colab-df-container {\n",
              "      display:flex;\n",
              "      flex-wrap:wrap;\n",
              "      gap: 12px;\n",
              "    }\n",
              "\n",
              "    .colab-df-convert {\n",
              "      background-color: #E8F0FE;\n",
              "      border: none;\n",
              "      border-radius: 50%;\n",
              "      cursor: pointer;\n",
              "      display: none;\n",
              "      fill: #1967D2;\n",
              "      height: 32px;\n",
              "      padding: 0 0 0 0;\n",
              "      width: 32px;\n",
              "    }\n",
              "\n",
              "    .colab-df-convert:hover {\n",
              "      background-color: #E2EBFA;\n",
              "      box-shadow: 0px 1px 2px rgba(60, 64, 67, 0.3), 0px 1px 3px 1px rgba(60, 64, 67, 0.15);\n",
              "      fill: #174EA6;\n",
              "    }\n",
              "\n",
              "    [theme=dark] .colab-df-convert {\n",
              "      background-color: #3B4455;\n",
              "      fill: #D2E3FC;\n",
              "    }\n",
              "\n",
              "    [theme=dark] .colab-df-convert:hover {\n",
              "      background-color: #434B5C;\n",
              "      box-shadow: 0px 1px 3px 1px rgba(0, 0, 0, 0.15);\n",
              "      filter: drop-shadow(0px 1px 2px rgba(0, 0, 0, 0.3));\n",
              "      fill: #FFFFFF;\n",
              "    }\n",
              "  </style>\n",
              "\n",
              "      <script>\n",
              "        const buttonEl =\n",
              "          document.querySelector('#df-c3b0f7c5-d914-4258-8419-a4897bb3b7bf button.colab-df-convert');\n",
              "        buttonEl.style.display =\n",
              "          google.colab.kernel.accessAllowed ? 'block' : 'none';\n",
              "\n",
              "        async function convertToInteractive(key) {\n",
              "          const element = document.querySelector('#df-c3b0f7c5-d914-4258-8419-a4897bb3b7bf');\n",
              "          const dataTable =\n",
              "            await google.colab.kernel.invokeFunction('convertToInteractive',\n",
              "                                                     [key], {});\n",
              "          if (!dataTable) return;\n",
              "\n",
              "          const docLinkHtml = 'Like what you see? Visit the ' +\n",
              "            '<a target=\"_blank\" href=https://colab.research.google.com/notebooks/data_table.ipynb>data table notebook</a>'\n",
              "            + ' to learn more about interactive tables.';\n",
              "          element.innerHTML = '';\n",
              "          dataTable['output_type'] = 'display_data';\n",
              "          await google.colab.output.renderOutput(dataTable, element);\n",
              "          const docLink = document.createElement('div');\n",
              "          docLink.innerHTML = docLinkHtml;\n",
              "          element.appendChild(docLink);\n",
              "        }\n",
              "      </script>\n",
              "    </div>\n",
              "  </div>\n",
              "  "
            ]
          },
          "metadata": {},
          "execution_count": 128
        }
      ]
    },
    {
      "cell_type": "code",
      "source": [
        "# df.to_excel('/content/gdrive/MyDrive/ColabNotebooks/PostClassifier/cleaned_data.xlsx', index=False)"
      ],
      "metadata": {
        "id": "NQSpPyH1XGx8"
      },
      "execution_count": null,
      "outputs": []
    },
    {
      "cell_type": "markdown",
      "source": [
        "Calculamos una nueva columna sintética con la información de las columnas perdictoras."
      ],
      "metadata": {
        "id": "ZGHLtuCuqTD4"
      }
    },
    {
      "cell_type": "code",
      "source": [
        "df['header_tranformed']  = df['city'] + ' ' + df['section'] + ' '+ df['heading_cleaned']"
      ],
      "metadata": {
        "id": "-EyyC7t2qSWD"
      },
      "execution_count": null,
      "outputs": []
    },
    {
      "cell_type": "markdown",
      "source": [
        "## Entrenamiento del modelo"
      ],
      "metadata": {
        "id": "5tcPF268tlkN"
      }
    },
    {
      "cell_type": "markdown",
      "source": [
        "¿Cuáles son los resultados óptimos que podemos esperar de nuestro modelo, dados los datos de entrada?\n",
        "\n",
        "La clasificación de texto es una tarea que a los humanos se nos da especialmente bien, por lo que, si conseguimos que el modelo ahaga unas predicciones con una precisión similar a la de un humano, podemos estar satisfechos con el resultado.\n",
        "\n",
        "Para establecer un nivel de referencia, tomaremos una muestra y la clasificaremos manualmente."
      ],
      "metadata": {
        "id": "3Ki1ZrilpWeG"
      }
    },
    {
      "cell_type": "markdown",
      "source": [
        "Tomamos 100 datos de muestra al azar:"
      ],
      "metadata": {
        "id": "1-f9LFP6qcrD"
      }
    },
    {
      "cell_type": "code",
      "source": [
        "data_sample = df[['city', 'section', 'heading', 'category']].sample(frac=1).head(100)"
      ],
      "metadata": {
        "id": "NqpTckqxtvmd"
      },
      "execution_count": null,
      "outputs": []
    },
    {
      "cell_type": "markdown",
      "source": [
        "Persistimos la muestra en un fichero externo."
      ],
      "metadata": {
        "id": "Gjc3NspCqpQK"
      }
    },
    {
      "cell_type": "code",
      "source": [
        "#data_sample.to_excel('/content/gdrive/MyDrive/ColabNotebooks/PostClassifier/sample_complete.xlsx', index=False)"
      ],
      "metadata": {
        "id": "h6sbCjR23Tac"
      },
      "execution_count": null,
      "outputs": []
    },
    {
      "cell_type": "markdown",
      "source": [
        "Tras hacer la clasificación automática, se han observado varios problemas:\n",
        "\n",
        "*   Existen muchos registros con texto aleatorio como 'map', que son imposibles de clasificar\n",
        "*   Otros registros tienen una clasificación ambigüa o directamente están mal clasificados\n",
        "\n",
        "Realizando la clasificación manual, se ha obtenido un 75% de acierto. Añadimos, un tanto arbitrariamente, un margen de un 5% de posibles errores cometidos en el proceso manual, más posibles sesgos introducidos en el método de muestreo, por ejemplo, haber tomado por casualidad textos especialmente difíciles de clasificar.\n",
        "\n",
        "Por tanto, tomamos un 75-80% como uvalor de referencia a alcanzar. En ningún caso s eespera, con la calidad de entrada, una precisión alta del modelo en la clasificación.\n",
        "\n"
      ],
      "metadata": {
        "id": "DexYUT9mqzm6"
      }
    },
    {
      "cell_type": "markdown",
      "source": [
        "¿Existen clases con pocos datos?"
      ],
      "metadata": {
        "id": "CvSx1lXSo7gH"
      }
    },
    {
      "cell_type": "code",
      "source": [
        "df.groupby(['category'])['category'].count()"
      ],
      "metadata": {
        "colab": {
          "base_uri": "https://localhost:8080/"
        },
        "id": "wEkNKFdMo-tP",
        "outputId": "b2db6818-496b-4441-b987-a986d1576e08"
      },
      "execution_count": null,
      "outputs": [
        {
          "output_type": "execute_result",
          "data": {
            "text/plain": [
              "category\n",
              "activities             639\n",
              "appliances            2496\n",
              "artists                793\n",
              "automotive            2040\n",
              "cell-phones           3066\n",
              "childcare             2218\n",
              "general               1760\n",
              "household-services    2424\n",
              "housing                688\n",
              "photography           2427\n",
              "real-estate           1806\n",
              "shared                4074\n",
              "temporary             2693\n",
              "therapeutic           3808\n",
              "video-games           2214\n",
              "wanted-housing        2441\n",
              "Name: category, dtype: int64"
            ]
          },
          "metadata": {},
          "execution_count": 466
        }
      ]
    },
    {
      "cell_type": "markdown",
      "source": [
        "### Arquitectura del modelo"
      ],
      "metadata": {
        "id": "55Am94NRtO8g"
      }
    },
    {
      "cell_type": "markdown",
      "source": [
        "Tokenización del vocabulario:"
      ],
      "metadata": {
        "id": "Ynd6BGMgusY5"
      }
    },
    {
      "cell_type": "code",
      "source": [
        "X = df.loc[:, df.columns != 'category']\n",
        "y = df['category']\n",
        "X_train, X_, y_train, y_ = train_test_split(X, y,test_size=0.40, random_state=1, shuffle=True)\n",
        "X_cv, X_test, y_cv, y_test = train_test_split(X_,y_,test_size=0.50, random_state=1)"
      ],
      "metadata": {
        "id": "jtHntgc9P6ni"
      },
      "execution_count": null,
      "outputs": []
    },
    {
      "cell_type": "code",
      "source": [
        "def one_hot(array):\n",
        "    unique, inverse = np.unique(array, return_inverse=True)\n",
        "    onehot = np.eye(unique.shape[0])[inverse]\n",
        "    return onehot\n"
      ],
      "metadata": {
        "id": "pCkR3SOv6upT"
      },
      "execution_count": null,
      "outputs": []
    },
    {
      "cell_type": "code",
      "source": [
        "def tokenize_corpus(corpus):\n",
        "  my_tokenizer = Tokenizer(oov_token=\"<OOV>\")\n",
        "  my_tokenizer.fit_on_texts(corpus)\n",
        "  return my_tokenizer\n",
        "\n",
        "#my_tokenizer.texts_to_sequences(corpus)"
      ],
      "metadata": {
        "id": "-sw3LrBLuvz_"
      },
      "execution_count": null,
      "outputs": []
    },
    {
      "cell_type": "code",
      "source": [
        "tokenized_corpus = tokenize_corpus(df['header_tranformed'])"
      ],
      "metadata": {
        "id": "c1QrSjBtwnTr"
      },
      "execution_count": null,
      "outputs": []
    },
    {
      "cell_type": "code",
      "source": [
        "len(tokenized_corpus.word_index)"
      ],
      "metadata": {
        "colab": {
          "base_uri": "https://localhost:8080/"
        },
        "id": "7jWcanIT1Nl0",
        "outputId": "2cded23c-0cc6-4a21-a5a8-b2f249413564"
      },
      "execution_count": null,
      "outputs": [
        {
          "output_type": "execute_result",
          "data": {
            "text/plain": [
              "13000"
            ]
          },
          "metadata": {},
          "execution_count": 471
        }
      ]
    },
    {
      "cell_type": "markdown",
      "source": [
        "Dado que los textos no son excesivamente largos, no parece que tengamos que hacer frente al problema del desvanecimiento del gradiente, por lo que usaremos un modelo LSTM con una base de word embedding preentrenada."
      ],
      "metadata": {
        "id": "xjxwPkvCtR4G"
      }
    },
    {
      "cell_type": "code",
      "source": [
        "#!unzip gdrive/MyDrive/ColabNotebooks/PostClassifier/glove*.zip"
      ],
      "metadata": {
        "id": "KPDA4nIf0tHT"
      },
      "execution_count": null,
      "outputs": []
    },
    {
      "cell_type": "code",
      "source": [
        "def create_embedding_layer(tokenized_corpus, glove_dir, embedding_dim, trainable, max_len_sequence):\n",
        "  # Calculate the matrix weights for the input corpus\n",
        "  #params:\n",
        "  # tokenizedd_corpus: the text after the cleaning and tokenization process\n",
        "  # glove_dir: the method uses the glove pretrained embedding vector space. The value of this param is the directory where it is allocated\n",
        "  # The dimension of the embedding\n",
        "  \n",
        "  embeddings_index = {}\n",
        "\n",
        "  f = open(glove_dir)\n",
        "  for line in f:\n",
        "      values = line.split()\n",
        "      word = values[0]\n",
        "      coefs = np.asarray(values[1:],dtype='float32')\n",
        "      embeddings_index[word] = coefs\n",
        "  f.close()\n",
        "\n",
        "  print('Found %s word vectors.' % len(embeddings_index))\n",
        "\n",
        "  vocab_size = len(tokenized_corpus.word_index) + 1\n",
        "\n",
        "  embedding_matrix = np.zeros((vocab_size,embedding_dim))\n",
        "  for word , i in tokenized_corpus.word_index.items():\n",
        "    embedding_vector = embeddings_index.get(word)\n",
        "    if embedding_vector is not None:\n",
        "        embedding_matrix[i] = embedding_vector\n",
        "\n",
        "  embedding_layer = Embedding(input_dim=len(tokenized_corpus.word_index)+ 1,\n",
        "                              output_dim=embedding_dim,\n",
        "                              weights=[embedding_matrix],\n",
        "                              input_length=max_len_sequence,\n",
        "                              trainable=trainable)        \n",
        "  return embedding_layer"
      ],
      "metadata": {
        "id": "rdoljZl7txs_"
      },
      "execution_count": null,
      "outputs": []
    },
    {
      "cell_type": "code",
      "source": [
        "#glove_dir = '/content/gdrive/MyDrive/ColabNotebooks/PostClassifier/merged_data.csv/glove.6B.100d.txt'\n",
        "embedding_layer = create_embedding_layer(tokenized_corpus, glove_dir = \"glove.6B.100d.txt\", embedding_dim = 100, trainable = False, max_len_sequence = 80)"
      ],
      "metadata": {
        "id": "EwMa0dSn0gUt"
      },
      "execution_count": null,
      "outputs": []
    },
    {
      "cell_type": "markdown",
      "source": [
        "Establecemos la capa de embedding del modelo"
      ],
      "metadata": {
        "id": "yiAPbFrs2Vzf"
      }
    },
    {
      "cell_type": "code",
      "source": [
        "def build_model(embedding_layer, embedding_dim, max_len_sequence, num_classes):\n",
        "  model=Sequential()\n",
        "  model.add(embedding_layer)\n",
        "  model.add(LSTM(units=64, input_shape=(max_len_sequence, embedding_dim)))\n",
        "  model.add(Dropout(0.7))\n",
        "  model.add(Dense(units=num_classes, activation='softmax'))\n",
        "\n",
        "# kernel_regularizer=tf.keras.regularizers.l2(0.1)\n",
        "  return model"
      ],
      "metadata": {
        "id": "qPMCspb52FkO"
      },
      "execution_count": null,
      "outputs": []
    },
    {
      "cell_type": "code",
      "source": [
        "model = build_model(embedding_layer, embedding_dim = 100, max_len_sequence = 80, num_classes = 16)"
      ],
      "metadata": {
        "id": "lP5UPOBI4S5E"
      },
      "execution_count": null,
      "outputs": []
    },
    {
      "cell_type": "code",
      "source": [
        "model.summary()"
      ],
      "metadata": {
        "id": "jOGV-RUF5Z9Y"
      },
      "execution_count": null,
      "outputs": []
    },
    {
      "cell_type": "markdown",
      "source": [
        "Compilamos el modelo."
      ],
      "metadata": {
        "id": "uVeaGtBgXNiC"
      }
    },
    {
      "cell_type": "code",
      "source": [
        "model.compile(optimizer=Adam(learning_rate=0.01), \n",
        "              loss='categorical_crossentropy',\n",
        "              metrics=['accuracy'])"
      ],
      "metadata": {
        "id": "H7v4gDSc6XmK"
      },
      "execution_count": null,
      "outputs": []
    },
    {
      "cell_type": "markdown",
      "source": [
        "Construímos  los datos de entrenamiento, validación y test"
      ],
      "metadata": {
        "id": "G-TPxI-vX9nE"
      }
    },
    {
      "cell_type": "code",
      "source": [
        "#sequences = tokenized_corpus.texts_to_sequences(df['heading_cleaned'])\n",
        "X_train_seq = pad_sequences(tokenized_corpus.texts_to_sequences(X_train['header_tranformed']), maxlen=80)\n",
        "y_train_seq = one_hot(y_train)\n",
        "\n",
        "X_cv_seq = pad_sequences(tokenized_corpus.texts_to_sequences(X_cv['header_tranformed']), maxlen=80)\n",
        "y_cv_seq = one_hot(y_cv)\n",
        "\n",
        "X_test_seq = pad_sequences(tokenized_corpus.texts_to_sequences(X_test['header_tranformed']), maxlen=80)\n",
        "y_test_seq = one_hot(y_test)"
      ],
      "metadata": {
        "id": "elhAQnq2X8Mu"
      },
      "execution_count": null,
      "outputs": []
    },
    {
      "cell_type": "code",
      "source": [
        "# fit the model\n",
        "history = model.fit(X_train_seq, y_train_seq,epochs=20, batch_size=100, verbose=1)"
      ],
      "metadata": {
        "id": "4u5DonJeX3GG"
      },
      "execution_count": null,
      "outputs": []
    },
    {
      "cell_type": "code",
      "source": [
        "val_loss, val_acc = model.evaluate(X_cv_seq, y_cv_seq)\n",
        "print()\n",
        "print(\"Test accuracy = \", val_acc)"
      ],
      "metadata": {
        "colab": {
          "base_uri": "https://localhost:8080/"
        },
        "id": "fEPus_CKjV_G",
        "outputId": "6dcfd8ca-8181-4cfc-993e-a5d24bce3894"
      },
      "execution_count": null,
      "outputs": [
        {
          "output_type": "stream",
          "name": "stdout",
          "text": [
            "223/223 [==============================] - 4s 16ms/step - loss: 0.4402 - accuracy: 0.8259\n",
            "\n",
            "Test accuracy =  0.8259097933769226\n"
          ]
        }
      ]
    },
    {
      "cell_type": "code",
      "source": [
        "test_loss, test_acc = model.evaluate(X_test_seq, y_test_seq)\n",
        "print()\n",
        "print(\"Test accuracy = \", test_acc)"
      ],
      "metadata": {
        "colab": {
          "base_uri": "https://localhost:8080/"
        },
        "id": "Wy9Ibn8q-0tA",
        "outputId": "cc1a7e4a-5b12-4500-cafc-a1b829acf221"
      },
      "execution_count": null,
      "outputs": [
        {
          "output_type": "stream",
          "name": "stdout",
          "text": [
            "223/223 [==============================] - 4s 18ms/step - loss: 0.4452 - accuracy: 0.8257\n",
            "\n",
            "Test accuracy =  0.8256532549858093\n"
          ]
        }
      ]
    },
    {
      "cell_type": "code",
      "source": [
        "#  = np.argmax(model.predict(X_test_seq), axis=1) X_test['pred']"
      ],
      "metadata": {
        "colab": {
          "base_uri": "https://localhost:8080/"
        },
        "id": "gCTlSZJyIb1Y",
        "outputId": "a60c190d-889d-42b8-9de2-1f41d5e072e3"
      },
      "execution_count": null,
      "outputs": [
        {
          "output_type": "stream",
          "name": "stdout",
          "text": [
            "223/223 [==============================] - 3s 15ms/step\n"
          ]
        }
      ]
    },
    {
      "cell_type": "code",
      "source": [
        "X_test['real'] = y_test"
      ],
      "metadata": {
        "id": "pBbgS4LzVDZF"
      },
      "execution_count": null,
      "outputs": []
    },
    {
      "cell_type": "code",
      "source": [
        "preds = np.argmax(model.predict(X_test_seq), axis=1) \n",
        "verbose_pred = []\n",
        "for index in preds:\n",
        "  verbose_pred.append(sorted(y_test.unique())[index])"
      ],
      "metadata": {
        "colab": {
          "base_uri": "https://localhost:8080/"
        },
        "id": "TWq7mgxmVnax",
        "outputId": "7e6ce476-afb8-4252-90fe-35c2092ec8ae"
      },
      "execution_count": null,
      "outputs": [
        {
          "output_type": "stream",
          "name": "stdout",
          "text": [
            "223/223 [==============================] - 5s 21ms/step\n"
          ]
        }
      ]
    },
    {
      "cell_type": "code",
      "source": [
        "X_test['pred'] = verbose_pred"
      ],
      "metadata": {
        "id": "5ZX5JOefVK_w"
      },
      "execution_count": null,
      "outputs": []
    },
    {
      "cell_type": "markdown",
      "source": [
        "Se ha conseguido una accuracy en torno a lo que puede conseguir un humano, por lo que se considera resuelto el problema."
      ],
      "metadata": {
        "id": "VY5vpidMX7W5"
      }
    },
    {
      "cell_type": "markdown",
      "source": [
        "# Análisis de errores"
      ],
      "metadata": {
        "id": "08evVigXX8yR"
      }
    },
    {
      "cell_type": "markdown",
      "source": [
        "Como última fase del proyecto, analizamos manualmente algunos errores para ver qué patrón presentan."
      ],
      "metadata": {
        "id": "lB_SBgLTYASb"
      }
    },
    {
      "cell_type": "code",
      "source": [
        "X_test[X_test['pred'] != X_test['real']]"
      ],
      "metadata": {
        "colab": {
          "base_uri": "https://localhost:8080/",
          "height": 1035
        },
        "id": "pnKf1CN_XG4j",
        "outputId": "d48d5b0c-8569-4ca2-f2cf-f966da409c46"
      },
      "execution_count": null,
      "outputs": [
        {
          "output_type": "execute_result",
          "data": {
            "text/plain": [
              "          city    section                                            heading  \\\n",
              "24441  seattle   services  Buyer Inspection we check everything on any ma...   \n",
              "24025  seattle  community       8 Great Parenting Tips for Sarcastic Parents   \n",
              "27563  chicago    housing               single dwelling living space&gt;READ   \n",
              "26681  chicago    housing                                                map   \n",
              "2952   chicago   for-sale                                                map   \n",
              "...        ...        ...                                                ...   \n",
              "9109   chicago   for-sale          Sankyo Dualux 1000 Dual Projector Super 8   \n",
              "22416  seattle   for-sale                                                map   \n",
              "2529   newyork    housing            Furnished gigantic room in 3BR UWS Apt!   \n",
              "14805  newyork    housing                                                map   \n",
              "8815   chicago   services                             Barrington Sealcoating   \n",
              "\n",
              "                                         heading_cleaned  \\\n",
              "24441  buyer inspection we check everything on any make    \n",
              "24025         great parenting tips for sarcastic parents   \n",
              "27563                        single dwelling living read   \n",
              "26681                                                map   \n",
              "2952                                                 map   \n",
              "...                                                  ...   \n",
              "9109                 sankyo dualux dual projector super    \n",
              "22416                                                map   \n",
              "2529                 furnished gigantic room in uws apt    \n",
              "14805                                                map   \n",
              "8815                              barrington sealcoating   \n",
              "\n",
              "                                       header_tranformed         pred  \\\n",
              "24441  seattle services buyer inspection we check eve...  real-estate   \n",
              "24025  seattle community  great parenting tips for sa...    childcare   \n",
              "27563        chicago housing single dwelling living read       shared   \n",
              "26681                                chicago housing map    temporary   \n",
              "2952                                chicago for-sale map   appliances   \n",
              "...                                                  ...          ...   \n",
              "9109   chicago for-sale sankyo dualux dual projector ...   appliances   \n",
              "22416                               seattle for-sale map   appliances   \n",
              "2529   newyork housing furnished gigantic room in uws...       shared   \n",
              "14805                                newyork housing map    temporary   \n",
              "8815             chicago services barrington sealcoating  real-estate   \n",
              "\n",
              "                     real  \n",
              "24441          automotive  \n",
              "24025             general  \n",
              "27563      wanted-housing  \n",
              "26681              shared  \n",
              "2952          cell-phones  \n",
              "...                   ...  \n",
              "9109          photography  \n",
              "22416         video-games  \n",
              "2529            temporary  \n",
              "14805              shared  \n",
              "8815   household-services  \n",
              "\n",
              "[1241 rows x 7 columns]"
            ],
            "text/html": [
              "\n",
              "  <div id=\"df-dcd1f80f-133d-41e2-9806-87c28012be1c\">\n",
              "    <div class=\"colab-df-container\">\n",
              "      <div>\n",
              "<style scoped>\n",
              "    .dataframe tbody tr th:only-of-type {\n",
              "        vertical-align: middle;\n",
              "    }\n",
              "\n",
              "    .dataframe tbody tr th {\n",
              "        vertical-align: top;\n",
              "    }\n",
              "\n",
              "    .dataframe thead th {\n",
              "        text-align: right;\n",
              "    }\n",
              "</style>\n",
              "<table border=\"1\" class=\"dataframe\">\n",
              "  <thead>\n",
              "    <tr style=\"text-align: right;\">\n",
              "      <th></th>\n",
              "      <th>city</th>\n",
              "      <th>section</th>\n",
              "      <th>heading</th>\n",
              "      <th>heading_cleaned</th>\n",
              "      <th>header_tranformed</th>\n",
              "      <th>pred</th>\n",
              "      <th>real</th>\n",
              "    </tr>\n",
              "  </thead>\n",
              "  <tbody>\n",
              "    <tr>\n",
              "      <th>24441</th>\n",
              "      <td>seattle</td>\n",
              "      <td>services</td>\n",
              "      <td>Buyer Inspection we check everything on any ma...</td>\n",
              "      <td>buyer inspection we check everything on any make</td>\n",
              "      <td>seattle services buyer inspection we check eve...</td>\n",
              "      <td>real-estate</td>\n",
              "      <td>automotive</td>\n",
              "    </tr>\n",
              "    <tr>\n",
              "      <th>24025</th>\n",
              "      <td>seattle</td>\n",
              "      <td>community</td>\n",
              "      <td>8 Great Parenting Tips for Sarcastic Parents</td>\n",
              "      <td>great parenting tips for sarcastic parents</td>\n",
              "      <td>seattle community  great parenting tips for sa...</td>\n",
              "      <td>childcare</td>\n",
              "      <td>general</td>\n",
              "    </tr>\n",
              "    <tr>\n",
              "      <th>27563</th>\n",
              "      <td>chicago</td>\n",
              "      <td>housing</td>\n",
              "      <td>single dwelling living space&amp;gt;READ</td>\n",
              "      <td>single dwelling living read</td>\n",
              "      <td>chicago housing single dwelling living read</td>\n",
              "      <td>shared</td>\n",
              "      <td>wanted-housing</td>\n",
              "    </tr>\n",
              "    <tr>\n",
              "      <th>26681</th>\n",
              "      <td>chicago</td>\n",
              "      <td>housing</td>\n",
              "      <td>map</td>\n",
              "      <td>map</td>\n",
              "      <td>chicago housing map</td>\n",
              "      <td>temporary</td>\n",
              "      <td>shared</td>\n",
              "    </tr>\n",
              "    <tr>\n",
              "      <th>2952</th>\n",
              "      <td>chicago</td>\n",
              "      <td>for-sale</td>\n",
              "      <td>map</td>\n",
              "      <td>map</td>\n",
              "      <td>chicago for-sale map</td>\n",
              "      <td>appliances</td>\n",
              "      <td>cell-phones</td>\n",
              "    </tr>\n",
              "    <tr>\n",
              "      <th>...</th>\n",
              "      <td>...</td>\n",
              "      <td>...</td>\n",
              "      <td>...</td>\n",
              "      <td>...</td>\n",
              "      <td>...</td>\n",
              "      <td>...</td>\n",
              "      <td>...</td>\n",
              "    </tr>\n",
              "    <tr>\n",
              "      <th>9109</th>\n",
              "      <td>chicago</td>\n",
              "      <td>for-sale</td>\n",
              "      <td>Sankyo Dualux 1000 Dual Projector Super 8</td>\n",
              "      <td>sankyo dualux dual projector super</td>\n",
              "      <td>chicago for-sale sankyo dualux dual projector ...</td>\n",
              "      <td>appliances</td>\n",
              "      <td>photography</td>\n",
              "    </tr>\n",
              "    <tr>\n",
              "      <th>22416</th>\n",
              "      <td>seattle</td>\n",
              "      <td>for-sale</td>\n",
              "      <td>map</td>\n",
              "      <td>map</td>\n",
              "      <td>seattle for-sale map</td>\n",
              "      <td>appliances</td>\n",
              "      <td>video-games</td>\n",
              "    </tr>\n",
              "    <tr>\n",
              "      <th>2529</th>\n",
              "      <td>newyork</td>\n",
              "      <td>housing</td>\n",
              "      <td>Furnished gigantic room in 3BR UWS Apt!</td>\n",
              "      <td>furnished gigantic room in uws apt</td>\n",
              "      <td>newyork housing furnished gigantic room in uws...</td>\n",
              "      <td>shared</td>\n",
              "      <td>temporary</td>\n",
              "    </tr>\n",
              "    <tr>\n",
              "      <th>14805</th>\n",
              "      <td>newyork</td>\n",
              "      <td>housing</td>\n",
              "      <td>map</td>\n",
              "      <td>map</td>\n",
              "      <td>newyork housing map</td>\n",
              "      <td>temporary</td>\n",
              "      <td>shared</td>\n",
              "    </tr>\n",
              "    <tr>\n",
              "      <th>8815</th>\n",
              "      <td>chicago</td>\n",
              "      <td>services</td>\n",
              "      <td>Barrington Sealcoating</td>\n",
              "      <td>barrington sealcoating</td>\n",
              "      <td>chicago services barrington sealcoating</td>\n",
              "      <td>real-estate</td>\n",
              "      <td>household-services</td>\n",
              "    </tr>\n",
              "  </tbody>\n",
              "</table>\n",
              "<p>1241 rows × 7 columns</p>\n",
              "</div>\n",
              "      <button class=\"colab-df-convert\" onclick=\"convertToInteractive('df-dcd1f80f-133d-41e2-9806-87c28012be1c')\"\n",
              "              title=\"Convert this dataframe to an interactive table.\"\n",
              "              style=\"display:none;\">\n",
              "        \n",
              "  <svg xmlns=\"http://www.w3.org/2000/svg\" height=\"24px\"viewBox=\"0 0 24 24\"\n",
              "       width=\"24px\">\n",
              "    <path d=\"M0 0h24v24H0V0z\" fill=\"none\"/>\n",
              "    <path d=\"M18.56 5.44l.94 2.06.94-2.06 2.06-.94-2.06-.94-.94-2.06-.94 2.06-2.06.94zm-11 1L8.5 8.5l.94-2.06 2.06-.94-2.06-.94L8.5 2.5l-.94 2.06-2.06.94zm10 10l.94 2.06.94-2.06 2.06-.94-2.06-.94-.94-2.06-.94 2.06-2.06.94z\"/><path d=\"M17.41 7.96l-1.37-1.37c-.4-.4-.92-.59-1.43-.59-.52 0-1.04.2-1.43.59L10.3 9.45l-7.72 7.72c-.78.78-.78 2.05 0 2.83L4 21.41c.39.39.9.59 1.41.59.51 0 1.02-.2 1.41-.59l7.78-7.78 2.81-2.81c.8-.78.8-2.07 0-2.86zM5.41 20L4 18.59l7.72-7.72 1.47 1.35L5.41 20z\"/>\n",
              "  </svg>\n",
              "      </button>\n",
              "      \n",
              "  <style>\n",
              "    .colab-df-container {\n",
              "      display:flex;\n",
              "      flex-wrap:wrap;\n",
              "      gap: 12px;\n",
              "    }\n",
              "\n",
              "    .colab-df-convert {\n",
              "      background-color: #E8F0FE;\n",
              "      border: none;\n",
              "      border-radius: 50%;\n",
              "      cursor: pointer;\n",
              "      display: none;\n",
              "      fill: #1967D2;\n",
              "      height: 32px;\n",
              "      padding: 0 0 0 0;\n",
              "      width: 32px;\n",
              "    }\n",
              "\n",
              "    .colab-df-convert:hover {\n",
              "      background-color: #E2EBFA;\n",
              "      box-shadow: 0px 1px 2px rgba(60, 64, 67, 0.3), 0px 1px 3px 1px rgba(60, 64, 67, 0.15);\n",
              "      fill: #174EA6;\n",
              "    }\n",
              "\n",
              "    [theme=dark] .colab-df-convert {\n",
              "      background-color: #3B4455;\n",
              "      fill: #D2E3FC;\n",
              "    }\n",
              "\n",
              "    [theme=dark] .colab-df-convert:hover {\n",
              "      background-color: #434B5C;\n",
              "      box-shadow: 0px 1px 3px 1px rgba(0, 0, 0, 0.15);\n",
              "      filter: drop-shadow(0px 1px 2px rgba(0, 0, 0, 0.3));\n",
              "      fill: #FFFFFF;\n",
              "    }\n",
              "  </style>\n",
              "\n",
              "      <script>\n",
              "        const buttonEl =\n",
              "          document.querySelector('#df-dcd1f80f-133d-41e2-9806-87c28012be1c button.colab-df-convert');\n",
              "        buttonEl.style.display =\n",
              "          google.colab.kernel.accessAllowed ? 'block' : 'none';\n",
              "\n",
              "        async function convertToInteractive(key) {\n",
              "          const element = document.querySelector('#df-dcd1f80f-133d-41e2-9806-87c28012be1c');\n",
              "          const dataTable =\n",
              "            await google.colab.kernel.invokeFunction('convertToInteractive',\n",
              "                                                     [key], {});\n",
              "          if (!dataTable) return;\n",
              "\n",
              "          const docLinkHtml = 'Like what you see? Visit the ' +\n",
              "            '<a target=\"_blank\" href=https://colab.research.google.com/notebooks/data_table.ipynb>data table notebook</a>'\n",
              "            + ' to learn more about interactive tables.';\n",
              "          element.innerHTML = '';\n",
              "          dataTable['output_type'] = 'display_data';\n",
              "          await google.colab.output.renderOutput(dataTable, element);\n",
              "          const docLink = document.createElement('div');\n",
              "          docLink.innerHTML = docLinkHtml;\n",
              "          element.appendChild(docLink);\n",
              "        }\n",
              "      </script>\n",
              "    </div>\n",
              "  </div>\n",
              "  "
            ]
          },
          "metadata": {},
          "execution_count": 492
        }
      ]
    }
  ]
}